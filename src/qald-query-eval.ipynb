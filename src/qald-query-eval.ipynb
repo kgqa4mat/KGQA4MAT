{
 "cells": [
  {
   "cell_type": "markdown",
   "id": "3f17b5ae-6b3d-4973-96ae-46d183d3ac2d",
   "metadata": {},
   "source": [
    "# Evaluate ChatGPT on QALD-9 Data\n",
    "## Evaluate precision, recall, f1-score on the correctness of translated queries\n",
    "- Method 0: Answer the QALD-9 questions directly. Instruct ChatGPT to answer the QALD-9 questions directly without querying DBpedia\n",
    "- Method 1: Translate QALD-9 questions directly. Instruct ChatGPT to translate QALD-9 questions directly, and then query DBpedia using the translated queries.\n",
    "- Method 2: 1-shot learning from a pair of train question and query. Using the embeddings of the test and train questions to find the most similar train question to the test question. Prompt ChatGPT with the pair of matched train question and query. Instruct ChatGPT to translate a test question to a SPARQL query over DBpedia.\n",
    "- Method 3: 1-shot learning from a pair of train question and query, and the chain-of-thought of the train query. As in Method 2, include the chain-of-thought of the train query in the prompt, in addition to the pair of matched question and query"
   ]
  },
  {
   "cell_type": "code",
   "execution_count": 1,
   "id": "08e3cf8c-7018-4f63-bc93-7df8349be3d6",
   "metadata": {},
   "outputs": [],
   "source": [
    "import pandas as pd\n",
    "import numpy as np\n",
    "import matplotlib.pyplot as plt\n",
    "import seaborn as sns\n",
    "import json, re, os, nltk"
   ]
  },
  {
   "cell_type": "markdown",
   "id": "87780c64-d9eb-4c96-8285-740733f44a00",
   "metadata": {},
   "source": [
    "## Load the train and test data"
   ]
  },
  {
   "cell_type": "code",
   "execution_count": 2,
   "id": "eaded7b4-f969-4c0a-8c83-b193cc6c43fc",
   "metadata": {},
   "outputs": [
    {
     "data": {
      "text/html": [
       "<div>\n",
       "<style scoped>\n",
       "    .dataframe tbody tr th:only-of-type {\n",
       "        vertical-align: middle;\n",
       "    }\n",
       "\n",
       "    .dataframe tbody tr th {\n",
       "        vertical-align: top;\n",
       "    }\n",
       "\n",
       "    .dataframe thead th {\n",
       "        text-align: right;\n",
       "    }\n",
       "</style>\n",
       "<table border=\"1\" class=\"dataframe\">\n",
       "  <thead>\n",
       "    <tr style=\"text-align: right;\">\n",
       "      <th></th>\n",
       "      <th>id</th>\n",
       "      <th>answertype</th>\n",
       "      <th>aggregation</th>\n",
       "      <th>onlydbo</th>\n",
       "      <th>hybrid</th>\n",
       "      <th>question_text</th>\n",
       "      <th>question_keywords</th>\n",
       "      <th>sparql_query</th>\n",
       "      <th>answer_head</th>\n",
       "      <th>answer_results</th>\n",
       "      <th>question</th>\n",
       "      <th>query</th>\n",
       "      <th>answers</th>\n",
       "      <th>train_question_embedding</th>\n",
       "      <th>similarity</th>\n",
       "      <th>train_cot</th>\n",
       "      <th>masked_question</th>\n",
       "      <th>masked_query</th>\n",
       "      <th>train_masked_question_embedding</th>\n",
       "      <th>masked_cot</th>\n",
       "    </tr>\n",
       "  </thead>\n",
       "  <tbody>\n",
       "    <tr>\n",
       "      <th>0</th>\n",
       "      <td>1</td>\n",
       "      <td>resource</td>\n",
       "      <td>False</td>\n",
       "      <td>True</td>\n",
       "      <td>False</td>\n",
       "      <td>List all boardgames by GMT.</td>\n",
       "      <td>boardgame, GMT</td>\n",
       "      <td>PREFIX dbo: &lt;http://dbpedia.org/ontology/&gt; PRE...</td>\n",
       "      <td>{'vars': ['uri']}</td>\n",
       "      <td>{'bindings': [{'uri': {'type': 'uri', 'value':...</td>\n",
       "      <td>[{'language': 'de', 'string': 'Liste alle Bret...</td>\n",
       "      <td>{'sparql': 'PREFIX dbo: &lt;http://dbpedia.org/on...</td>\n",
       "      <td>[{'head': {'vars': ['uri']}, 'results': {'bind...</td>\n",
       "      <td>[-0.00911681 -0.00381883 -0.01784656 ... -0.01...</td>\n",
       "      <td>0.835177</td>\n",
       "      <td>- We need to select a URI from DBpedia. - We w...</td>\n",
       "      <td>List all boardgames by [MASK1].</td>\n",
       "      <td>PREFIX dbo: &lt;http://dbpedia.org/ontology/&gt; PRE...</td>\n",
       "      <td>[-0.027410538867115974, -0.03040986880660057, ...</td>\n",
       "      <td>- We need to retrieve URIs from DBpedia. - We ...</td>\n",
       "    </tr>\n",
       "    <tr>\n",
       "      <th>1</th>\n",
       "      <td>2</td>\n",
       "      <td>resource</td>\n",
       "      <td>False</td>\n",
       "      <td>True</td>\n",
       "      <td>False</td>\n",
       "      <td>Who developed Skype?</td>\n",
       "      <td>develop, Skype</td>\n",
       "      <td>PREFIX dbo: &lt;http://dbpedia.org/ontology/&gt; PRE...</td>\n",
       "      <td>{'vars': ['uri']}</td>\n",
       "      <td>{'bindings': [{'uri': {'type': 'uri', 'value':...</td>\n",
       "      <td>[{'language': 'de', 'string': 'Wer entwickelt ...</td>\n",
       "      <td>{'sparql': 'PREFIX dbo: &lt;http://dbpedia.org/on...</td>\n",
       "      <td>[{'head': {'vars': ['uri']}, 'results': {'bind...</td>\n",
       "      <td>[ 0.0144061  -0.02094096  0.02329297 ... -0.02...</td>\n",
       "      <td>0.869972</td>\n",
       "      <td>1. We are selecting a URI from DBpedia. 2. We ...</td>\n",
       "      <td>Who developed [MASK1]?</td>\n",
       "      <td>PREFIX dbo: &lt;http://dbpedia.org/ontology/&gt; PRE...</td>\n",
       "      <td>[-0.014005924575030804, -0.012475568801164627,...</td>\n",
       "      <td>1. We are querying DBpedia. 2. We define three...</td>\n",
       "    </tr>\n",
       "    <tr>\n",
       "      <th>2</th>\n",
       "      <td>3</td>\n",
       "      <td>resource</td>\n",
       "      <td>False</td>\n",
       "      <td>False</td>\n",
       "      <td>False</td>\n",
       "      <td>Which people were born in Heraklion?</td>\n",
       "      <td>people, born, heraklion</td>\n",
       "      <td>PREFIX yago: &lt;http://dbpedia.org/class/yago/&gt; ...</td>\n",
       "      <td>{'vars': ['uri']}</td>\n",
       "      <td>{'bindings': [{'uri': {'type': 'uri', 'value':...</td>\n",
       "      <td>[{'language': 'de', 'string': 'Welche Menschen...</td>\n",
       "      <td>{'sparql': 'PREFIX yago: &lt;http://dbpedia.org/c...</td>\n",
       "      <td>[{'head': {'vars': ['uri']}, 'results': {'bind...</td>\n",
       "      <td>[ 0.03373604 -0.00393256 -0.00088309 ... -0.00...</td>\n",
       "      <td>0.865406</td>\n",
       "      <td>1. We need to retrieve data from DBpedia datab...</td>\n",
       "      <td>Which people were born in [MASK1]?</td>\n",
       "      <td>PREFIX yago: &lt;http://dbpedia.org/class/yago/&gt; ...</td>\n",
       "      <td>[-0.005803690291941166, -0.016199836507439613,...</td>\n",
       "      <td>1. We need to select some entity [MASK1]. 2. W...</td>\n",
       "    </tr>\n",
       "    <tr>\n",
       "      <th>3</th>\n",
       "      <td>4</td>\n",
       "      <td>resource</td>\n",
       "      <td>False</td>\n",
       "      <td>True</td>\n",
       "      <td>False</td>\n",
       "      <td>In which U.S. state is Area 51 located?</td>\n",
       "      <td>Area 51, located, U.S. state</td>\n",
       "      <td>PREFIX dbo: &lt;http://dbpedia.org/ontology/&gt; PRE...</td>\n",
       "      <td>{'vars': ['uri']}</td>\n",
       "      <td>{'bindings': [{'uri': {'type': 'uri', 'value':...</td>\n",
       "      <td>[{'language': 'de', 'string': 'Im welche US Zu...</td>\n",
       "      <td>{'sparql': 'PREFIX dbo: &lt;http://dbpedia.org/on...</td>\n",
       "      <td>[{'head': {'vars': ['uri']}, 'results': {'bind...</td>\n",
       "      <td>[ 0.0022676  -0.03222399 -0.00734459 ...  0.00...</td>\n",
       "      <td>0.859453</td>\n",
       "      <td>1. Start with defining three prefixes for the ...</td>\n",
       "      <td>In which U.S. state is [MASK1] located?</td>\n",
       "      <td>PREFIX dbo: &lt;http://dbpedia.org/ontology/&gt; PRE...</td>\n",
       "      <td>[-0.013672643341124058, -0.012233780696988106,...</td>\n",
       "      <td>1. We are selecting the distinct URIs. 2. We n...</td>\n",
       "    </tr>\n",
       "    <tr>\n",
       "      <th>4</th>\n",
       "      <td>5</td>\n",
       "      <td>resource</td>\n",
       "      <td>False</td>\n",
       "      <td>True</td>\n",
       "      <td>False</td>\n",
       "      <td>Who is the mayor of New York City?</td>\n",
       "      <td>New York City, mayor</td>\n",
       "      <td>PREFIX dbo: &lt;http://dbpedia.org/ontology/&gt; PRE...</td>\n",
       "      <td>{'vars': ['uri']}</td>\n",
       "      <td>{'bindings': [{'uri': {'type': 'uri', 'value':...</td>\n",
       "      <td>[{'language': 'de', 'string': 'Wer ist der Bür...</td>\n",
       "      <td>{'sparql': 'PREFIX dbo: &lt;http://dbpedia.org/on...</td>\n",
       "      <td>[{'head': {'vars': ['uri']}, 'results': {'bind...</td>\n",
       "      <td>[-0.00202743 -0.01871667 -0.00329676 ... -0.02...</td>\n",
       "      <td>0.868842</td>\n",
       "      <td>1. We want to retrieve information about a lea...</td>\n",
       "      <td>Who is the mayor of [MASK1]?</td>\n",
       "      <td>PREFIX dbo: &lt;http://dbpedia.org/ontology/&gt; PRE...</td>\n",
       "      <td>[-0.01334498543292284, -0.020737532526254654, ...</td>\n",
       "      <td>1. We want to retrieve a list of distinct URIs...</td>\n",
       "    </tr>\n",
       "  </tbody>\n",
       "</table>\n",
       "</div>"
      ],
      "text/plain": [
       "   id answertype  aggregation  onlydbo  hybrid  \\\n",
       "0   1   resource        False     True   False   \n",
       "1   2   resource        False     True   False   \n",
       "2   3   resource        False    False   False   \n",
       "3   4   resource        False     True   False   \n",
       "4   5   resource        False     True   False   \n",
       "\n",
       "                             question_text             question_keywords  \\\n",
       "0              List all boardgames by GMT.                boardgame, GMT   \n",
       "1                     Who developed Skype?                develop, Skype   \n",
       "2     Which people were born in Heraklion?       people, born, heraklion   \n",
       "3  In which U.S. state is Area 51 located?  Area 51, located, U.S. state   \n",
       "4       Who is the mayor of New York City?          New York City, mayor   \n",
       "\n",
       "                                        sparql_query        answer_head  \\\n",
       "0  PREFIX dbo: <http://dbpedia.org/ontology/> PRE...  {'vars': ['uri']}   \n",
       "1  PREFIX dbo: <http://dbpedia.org/ontology/> PRE...  {'vars': ['uri']}   \n",
       "2  PREFIX yago: <http://dbpedia.org/class/yago/> ...  {'vars': ['uri']}   \n",
       "3  PREFIX dbo: <http://dbpedia.org/ontology/> PRE...  {'vars': ['uri']}   \n",
       "4  PREFIX dbo: <http://dbpedia.org/ontology/> PRE...  {'vars': ['uri']}   \n",
       "\n",
       "                                      answer_results  \\\n",
       "0  {'bindings': [{'uri': {'type': 'uri', 'value':...   \n",
       "1  {'bindings': [{'uri': {'type': 'uri', 'value':...   \n",
       "2  {'bindings': [{'uri': {'type': 'uri', 'value':...   \n",
       "3  {'bindings': [{'uri': {'type': 'uri', 'value':...   \n",
       "4  {'bindings': [{'uri': {'type': 'uri', 'value':...   \n",
       "\n",
       "                                            question  \\\n",
       "0  [{'language': 'de', 'string': 'Liste alle Bret...   \n",
       "1  [{'language': 'de', 'string': 'Wer entwickelt ...   \n",
       "2  [{'language': 'de', 'string': 'Welche Menschen...   \n",
       "3  [{'language': 'de', 'string': 'Im welche US Zu...   \n",
       "4  [{'language': 'de', 'string': 'Wer ist der Bür...   \n",
       "\n",
       "                                               query  \\\n",
       "0  {'sparql': 'PREFIX dbo: <http://dbpedia.org/on...   \n",
       "1  {'sparql': 'PREFIX dbo: <http://dbpedia.org/on...   \n",
       "2  {'sparql': 'PREFIX yago: <http://dbpedia.org/c...   \n",
       "3  {'sparql': 'PREFIX dbo: <http://dbpedia.org/on...   \n",
       "4  {'sparql': 'PREFIX dbo: <http://dbpedia.org/on...   \n",
       "\n",
       "                                             answers  \\\n",
       "0  [{'head': {'vars': ['uri']}, 'results': {'bind...   \n",
       "1  [{'head': {'vars': ['uri']}, 'results': {'bind...   \n",
       "2  [{'head': {'vars': ['uri']}, 'results': {'bind...   \n",
       "3  [{'head': {'vars': ['uri']}, 'results': {'bind...   \n",
       "4  [{'head': {'vars': ['uri']}, 'results': {'bind...   \n",
       "\n",
       "                            train_question_embedding  similarity  \\\n",
       "0  [-0.00911681 -0.00381883 -0.01784656 ... -0.01...    0.835177   \n",
       "1  [ 0.0144061  -0.02094096  0.02329297 ... -0.02...    0.869972   \n",
       "2  [ 0.03373604 -0.00393256 -0.00088309 ... -0.00...    0.865406   \n",
       "3  [ 0.0022676  -0.03222399 -0.00734459 ...  0.00...    0.859453   \n",
       "4  [-0.00202743 -0.01871667 -0.00329676 ... -0.02...    0.868842   \n",
       "\n",
       "                                           train_cot  \\\n",
       "0  - We need to select a URI from DBpedia. - We w...   \n",
       "1  1. We are selecting a URI from DBpedia. 2. We ...   \n",
       "2  1. We need to retrieve data from DBpedia datab...   \n",
       "3  1. Start with defining three prefixes for the ...   \n",
       "4  1. We want to retrieve information about a lea...   \n",
       "\n",
       "                           masked_question  \\\n",
       "0          List all boardgames by [MASK1].   \n",
       "1                   Who developed [MASK1]?   \n",
       "2       Which people were born in [MASK1]?   \n",
       "3  In which U.S. state is [MASK1] located?   \n",
       "4             Who is the mayor of [MASK1]?   \n",
       "\n",
       "                                        masked_query  \\\n",
       "0  PREFIX dbo: <http://dbpedia.org/ontology/> PRE...   \n",
       "1  PREFIX dbo: <http://dbpedia.org/ontology/> PRE...   \n",
       "2  PREFIX yago: <http://dbpedia.org/class/yago/> ...   \n",
       "3  PREFIX dbo: <http://dbpedia.org/ontology/> PRE...   \n",
       "4  PREFIX dbo: <http://dbpedia.org/ontology/> PRE...   \n",
       "\n",
       "                     train_masked_question_embedding  \\\n",
       "0  [-0.027410538867115974, -0.03040986880660057, ...   \n",
       "1  [-0.014005924575030804, -0.012475568801164627,...   \n",
       "2  [-0.005803690291941166, -0.016199836507439613,...   \n",
       "3  [-0.013672643341124058, -0.012233780696988106,...   \n",
       "4  [-0.01334498543292284, -0.020737532526254654, ...   \n",
       "\n",
       "                                          masked_cot  \n",
       "0  - We need to retrieve URIs from DBpedia. - We ...  \n",
       "1  1. We are querying DBpedia. 2. We define three...  \n",
       "2  1. We need to select some entity [MASK1]. 2. W...  \n",
       "3  1. We are selecting the distinct URIs. 2. We n...  \n",
       "4  1. We want to retrieve a list of distinct URIs...  "
      ]
     },
     "execution_count": 2,
     "metadata": {},
     "output_type": "execute_result"
    }
   ],
   "source": [
    "train = pd.read_csv('../data/QALD/9/data/qald-9-train-with-embeddings-cot.csv')\n",
    "train.head()"
   ]
  },
  {
   "cell_type": "code",
   "execution_count": 3,
   "id": "d5974308-7261-4297-b919-9353b5df0e58",
   "metadata": {},
   "outputs": [
    {
     "data": {
      "text/plain": [
       "Index(['id', 'answertype', 'aggregation', 'onlydbo', 'hybrid', 'question_text',\n",
       "       'question_keywords', 'sparql_query', 'answer_head', 'answer_results',\n",
       "       'question', 'query', 'answers', 'train_question_embedding',\n",
       "       'similarity', 'train_cot', 'masked_question', 'masked_query',\n",
       "       'train_masked_question_embedding', 'masked_cot'],\n",
       "      dtype='object')"
      ]
     },
     "execution_count": 3,
     "metadata": {},
     "output_type": "execute_result"
    }
   ],
   "source": [
    "train.columns"
   ]
  },
  {
   "cell_type": "code",
   "execution_count": 4,
   "id": "3abc3693-ed7e-46f4-befe-33b17b322a34",
   "metadata": {},
   "outputs": [
    {
     "data": {
      "text/plain": [
       "str"
      ]
     },
     "execution_count": 4,
     "metadata": {},
     "output_type": "execute_result"
    }
   ],
   "source": [
    "type(train.train_masked_question_embedding.loc[1])"
   ]
  },
  {
   "cell_type": "code",
   "execution_count": 5,
   "id": "4e50be94-d499-48b9-9559-a92462db3dd0",
   "metadata": {},
   "outputs": [],
   "source": [
    "train['train_masked_question_embedding'] = train.train_masked_question_embedding.apply(eval).apply(np.array)"
   ]
  },
  {
   "cell_type": "code",
   "execution_count": 6,
   "id": "3432c432-4f83-48b7-ba92-549bd25d1687",
   "metadata": {},
   "outputs": [
    {
     "data": {
      "text/plain": [
       "numpy.ndarray"
      ]
     },
     "execution_count": 6,
     "metadata": {},
     "output_type": "execute_result"
    }
   ],
   "source": [
    "type(train.train_masked_question_embedding.loc[1])"
   ]
  },
  {
   "cell_type": "code",
   "execution_count": 7,
   "id": "cff79480-f620-47cc-96af-8f9dd1a4ac5b",
   "metadata": {},
   "outputs": [
    {
     "data": {
      "text/html": [
       "<div>\n",
       "<style scoped>\n",
       "    .dataframe tbody tr th:only-of-type {\n",
       "        vertical-align: middle;\n",
       "    }\n",
       "\n",
       "    .dataframe tbody tr th {\n",
       "        vertical-align: top;\n",
       "    }\n",
       "\n",
       "    .dataframe thead th {\n",
       "        text-align: right;\n",
       "    }\n",
       "</style>\n",
       "<table border=\"1\" class=\"dataframe\">\n",
       "  <thead>\n",
       "    <tr style=\"text-align: right;\">\n",
       "      <th></th>\n",
       "      <th>id</th>\n",
       "      <th>answertype</th>\n",
       "      <th>aggregation</th>\n",
       "      <th>onlydbo</th>\n",
       "      <th>hybrid</th>\n",
       "      <th>question_text</th>\n",
       "      <th>question_keywords</th>\n",
       "      <th>sparql_query</th>\n",
       "      <th>answer_head</th>\n",
       "      <th>answer_results</th>\n",
       "      <th>...</th>\n",
       "      <th>chatgpt_nomasked_train_cot_fewshot_query</th>\n",
       "      <th>chatgpt_nomasked_train_cot_fewshot_query_results</th>\n",
       "      <th>chatgpt_nomasked_train_only_fewshot_query</th>\n",
       "      <th>chatgpt_nomasked_train_only_fewshot_query_results</th>\n",
       "      <th>chatgpt_nomasked_train_only_3fewshot_query</th>\n",
       "      <th>chatgpt_nomasked_train_only_3fewshot_query_results</th>\n",
       "      <th>cot_noWordLimit</th>\n",
       "      <th>chatgpt_cot_noWordLimit_query</th>\n",
       "      <th>chatgpt_cot_noWordLimit_query_results</th>\n",
       "      <th>chatgpt_cot_query_results_2nd</th>\n",
       "    </tr>\n",
       "  </thead>\n",
       "  <tbody>\n",
       "    <tr>\n",
       "      <th>0</th>\n",
       "      <td>99</td>\n",
       "      <td>resource</td>\n",
       "      <td>False</td>\n",
       "      <td>True</td>\n",
       "      <td>False</td>\n",
       "      <td>What is the time zone of Salt Lake City?</td>\n",
       "      <td>Salt Lake City,  time zone</td>\n",
       "      <td>PREFIX res: &lt;http://dbpedia.org/resource/&gt; PRE...</td>\n",
       "      <td>{'vars': ['uri']}</td>\n",
       "      <td>{'bindings': [{'uri': {'type': 'uri', 'value':...</td>\n",
       "      <td>...</td>\n",
       "      <td>PREFIX dbo: &lt;http://dbpedia.org/ontology/&gt; PRE...</td>\n",
       "      <td>{'head': {'link': [], 'vars': ['uri']}, 'resul...</td>\n",
       "      <td>PREFIX dbo: &lt;http://dbpedia.org/ontology/&gt; PRE...</td>\n",
       "      <td>{'head': {'link': [], 'vars': ['uri']}, 'resul...</td>\n",
       "      <td>PREFIX dbo: &lt;http://dbpedia.org/ontology/&gt;    ...</td>\n",
       "      <td>{'head': {'link': [], 'vars': ['uri']}, 'resul...</td>\n",
       "      <td>- Set the prefixes for the resources and prope...</td>\n",
       "      <td>PREFIX dbo: &lt;http://dbpedia.org/ontology/&gt; PRE...</td>\n",
       "      <td>{'head': {'link': [], 'vars': ['timezone']}, '...</td>\n",
       "      <td>{'head': {'link': [], 'vars': ['timezone']}, '...</td>\n",
       "    </tr>\n",
       "    <tr>\n",
       "      <th>1</th>\n",
       "      <td>98</td>\n",
       "      <td>resource</td>\n",
       "      <td>False</td>\n",
       "      <td>False</td>\n",
       "      <td>False</td>\n",
       "      <td>Who killed Caesar?</td>\n",
       "      <td>who ,  killed,  Caesar</td>\n",
       "      <td>PREFIX dct: &lt;http://purl.org/dc/terms/&gt; PREFIX...</td>\n",
       "      <td>{'vars': ['uri']}</td>\n",
       "      <td>{'bindings': [{'uri': {'type': 'uri', 'value':...</td>\n",
       "      <td>...</td>\n",
       "      <td>SELECT DISTINCT ?uri WHERE { ?uri a &lt;http://db...</td>\n",
       "      <td>{'head': {'link': [], 'vars': ['uri']}, 'resul...</td>\n",
       "      <td>PREFIX dbo: &lt;http://dbpedia.org/ontology/&gt; PRE...</td>\n",
       "      <td>{'head': {'link': [], 'vars': ['uri']}, 'resul...</td>\n",
       "      <td>PREFIX dbo: &lt;http://dbpedia.org/ontology/&gt; PRE...</td>\n",
       "      <td>{'head': {'link': [], 'vars': ['uri']}, 'resul...</td>\n",
       "      <td>1. We want to retrieve information about assas...</td>\n",
       "      <td>PREFIX dct: &lt;http://purl.org/dc/terms/&gt; PREFIX...</td>\n",
       "      <td>{'head': {'link': [], 'vars': ['uri']}, 'resul...</td>\n",
       "      <td>{'head': {'link': [], 'vars': ['s']}, 'results...</td>\n",
       "    </tr>\n",
       "    <tr>\n",
       "      <th>2</th>\n",
       "      <td>86</td>\n",
       "      <td>resource</td>\n",
       "      <td>False</td>\n",
       "      <td>True</td>\n",
       "      <td>False</td>\n",
       "      <td>What is the highest mountain in Germany?</td>\n",
       "      <td>highest,  mountain,  germany</td>\n",
       "      <td>PREFIX rdfs: &lt;http://www.w3.org/2000/01/rdf-sc...</td>\n",
       "      <td>{'vars': ['uri']}</td>\n",
       "      <td>{'bindings': [{'uri': {'type': 'uri', 'value':...</td>\n",
       "      <td>...</td>\n",
       "      <td>PREFIX dbo: &lt;http://dbpedia.org/ontology/&gt; PRE...</td>\n",
       "      <td>{'head': {'link': [], 'vars': ['uri']}, 'resul...</td>\n",
       "      <td>PREFIX dbo: &lt;http://dbpedia.org/ontology/&gt; PRE...</td>\n",
       "      <td>{'head': {'link': [], 'vars': ['uri']}, 'resul...</td>\n",
       "      <td>PREFIX dbo: &lt;http://dbpedia.org/ontology/&gt; PRE...</td>\n",
       "      <td>{'head': {'link': [], 'vars': ['uri']}, 'resul...</td>\n",
       "      <td>1. Declare prefixes for RDF Schema, RDF Syntax...</td>\n",
       "      <td>PREFIX rdfs: &lt;http://www.w3.org/2000/01/rdf-sc...</td>\n",
       "      <td>{'head': {'link': [], 'vars': ['uri']}, 'resul...</td>\n",
       "      <td>{'head': {'link': [], 'vars': ['mountain']}, '...</td>\n",
       "    </tr>\n",
       "    <tr>\n",
       "      <th>3</th>\n",
       "      <td>84</td>\n",
       "      <td>resource</td>\n",
       "      <td>False</td>\n",
       "      <td>False</td>\n",
       "      <td>False</td>\n",
       "      <td>Which American presidents were in office durin...</td>\n",
       "      <td>American presidents,  office,  Vietnam War</td>\n",
       "      <td>PREFIX dbo: &lt;http://dbpedia.org/ontology/&gt; PRE...</td>\n",
       "      <td>{'vars': ['uri']}</td>\n",
       "      <td>{'bindings': [{'uri': {'type': 'uri', 'value':...</td>\n",
       "      <td>...</td>\n",
       "      <td>PREFIX dbo: &lt;http://dbpedia.org/ontology/&gt; PRE...</td>\n",
       "      <td>{'head': {'link': [], 'vars': ['president']}, ...</td>\n",
       "      <td>PREFIX dbpedia: &lt;http://dbpedia.org/resource/&gt;...</td>\n",
       "      <td>{'head': {'link': [], 'vars': ['president']}, ...</td>\n",
       "      <td>PREFIX dbo: &lt;http://dbpedia.org/ontology/&gt; PRE...</td>\n",
       "      <td>QueryBadFormed: A bad request has been sent to...</td>\n",
       "      <td>1. Declare four prefixes: dbo, res, dct, dbc. ...</td>\n",
       "      <td>PREFIX dbo: &lt;http://dbpedia.org/ontology/&gt; PRE...</td>\n",
       "      <td>{'head': {'link': [], 'vars': ['uri']}, 'resul...</td>\n",
       "      <td>{'head': {'link': [], 'vars': ['president']}, ...</td>\n",
       "    </tr>\n",
       "    <tr>\n",
       "      <th>4</th>\n",
       "      <td>81</td>\n",
       "      <td>resource</td>\n",
       "      <td>False</td>\n",
       "      <td>False</td>\n",
       "      <td>False</td>\n",
       "      <td>Butch Otter is the governor of which U.S. state?</td>\n",
       "      <td>U.S. state,  governor,  Butch Otter</td>\n",
       "      <td>SELECT DISTINCT ?uri WHERE { ?uri a &lt;http://db...</td>\n",
       "      <td>{'vars': ['uri']}</td>\n",
       "      <td>{'bindings': [{'uri': {'type': 'uri', 'value':...</td>\n",
       "      <td>...</td>\n",
       "      <td>PREFIX dbpedia: &lt;http://dbpedia.org/resource/&gt;...</td>\n",
       "      <td>{'head': {'link': [], 'vars': ['state']}, 'res...</td>\n",
       "      <td>PREFIX dbpedia: &lt;http://dbpedia.org/resource/&gt;...</td>\n",
       "      <td>{'head': {'link': [], 'vars': ['state_uri']}, ...</td>\n",
       "      <td>PREFIX dbo: &lt;http://dbpedia.org/ontology/&gt; PRE...</td>\n",
       "      <td>{'head': {'link': [], 'vars': ['uri']}, 'resul...</td>\n",
       "      <td>- I want to find the URIs of all the states of...</td>\n",
       "      <td>PREFIX dbo: &lt;http://dbpedia.org/ontology/&gt; PRE...</td>\n",
       "      <td>{'head': {'link': [], 'vars': ['state']}, 'res...</td>\n",
       "      <td>{'head': {'link': [], 'vars': ['state']}, 'res...</td>\n",
       "    </tr>\n",
       "  </tbody>\n",
       "</table>\n",
       "<p>5 rows × 46 columns</p>\n",
       "</div>"
      ],
      "text/plain": [
       "   id answertype  aggregation  onlydbo  hybrid  \\\n",
       "0  99   resource        False     True   False   \n",
       "1  98   resource        False    False   False   \n",
       "2  86   resource        False     True   False   \n",
       "3  84   resource        False    False   False   \n",
       "4  81   resource        False    False   False   \n",
       "\n",
       "                                       question_text  \\\n",
       "0           What is the time zone of Salt Lake City?   \n",
       "1                                 Who killed Caesar?   \n",
       "2           What is the highest mountain in Germany?   \n",
       "3  Which American presidents were in office durin...   \n",
       "4   Butch Otter is the governor of which U.S. state?   \n",
       "\n",
       "                            question_keywords  \\\n",
       "0                  Salt Lake City,  time zone   \n",
       "1                      who ,  killed,  Caesar   \n",
       "2                highest,  mountain,  germany   \n",
       "3  American presidents,  office,  Vietnam War   \n",
       "4         U.S. state,  governor,  Butch Otter   \n",
       "\n",
       "                                        sparql_query        answer_head  \\\n",
       "0  PREFIX res: <http://dbpedia.org/resource/> PRE...  {'vars': ['uri']}   \n",
       "1  PREFIX dct: <http://purl.org/dc/terms/> PREFIX...  {'vars': ['uri']}   \n",
       "2  PREFIX rdfs: <http://www.w3.org/2000/01/rdf-sc...  {'vars': ['uri']}   \n",
       "3  PREFIX dbo: <http://dbpedia.org/ontology/> PRE...  {'vars': ['uri']}   \n",
       "4  SELECT DISTINCT ?uri WHERE { ?uri a <http://db...  {'vars': ['uri']}   \n",
       "\n",
       "                                      answer_results  ...  \\\n",
       "0  {'bindings': [{'uri': {'type': 'uri', 'value':...  ...   \n",
       "1  {'bindings': [{'uri': {'type': 'uri', 'value':...  ...   \n",
       "2  {'bindings': [{'uri': {'type': 'uri', 'value':...  ...   \n",
       "3  {'bindings': [{'uri': {'type': 'uri', 'value':...  ...   \n",
       "4  {'bindings': [{'uri': {'type': 'uri', 'value':...  ...   \n",
       "\n",
       "            chatgpt_nomasked_train_cot_fewshot_query  \\\n",
       "0  PREFIX dbo: <http://dbpedia.org/ontology/> PRE...   \n",
       "1  SELECT DISTINCT ?uri WHERE { ?uri a <http://db...   \n",
       "2  PREFIX dbo: <http://dbpedia.org/ontology/> PRE...   \n",
       "3  PREFIX dbo: <http://dbpedia.org/ontology/> PRE...   \n",
       "4  PREFIX dbpedia: <http://dbpedia.org/resource/>...   \n",
       "\n",
       "    chatgpt_nomasked_train_cot_fewshot_query_results  \\\n",
       "0  {'head': {'link': [], 'vars': ['uri']}, 'resul...   \n",
       "1  {'head': {'link': [], 'vars': ['uri']}, 'resul...   \n",
       "2  {'head': {'link': [], 'vars': ['uri']}, 'resul...   \n",
       "3  {'head': {'link': [], 'vars': ['president']}, ...   \n",
       "4  {'head': {'link': [], 'vars': ['state']}, 'res...   \n",
       "\n",
       "           chatgpt_nomasked_train_only_fewshot_query  \\\n",
       "0  PREFIX dbo: <http://dbpedia.org/ontology/> PRE...   \n",
       "1  PREFIX dbo: <http://dbpedia.org/ontology/> PRE...   \n",
       "2  PREFIX dbo: <http://dbpedia.org/ontology/> PRE...   \n",
       "3  PREFIX dbpedia: <http://dbpedia.org/resource/>...   \n",
       "4  PREFIX dbpedia: <http://dbpedia.org/resource/>...   \n",
       "\n",
       "   chatgpt_nomasked_train_only_fewshot_query_results  \\\n",
       "0  {'head': {'link': [], 'vars': ['uri']}, 'resul...   \n",
       "1  {'head': {'link': [], 'vars': ['uri']}, 'resul...   \n",
       "2  {'head': {'link': [], 'vars': ['uri']}, 'resul...   \n",
       "3  {'head': {'link': [], 'vars': ['president']}, ...   \n",
       "4  {'head': {'link': [], 'vars': ['state_uri']}, ...   \n",
       "\n",
       "          chatgpt_nomasked_train_only_3fewshot_query  \\\n",
       "0  PREFIX dbo: <http://dbpedia.org/ontology/>    ...   \n",
       "1  PREFIX dbo: <http://dbpedia.org/ontology/> PRE...   \n",
       "2  PREFIX dbo: <http://dbpedia.org/ontology/> PRE...   \n",
       "3  PREFIX dbo: <http://dbpedia.org/ontology/> PRE...   \n",
       "4  PREFIX dbo: <http://dbpedia.org/ontology/> PRE...   \n",
       "\n",
       "  chatgpt_nomasked_train_only_3fewshot_query_results  \\\n",
       "0  {'head': {'link': [], 'vars': ['uri']}, 'resul...   \n",
       "1  {'head': {'link': [], 'vars': ['uri']}, 'resul...   \n",
       "2  {'head': {'link': [], 'vars': ['uri']}, 'resul...   \n",
       "3  QueryBadFormed: A bad request has been sent to...   \n",
       "4  {'head': {'link': [], 'vars': ['uri']}, 'resul...   \n",
       "\n",
       "                                     cot_noWordLimit  \\\n",
       "0  - Set the prefixes for the resources and prope...   \n",
       "1  1. We want to retrieve information about assas...   \n",
       "2  1. Declare prefixes for RDF Schema, RDF Syntax...   \n",
       "3  1. Declare four prefixes: dbo, res, dct, dbc. ...   \n",
       "4  - I want to find the URIs of all the states of...   \n",
       "\n",
       "                       chatgpt_cot_noWordLimit_query  \\\n",
       "0  PREFIX dbo: <http://dbpedia.org/ontology/> PRE...   \n",
       "1  PREFIX dct: <http://purl.org/dc/terms/> PREFIX...   \n",
       "2  PREFIX rdfs: <http://www.w3.org/2000/01/rdf-sc...   \n",
       "3  PREFIX dbo: <http://dbpedia.org/ontology/> PRE...   \n",
       "4  PREFIX dbo: <http://dbpedia.org/ontology/> PRE...   \n",
       "\n",
       "               chatgpt_cot_noWordLimit_query_results  \\\n",
       "0  {'head': {'link': [], 'vars': ['timezone']}, '...   \n",
       "1  {'head': {'link': [], 'vars': ['uri']}, 'resul...   \n",
       "2  {'head': {'link': [], 'vars': ['uri']}, 'resul...   \n",
       "3  {'head': {'link': [], 'vars': ['uri']}, 'resul...   \n",
       "4  {'head': {'link': [], 'vars': ['state']}, 'res...   \n",
       "\n",
       "                       chatgpt_cot_query_results_2nd  \n",
       "0  {'head': {'link': [], 'vars': ['timezone']}, '...  \n",
       "1  {'head': {'link': [], 'vars': ['s']}, 'results...  \n",
       "2  {'head': {'link': [], 'vars': ['mountain']}, '...  \n",
       "3  {'head': {'link': [], 'vars': ['president']}, ...  \n",
       "4  {'head': {'link': [], 'vars': ['state']}, 'res...  \n",
       "\n",
       "[5 rows x 46 columns]"
      ]
     },
     "execution_count": 7,
     "metadata": {},
     "output_type": "execute_result"
    }
   ],
   "source": [
    "test = pd.read_csv('../data/QALD/9/data/qald-9-test-with-embeddings-cot.csv')\n",
    "test.head()"
   ]
  },
  {
   "cell_type": "code",
   "execution_count": 8,
   "id": "d5eddfe9-a139-4461-960e-ddf60399a505",
   "metadata": {},
   "outputs": [
    {
     "data": {
      "text/plain": [
       "Index(['id', 'answertype', 'aggregation', 'onlydbo', 'hybrid', 'question_text',\n",
       "       'question_keywords', 'sparql_query', 'answer_head', 'answer_results',\n",
       "       'question', 'query', 'answers', 'gpt_answers_text_DBpedia-2016-04',\n",
       "       'chatgpt_answers_text_DBpedia_2016_04',\n",
       "       'gold_query_results_DBpedia_2023_03',\n",
       "       'chatgpt_answers_text_DBpedia_2023_03', 'gpt_query_DBpedia_2023_03',\n",
       "       'gpt_query_results_DBpedia_2023_03', 'chatgpt_query_DBpedia_2023_03',\n",
       "       'chatgpt_query_results_DBpedia_2023_03', 'test_question_embedding',\n",
       "       'chatgpt_train_3fewshot_query', 'chatgpt_train_3fewshot_query_results',\n",
       "       'chatgpt_train_1fewshot_query', 'chatgpt_train_1fewshot_query_results',\n",
       "       'gpt_fewshot_query', 'gpt_fewshot_query_results', 'cot',\n",
       "       'chatgpt_cot_query', 'chatgpt_cot_query_results', 'masked_question',\n",
       "       'masked_query', 'masked_cot', 'chatgpt_train_cot_fewshot_query',\n",
       "       'chatgpt_train_cot_fewshot_query_results',\n",
       "       'chatgpt_nomasked_train_cot_fewshot_query',\n",
       "       'chatgpt_nomasked_train_cot_fewshot_query_results',\n",
       "       'chatgpt_nomasked_train_only_fewshot_query',\n",
       "       'chatgpt_nomasked_train_only_fewshot_query_results',\n",
       "       'chatgpt_nomasked_train_only_3fewshot_query',\n",
       "       'chatgpt_nomasked_train_only_3fewshot_query_results', 'cot_noWordLimit',\n",
       "       'chatgpt_cot_noWordLimit_query',\n",
       "       'chatgpt_cot_noWordLimit_query_results',\n",
       "       'chatgpt_cot_query_results_2nd'],\n",
       "      dtype='object')"
      ]
     },
     "execution_count": 8,
     "metadata": {},
     "output_type": "execute_result"
    }
   ],
   "source": [
    "test.columns"
   ]
  },
  {
   "cell_type": "code",
   "execution_count": 9,
   "id": "45fa1929-6738-492d-9a35-91cea6a0a8ab",
   "metadata": {
    "tags": []
   },
   "outputs": [],
   "source": [
    "test['test_question_embedding'] = test.test_question_embedding.apply(eval).apply(np.array)"
   ]
  },
  {
   "cell_type": "code",
   "execution_count": 10,
   "id": "958766ff-6b22-4ac7-98ac-a0e3f1b9e3ea",
   "metadata": {},
   "outputs": [
    {
     "data": {
      "text/plain": [
       "numpy.ndarray"
      ]
     },
     "execution_count": 10,
     "metadata": {},
     "output_type": "execute_result"
    }
   ],
   "source": [
    "type(test.test_question_embedding.loc[1])"
   ]
  },
  {
   "cell_type": "code",
   "execution_count": 11,
   "id": "e8f3e183-b461-4df9-9826-66cdbc97ffc7",
   "metadata": {},
   "outputs": [
    {
     "data": {
      "text/plain": [
       "((408, 20), (150, 46))"
      ]
     },
     "execution_count": 11,
     "metadata": {},
     "output_type": "execute_result"
    }
   ],
   "source": [
    "train.shape, test.shape"
   ]
  },
  {
   "cell_type": "markdown",
   "id": "aa30a3bc-fab4-4804-9920-73dc7e83e602",
   "metadata": {
    "tags": []
   },
   "source": [
    "# Use ChatGPT to answer the test questions \n",
    "- Use ChatGPT to answer the questions directly\n",
    "- Use ChatGPT to translate user questions to queries\n",
    "- Use ChatGPT to translate user questions to queries by few-shot learning\n",
    "- Use ChatGPT to translate user questions to queries by few-shot learning and chain of thought"
   ]
  },
  {
   "cell_type": "markdown",
   "id": "d694ade4-fb88-4527-9e4a-234f0b149e2e",
   "metadata": {},
   "source": [
    "## Use ChatGPT to answer the question directly"
   ]
  },
  {
   "cell_type": "markdown",
   "id": "faf3591b-4f36-4383-b65b-ced742556dd1",
   "metadata": {},
   "source": [
    "### Load the True Answers"
   ]
  },
  {
   "cell_type": "code",
   "execution_count": 12,
   "id": "bc4a6507-4432-485a-89de-c9bd8209dfe3",
   "metadata": {},
   "outputs": [],
   "source": [
    "with open('../data/QALD/9/data/qald-9-test-multilingual.json', 'r') as file:\n",
    "    test_json = json.load(file)"
   ]
  },
  {
   "cell_type": "code",
   "execution_count": 13,
   "id": "a9cda573-6aa2-47ba-8a85-7edd6e79d03e",
   "metadata": {},
   "outputs": [],
   "source": [
    "test_json_df = pd.DataFrame(test_json['questions'])"
   ]
  },
  {
   "cell_type": "code",
   "execution_count": 14,
   "id": "cfd8f27f-dc49-49bc-a2b8-eb437945d51d",
   "metadata": {
    "tags": []
   },
   "outputs": [
    {
     "name": "stdout",
     "output_type": "stream",
     "text": [
      "[{'head': {}, 'results': {}, 'boolean': True}]\n",
      "[{'head': {}, 'results': {}, 'boolean': True}]\n",
      "[{'head': {}, 'results': {}, 'boolean': True}]\n",
      "[{'head': {}, 'results': {}, 'boolean': True}]\n"
     ]
    }
   ],
   "source": [
    "answer_terms = []\n",
    "count = 0\n",
    "for idx, row in test_json_df.iterrows():\n",
    "    try:\n",
    "        bindings = row['answers'][0]['results']['bindings']\n",
    "\n",
    "        answer_list = []\n",
    "        for item in bindings:\n",
    "            for k in item:\n",
    "                answer_list.append(item[k]['value'])\n",
    "\n",
    "        terms = []\n",
    "        for ans in answer_list:\n",
    "            terms.append(ans.replace('http://dbpedia.org/resource/', '').replace('dbo:', '').strip().lower())\n",
    "        #if terms not in answer_terms:\n",
    "        answer_terms.append(terms)\n",
    "              \n",
    "    except:\n",
    "        answer_terms.append([str(row['answers'][0]['boolean']).lower()])\n",
    "        count += 1\n",
    "        print(row['answers'])"
   ]
  },
  {
   "cell_type": "code",
   "execution_count": 15,
   "id": "8ab92def-d4ca-416f-9859-0985453566d3",
   "metadata": {
    "tags": []
   },
   "outputs": [
    {
     "data": {
      "text/plain": [
       "150"
      ]
     },
     "execution_count": 15,
     "metadata": {},
     "output_type": "execute_result"
    }
   ],
   "source": [
    "len(answer_terms)"
   ]
  },
  {
   "cell_type": "markdown",
   "id": "c8fcd917-8a0b-4447-b459-72ebc9647eb6",
   "metadata": {},
   "source": [
    "### Evaluate the results of using ChatGPT to answer the questions directly on DBpedia-03132023"
   ]
  },
  {
   "cell_type": "code",
   "execution_count": 16,
   "id": "9ac22abd-a0b7-4745-9256-c692cae4b209",
   "metadata": {},
   "outputs": [
    {
     "data": {
      "text/plain": [
       "Index(['id', 'answertype', 'aggregation', 'onlydbo', 'hybrid', 'question_text',\n",
       "       'question_keywords', 'sparql_query', 'answer_head', 'answer_results',\n",
       "       'question', 'query', 'answers', 'gpt_answers_text_DBpedia-2016-04',\n",
       "       'chatgpt_answers_text_DBpedia_2016_04',\n",
       "       'gold_query_results_DBpedia_2023_03',\n",
       "       'chatgpt_answers_text_DBpedia_2023_03', 'gpt_query_DBpedia_2023_03',\n",
       "       'gpt_query_results_DBpedia_2023_03', 'chatgpt_query_DBpedia_2023_03',\n",
       "       'chatgpt_query_results_DBpedia_2023_03', 'test_question_embedding',\n",
       "       'chatgpt_train_3fewshot_query', 'chatgpt_train_3fewshot_query_results',\n",
       "       'chatgpt_train_1fewshot_query', 'chatgpt_train_1fewshot_query_results',\n",
       "       'gpt_fewshot_query', 'gpt_fewshot_query_results', 'cot',\n",
       "       'chatgpt_cot_query', 'chatgpt_cot_query_results', 'masked_question',\n",
       "       'masked_query', 'masked_cot', 'chatgpt_train_cot_fewshot_query',\n",
       "       'chatgpt_train_cot_fewshot_query_results',\n",
       "       'chatgpt_nomasked_train_cot_fewshot_query',\n",
       "       'chatgpt_nomasked_train_cot_fewshot_query_results',\n",
       "       'chatgpt_nomasked_train_only_fewshot_query',\n",
       "       'chatgpt_nomasked_train_only_fewshot_query_results',\n",
       "       'chatgpt_nomasked_train_only_3fewshot_query',\n",
       "       'chatgpt_nomasked_train_only_3fewshot_query_results', 'cot_noWordLimit',\n",
       "       'chatgpt_cot_noWordLimit_query',\n",
       "       'chatgpt_cot_noWordLimit_query_results',\n",
       "       'chatgpt_cot_query_results_2nd'],\n",
       "      dtype='object')"
      ]
     },
     "execution_count": 16,
     "metadata": {},
     "output_type": "execute_result"
    }
   ],
   "source": [
    "test.columns"
   ]
  },
  {
   "cell_type": "code",
   "execution_count": 17,
   "id": "4a846c1a-f97c-4d90-8a70-1540765ae1fb",
   "metadata": {},
   "outputs": [],
   "source": [
    "# extract the answer terms from chatgpt_answers_text_DBpedia_2023_03\n",
    "chatgpt_answer_terms = []\n",
    "for idx, row in test.iterrows():\n",
    "    answers_text = row['chatgpt_answers_text_DBpedia_2023_03']\n",
    "    terms = answers_text.replace('https://dbpedia.org/resource/', '').\\\n",
    "    replace('http://dbpedia.org/resource/', '').\\\n",
    "    replace('dbo:', '').strip().lower().split('\\n')\n",
    "    #terms = answers_text.strip().lower().split('\\n')\n",
    "    chatgpt_answer_terms.append([t.strip() for t in terms])"
   ]
  },
  {
   "cell_type": "code",
   "execution_count": 18,
   "id": "13eee7a1-170e-4532-bc5a-37b01c065059",
   "metadata": {},
   "outputs": [
    {
     "data": {
      "text/plain": [
       "150"
      ]
     },
     "execution_count": 18,
     "metadata": {},
     "output_type": "execute_result"
    }
   ],
   "source": [
    "len(chatgpt_answer_terms)"
   ]
  },
  {
   "cell_type": "code",
   "execution_count": 19,
   "id": "b7979e79-bb38-48a7-acd7-a1ad1251a408",
   "metadata": {
    "tags": []
   },
   "outputs": [],
   "source": [
    "import urllib.parse\n",
    "\n",
    "chatgpt_answer_terms_parsed = []\n",
    "for terms in chatgpt_answer_terms:\n",
    "    terms_parsed = []\n",
    "    for term in terms:\n",
    "        parsed_string = urllib.parse.unquote(term)\n",
    "        terms_parsed.append(parsed_string)\n",
    "    chatgpt_answer_terms_parsed.append(terms_parsed)"
   ]
  },
  {
   "cell_type": "code",
   "execution_count": 20,
   "id": "86f6592d-119d-49f3-9ad6-d13923b9685c",
   "metadata": {},
   "outputs": [],
   "source": [
    "# Evaluate the precision and recall based on the total numbers of \n",
    "# gold answers and predicted answers\n",
    "predicted = 0\n",
    "gold = 0\n",
    "predicted_correct = 0\n",
    "some_matched = {}\n",
    "pre_gold_lengths = []\n",
    "for idx, pred_terms in enumerate(chatgpt_answer_terms_parsed):\n",
    "    gold_terms = answer_terms[idx]\n",
    "    \n",
    "    predicted +=  len(pred_terms)\n",
    "    gold += len(gold_terms)\n",
    "    \n",
    "    pre_gold_lengths.append((idx, len(pred_terms), len(gold_terms)))\n",
    "    \n",
    "    predicted_correct_idx = False\n",
    "    for pterm in pred_terms:\n",
    "        if len(pterm) > 0: # skip an empty string\n",
    "            for gterm in gold_terms:\n",
    "                #if pterm ==  gterm:\n",
    "                pterm = pterm.replace(\"_\", \" \")\n",
    "                gterm = gterm.replace(\"_\", \" \")\n",
    "                if (pterm in gterm) or (gterm in pterm):\n",
    "                    predicted_correct_idx = True\n",
    "                    predicted_correct += 1\n",
    "                    break # this pterm is a correct prediction, skip to next pterm\n",
    "                          # don't double count this pterm anymore\n",
    "                \n",
    "    some_matched[idx] = predicted_correct_idx"
   ]
  },
  {
   "cell_type": "code",
   "execution_count": 21,
   "id": "a17e907e-b5f8-4eff-87e1-7ce831dea4d2",
   "metadata": {
    "tags": []
   },
   "outputs": [
    {
     "data": {
      "text/plain": [
       "[(0, 1, 1),\n",
       " (1, 4, 9),\n",
       " (2, 1, 1),\n",
       " (3, 3, 3),\n",
       " (4, 1, 1),\n",
       " (5, 1, 1),\n",
       " (6, 10, 3),\n",
       " (7, 1, 1),\n",
       " (8, 1, 1),\n",
       " (9, 1, 1),\n",
       " (10, 3, 1),\n",
       " (11, 19, 4),\n",
       " (12, 8, 26),\n",
       " (13, 49, 208),\n",
       " (14, 8, 1),\n",
       " (15, 1, 1),\n",
       " (16, 1, 1),\n",
       " (17, 19, 45),\n",
       " (18, 1, 2),\n",
       " (19, 3, 1),\n",
       " (20, 1, 1),\n",
       " (21, 5, 2),\n",
       " (22, 4, 1),\n",
       " (23, 1, 243),\n",
       " (24, 1, 1),\n",
       " (25, 1, 1),\n",
       " (26, 4, 1),\n",
       " (27, 1, 1),\n",
       " (28, 1, 1),\n",
       " (29, 1, 1),\n",
       " (30, 1, 1),\n",
       " (31, 1, 1),\n",
       " (32, 7, 10),\n",
       " (33, 1, 1),\n",
       " (34, 1, 1),\n",
       " (35, 50, 21),\n",
       " (36, 6, 2),\n",
       " (37, 1, 1),\n",
       " (38, 2, 1),\n",
       " (39, 1, 1),\n",
       " (40, 1, 1),\n",
       " (41, 1, 1),\n",
       " (42, 1, 1),\n",
       " (43, 55, 2),\n",
       " (44, 9, 11),\n",
       " (45, 1, 1),\n",
       " (46, 1, 1),\n",
       " (47, 1, 6),\n",
       " (48, 1, 1),\n",
       " (49, 1, 1),\n",
       " (50, 1, 1),\n",
       " (51, 1, 1),\n",
       " (52, 20, 915),\n",
       " (53, 1, 1),\n",
       " (54, 1, 1),\n",
       " (55, 1, 1),\n",
       " (56, 10, 19),\n",
       " (57, 20, 26),\n",
       " (58, 2, 1),\n",
       " (59, 1, 1),\n",
       " (60, 5, 1),\n",
       " (61, 1, 1),\n",
       " (62, 1, 1),\n",
       " (63, 1, 1),\n",
       " (64, 1, 2),\n",
       " (65, 19, 482),\n",
       " (66, 1, 1),\n",
       " (67, 1, 1),\n",
       " (68, 15, 1),\n",
       " (69, 10, 22),\n",
       " (70, 11, 15),\n",
       " (71, 1, 49),\n",
       " (72, 32, 7),\n",
       " (73, 9, 13),\n",
       " (74, 9, 26),\n",
       " (75, 1, 1),\n",
       " (76, 1, 2),\n",
       " (77, 1, 1),\n",
       " (78, 1, 2),\n",
       " (79, 14, 47),\n",
       " (80, 17, 22),\n",
       " (81, 2, 1),\n",
       " (82, 5, 2),\n",
       " (83, 2, 1),\n",
       " (84, 3, 2),\n",
       " (85, 1, 1),\n",
       " (86, 7, 8),\n",
       " (87, 5, 198),\n",
       " (88, 7, 6),\n",
       " (89, 1, 1),\n",
       " (90, 117, 119),\n",
       " (91, 4, 3),\n",
       " (92, 1, 1),\n",
       " (93, 2, 1),\n",
       " (94, 1, 1),\n",
       " (95, 7, 16),\n",
       " (96, 1, 1),\n",
       " (97, 3, 3),\n",
       " (98, 3, 1),\n",
       " (99, 1, 11),\n",
       " (100, 2, 2),\n",
       " (101, 12, 17),\n",
       " (102, 1, 1),\n",
       " (103, 1, 13),\n",
       " (104, 1, 1),\n",
       " (105, 1, 4),\n",
       " (106, 1, 1),\n",
       " (107, 1, 2),\n",
       " (108, 1, 2),\n",
       " (109, 6, 1),\n",
       " (110, 1, 2),\n",
       " (111, 1, 1),\n",
       " (112, 1, 1),\n",
       " (113, 1, 1),\n",
       " (114, 1, 1),\n",
       " (115, 56, 1503),\n",
       " (116, 8, 11),\n",
       " (117, 6, 1),\n",
       " (118, 1, 1),\n",
       " (119, 1, 1),\n",
       " (120, 1, 1),\n",
       " (121, 1, 7),\n",
       " (122, 1, 1),\n",
       " (123, 13, 32),\n",
       " (124, 1, 1),\n",
       " (125, 5, 2),\n",
       " (126, 3, 1),\n",
       " (127, 10, 12),\n",
       " (128, 7, 1),\n",
       " (129, 1, 1),\n",
       " (130, 1, 1),\n",
       " (131, 1, 1),\n",
       " (132, 1, 2),\n",
       " (133, 1, 1),\n",
       " (134, 1, 1),\n",
       " (135, 6, 4),\n",
       " (136, 1, 1),\n",
       " (137, 3, 2),\n",
       " (138, 1, 1),\n",
       " (139, 5, 10),\n",
       " (140, 2, 1),\n",
       " (141, 1, 1),\n",
       " (142, 50, 59),\n",
       " (143, 2, 160),\n",
       " (144, 1, 1),\n",
       " (145, 3, 1),\n",
       " (146, 1, 1),\n",
       " (147, 1, 1),\n",
       " (148, 19, 43),\n",
       " (149, 3, 3)]"
      ]
     },
     "execution_count": 21,
     "metadata": {},
     "output_type": "execute_result"
    }
   ],
   "source": [
    "pre_gold_lengths"
   ]
  },
  {
   "cell_type": "code",
   "execution_count": 22,
   "id": "3a00ad1a-8d6f-445f-8fc5-2e5d6fe9e243",
   "metadata": {},
   "outputs": [
    {
     "data": {
      "text/plain": [
       "0.4415862808145766"
      ]
     },
     "execution_count": 22,
     "metadata": {},
     "output_type": "execute_result"
    }
   ],
   "source": [
    "precision = predicted_correct / predicted\n",
    "precision"
   ]
  },
  {
   "cell_type": "code",
   "execution_count": 23,
   "id": "0fbbcb41-bb0b-4825-b2e7-45eaedc58a6e",
   "metadata": {},
   "outputs": [
    {
     "data": {
      "text/plain": [
       "0.08968219416630388"
      ]
     },
     "execution_count": 23,
     "metadata": {},
     "output_type": "execute_result"
    }
   ],
   "source": [
    "recall = predicted_correct/gold\n",
    "recall"
   ]
  },
  {
   "cell_type": "code",
   "execution_count": 24,
   "id": "71b0284e-9acf-4e5b-b0f0-1307bd5edd0f",
   "metadata": {},
   "outputs": [
    {
     "data": {
      "text/plain": [
       "0.14908630360050662"
      ]
     },
     "execution_count": 24,
     "metadata": {},
     "output_type": "execute_result"
    }
   ],
   "source": [
    "f1 = 2 / (1/precision + 1/recall)\n",
    "f1"
   ]
  },
  {
   "cell_type": "code",
   "execution_count": 25,
   "id": "713d255f-dc3f-4c80-8fa4-3ca84d0577b3",
   "metadata": {},
   "outputs": [
    {
     "name": "stdout",
     "output_type": "stream",
     "text": [
      "adj_precision:0.2481962481962482,\n",
      "adj_recall:0.059722222222222225,\n",
      "adj_f1:0.0962776378393507\n"
     ]
    },
    {
     "data": {
      "text/plain": [
       "(412, 933, 4594)"
      ]
     },
     "execution_count": 25,
     "metadata": {},
     "output_type": "execute_result"
    }
   ],
   "source": [
    "adj_precision = (predicted_correct-240) / (predicted-240)\n",
    "adj_recall = (predicted_correct-240)/ (gold - 1714)\n",
    "adj_f1 = 2 / (1/adj_precision +  1/adj_recall)\n",
    "print('adj_precision:{},\\nadj_recall:{},\\nadj_f1:{}'.format(adj_precision, adj_recall, adj_f1))\n",
    "predicted_correct, predicted, gold"
   ]
  },
  {
   "cell_type": "code",
   "execution_count": 26,
   "id": "74b84a2e-ae31-4ba2-a57a-e21cf01bec3f",
   "metadata": {},
   "outputs": [],
   "source": [
    "# Evaluate the precision and recall based on the total numbers of test questions\n",
    "count = 0 # total num of questions\n",
    "\n",
    "predicted_question = {} # dictionary from question to whether it was correctly predicted\n",
    "some_matched = {} # dictionary from question to how much is was correctly predicted \n",
    "\n",
    "# iterate each question to retrieve the set of predicted terms for a question\n",
    "for idx, pred_terms in enumerate(chatgpt_answer_terms_parsed):\n",
    "    \n",
    "    # the set of correct terms for this questions\n",
    "    gold_terms = answer_terms[idx]\n",
    "    \n",
    "    # increment the number of questions\n",
    "    count += 1\n",
    "    \n",
    "    # flag: assuming this question has not predicted yet\n",
    "    predicted_correct_idx = False\n",
    "\n",
    "    if (len(pred_terms) > 0) and (len(gold_terms) > 0):\n",
    "        predicted_correct = 0\n",
    "        predicted_correct_idx = False\n",
    "        # iterate through the set of predicted terms for this question\n",
    "        for pterm in pred_terms:\n",
    "            if len(pterm) > 0: # skip an empty string\n",
    "                for gterm in gold_terms:\n",
    "                    if len(gterm) > 0:\n",
    "                        #if pterm ==  gterm:\n",
    "                        # normalize both predicted and correct terms for comparison\n",
    "                        pterm = pterm.replace(\"_\", \" \")\n",
    "                        gterm = gterm.replace(\"_\", \" \")\n",
    "                        # if the predicted term is correct, mark the question is predicted correctly\n",
    "                        # and count the number of correctly predicted terms\n",
    "                        if (pterm in gterm) or (gterm in pterm):\n",
    "                            #if pterm == gterm:\n",
    "                            predicted_correct_idx = True\n",
    "                            predicted_correct += 1\n",
    "\n",
    "        predicted_question[idx] = predicted_correct_idx\n",
    "        some_matched[idx] = predicted_correct / len(gold_terms)\n",
    "\n",
    "    # if both predicted and correct results are empty\n",
    "    elif (len(pred_terms) == 0) and (len(gold_terms) == 0):\n",
    "        predicted_question[idx] = True\n",
    "        some_matched[idx] = 1\n",
    "    # incorrectly predicted if one of them is empty\n",
    "    else:\n",
    "        predicted_question[idx] = False\n",
    "        some_matched[idx] = 0"
   ]
  },
  {
   "cell_type": "code",
   "execution_count": 27,
   "id": "746a8b42-4095-4fbe-a576-56206891c9a1",
   "metadata": {},
   "outputs": [
    {
     "data": {
      "text/plain": [
       "88"
      ]
     },
     "execution_count": 27,
     "metadata": {},
     "output_type": "execute_result"
    }
   ],
   "source": [
    "# total predicted questions if one of predicted result is correct\n",
    "total_predicted_questions = sum(list(predicted_question.values()))\n",
    "total_predicted_questions"
   ]
  },
  {
   "cell_type": "code",
   "execution_count": 28,
   "id": "8b48829a-f0b7-432e-802b-dd97d95ff51b",
   "metadata": {},
   "outputs": [
    {
     "data": {
      "text/plain": [
       "63.100732828751674"
      ]
     },
     "execution_count": 28,
     "metadata": {},
     "output_type": "execute_result"
    }
   ],
   "source": [
    "# total predicted questions by adding up all predicted percentage\n",
    "total_matched = 0\n",
    "for k in some_matched:\n",
    "    if some_matched[k]:\n",
    "        total_matched += some_matched[k]\n",
    "total_matched"
   ]
  },
  {
   "cell_type": "code",
   "execution_count": 29,
   "id": "4273cd7b-9251-41f2-9b88-6fddd4830ce3",
   "metadata": {},
   "outputs": [
    {
     "data": {
      "text/plain": [
       "50.0"
      ]
     },
     "execution_count": 29,
     "metadata": {},
     "output_type": "execute_result"
    }
   ],
   "source": [
    "# total predicted questions if the set of predicted answers equals to the set of correct answers\n",
    "total = 0\n",
    "for k in some_matched:\n",
    "    if some_matched[k] == 1:\n",
    "        total += some_matched[k]\n",
    "total"
   ]
  },
  {
   "cell_type": "code",
   "execution_count": 30,
   "id": "cd08eae7-3355-452a-8019-5defd6dfd6ca",
   "metadata": {},
   "outputs": [
    {
     "data": {
      "text/plain": [
       "(0.5866666666666667, 0.4206666666666667, 0.3333333333333333)"
      ]
     },
     "execution_count": 30,
     "metadata": {},
     "output_type": "execute_result"
    }
   ],
   "source": [
    "# prediction, recall, and f1-score\n",
    "88/150, 63.1/150, 50/150"
   ]
  },
  {
   "cell_type": "markdown",
   "id": "ace616da-647f-4df2-b211-333048f05366",
   "metadata": {},
   "source": [
    "## Use ChatGPT to translate user questions to queries"
   ]
  },
  {
   "cell_type": "code",
   "execution_count": 31,
   "id": "a36d24ec-2557-410b-9526-98a6542c5604",
   "metadata": {},
   "outputs": [
    {
     "data": {
      "text/plain": [
       "Index(['id', 'answertype', 'aggregation', 'onlydbo', 'hybrid', 'question_text',\n",
       "       'question_keywords', 'sparql_query', 'answer_head', 'answer_results',\n",
       "       'question', 'query', 'answers', 'gpt_answers_text_DBpedia-2016-04',\n",
       "       'chatgpt_answers_text_DBpedia_2016_04',\n",
       "       'gold_query_results_DBpedia_2023_03',\n",
       "       'chatgpt_answers_text_DBpedia_2023_03', 'gpt_query_DBpedia_2023_03',\n",
       "       'gpt_query_results_DBpedia_2023_03', 'chatgpt_query_DBpedia_2023_03',\n",
       "       'chatgpt_query_results_DBpedia_2023_03', 'test_question_embedding',\n",
       "       'chatgpt_train_3fewshot_query', 'chatgpt_train_3fewshot_query_results',\n",
       "       'chatgpt_train_1fewshot_query', 'chatgpt_train_1fewshot_query_results',\n",
       "       'gpt_fewshot_query', 'gpt_fewshot_query_results', 'cot',\n",
       "       'chatgpt_cot_query', 'chatgpt_cot_query_results', 'masked_question',\n",
       "       'masked_query', 'masked_cot', 'chatgpt_train_cot_fewshot_query',\n",
       "       'chatgpt_train_cot_fewshot_query_results',\n",
       "       'chatgpt_nomasked_train_cot_fewshot_query',\n",
       "       'chatgpt_nomasked_train_cot_fewshot_query_results',\n",
       "       'chatgpt_nomasked_train_only_fewshot_query',\n",
       "       'chatgpt_nomasked_train_only_fewshot_query_results',\n",
       "       'chatgpt_nomasked_train_only_3fewshot_query',\n",
       "       'chatgpt_nomasked_train_only_3fewshot_query_results', 'cot_noWordLimit',\n",
       "       'chatgpt_cot_noWordLimit_query',\n",
       "       'chatgpt_cot_noWordLimit_query_results',\n",
       "       'chatgpt_cot_query_results_2nd'],\n",
       "      dtype='object')"
      ]
     },
     "execution_count": 31,
     "metadata": {},
     "output_type": "execute_result"
    }
   ],
   "source": [
    "test.columns"
   ]
  },
  {
   "cell_type": "markdown",
   "id": "bfc6f93e-837c-4991-8876-b068c74ec6f4",
   "metadata": {},
   "source": [
    "### Evaluate the chatgpt_query_results_DBpedia_2023_03"
   ]
  },
  {
   "cell_type": "code",
   "execution_count": 32,
   "id": "bee9756d-2c66-4865-b339-c50b8402e2cd",
   "metadata": {},
   "outputs": [
    {
     "name": "stdout",
     "output_type": "stream",
     "text": [
      "{'head': {'link': []}, 'boolean': True}\n",
      "{'head': {'link': []}, 'boolean': True}\n",
      "{'head': {'link': []}, 'boolean': True}\n",
      "{'head': {'link': []}, 'boolean': True}\n"
     ]
    }
   ],
   "source": [
    "# retrieve query results\n",
    "import ast\n",
    "\n",
    "query_results_terms = []\n",
    "count = 0\n",
    "for idx, row in test.iterrows():\n",
    "    try:\n",
    "        bindings = ast.literal_eval(row['gold_query_results_DBpedia_2023_03'])['results']['bindings']\n",
    "\n",
    "        answer_list = []\n",
    "        for item in bindings:\n",
    "            for k in item:\n",
    "                answer_list.append(item[k]['value'])\n",
    "\n",
    "        terms = []\n",
    "        for ans in answer_list:\n",
    "            terms.append(ans.replace('http://dbpedia.org/resource/', '').replace('dbo:', '').strip().lower())\n",
    "        #if terms not in answer_terms:\n",
    "        query_results_terms.append(terms)\n",
    "              \n",
    "    except:\n",
    "        print(row['gold_query_results_DBpedia_2023_03'])\n",
    "        ex_ans = ast.literal_eval(row['gold_query_results_DBpedia_2023_03'])['boolean']\n",
    "        if ex_ans:\n",
    "            query_results_terms.append([str(ex_ans).lower()])\n",
    "        else:\n",
    "            query_results_terms.append([])\n",
    "        count += 1"
   ]
  },
  {
   "cell_type": "code",
   "execution_count": 33,
   "id": "604a3321-68b8-4983-b3f3-4abdfd1f47fd",
   "metadata": {
    "tags": []
   },
   "outputs": [
    {
     "name": "stdout",
     "output_type": "stream",
     "text": [
      "{'head': {'link': []}, 'boolean': False}\n",
      "{'head': {'link': []}, 'boolean': False}\n"
     ]
    }
   ],
   "source": [
    "# retrieve chatgpt query results\n",
    "import ast\n",
    "\n",
    "chatgpt_query_results_terms = []\n",
    "count = 0\n",
    "for idx, row in test.iterrows():\n",
    "    try:\n",
    "        bindings = ast.literal_eval(row['chatgpt_query_results_DBpedia_2023_03'])['results']['bindings']\n",
    "\n",
    "        answer_list = []\n",
    "        for item in bindings:\n",
    "            for k in item:\n",
    "                answer_list.append(item[k]['value'])\n",
    "\n",
    "        terms = []\n",
    "        for ans in answer_list:\n",
    "            terms.append(ans.replace('http://dbpedia.org/resource/', '').replace('dbo:', '').strip().lower())\n",
    "        #if terms not in answer_terms:\n",
    "        chatgpt_query_results_terms.append(terms)\n",
    "    except SyntaxError:\n",
    "        chatgpt_query_results_terms.append(['ERROR ERROR ERROR'])\n",
    "              \n",
    "    except:\n",
    "        print(row['chatgpt_query_results_DBpedia_2023_03'])\n",
    "        ex_ans = ast.literal_eval(row['chatgpt_query_results_DBpedia_2023_03'])['boolean']\n",
    "        if ex_ans:\n",
    "            chatgpt_query_results_terms.append([str(ex_ans).lower()])\n",
    "        else:\n",
    "            chatgpt_query_results_terms.append([])\n",
    "        count += 1"
   ]
  },
  {
   "cell_type": "code",
   "execution_count": 34,
   "id": "3a6fab4e-44b5-4f2e-98cd-0ea86f50ade9",
   "metadata": {},
   "outputs": [
    {
     "data": {
      "text/plain": [
       "150"
      ]
     },
     "execution_count": 34,
     "metadata": {},
     "output_type": "execute_result"
    }
   ],
   "source": [
    "len(chatgpt_query_results_terms)"
   ]
  },
  {
   "cell_type": "code",
   "execution_count": 35,
   "id": "7008c528-b3de-4c7d-9ba0-61ea56f33159",
   "metadata": {},
   "outputs": [],
   "source": [
    "# Evaluate the precision and recall based on the total numbers of \n",
    "# gold answers and predicted answers\n",
    "predicted = 0\n",
    "gold = 0\n",
    "predicted_correct = 0\n",
    "pre_gold_lengths = []\n",
    "for idx, pred_terms in enumerate(chatgpt_query_results_terms):\n",
    "    \n",
    "    gold_terms = query_results_terms[idx]\n",
    "    \n",
    "    predicted +=  len(pred_terms)\n",
    "    gold += len(gold_terms)\n",
    "    \n",
    "    pre_gold_lengths.append((idx, len(pred_terms), len(gold_terms)))\n",
    "                             \n",
    "    if (len(pred_terms) > 0) and (len(gold_terms) > 0):\n",
    "        predicted_correct_idx = False\n",
    "        for pterm in pred_terms:\n",
    "            if len(pterm) > 0: # skip an empty string\n",
    "                for gterm in gold_terms:\n",
    "                    if len(gterm) > 0:\n",
    "                        if pterm ==  gterm:\n",
    "                        #pterm = pterm.replace(\"_\", \" \")\n",
    "                        #gterm = gterm.replace(\"_\", \" \")\n",
    "                        #if (pterm in gterm) or (gterm in pterm):\n",
    "                            predicted_correct_idx = True\n",
    "                            predicted_correct += 1\n",
    "                            #break # this pterm is a correct prediction, skip to next pterm\n",
    "                                    # don't double count this pterm anymore"
   ]
  },
  {
   "cell_type": "code",
   "execution_count": 36,
   "id": "3381c49e-3583-4987-819a-81bf45205be4",
   "metadata": {},
   "outputs": [
    {
     "data": {
      "text/plain": [
       "0.7110091743119266"
      ]
     },
     "execution_count": 36,
     "metadata": {},
     "output_type": "execute_result"
    }
   ],
   "source": [
    "precision = predicted_correct / predicted\n",
    "precision"
   ]
  },
  {
   "cell_type": "code",
   "execution_count": 37,
   "id": "28adf263-f527-4a7e-b08d-2da6f4830329",
   "metadata": {},
   "outputs": [
    {
     "data": {
      "text/plain": [
       "0.1272577996715928"
      ]
     },
     "execution_count": 37,
     "metadata": {},
     "output_type": "execute_result"
    }
   ],
   "source": [
    "recall = predicted_correct/gold\n",
    "recall"
   ]
  },
  {
   "cell_type": "code",
   "execution_count": 38,
   "id": "eddf414e-18e6-42a4-bdd0-085e24b6ec7a",
   "metadata": {},
   "outputs": [
    {
     "data": {
      "text/plain": [
       "0.2158774373259053"
      ]
     },
     "execution_count": 38,
     "metadata": {},
     "output_type": "execute_result"
    }
   ],
   "source": [
    "f1 = 2 / (1/precision + 1/recall)\n",
    "f1"
   ]
  },
  {
   "cell_type": "code",
   "execution_count": 39,
   "id": "9f614a4b-91ea-46ae-b342-fba18904f21b",
   "metadata": {},
   "outputs": [
    {
     "name": "stdout",
     "output_type": "stream",
     "text": [
      "adj_precision:0.5434782608695652,\n",
      "adj_recall:0.11597938144329897,\n",
      "adj_f1:0.1911639762107052\n"
     ]
    },
    {
     "data": {
      "text/plain": [
       "(465, 654, 3654)"
      ]
     },
     "execution_count": 39,
     "metadata": {},
     "output_type": "execute_result"
    }
   ],
   "source": [
    "adj_precision = (predicted_correct -240) / (predicted - 240)\n",
    "adj_recall = (predicted_correct - 240) / (gold - 1714)\n",
    "adj_f1 = 2 / (1/adj_precision +  1/adj_recall)\n",
    "print('adj_precision:{},\\nadj_recall:{},\\nadj_f1:{}'.format(adj_precision, adj_recall, adj_f1))\n",
    "predicted_correct, predicted, gold"
   ]
  },
  {
   "cell_type": "code",
   "execution_count": 40,
   "id": "6ba0ab04-0560-43be-bc15-df0c1418e9f3",
   "metadata": {},
   "outputs": [],
   "source": [
    "# Evaluate the precision and recall based on the total numbers of test questions\n",
    "# Evaluate the precision and recall based on the total numbers of test questions\n",
    "count = 0 # total num of questions\n",
    "\n",
    "predicted_question = {} # dictionary from question to whether it was correctly predicted\n",
    "some_matched = {} # dictionary from question to how much is was correctly predicted \n",
    "\n",
    "# iterate each question to retrieve the set of predicted terms for a question\n",
    "for idx, pred_terms in enumerate(chatgpt_query_results_terms):\n",
    "    \n",
    "    # the set of correct terms for this questions\n",
    "    gold_terms = query_results_terms[idx]\n",
    "    \n",
    "    # increment the number of questions\n",
    "    count += 1\n",
    "    \n",
    "    # flag: assuming this question has not predicted yet\n",
    "    predicted_correct_idx = False\n",
    "\n",
    "    if (len(pred_terms) > 0) and (len(gold_terms) > 0):\n",
    "        predicted_correct = 0\n",
    "        predicted_correct_idx = False\n",
    "        # iterate through the set of predicted terms for this question\n",
    "        for pterm in pred_terms:\n",
    "            if len(pterm) > 0: # skip an empty string\n",
    "                for gterm in gold_terms:\n",
    "                    if len(gterm) > 0:\n",
    "                        #if pterm ==  gterm:\n",
    "                        # normalize both predicted and correct terms for comparison\n",
    "                        pterm = pterm.replace(\"_\", \" \")\n",
    "                        gterm = gterm.replace(\"_\", \" \")\n",
    "                        # if the predicted term is correct, mark the question is predicted correctly\n",
    "                        # and count the number of correctly predicted terms\n",
    "                        if (pterm in gterm) or (gterm in pterm):\n",
    "                            #if pterm == gterm:\n",
    "                            predicted_correct_idx = True\n",
    "                            predicted_correct += 1\n",
    "\n",
    "        predicted_question[idx] = predicted_correct_idx\n",
    "        some_matched[idx] = predicted_correct / len(gold_terms)\n",
    "\n",
    "    # if both predicted and correct results are empty\n",
    "    elif (len(pred_terms) == 0) and (len(gold_terms) == 0):\n",
    "        predicted_question[idx] = True\n",
    "        some_matched[idx] = 1\n",
    "    # incorrectly predicted if one of them is empty\n",
    "    else:\n",
    "        predicted_question[idx] = False\n",
    "        some_matched[idx] = 0"
   ]
  },
  {
   "cell_type": "code",
   "execution_count": 41,
   "id": "4c2909dc-e755-454b-bfae-3904cbd2f771",
   "metadata": {},
   "outputs": [
    {
     "data": {
      "text/plain": [
       "52"
      ]
     },
     "execution_count": 41,
     "metadata": {},
     "output_type": "execute_result"
    }
   ],
   "source": [
    "sum(predicted_question.values())"
   ]
  },
  {
   "cell_type": "code",
   "execution_count": 42,
   "id": "c4efa085-51c2-4e96-931f-2bd3781f8826",
   "metadata": {},
   "outputs": [
    {
     "data": {
      "text/plain": [
       "52"
      ]
     },
     "execution_count": 42,
     "metadata": {},
     "output_type": "execute_result"
    }
   ],
   "source": [
    "total = 0\n",
    "for k in some_matched:\n",
    "    if some_matched[k]:\n",
    "        total += 1\n",
    "total"
   ]
  },
  {
   "cell_type": "code",
   "execution_count": 43,
   "id": "290417ca-80a2-4624-97f3-f9fd5522c862",
   "metadata": {},
   "outputs": [
    {
     "data": {
      "text/plain": [
       "45.0"
      ]
     },
     "execution_count": 43,
     "metadata": {},
     "output_type": "execute_result"
    }
   ],
   "source": [
    "total = 0\n",
    "for k in some_matched:\n",
    "    if some_matched[k] == 1:\n",
    "        total += some_matched[k]\n",
    "total"
   ]
  },
  {
   "cell_type": "code",
   "execution_count": 44,
   "id": "6f5677d8-76d2-4213-b483-fdc3b6fc6b2e",
   "metadata": {},
   "outputs": [
    {
     "data": {
      "text/plain": [
       "(0.3466666666666667, 0.3466666666666667, 0.3)"
      ]
     },
     "execution_count": 44,
     "metadata": {},
     "output_type": "execute_result"
    }
   ],
   "source": [
    "# precision, recall, f1-score\n",
    "52/150, 52/150, 45/150"
   ]
  },
  {
   "cell_type": "markdown",
   "id": "26f54606-6e4b-4535-8361-627f86ead97a",
   "metadata": {},
   "source": [
    "## Use ChatGPT to translate user questions to queries by few-shot learning"
   ]
  },
  {
   "cell_type": "markdown",
   "id": "e38a8f02-7c9b-4a1b-b0d6-42c1aa6c7f17",
   "metadata": {},
   "source": [
    "### Evaluate the chatgpt_train_1fewshot_query_results"
   ]
  },
  {
   "cell_type": "code",
   "execution_count": 45,
   "id": "415aa3f3-02b7-41f4-b45c-91ea4985d422",
   "metadata": {},
   "outputs": [
    {
     "data": {
      "text/plain": [
       "Index(['id', 'answertype', 'aggregation', 'onlydbo', 'hybrid', 'question_text',\n",
       "       'question_keywords', 'sparql_query', 'answer_head', 'answer_results',\n",
       "       'question', 'query', 'answers', 'gpt_answers_text_DBpedia-2016-04',\n",
       "       'chatgpt_answers_text_DBpedia_2016_04',\n",
       "       'gold_query_results_DBpedia_2023_03',\n",
       "       'chatgpt_answers_text_DBpedia_2023_03', 'gpt_query_DBpedia_2023_03',\n",
       "       'gpt_query_results_DBpedia_2023_03', 'chatgpt_query_DBpedia_2023_03',\n",
       "       'chatgpt_query_results_DBpedia_2023_03', 'test_question_embedding',\n",
       "       'chatgpt_train_3fewshot_query', 'chatgpt_train_3fewshot_query_results',\n",
       "       'chatgpt_train_1fewshot_query', 'chatgpt_train_1fewshot_query_results',\n",
       "       'gpt_fewshot_query', 'gpt_fewshot_query_results', 'cot',\n",
       "       'chatgpt_cot_query', 'chatgpt_cot_query_results', 'masked_question',\n",
       "       'masked_query', 'masked_cot', 'chatgpt_train_cot_fewshot_query',\n",
       "       'chatgpt_train_cot_fewshot_query_results',\n",
       "       'chatgpt_nomasked_train_cot_fewshot_query',\n",
       "       'chatgpt_nomasked_train_cot_fewshot_query_results',\n",
       "       'chatgpt_nomasked_train_only_fewshot_query',\n",
       "       'chatgpt_nomasked_train_only_fewshot_query_results',\n",
       "       'chatgpt_nomasked_train_only_3fewshot_query',\n",
       "       'chatgpt_nomasked_train_only_3fewshot_query_results', 'cot_noWordLimit',\n",
       "       'chatgpt_cot_noWordLimit_query',\n",
       "       'chatgpt_cot_noWordLimit_query_results',\n",
       "       'chatgpt_cot_query_results_2nd'],\n",
       "      dtype='object')"
      ]
     },
     "execution_count": 45,
     "metadata": {},
     "output_type": "execute_result"
    }
   ],
   "source": [
    "test.columns"
   ]
  },
  {
   "cell_type": "code",
   "execution_count": 46,
   "id": "3f22a294-0291-4048-a7dd-d2ded0947199",
   "metadata": {},
   "outputs": [
    {
     "data": {
      "text/plain": [
       "(150, 46)"
      ]
     },
     "execution_count": 46,
     "metadata": {},
     "output_type": "execute_result"
    }
   ],
   "source": [
    "test.shape"
   ]
  },
  {
   "cell_type": "code",
   "execution_count": 47,
   "id": "26ca461f-a40b-46f2-927d-c28444819f1c",
   "metadata": {
    "tags": []
   },
   "outputs": [
    {
     "name": "stdout",
     "output_type": "stream",
     "text": [
      "{'head': {'link': []}, 'boolean': True}\n",
      "{'head': {'link': []}, 'boolean': True}\n",
      "{'head': {'link': []}, 'boolean': True}\n",
      "{'head': {'link': []}, 'boolean': True}\n"
     ]
    }
   ],
   "source": [
    "# retrieve query results\n",
    "import ast\n",
    "\n",
    "query_results_terms = []\n",
    "count = 0\n",
    "for idx, row in test.iterrows():\n",
    "    try:\n",
    "        bindings = ast.literal_eval(row['gold_query_results_DBpedia_2023_03'])['results']['bindings']\n",
    "\n",
    "        answer_list = []\n",
    "        for item in bindings:\n",
    "            for k in item:\n",
    "                answer_list.append(item[k]['value'])\n",
    "\n",
    "        terms = []\n",
    "        for ans in answer_list:\n",
    "            terms.append(ans.replace('http://dbpedia.org/resource/', '').replace('dbo:', '').strip().lower())\n",
    "        #if terms not in answer_terms:\n",
    "        query_results_terms.append(terms)\n",
    "              \n",
    "    except:\n",
    "        print(row['gold_query_results_DBpedia_2023_03'])\n",
    "        ex_ans = ast.literal_eval(row['gold_query_results_DBpedia_2023_03'])['boolean']\n",
    "        if ex_ans:\n",
    "            query_results_terms.append([str(ex_ans).lower()])\n",
    "        else:\n",
    "            query_results_terms.append([])\n",
    "        count += 1"
   ]
  },
  {
   "cell_type": "code",
   "execution_count": 48,
   "id": "8bba71ca-a4a9-4b53-b2af-279321608e9d",
   "metadata": {
    "tags": []
   },
   "outputs": [
    {
     "name": "stdout",
     "output_type": "stream",
     "text": [
      "{'head': {'link': []}, 'boolean': False}\n",
      "{'head': {'link': []}, 'boolean': False}\n"
     ]
    }
   ],
   "source": [
    "# retrieve chatgpt train 1fewshot query results\n",
    "import ast\n",
    "\n",
    "chatgpt_query_results_terms = []\n",
    "count = 0\n",
    "for idx, row in test.iterrows():\n",
    "    try:\n",
    "        #bindings = row['chatgpt_train_1fewshot_query_results']['results']['bindings']\n",
    "        bindings = ast.literal_eval(row['chatgpt_train_1fewshot_query_results'])['results']['bindings']\n",
    "\n",
    "        answer_list = []\n",
    "        for item in bindings:\n",
    "            for k in item:\n",
    "                answer_list.append(item[k]['value'])\n",
    "\n",
    "        terms = []\n",
    "        for ans in answer_list:\n",
    "            terms.append(ans.replace('http://dbpedia.org/resource/', '').replace('dbo:', '').strip().lower())\n",
    "        #if terms not in answer_terms:\n",
    "        chatgpt_query_results_terms.append(terms)\n",
    "    except TypeError:\n",
    "        chatgpt_query_results_terms.append(['ERROR ERROR ERROR'])\n",
    "    except SyntaxError:\n",
    "        chatgpt_query_results_terms.append(['ERROR ERROR ERROR'])\n",
    "              \n",
    "    except:\n",
    "        print(row['chatgpt_train_1fewshot_query_results'])\n",
    "        #ex_ans = row['chatgpt_train_1fewshot_query_results']['boolean']\n",
    "        ex_ans = ast.literal_eval(row['chatgpt_train_1fewshot_query_results'])['boolean']\n",
    "        if ex_ans:\n",
    "            chatgpt_query_results_terms.append([str(ex_ans).lower()])\n",
    "        else:\n",
    "            chatgpt_query_results_terms.append([])\n",
    "        count += 1"
   ]
  },
  {
   "cell_type": "code",
   "execution_count": 49,
   "id": "dea10163-c5a2-4e33-b3ac-ade809cff4ca",
   "metadata": {
    "tags": []
   },
   "outputs": [
    {
     "data": {
      "text/plain": [
       "[['mountain_time_zone'],\n",
       " [],\n",
       " ['zugspitze'],\n",
       " ['ERROR ERROR ERROR'],\n",
       " [],\n",
       " [],\n",
       " ['vesna_pisarović', 'kelly_kelekidou', 'cameron_cartio'],\n",
       " [],\n",
       " [],\n",
       " [],\n",
       " [],\n",
       " [],\n",
       " ['georgia_(country)',\n",
       "  'western_australia',\n",
       "  'jamaica',\n",
       "  'japan',\n",
       "  'northern_territory',\n",
       "  'spain',\n",
       "  'india',\n",
       "  'venezuela',\n",
       "  'derbyshire',\n",
       "  'united_states',\n",
       "  'turkey',\n",
       "  'somerset',\n",
       "  'france',\n",
       "  'germany',\n",
       "  'canada',\n",
       "  'austria',\n",
       "  'republic_of_ireland',\n",
       "  'italy',\n",
       "  'cumbria',\n",
       "  'taiwan',\n",
       "  'brazil',\n",
       "  'north_yorkshire',\n",
       "  'gozo',\n",
       "  'philippines',\n",
       "  'mexico',\n",
       "  'vietnam',\n",
       "  'united_kingdom',\n",
       "  'serbia',\n",
       "  'lancashire',\n",
       "  'greece',\n",
       "  'romania',\n",
       "  'bosnia_and_herzegovina',\n",
       "  'israel',\n",
       "  'malta',\n",
       "  'wales',\n",
       "  'devon',\n",
       "  'gibraltar',\n",
       "  'british_columbia',\n",
       "  'england',\n",
       "  'abkhazia',\n",
       "  'china',\n",
       "  'slovakia',\n",
       "  'slovenia',\n",
       "  'south_africa',\n",
       "  'russia',\n",
       "  'australia',\n",
       "  'portugal',\n",
       "  'nepal'],\n",
       " ['ERROR ERROR ERROR'],\n",
       " [],\n",
       " ['angela dorothea kasner'],\n",
       " [],\n",
       " [],\n",
       " ['riven'],\n",
       " [],\n",
       " ['4'],\n",
       " [],\n",
       " [],\n",
       " ['ERROR ERROR ERROR'],\n",
       " ['ERROR ERROR ERROR'],\n",
       " [],\n",
       " [],\n",
       " [],\n",
       " [],\n",
       " ['rembrandt'],\n",
       " ['gasherbrum_i'],\n",
       " [],\n",
       " [],\n",
       " [],\n",
       " [],\n",
       " ['aleksandr_solzhenitsyn',\n",
       "  'alice_munro',\n",
       "  'harold_pinter',\n",
       "  'william_faulkner',\n",
       "  \"eugene_o'neill\",\n",
       "  'gerhart_hauptmann',\n",
       "  'octavio_paz',\n",
       "  'john_steinbeck',\n",
       "  'josé_saramago',\n",
       "  'juan_ramón_jiménez',\n",
       "  'ivo_andrić',\n",
       "  'j._m._coetzee',\n",
       "  'naguib_mahfouz',\n",
       "  'toni_morrison',\n",
       "  'abdulrazak_gurnah',\n",
       "  'svetlana_alexievich',\n",
       "  'sorley_maclean',\n",
       "  'czesław_miłosz',\n",
       "  'hermann_hesse',\n",
       "  'thomas_mann',\n",
       "  'wisława_szymborska',\n",
       "  'louise_glück',\n",
       "  'olga_tokarczuk',\n",
       "  'patrick_modiano',\n",
       "  'patrick_white',\n",
       "  'william_golding__william_golding__1'],\n",
       " [],\n",
       " [],\n",
       " [],\n",
       " [],\n",
       " ['jin_river_(sichuan)'],\n",
       " ['30'],\n",
       " ['0'],\n",
       " [],\n",
       " ['democratic_political_turning_point',\n",
       "  'article_50_(political_party)',\n",
       "  'frisian_national_party',\n",
       "  'anti-revolutionary_party',\n",
       "  'reformed_political_party',\n",
       "  'the_greens_(netherlands)',\n",
       "  '50plus',\n",
       "  \"communist_workers'_party_of_the_netherlands\",\n",
       "  'tu_delft_faculty_of_aerospace_engineering',\n",
       "  'league_of_communists_in_the_netherlands',\n",
       "  'islam_democrats',\n",
       "  'communist_workers_organisation_(marxist–leninist)',\n",
       "  'trots_op_nederland',\n",
       "  'alliance_for_national_reconstruction__alliance_for_national_reconstruction__1',\n",
       "  'christian_democratic_appeal',\n",
       "  'labour_party_(netherlands)',\n",
       "  'groenlinks',\n",
       "  'jesus_lives',\n",
       "  'liberal_state_party',\n",
       "  'free_union_(anarchist_organisation)',\n",
       "  'onafhankelijke_burger_partij',\n",
       "  'party_for_zeeland',\n",
       "  'party_for_the_north',\n",
       "  'economic_league_(netherlands)',\n",
       "  'forza!_nederland',\n",
       "  'workers_party_of_the_netherlands_(build-up_organisation)'],\n",
       " ['0'],\n",
       " [],\n",
       " [\"elon reeve musk frs (/ˈiːlɒn/ ee-lon; born june 28, 1971) is a business magnate and investor. he is the founder, ceo, and chief engineer at spacex; angel investor, ceo, and product architect of tesla, inc.; founder of the boring company; and co-founder of neuralink and openai. with an estimated net worth of around $254.6 billion as of september 26, 2022, musk is the wealthiest person in the world according to both the bloomberg billionaires index and forbes' real-time billionaires list. musk was born in pretoria, south africa, where he grew up. he briefly attended the university of pretoria before moving to canada at age 17, acquiring citizenship through his canadian-born mother. two years later, he matriculated at queen's university and transferred to the university of pennsylvania, where he received bachelor's degrees in economics and physics. he moved to california in 1995 to attend stanford university but decided instead to pursue a business career, co-founding the web software company zip2 with his brother kimbal. the startup was acquired by compaq for $307 million in 1999. the same year, musk co-founded online bank x.com, which merged with confinity in 2000 to form paypal. ebay bought paypal in 2002, for $1.5 billion. in 2002, musk founded spacex, an aerospace manufacturer and space transport services company, of which he serves as ceo and chief engineer. in 2004, he was an early investor in electric vehicle manufacturer tesla motors, inc. (now tesla, inc.). he became its chairman and product architect, eventually assuming the position of ceo in 2008. in 2006, he helped create solarcity, a solar energy company that was later acquired by tesla and became tesla energy. in 2015, he co-founded openai, a nonprofit research company promoting friendly artificial intelligence (ai). in 2016, he co-founded neuralink, a neurotechnology company focused on developing brain–computer interfaces, and founded the boring company, a tunnel construction company. musk has proposed a hyperloop high-speed vactrain transportation system and is the president of the musk foundation, which donates to scientific research and education. musk has been criticized for making unscientific and controversial statements, such as spreading misinformation about the covid-19 pandemic and promoting contentious perspectives regarding politics and various technologies, especially on twitter. in 2018, the u.s. securities and exchange commission (sec) sued musk for tweeting that he had secured funding for a private takeover of tesla, which the sec characterized as false and misleading. he settled with the sec but did not admit guilt, and he temporarily stepped down from his tesla chairmanship. in 2019, he won a defamation case brought against him by a british caver who had advised in the tham luang cave rescue. in 2022, musk agreed to purchase twitter for $44 billion but later submitted a termination letter of the deal, leading to lawsuits between both parties.\"],\n",
       " ['julian_assange'],\n",
       " [],\n",
       " [],\n",
       " [],\n",
       " [],\n",
       " [],\n",
       " ['0'],\n",
       " [],\n",
       " [],\n",
       " ['berlin', 'hamburg'],\n",
       " [],\n",
       " ['0'],\n",
       " [],\n",
       " ['ERROR ERROR ERROR'],\n",
       " [],\n",
       " ['rita wilson'],\n",
       " [],\n",
       " [],\n",
       " ['2009-06-25'],\n",
       " [],\n",
       " ['jules_verne'],\n",
       " ['vincent_meli',\n",
       "  'william_bentvena',\n",
       "  'anthony_giacalone',\n",
       "  'matthew_ianniello',\n",
       "  'ilario_zannino',\n",
       "  'venero_mangano',\n",
       "  'salvatore_la_barbera',\n",
       "  'william_obront',\n",
       "  'joseph_miranda',\n",
       "  'joseph_todaro_sr.',\n",
       "  'dominic_cortina',\n",
       "  'michele_greco',\n",
       "  'lefty_ruggiero',\n",
       "  \"william_s._o'sullivan\",\n",
       "  'gregory_scarpa',\n",
       "  'tommaso_buscetta',\n",
       "  'luigi_manocchio',\n",
       "  'michael_rizzitello',\n",
       "  'paul_volpe_(mobster)',\n",
       "  'salvatore_briguglio',\n",
       "  'joseph_lombardo',\n",
       "  'richard_castucci',\n",
       "  'joe_gallo',\n",
       "  'nicodemo_scarfo',\n",
       "  'thomas_gambino',\n",
       "  'louis_manna',\n",
       "  'al_indelicato',\n",
       "  'albert_gallo',\n",
       "  'james_burke_(gangster)',\n",
       "  'dominick_napolitano',\n",
       "  'paolo_violi',\n",
       "  'frank_locascio',\n",
       "  'salvatore_bonanno',\n",
       "  'joseph_barboza',\n",
       "  'evsei_agron',\n",
       "  'peter_difronzo',\n",
       "  'philip_giaccone'],\n",
       " [],\n",
       " ['boredom_in_brno',\n",
       "  'václav_(film)',\n",
       "  'vášnivý_bozk',\n",
       "  'divided_we_fall_(film)',\n",
       "  'shoes_(2012_film)',\n",
       "  'witnesses_(2018_film)',\n",
       "  'fritzi_–_a_revolutionary_tale',\n",
       "  'gate_to_heaven',\n",
       "  'czechmate:_in_search_of_jiří_menzel',\n",
       "  'golet_in_the_valley',\n",
       "  'po_strništi_bos',\n",
       "  'the_adventurers_(2017_film)',\n",
       "  'the_affair_(2019_film)',\n",
       "  'the_brothers_grimm_(film)',\n",
       "  'under_the_sun_(2015_film)',\n",
       "  'underground_(1995_film)',\n",
       "  'underworld:_blood_wars',\n",
       "  \"bach's_fight_for_freedom\",\n",
       "  'janosik:_a_true_story',\n",
       "  'medieval_(film)',\n",
       "  'rebelové',\n",
       "  'the_fortress_(1994_film)',\n",
       "  'the_garden_(1995_film)',\n",
       "  'the_humorist',\n",
       "  'the_illusionist_(2006_film)',\n",
       "  'the_last_train_(2006_film)',\n",
       "  'the_magical_duvet',\n",
       "  'the_nagano_tapes',\n",
       "  'the_ninth_day',\n",
       "  'the_reef_(1999_film)',\n",
       "  'the_sign_painter',\n",
       "  'the_snake_brothers',\n",
       "  'the_trial:_the_state_of_russia_vs_oleg_sentsov',\n",
       "  'the_visitors:_bastille_day',\n",
       "  \"the_zookeeper's_wife_(film)\",\n",
       "  'the_zookeeper_(2001_film)',\n",
       "  'normal_(2009_film)',\n",
       "  'not_angels_but_angels',\n",
       "  'pérák:_the_shadow_over_prague',\n",
       "  'all_my_loved_ones',\n",
       "  'jojo_rabbit',\n",
       "  'the_power_of_good:_nicholas_winton',\n",
       "  'babicka_(2003_film)',\n",
       "  'bad_company_(2002_film)',\n",
       "  'bad_luck_banging_or_loony_porn',\n",
       "  'it_will_stay_between_us',\n",
       "  'toys_in_the_attic_(2009_film)',\n",
       "  'a_pin_for_the_butterfly',\n",
       "  'child_44_(film)',\n",
       "  'stolen_kosovo',\n",
       "  'hostel_(2005_film)',\n",
       "  'hrubeš_a_mareš_jsou_kamarádi_do_deště',\n",
       "  'lea_(film)',\n",
       "  'the_cycle_(2009_film)',\n",
       "  'dolls_(2007_film)',\n",
       "  'skřítek',\n",
       "  'something_like_happiness',\n",
       "  'cosy_dens',\n",
       "  'roming',\n",
       "  'tobruk_(2008_film)',\n",
       "  'loners_(2000_film)',\n",
       "  'lotrando_a_zubejda',\n",
       "  'oliver_twist_(2005_film)',\n",
       "  'body_without_soul',\n",
       "  'kooky',\n",
       "  'kruté_radosti',\n",
       "  'little_otik',\n",
       "  'goat_story_2',\n",
       "  'you_kiss_like_a_god',\n",
       "  'ro(c)k_podvraťáků',\n",
       "  'the_pagan_queen',\n",
       "  'year_of_the_devil',\n",
       "  'one_night_in_one_city__one_night_in_one_city__1',\n",
       "  'hard_to_be_a_god_(2013_film)__hard_to_be_a_god__1'],\n",
       " ['tang_hongbo',\n",
       "  'cai_xuzhe',\n",
       "  'chen_dong_(taikonaut)',\n",
       "  'chen_quan',\n",
       "  'fei_junlong',\n",
       "  'jing_haipeng',\n",
       "  'nie_haisheng',\n",
       "  'zhang_xiaoguang'],\n",
       " ['philippines'],\n",
       " ['all_the_right_moves_(film)',\n",
       "  'american_made_(film)',\n",
       "  'days_of_thunder',\n",
       "  'valkyrie_(film)',\n",
       "  'vanilla_sky',\n",
       "  'taps_(film)',\n",
       "  'born_on_the_fourth_of_july_(film)',\n",
       "  'jack_reacher:_never_go_back',\n",
       "  'jack_reacher_(film)',\n",
       "  'red_dawn_(2012_film)',\n",
       "  'the_color_of_money',\n",
       "  'the_firm_(1993_film)',\n",
       "  'the_last_samurai',\n",
       "  'the_mummy_(2017_film)',\n",
       "  'the_outsiders_(film)',\n",
       "  'oblivion_(2013_film)',\n",
       "  'cocktail_(1988_film)',\n",
       "  'collateral_(film)',\n",
       "  'interview_with_the_vampire_(film)',\n",
       "  'mission:_impossible_(film)',\n",
       "  'mission:_impossible_2',\n",
       "  'mission:_impossible_iii',\n",
       "  'mission:_impossible_–_dead_reckoning_part_one',\n",
       "  'mission:_impossible_–_dead_reckoning_part_two',\n",
       "  'mission:_impossible_–_fallout',\n",
       "  'mission:_impossible_–_ghost_protocol',\n",
       "  'mission:_impossible_–_rogue_nation',\n",
       "  'top_gun',\n",
       "  'top_gun:_maverick',\n",
       "  'far_and_away__far_and_away__1',\n",
       "  'a_few_good_men',\n",
       "  'risky_business',\n",
       "  'rock_of_ages_(2012_film)',\n",
       "  'eyes_wide_shut',\n",
       "  'legend_(1985_film)',\n",
       "  'lions_for_lambs',\n",
       "  'rain_man',\n",
       "  'edge_of_tomorrow',\n",
       "  \"losin'_it\",\n",
       "  'minority_report_(film)',\n",
       "  'jerry_maguire__jerry_maguire__1',\n",
       "  'knight_and_day__knight_and_day__1',\n",
       "  'magnolia_(film)__magnolia__1'],\n",
       " [],\n",
       " [],\n",
       " [],\n",
       " [],\n",
       " ['amazing_grace_(novel)',\n",
       "  'against_all_odds_(novel)',\n",
       "  'fine_things',\n",
       "  'second_chance_(steel_novel)',\n",
       "  'sisters_(steel_novel)',\n",
       "  'southern_lights_(novel)',\n",
       "  'special_delivery_(novel)',\n",
       "  'toxic_bachelors',\n",
       "  \"passion's_promise\",\n",
       "  'miracle_(novel)',\n",
       "  'mirror_image_(novel)',\n",
       "  'mixed_blessings_(novel)',\n",
       "  'zoya_(novel)',\n",
       "  'daddy_(novel)',\n",
       "  'rogue_(novel)',\n",
       "  'matters_of_the_heart_(novel)',\n",
       "  'wanderlust_(steel_novel)',\n",
       "  'honor_thyself',\n",
       "  'a_good_woman_(novel)',\n",
       "  'a_perfect_stranger_(novel)',\n",
       "  'betrayal_(steel_novel)',\n",
       "  'now_and_forever_(novel)',\n",
       "  'going_home_(steel_novel)',\n",
       "  'hotel_vendome_(novel)',\n",
       "  'impossible_(novel)',\n",
       "  'ransom_(steel_novel)',\n",
       "  'coming_out_(novel)',\n",
       "  'jewels_(novel)',\n",
       "  'kaleidoscope_(novel)',\n",
       "  'h.r.h._(novel)',\n",
       "  'accident_(novel)',\n",
       "  'five_days_in_paris',\n",
       "  'the_gift_(steel_novel)',\n",
       "  'the_house_(novel)',\n",
       "  'the_long_road_home_(novel)',\n",
       "  'the_wedding_(steel_novel)',\n",
       "  'undercover_(novel)',\n",
       "  'sunset_in_st._tropez',\n",
       "  'crossings_(steel_novel)',\n",
       "  'no_greater_love_(novel)',\n",
       "  'one_day_at_a_time_(novel)',\n",
       "  'thurston_house_(novel)',\n",
       "  'dangerous_games_(steel_novel)',\n",
       "  'season_of_passion',\n",
       "  'safe_harbour_(novel)',\n",
       "  'big_girl_(novel)',\n",
       "  'bungalow_2',\n",
       "  'echoes_(steel_novel)',\n",
       "  'family_album_(novel)',\n",
       "  'family_ties_(novel)',\n",
       "  'friends_forever_(novel)',\n",
       "  'full_circle_(novel)',\n",
       "  'the_klone_and_i',\n",
       "  'message_from_nam',\n",
       "  'silent_honor'],\n",
       " ['arcesilaus',\n",
       "  'diogenes',\n",
       "  'averroes',\n",
       "  'søren_kierkegaard',\n",
       "  'antisthenes',\n",
       "  'aristippus',\n",
       "  'aristotle',\n",
       "  'giovanni_reale',\n",
       "  'plato',\n",
       "  'jacques_maritain',\n",
       "  'jan_patočka',\n",
       "  'jean-jacques_rousseau',\n",
       "  'rené_guénon',\n",
       "  'ammonius_saccas',\n",
       "  'joseph_de_maistre',\n",
       "  'seneca_the_younger',\n",
       "  'traian_brăileanu',\n",
       "  'algernon_sidney__algernon_sidney__1',\n",
       "  'allan_bloom__allan_bloom__1',\n",
       "  'butler_d._shaffer',\n",
       "  'charles_maurras',\n",
       "  'cicero',\n",
       "  'simone_weil',\n",
       "  'sophie_oluwole',\n",
       "  'graham_harman',\n",
       "  'carlo_michelstaedter',\n",
       "  'leo_strauss',\n",
       "  'peter_kreeft',\n",
       "  'pierre_gassendi',\n",
       "  'tibor_machan',\n",
       "  'yaşar_nuri_öztürk',\n",
       "  'julie_favre',\n",
       "  'karl_popper',\n",
       "  'louis_de_bonald',\n",
       "  'lucretius',\n",
       "  'michel_weber',\n",
       "  'michel_de_montaigne',\n",
       "  'rufus_jones_(writer)',\n",
       "  'sean_d._kirkland',\n",
       "  'euclid_of_megara__euclid_of_megara__1',\n",
       "  'peter_boghossian__peter_boghossian__1',\n",
       "  'zeno_of_citium__zeno_of_citium__1'],\n",
       " [],\n",
       " ['ati_425_titanium_alloy', 'radiall'],\n",
       " [],\n",
       " [],\n",
       " [],\n",
       " ['võro_language',\n",
       "  'estonian_language',\n",
       "  'middle_low_german',\n",
       "  'laiuse_romani_language',\n",
       "  'estonian_swedish',\n",
       "  'swedish_language',\n",
       "  'lake_peipus_dialect',\n",
       "  'modern_swedish',\n",
       "  'estonian_sign_language',\n",
       "  'baltic_romani__baltic_romani__1',\n",
       "  'seto_dialect__seto__1'],\n",
       " [],\n",
       " [],\n",
       " [],\n",
       " [],\n",
       " ['ERROR ERROR ERROR'],\n",
       " [],\n",
       " [],\n",
       " ['tui_airways'],\n",
       " ['memoni language',\n",
       "  'wakhi language',\n",
       "  'brahui language',\n",
       "  'kashmiri language',\n",
       "  'khowar language',\n",
       "  'saraiki language',\n",
       "  'balochi language',\n",
       "  'balti language',\n",
       "  'burushaski',\n",
       "  'chitral kalasha language',\n",
       "  'domaaki language',\n",
       "  'sindhi language',\n",
       "  'hindko',\n",
       "  'dameli language',\n",
       "  'punjabi language',\n",
       "  'shina language',\n",
       "  'indus kohistani',\n",
       "  'kutchi language',\n",
       "  'pahari-pothwari',\n",
       "  'pashto',\n",
       "  'gawar-bati language',\n",
       "  'yidgha language'],\n",
       " [],\n",
       " [],\n",
       " [],\n",
       " [],\n",
       " [],\n",
       " [],\n",
       " ['kentucky', 'fort_knox__location__1'],\n",
       " [],\n",
       " ['0'],\n",
       " [],\n",
       " ['ERROR ERROR ERROR'],\n",
       " [],\n",
       " [],\n",
       " ['1.4986'],\n",
       " [],\n",
       " [],\n",
       " [],\n",
       " [],\n",
       " [],\n",
       " [],\n",
       " ['george,_margrave_of_brandenburg-ansbach',\n",
       "  'beatrix,_countess_of_schönburg-glauchau',\n",
       "  'vera_oelschlegel',\n",
       "  'sam_marx',\n",
       "  'ursula_kuczynski',\n",
       "  'gisela_oechelhaeuser',\n",
       "  'marlies_deneke',\n",
       "  'mary_putnam_jacobi',\n",
       "  'lea_grundig',\n",
       "  'holly_hunter',\n",
       "  'christine_laszar',\n",
       "  'thomas_gnielka',\n",
       "  'karl-heinz_gerstner',\n",
       "  'stephan_krawczyk',\n",
       "  'liz_mohn',\n",
       "  'rosa_porten',\n",
       "  'silvius_i_nimrod,_duke_of_württemberg-oels'],\n",
       " [],\n",
       " [],\n",
       " [],\n",
       " ['0632-06-08'],\n",
       " [],\n",
       " [],\n",
       " ['dersu_uzala_(1975_film)',\n",
       "  'sanjuro',\n",
       "  'sanshiro_sugata',\n",
       "  'sanshiro_sugata_part_ii',\n",
       "  'one_wonderful_sunday',\n",
       "  'the_bad_sleep_well',\n",
       "  'ran_(film)',\n",
       "  'rashomon',\n",
       "  'red_beard',\n",
       "  'rhapsody_in_august',\n",
       "  'the_hidden_fortress',\n",
       "  'the_idiot_(1951_film)',\n",
       "  'the_lower_depths_(1957_film)',\n",
       "  \"the_men_who_tread_on_the_tiger's_tail\",\n",
       "  'the_most_beautiful',\n",
       "  'no_regrets_for_our_youth',\n",
       "  'scandal_(1950_film)',\n",
       "  'stray_dog_(film)',\n",
       "  \"dodes'ka-den\",\n",
       "  'dreams_(1990_film)',\n",
       "  'drunken_angel',\n",
       "  'the_quiet_duel',\n",
       "  'those_who_make_tomorrow',\n",
       "  'high_and_low_(1963_film)',\n",
       "  'madadayo',\n",
       "  'throne_of_blood',\n",
       "  'kagemusha',\n",
       "  'seven_samurai',\n",
       "  'i_live_in_fear',\n",
       "  'ikiru',\n",
       "  'yojimbo'],\n",
       " [],\n",
       " ['http://en.wikipedia.org/wiki/alyssa_milano',\n",
       "  'http://en.wikipedia.org/wiki/ted_king_(actor)',\n",
       "  'http://en.wikipedia.org/wiki/brian_krause',\n",
       "  'http://en.wikipedia.org/wiki/holly_marie_combs',\n",
       "  'http://en.wikipedia.org/wiki/dorian_gregory',\n",
       "  'http://en.wikipedia.org/wiki/drew_fuller',\n",
       "  'http://en.wikipedia.org/wiki/greg_vaughan',\n",
       "  'http://en.wikipedia.org/wiki/julian_mcmahon',\n",
       "  'http://en.wikipedia.org/wiki/kaley_cuoco',\n",
       "  'http://en.wikipedia.org/wiki/shannen_doherty',\n",
       "  'http://en.wikipedia.org/wiki/rose_mcgowan'],\n",
       " [],\n",
       " ['ERROR ERROR ERROR'],\n",
       " [],\n",
       " [],\n",
       " [],\n",
       " ['ERROR ERROR ERROR'],\n",
       " ['frederica_of_hanover', 'paul_of_greece'],\n",
       " [],\n",
       " [],\n",
       " [],\n",
       " ['ERROR ERROR ERROR'],\n",
       " ['ERROR ERROR ERROR'],\n",
       " [],\n",
       " [],\n",
       " ['0'],\n",
       " [],\n",
       " [],\n",
       " [],\n",
       " ['0'],\n",
       " [],\n",
       " ['the_tolkien_reader', '241127964'],\n",
       " [],\n",
       " ['https://www.aus.com/',\n",
       "  'https://www.walmart.com/%7cwalmart.com',\n",
       "  'http://www.bundespost.de/',\n",
       "  'https://www.dpdhl.com/',\n",
       "  'https://www.honhai.com/en-us/',\n",
       "  'http://www.sahara.in/',\n",
       "  'https://www.tcs.com/',\n",
       "  'https://www.tata.com/%7ctata.com',\n",
       "  'http://www.marykay.com/',\n",
       "  'http://www.randstad.com/',\n",
       "  'http://inspirebrands.com',\n",
       "  'https://www.mhi.com/%7cmhi.com',\n",
       "  'http://www.onoff.se',\n",
       "  'https://www.accenture.com',\n",
       "  'https://www.12306.cn/en/index.html%7ccustomer',\n",
       "  'https://www.ritek.com/',\n",
       "  'http://www.petrochina.com.cn/ptr/',\n",
       "  'http://www.sgcc.com.cn',\n",
       "  'http://www.indianrailways.gov.in',\n",
       "  'http://www.sinopecgroup.com/group/en/',\n",
       "  'https://eng.rzd.ru/'],\n",
       " []]"
      ]
     },
     "execution_count": 49,
     "metadata": {},
     "output_type": "execute_result"
    }
   ],
   "source": [
    "chatgpt_query_results_terms"
   ]
  },
  {
   "cell_type": "code",
   "execution_count": 50,
   "id": "373b77a4-f4db-4205-87a6-0f30197398b0",
   "metadata": {},
   "outputs": [
    {
     "data": {
      "text/plain": [
       "question_text                                                                                                                                                                                        What is the time zone of Salt Lake City?\n",
       "sparql_query                                              PREFIX res: <http://dbpedia.org/resource/> PREFIX dbp: <http://dbpedia.org/property/> SELECT DISTINCT ?uri WHERE { res:Salt_Lake_City <http://dbpedia.org/ontology/timeZone> ?uri }\n",
       "chatgpt_train_1fewshot_query                                                                                     SELECT ?timezone WHERE {   <http://dbpedia.org/resource/Salt_Lake_City> <http://dbpedia.org/ontology/timeZone> ?timezone . }\n",
       "gold_query_results_DBpedia_2023_03                {'head': {'link': [], 'vars': ['uri']}, 'results': {'distinct': False, 'ordered': True, 'bindings': [{'uri': {'type': 'uri', 'value': 'http://dbpedia.org/resource/Mountain_Time_Zone'}}]}}\n",
       "chatgpt_train_1fewshot_query_results    {'head': {'link': [], 'vars': ['timezone']}, 'results': {'distinct': False, 'ordered': True, 'bindings': [{'timezone': {'type': 'uri', 'value': 'http://dbpedia.org/resource/Mountain_Time_Zone'}}]}}\n",
       "Name: 0, dtype: object"
      ]
     },
     "execution_count": 50,
     "metadata": {},
     "output_type": "execute_result"
    }
   ],
   "source": [
    "pd.set_option('display.max_colwidth', None)\n",
    "test.iloc[0][['question_text', 'sparql_query', 'chatgpt_train_1fewshot_query', 'gold_query_results_DBpedia_2023_03', \\\n",
    "               'chatgpt_train_1fewshot_query_results']]"
   ]
  },
  {
   "cell_type": "code",
   "execution_count": 51,
   "id": "570c1651-4a60-4fe5-9b4a-da7c94c62981",
   "metadata": {},
   "outputs": [],
   "source": [
    "# Evaluate the precision and recall based on the total numbers of \n",
    "# gold answers and predicted answers\n",
    "predicted = 0\n",
    "gold = 0\n",
    "predicted_correct = 0\n",
    "some_matched = {}\n",
    "pre_gold_lengths = []\n",
    "for idx, pred_terms in enumerate(chatgpt_query_results_terms):\n",
    "    \n",
    "    gold_terms = query_results_terms[idx]\n",
    "    \n",
    "    predicted +=  len(pred_terms)\n",
    "    gold += len(gold_terms)\n",
    "    \n",
    "    pre_gold_lengths.append((idx, len(pred_terms), len(gold_terms)))\n",
    "    \n",
    "    if (len(pred_terms) > 0) and (len(gold_terms) > 0):\n",
    "        predicted_correct_idx = False\n",
    "        for pterm in pred_terms:\n",
    "            if len(pterm) > 0: # skip an empty string\n",
    "                for gterm in gold_terms:\n",
    "                    if len(gterm) > 0:\n",
    "                        #if pterm ==  gterm:\n",
    "                        pterm = pterm.replace(\"_\", \" \")\n",
    "                        gterm = gterm.replace(\"_\", \" \")\n",
    "                        if (pterm in gterm) or (gterm in pterm):\n",
    "                            predicted_correct_idx = True\n",
    "                            predicted_correct += 1\n",
    "                            #break # this pterm is a correct prediction, skip to next pterm\n",
    "                                    # don't double count this pterm anymore\n",
    "\n",
    "        some_matched[idx] = predicted_correct_idx"
   ]
  },
  {
   "cell_type": "code",
   "execution_count": 52,
   "id": "b7effd60-5af5-465a-9405-fab44bbbb160",
   "metadata": {
    "tags": []
   },
   "outputs": [
    {
     "data": {
      "text/plain": [
       "[(0, 1, 1),\n",
       " (1, 0, 12),\n",
       " (2, 1, 1),\n",
       " (3, 1, 2),\n",
       " (4, 0, 0),\n",
       " (5, 0, 1),\n",
       " (6, 3, 4),\n",
       " (7, 0, 1),\n",
       " (8, 0, 1),\n",
       " (9, 0, 1),\n",
       " (10, 0, 1),\n",
       " (11, 0, 5),\n",
       " (12, 48, 48),\n",
       " (13, 1, 85),\n",
       " (14, 0, 1),\n",
       " (15, 1, 1),\n",
       " (16, 0, 0),\n",
       " (17, 0, 61),\n",
       " (18, 1, 1),\n",
       " (19, 0, 0),\n",
       " (20, 1, 1),\n",
       " (21, 0, 0),\n",
       " (22, 0, 0),\n",
       " (23, 1, 1714),\n",
       " (24, 1, 1),\n",
       " (25, 0, 1),\n",
       " (26, 0, 1),\n",
       " (27, 0, 1),\n",
       " (28, 0, 0),\n",
       " (29, 1, 1),\n",
       " (30, 1, 1),\n",
       " (31, 0, 0),\n",
       " (32, 0, 10),\n",
       " (33, 0, 0),\n",
       " (34, 0, 1),\n",
       " (35, 26, 26),\n",
       " (36, 0, 2),\n",
       " (37, 0, 1),\n",
       " (38, 0, 3),\n",
       " (39, 0, 0),\n",
       " (40, 1, 1),\n",
       " (41, 1, 1),\n",
       " (42, 1, 1),\n",
       " (43, 0, 0),\n",
       " (44, 26, 26),\n",
       " (45, 1, 1),\n",
       " (46, 0, 1),\n",
       " (47, 1, 0),\n",
       " (48, 1, 1),\n",
       " (49, 0, 0),\n",
       " (50, 0, 1),\n",
       " (51, 0, 1),\n",
       " (52, 0, 197),\n",
       " (53, 0, 1),\n",
       " (54, 1, 1),\n",
       " (55, 0, 1),\n",
       " (56, 0, 15),\n",
       " (57, 2, 2),\n",
       " (58, 0, 4),\n",
       " (59, 1, 0),\n",
       " (60, 0, 0),\n",
       " (61, 1, 1),\n",
       " (62, 0, 0),\n",
       " (63, 1, 1),\n",
       " (64, 0, 0),\n",
       " (65, 0, 164),\n",
       " (66, 1, 1),\n",
       " (67, 0, 1),\n",
       " (68, 1, 1),\n",
       " (69, 37, 36),\n",
       " (70, 0, 10),\n",
       " (71, 74, 74),\n",
       " (72, 8, 8),\n",
       " (73, 1, 20),\n",
       " (74, 43, 44),\n",
       " (75, 0, 1),\n",
       " (76, 0, 0),\n",
       " (77, 0, 1),\n",
       " (78, 0, 1),\n",
       " (79, 55, 55),\n",
       " (80, 42, 42),\n",
       " (81, 0, 1),\n",
       " (82, 2, 0),\n",
       " (83, 0, 0),\n",
       " (84, 0, 2),\n",
       " (85, 0, 1),\n",
       " (86, 11, 11),\n",
       " (87, 0, 26),\n",
       " (88, 0, 0),\n",
       " (89, 0, 0),\n",
       " (90, 0, 121),\n",
       " (91, 1, 0),\n",
       " (92, 0, 1),\n",
       " (93, 0, 0),\n",
       " (94, 1, 0),\n",
       " (95, 22, 22),\n",
       " (96, 0, 1),\n",
       " (97, 0, 4),\n",
       " (98, 0, 1),\n",
       " (99, 0, 0),\n",
       " (100, 0, 6),\n",
       " (101, 0, 32),\n",
       " (102, 2, 1),\n",
       " (103, 0, 9),\n",
       " (104, 1, 1),\n",
       " (105, 0, 0),\n",
       " (106, 1, 1),\n",
       " (107, 0, 0),\n",
       " (108, 0, 0),\n",
       " (109, 1, 1),\n",
       " (110, 0, 0),\n",
       " (111, 0, 1),\n",
       " (112, 0, 1),\n",
       " (113, 0, 0),\n",
       " (114, 0, 1),\n",
       " (115, 0, 280),\n",
       " (116, 17, 28),\n",
       " (117, 0, 1),\n",
       " (118, 0, 1),\n",
       " (119, 0, 0),\n",
       " (120, 1, 1),\n",
       " (121, 0, 8),\n",
       " (122, 0, 2),\n",
       " (123, 31, 31),\n",
       " (124, 0, 2),\n",
       " (125, 11, 0),\n",
       " (126, 0, 1),\n",
       " (127, 1, 10),\n",
       " (128, 0, 1),\n",
       " (129, 0, 2),\n",
       " (130, 0, 1),\n",
       " (131, 1, 0),\n",
       " (132, 2, 0),\n",
       " (133, 0, 1),\n",
       " (134, 0, 1),\n",
       " (135, 0, 6),\n",
       " (136, 1, 0),\n",
       " (137, 1, 0),\n",
       " (138, 0, 1),\n",
       " (139, 0, 0),\n",
       " (140, 1, 1),\n",
       " (141, 0, 0),\n",
       " (142, 0, 65),\n",
       " (143, 0, 220),\n",
       " (144, 1, 1),\n",
       " (145, 0, 2),\n",
       " (146, 2, 1),\n",
       " (147, 0, 1),\n",
       " (148, 21, 30),\n",
       " (149, 0, 3)]"
      ]
     },
     "execution_count": 52,
     "metadata": {},
     "output_type": "execute_result"
    }
   ],
   "source": [
    "pre_gold_lengths"
   ]
  },
  {
   "cell_type": "code",
   "execution_count": 53,
   "id": "822fbc70-0c4b-44b6-a028-985d96ac4e51",
   "metadata": {},
   "outputs": [
    {
     "data": {
      "text/plain": [
       "0.836852207293666"
      ]
     },
     "execution_count": 53,
     "metadata": {},
     "output_type": "execute_result"
    }
   ],
   "source": [
    "precision = predicted_correct / (predicted)\n",
    "precision"
   ]
  },
  {
   "cell_type": "code",
   "execution_count": 54,
   "id": "2d0193a7-0f0e-4d0a-9010-9b8b0a9a4ebe",
   "metadata": {
    "tags": []
   },
   "outputs": [
    {
     "data": {
      "text/plain": [
       "question_text                                                                                                                                                                                                                                                                                                                                                                                                                  Give me all Argentine films.\n",
       "sparql_query                    PREFIX dbo: <http://dbpedia.org/ontology/> PREFIX yago: <http://dbpedia.org/class/yago/> PREFIX res: <http://dbpedia.org/resource/> PREFIX dbp: <http://dbpedia.org/property/> PREFIX rdf: <http://www.w3.org/1999/02/22-rdf-syntax-ns#> SELECT DISTINCT ?uri WHERE { { ?uri rdf:type yago:ArgentineFilms } UNION { ?uri rdf:type dbo:Film { ?uri dbo:country res:Argentina } UNION { ?uri dbp:country \"Argentina\"@en } } }\n",
       "chatgpt_train_1fewshot_query                                                                                                                                                                                                                                                                                    PREFIX dbo: <http://dbpedia.org/ontology/> SELECT DISTINCT ?uri  WHERE {    ?uri rdf:type dbo:Film ;         dbo:country res:Argentina .  }\n",
       "Name: 23, dtype: object"
      ]
     },
     "execution_count": 54,
     "metadata": {},
     "output_type": "execute_result"
    }
   ],
   "source": [
    "test.iloc[23][['question_text', 'sparql_query', 'chatgpt_train_1fewshot_query']]"
   ]
  },
  {
   "cell_type": "code",
   "execution_count": 55,
   "id": "ad8b77cb-78ae-4d7b-90e1-2568197d1638",
   "metadata": {},
   "outputs": [
    {
     "data": {
      "text/plain": [
       "0.11932129173508484"
      ]
     },
     "execution_count": 55,
     "metadata": {},
     "output_type": "execute_result"
    }
   ],
   "source": [
    "recall = predicted_correct/gold\n",
    "recall"
   ]
  },
  {
   "cell_type": "code",
   "execution_count": 56,
   "id": "fa5b2625-993e-4a81-83e8-c8012e429266",
   "metadata": {},
   "outputs": [
    {
     "data": {
      "text/plain": [
       "0.2088622754491018"
      ]
     },
     "execution_count": 56,
     "metadata": {},
     "output_type": "execute_result"
    }
   ],
   "source": [
    "f1 = 2 / (1/precision + 1/recall)\n",
    "f1"
   ]
  },
  {
   "cell_type": "code",
   "execution_count": 57,
   "id": "dcbd1f65-b159-4442-9938-bd81bbc4d719",
   "metadata": {},
   "outputs": [
    {
     "name": "stdout",
     "output_type": "stream",
     "text": [
      "adj_precision:0.8384615384615385,\n",
      "adj_recall:0.22474226804123712,\n",
      "adj_f1:0.3544715447154471\n"
     ]
    },
    {
     "data": {
      "text/plain": [
       "(436, 521, 3654)"
      ]
     },
     "execution_count": 57,
     "metadata": {},
     "output_type": "execute_result"
    }
   ],
   "source": [
    "adj_precision = predicted_correct / (predicted - 1)\n",
    "adj_recall = predicted_correct/ (gold - 1714)\n",
    "adj_f1 = 2 / (1/adj_precision +  1/adj_recall)\n",
    "print('adj_precision:{},\\nadj_recall:{},\\nadj_f1:{}'.format(adj_precision, adj_recall, adj_f1))\n",
    "predicted_correct, predicted, gold"
   ]
  },
  {
   "cell_type": "code",
   "execution_count": 58,
   "id": "1aa98901-5c2c-4c08-b2cc-7213758db3f9",
   "metadata": {},
   "outputs": [],
   "source": [
    "# Evaluate the precision and recall based on the total numbers of test questions\n",
    "count = 0 # total num of questions\n",
    "\n",
    "predicted_question = {} # dictionary from question to whether it was correctly predicted\n",
    "some_matched = {} # dictionary from question to how much is was correctly predicted \n",
    "\n",
    "# iterate each question to retrieve the set of predicted terms for a question\n",
    "for idx, pred_terms in enumerate(chatgpt_query_results_terms):\n",
    "    \n",
    "    # the set of correct terms for this questions\n",
    "    gold_terms = query_results_terms[idx]\n",
    "    \n",
    "    # increment the number of questions\n",
    "    count += 1\n",
    "    \n",
    "    # flag: assuming this question has not predicted yet\n",
    "    predicted_correct_idx = False\n",
    "\n",
    "    if (len(pred_terms) > 0) and (len(gold_terms) > 0):\n",
    "        predicted_correct = 0\n",
    "        predicted_correct_idx = False\n",
    "        # iterate through the set of predicted terms for this question\n",
    "        for pterm in pred_terms:\n",
    "            if len(pterm) > 0: # skip an empty string\n",
    "                for gterm in gold_terms:\n",
    "                    if len(gterm) > 0:\n",
    "                        #if pterm ==  gterm:\n",
    "                        # normalize both predicted and correct terms for comparison\n",
    "                        pterm = pterm.replace(\"_\", \" \")\n",
    "                        gterm = gterm.replace(\"_\", \" \")\n",
    "                        # if the predicted term is correct, mark the question is predicted correctly\n",
    "                        # and count the number of correctly predicted terms\n",
    "                        if (pterm in gterm) or (gterm in pterm):\n",
    "                            #if pterm == gterm:\n",
    "                            predicted_correct_idx = True\n",
    "                            predicted_correct += 1\n",
    "\n",
    "        predicted_question[idx] = predicted_correct_idx\n",
    "        some_matched[idx] = predicted_correct / len(gold_terms)\n",
    "\n",
    "    # if both predicted and correct results are empty\n",
    "    elif (len(pred_terms) == 0) and (len(gold_terms) == 0):\n",
    "        predicted_question[idx] = True\n",
    "        some_matched[idx] = 1\n",
    "    # incorrectly predicted if one of them is empty\n",
    "    else:\n",
    "        predicted_question[idx] = False\n",
    "        some_matched[idx] = 0"
   ]
  },
  {
   "cell_type": "code",
   "execution_count": 59,
   "id": "5306b835-89ba-42ba-94d6-7eeec89dd077",
   "metadata": {},
   "outputs": [
    {
     "data": {
      "text/plain": [
       "59"
      ]
     },
     "execution_count": 59,
     "metadata": {},
     "output_type": "execute_result"
    }
   ],
   "source": [
    "# total predicted questions if one of predicted result is correct\n",
    "total_predicted_questions = sum(list(predicted_question.values()))\n",
    "total_predicted_questions"
   ]
  },
  {
   "cell_type": "code",
   "execution_count": 60,
   "id": "299363c5-af93-4a4f-8e37-bff071f96136",
   "metadata": {},
   "outputs": [
    {
     "data": {
      "text/plain": [
       "58.60163734115348"
      ]
     },
     "execution_count": 60,
     "metadata": {},
     "output_type": "execute_result"
    }
   ],
   "source": [
    "# total predicted questions by adding up all predicted percentage\n",
    "total_matched = 0\n",
    "for k in some_matched:\n",
    "    if some_matched[k]:\n",
    "        total_matched += some_matched[k]\n",
    "total_matched"
   ]
  },
  {
   "cell_type": "code",
   "execution_count": 61,
   "id": "ff9fd9d8-c277-4469-9064-46b136a85e13",
   "metadata": {},
   "outputs": [
    {
     "data": {
      "text/plain": [
       "54.0"
      ]
     },
     "execution_count": 61,
     "metadata": {},
     "output_type": "execute_result"
    }
   ],
   "source": [
    "# total predicted questions if the set of predicted answers equals to the set of correct answers\n",
    "total = 0\n",
    "for k in some_matched:\n",
    "    if some_matched[k] == 1:\n",
    "        total += some_matched[k]\n",
    "total"
   ]
  },
  {
   "cell_type": "code",
   "execution_count": 62,
   "id": "d24df646-560a-4307-a156-5906a24cedb8",
   "metadata": {},
   "outputs": [
    {
     "data": {
      "text/plain": [
       "(0.3933333333333333, 0.39066666666666666, 0.36)"
      ]
     },
     "execution_count": 62,
     "metadata": {},
     "output_type": "execute_result"
    }
   ],
   "source": [
    "# prediction, recall, and f1-score\n",
    "59/150, 58.6/150, 54/150"
   ]
  },
  {
   "cell_type": "markdown",
   "id": "dce5b002-ed8e-40b8-bcd9-a8312e1e50ee",
   "metadata": {},
   "source": [
    "### Evaluate chatgpt_train_3fewshot_query_results"
   ]
  },
  {
   "cell_type": "code",
   "execution_count": 63,
   "id": "41088924-13ae-4992-84a3-91f07bdd920a",
   "metadata": {
    "tags": []
   },
   "outputs": [
    {
     "name": "stdout",
     "output_type": "stream",
     "text": [
      "{'head': {'link': []}, 'boolean': False}\n",
      "{'head': {'link': []}, 'boolean': True}\n"
     ]
    }
   ],
   "source": [
    "# retrieve chatgpt train 3fewshot query results\n",
    "import ast\n",
    "\n",
    "chatgpt_query_results_terms = []\n",
    "count = 0\n",
    "for idx, row in test.iterrows():\n",
    "    try:\n",
    "        #bindings = row['chatgpt_train_1fewshot_query_results']['results']['bindings']\n",
    "        bindings = ast.literal_eval(row['chatgpt_train_3fewshot_query_results'])['results']['bindings']\n",
    "\n",
    "        answer_list = []\n",
    "        for item in bindings:\n",
    "            for k in item:\n",
    "                answer_list.append(item[k]['value'])\n",
    "\n",
    "        terms = []\n",
    "        for ans in answer_list:\n",
    "            terms.append(ans.replace('http://dbpedia.org/resource/', '').replace('dbo:', '').strip().lower())\n",
    "        #if terms not in answer_terms:\n",
    "        chatgpt_query_results_terms.append(terms)\n",
    "    except TypeError:\n",
    "        chatgpt_query_results_terms.append(['ERROR ERROR ERROR'])\n",
    "    except SyntaxError:\n",
    "        chatgpt_query_results_terms.append(['ERROR ERROR ERROR'])\n",
    "              \n",
    "    except:\n",
    "        print(row['chatgpt_train_3fewshot_query_results'])\n",
    "        #ex_ans = row['chatgpt_train_1fewshot_query_results']['boolean']\n",
    "        ex_ans = ast.literal_eval(row['chatgpt_train_3fewshot_query_results'])['boolean']\n",
    "        if ex_ans:\n",
    "            chatgpt_query_results_terms.append([str(ex_ans).lower()])\n",
    "        else:\n",
    "            chatgpt_query_results_terms.append([])\n",
    "        count += 1"
   ]
  },
  {
   "cell_type": "code",
   "execution_count": 64,
   "id": "911d3c67-d24a-41e7-b2af-0725f30f0218",
   "metadata": {
    "tags": []
   },
   "outputs": [
    {
     "data": {
      "text/plain": [
       "['pinta_(ship)', 'niña', 'santa_maría_(ship)']"
      ]
     },
     "execution_count": 64,
     "metadata": {},
     "output_type": "execute_result"
    }
   ],
   "source": [
    "query_results_terms[149]"
   ]
  },
  {
   "cell_type": "code",
   "execution_count": 65,
   "id": "67a84f68-3b05-40de-bae2-d2c9161f39b6",
   "metadata": {},
   "outputs": [],
   "source": [
    "# Evaluate the precision and recall based on the total numbers of \n",
    "# gold answers and predicted answers\n",
    "predicted = 0\n",
    "gold = 0\n",
    "predicted_correct = 0\n",
    "some_matched = {}\n",
    "pre_gold_lengths = []\n",
    "for idx, pred_terms in enumerate(chatgpt_query_results_terms):\n",
    "    \n",
    "    gold_terms = query_results_terms[idx]\n",
    "    \n",
    "    predicted +=  len(pred_terms)\n",
    "    gold += len(gold_terms)\n",
    "    \n",
    "    pre_gold_lengths.append((idx, len(pred_terms), len(gold_terms)))\n",
    "    \n",
    "    if (len(pred_terms) > 0) and (len(gold_terms) > 0):\n",
    "        predicted_correct_idx = False\n",
    "        for pterm in pred_terms:\n",
    "            if len(pterm) > 0: # skip an empty string\n",
    "                for gterm in gold_terms:\n",
    "                    if len(gterm) > 0:\n",
    "                        #if pterm ==  gterm:\n",
    "                        pterm = pterm.replace(\"_\", \" \")\n",
    "                        gterm = gterm.replace(\"_\", \" \")\n",
    "                        if (pterm in gterm) or (gterm in pterm):\n",
    "                            predicted_correct_idx = True\n",
    "                            predicted_correct += 1\n",
    "                            #break # this pterm is a correct prediction, skip to next pterm\n",
    "                                    # don't double count this pterm anymore\n",
    "\n",
    "        some_matched[idx] = predicted_correct_idx"
   ]
  },
  {
   "cell_type": "code",
   "execution_count": 66,
   "id": "5ca812a8-d285-4d3f-a819-5b9455e41786",
   "metadata": {},
   "outputs": [
    {
     "data": {
      "text/plain": [
       "0.96"
      ]
     },
     "execution_count": 66,
     "metadata": {},
     "output_type": "execute_result"
    }
   ],
   "source": [
    "precision = predicted_correct / (predicted)\n",
    "precision"
   ]
  },
  {
   "cell_type": "code",
   "execution_count": 67,
   "id": "375e22cb-cddf-46ce-95b2-6d92b1987557",
   "metadata": {},
   "outputs": [
    {
     "data": {
      "text/plain": [
       "0.17733990147783252"
      ]
     },
     "execution_count": 67,
     "metadata": {},
     "output_type": "execute_result"
    }
   ],
   "source": [
    "recall = predicted_correct/gold\n",
    "recall"
   ]
  },
  {
   "cell_type": "code",
   "execution_count": 68,
   "id": "a8acceba-734a-42f8-a5af-dd354ad8f4d0",
   "metadata": {},
   "outputs": [
    {
     "data": {
      "text/plain": [
       "0.2993762993762994"
      ]
     },
     "execution_count": 68,
     "metadata": {},
     "output_type": "execute_result"
    }
   ],
   "source": [
    "f1 = 2 / (1/precision + 1/recall)\n",
    "f1"
   ]
  },
  {
   "cell_type": "code",
   "execution_count": 69,
   "id": "8005a97e-2085-4cff-8b91-716732bb68fc",
   "metadata": {},
   "outputs": [
    {
     "name": "stdout",
     "output_type": "stream",
     "text": [
      "adj_precision:0.9379310344827586,\n",
      "adj_recall:0.21030927835051547,\n",
      "adj_f1:0.34357894736842104\n"
     ]
    },
    {
     "data": {
      "text/plain": [
       "(648, 675, 3654)"
      ]
     },
     "execution_count": 69,
     "metadata": {},
     "output_type": "execute_result"
    }
   ],
   "source": [
    "adj_precision = (predicted_correct-240) / (predicted-240)\n",
    "adj_recall = (predicted_correct-240)/ (gold - 1714)\n",
    "adj_f1 = 2 / (1/adj_precision +  1/adj_recall)\n",
    "print('adj_precision:{},\\nadj_recall:{},\\nadj_f1:{}'.format(adj_precision, adj_recall, adj_f1))\n",
    "predicted_correct, predicted, gold"
   ]
  },
  {
   "cell_type": "code",
   "execution_count": 70,
   "id": "3eccb1f7-eed9-4234-b681-45f38488da32",
   "metadata": {},
   "outputs": [],
   "source": [
    "# Evaluate the precision and recall based on the total numbers of test questions\n",
    "count = 0 # total num of questions\n",
    "\n",
    "predicted_question = {} # dictionary from question to whether it was correctly predicted\n",
    "some_matched = {} # dictionary from question to how much is was correctly predicted \n",
    "\n",
    "# iterate each question to retrieve the set of predicted terms for a question\n",
    "for idx, pred_terms in enumerate(chatgpt_query_results_terms):\n",
    "    \n",
    "    # the set of correct terms for this questions\n",
    "    gold_terms = query_results_terms[idx]\n",
    "    \n",
    "    # increment the number of questions\n",
    "    count += 1\n",
    "    \n",
    "    # flag: assuming this question has not predicted yet\n",
    "    predicted_correct_idx = False\n",
    "\n",
    "    if (len(pred_terms) > 0) and (len(gold_terms) > 0):\n",
    "        predicted_correct = 0\n",
    "        predicted_correct_idx = False\n",
    "        # iterate through the set of predicted terms for this question\n",
    "        for pterm in pred_terms:\n",
    "            if len(pterm) > 0: # skip an empty string\n",
    "                for gterm in gold_terms:\n",
    "                    if len(gterm) > 0:\n",
    "                        #if pterm ==  gterm:\n",
    "                        # normalize both predicted and correct terms for comparison\n",
    "                        pterm = pterm.replace(\"_\", \" \")\n",
    "                        gterm = gterm.replace(\"_\", \" \")\n",
    "                        # if the predicted term is correct, mark the question is predicted correctly\n",
    "                        # and count the number of correctly predicted terms\n",
    "                        if (pterm in gterm) or (gterm in pterm):\n",
    "                            #if pterm == gterm:\n",
    "                            predicted_correct_idx = True\n",
    "                            predicted_correct += 1\n",
    "\n",
    "        predicted_question[idx] = predicted_correct_idx\n",
    "        some_matched[idx] = predicted_correct / len(gold_terms)\n",
    "\n",
    "    # if both predicted and correct results are empty\n",
    "    elif (len(pred_terms) == 0) and (len(gold_terms) == 0):\n",
    "        predicted_question[idx] = True\n",
    "        some_matched[idx] = 1\n",
    "    # incorrectly predicted if one of them is empty\n",
    "    else:\n",
    "        predicted_question[idx] = False\n",
    "        some_matched[idx] = 0"
   ]
  },
  {
   "cell_type": "code",
   "execution_count": 71,
   "id": "3f9df8c6-a034-44a1-9560-944b5236fd06",
   "metadata": {},
   "outputs": [
    {
     "data": {
      "text/plain": [
       "70"
      ]
     },
     "execution_count": 71,
     "metadata": {},
     "output_type": "execute_result"
    }
   ],
   "source": [
    "# total predicted questions if one of predicted result is correct\n",
    "total_predicted_questions = sum(list(predicted_question.values()))\n",
    "total_predicted_questions"
   ]
  },
  {
   "cell_type": "code",
   "execution_count": 72,
   "id": "891c2167-5bd7-4a6a-af78-d25c5af6ab42",
   "metadata": {},
   "outputs": [
    {
     "data": {
      "text/plain": [
       "69.08981592647325"
      ]
     },
     "execution_count": 72,
     "metadata": {},
     "output_type": "execute_result"
    }
   ],
   "source": [
    "# total predicted questions by adding up all predicted percentage\n",
    "total_matched = 0\n",
    "for k in some_matched:\n",
    "    if some_matched[k]:\n",
    "        total_matched += some_matched[k]\n",
    "total_matched"
   ]
  },
  {
   "cell_type": "code",
   "execution_count": 73,
   "id": "15d01624-fc58-4153-8bff-1d839c7fbd8c",
   "metadata": {},
   "outputs": [
    {
     "data": {
      "text/plain": [
       "63.0"
      ]
     },
     "execution_count": 73,
     "metadata": {},
     "output_type": "execute_result"
    }
   ],
   "source": [
    "# total predicted questions if the set of predicted answers equals to the set of correct answers\n",
    "total = 0\n",
    "for k in some_matched:\n",
    "    if some_matched[k] == 1:\n",
    "        total += some_matched[k]\n",
    "total"
   ]
  },
  {
   "cell_type": "code",
   "execution_count": 74,
   "id": "007a41c0-aabd-4f54-bf07-cd218391ac5e",
   "metadata": {},
   "outputs": [
    {
     "data": {
      "text/plain": [
       "(0.4666666666666667, 0.46, 0.42)"
      ]
     },
     "execution_count": 74,
     "metadata": {},
     "output_type": "execute_result"
    }
   ],
   "source": [
    "# prediction, recall, and f1-score\n",
    "70/150, 69/150, 63/150"
   ]
  },
  {
   "cell_type": "markdown",
   "id": "a0c93b5b-ab6b-4bdd-8217-be98e0ba2007",
   "metadata": {},
   "source": [
    "## Use ChatGPT to translate user questions to queries by few-shot learning WITH MASKED ENTITIEs"
   ]
  },
  {
   "cell_type": "markdown",
   "id": "89abf89a-52a5-4b76-a948-ae25342acbde",
   "metadata": {},
   "source": [
    "### Evaluate the chatgpt_train_cot_fewshot_query_results"
   ]
  },
  {
   "cell_type": "code",
   "execution_count": 75,
   "id": "98c897bb-68c8-4f96-8ed6-ea4fa309d668",
   "metadata": {},
   "outputs": [
    {
     "data": {
      "text/plain": [
       "Index(['id', 'answertype', 'aggregation', 'onlydbo', 'hybrid', 'question_text',\n",
       "       'question_keywords', 'sparql_query', 'answer_head', 'answer_results',\n",
       "       'question', 'query', 'answers', 'gpt_answers_text_DBpedia-2016-04',\n",
       "       'chatgpt_answers_text_DBpedia_2016_04',\n",
       "       'gold_query_results_DBpedia_2023_03',\n",
       "       'chatgpt_answers_text_DBpedia_2023_03', 'gpt_query_DBpedia_2023_03',\n",
       "       'gpt_query_results_DBpedia_2023_03', 'chatgpt_query_DBpedia_2023_03',\n",
       "       'chatgpt_query_results_DBpedia_2023_03', 'test_question_embedding',\n",
       "       'chatgpt_train_3fewshot_query', 'chatgpt_train_3fewshot_query_results',\n",
       "       'chatgpt_train_1fewshot_query', 'chatgpt_train_1fewshot_query_results',\n",
       "       'gpt_fewshot_query', 'gpt_fewshot_query_results', 'cot',\n",
       "       'chatgpt_cot_query', 'chatgpt_cot_query_results', 'masked_question',\n",
       "       'masked_query', 'masked_cot', 'chatgpt_train_cot_fewshot_query',\n",
       "       'chatgpt_train_cot_fewshot_query_results',\n",
       "       'chatgpt_nomasked_train_cot_fewshot_query',\n",
       "       'chatgpt_nomasked_train_cot_fewshot_query_results',\n",
       "       'chatgpt_nomasked_train_only_fewshot_query',\n",
       "       'chatgpt_nomasked_train_only_fewshot_query_results',\n",
       "       'chatgpt_nomasked_train_only_3fewshot_query',\n",
       "       'chatgpt_nomasked_train_only_3fewshot_query_results', 'cot_noWordLimit',\n",
       "       'chatgpt_cot_noWordLimit_query',\n",
       "       'chatgpt_cot_noWordLimit_query_results',\n",
       "       'chatgpt_cot_query_results_2nd'],\n",
       "      dtype='object')"
      ]
     },
     "execution_count": 75,
     "metadata": {},
     "output_type": "execute_result"
    }
   ],
   "source": [
    "test.columns"
   ]
  },
  {
   "cell_type": "code",
   "execution_count": 76,
   "id": "f806cdd1-4581-4de4-b766-2e66027d44f4",
   "metadata": {},
   "outputs": [
    {
     "data": {
      "text/plain": [
       "(150, 46)"
      ]
     },
     "execution_count": 76,
     "metadata": {},
     "output_type": "execute_result"
    }
   ],
   "source": [
    "test.shape"
   ]
  },
  {
   "cell_type": "code",
   "execution_count": 77,
   "id": "72004678-d257-4f20-ad40-fcc5866b43a6",
   "metadata": {
    "tags": []
   },
   "outputs": [
    {
     "name": "stdout",
     "output_type": "stream",
     "text": [
      "{'head': {'link': []}, 'boolean': True}\n",
      "{'head': {'link': []}, 'boolean': True}\n",
      "{'head': {'link': []}, 'boolean': True}\n",
      "{'head': {'link': []}, 'boolean': True}\n"
     ]
    }
   ],
   "source": [
    "# retrieve query results\n",
    "import ast\n",
    "\n",
    "query_results_terms = []\n",
    "count = 0\n",
    "for idx, row in test.iterrows():\n",
    "    try:\n",
    "        bindings = ast.literal_eval(row['gold_query_results_DBpedia_2023_03'])['results']['bindings']\n",
    "\n",
    "        answer_list = []\n",
    "        for item in bindings:\n",
    "            for k in item:\n",
    "                answer_list.append(item[k]['value'])\n",
    "\n",
    "        terms = []\n",
    "        for ans in answer_list:\n",
    "            terms.append(ans.replace('http://dbpedia.org/resource/', '').replace('dbo:', '').strip().lower())\n",
    "        #if terms not in answer_terms:\n",
    "        query_results_terms.append(terms)\n",
    "              \n",
    "    except:\n",
    "        print(row['gold_query_results_DBpedia_2023_03'])\n",
    "        ex_ans = ast.literal_eval(row['gold_query_results_DBpedia_2023_03'])['boolean']\n",
    "        if ex_ans:\n",
    "            query_results_terms.append([str(ex_ans).lower()])\n",
    "        else:\n",
    "            query_results_terms.append([])\n",
    "        count += 1"
   ]
  },
  {
   "cell_type": "code",
   "execution_count": 78,
   "id": "76d1640d-5b5a-4233-a197-e87e1ccbcc6d",
   "metadata": {
    "tags": []
   },
   "outputs": [
    {
     "name": "stdout",
     "output_type": "stream",
     "text": [
      "{'head': {'link': []}, 'boolean': False}\n",
      "{'head': {'link': []}, 'boolean': False}\n",
      "{'head': {'link': []}, 'boolean': True}\n"
     ]
    }
   ],
   "source": [
    "# retrieve chatgpt train 3fewshot query results\n",
    "import ast\n",
    "\n",
    "chatgpt_query_results_terms = []\n",
    "count = 0\n",
    "for idx, row in test.iterrows():\n",
    "    try:\n",
    "        #bindings = row['chatgpt_nomasked_train_cot_fewshot_query_results']['results']['bindings']\n",
    "        bindings = ast.literal_eval(row['chatgpt_nomasked_train_cot_fewshot_query_results'])['results']['bindings']\n",
    "\n",
    "        answer_list = []\n",
    "        for item in bindings:\n",
    "            for k in item:\n",
    "                answer_list.append(item[k]['value'])\n",
    "\n",
    "        terms = []\n",
    "        for ans in answer_list:\n",
    "            terms.append(ans.replace('http://dbpedia.org/resource/', '').replace('dbo:', '').strip().lower())\n",
    "        #if terms not in answer_terms:\n",
    "        chatgpt_query_results_terms.append(terms)\n",
    "    except TypeError:\n",
    "        chatgpt_query_results_terms.append(['ERROR ERROR ERROR'])\n",
    "    except SyntaxError:\n",
    "        chatgpt_query_results_terms.append(['ERROR ERROR ERROR'])\n",
    "              \n",
    "    except:\n",
    "        print(row['chatgpt_nomasked_train_cot_fewshot_query_results'])\n",
    "        #ex_ans = row['chatgpt_nomasked_train_cot_fewshot_query_results']['boolean']\n",
    "        ex_ans = ast.literal_eval(row['chatgpt_nomasked_train_cot_fewshot_query_results'])['boolean']\n",
    "        if ex_ans:\n",
    "            chatgpt_query_results_terms.append([str(ex_ans).lower()])\n",
    "        else:\n",
    "            chatgpt_query_results_terms.append([])\n",
    "        count += 1"
   ]
  },
  {
   "cell_type": "code",
   "execution_count": 79,
   "id": "23efb83a-4c39-44f0-adad-4129e14e98da",
   "metadata": {},
   "outputs": [],
   "source": [
    "# Evaluate the precision and recall based on the total numbers of \n",
    "# gold answers and predicted answers\n",
    "predicted = 0\n",
    "gold = 0\n",
    "predicted_correct = 0\n",
    "some_matched = {}\n",
    "pre_gold_lengths = []\n",
    "for idx, pred_terms in enumerate(chatgpt_query_results_terms):\n",
    "    \n",
    "    gold_terms = query_results_terms[idx]\n",
    "    \n",
    "    predicted +=  len(pred_terms)\n",
    "    gold += len(gold_terms)\n",
    "    \n",
    "    pre_gold_lengths.append((idx, len(pred_terms), len(gold_terms)))\n",
    "    \n",
    "    if (len(pred_terms) > 0) and (len(gold_terms) > 0):\n",
    "        predicted_correct_idx = False\n",
    "        for pterm in pred_terms:\n",
    "            if len(pterm) > 0: # skip an empty string\n",
    "                for gterm in gold_terms:\n",
    "                    if len(gterm) > 0:\n",
    "                        #if pterm ==  gterm:\n",
    "                        pterm = pterm.replace(\"_\", \" \")\n",
    "                        gterm = gterm.replace(\"_\", \" \")\n",
    "                        if (pterm in gterm) or (gterm in pterm):\n",
    "                            predicted_correct_idx = True\n",
    "                            predicted_correct += 1\n",
    "                            #break # this pterm is a correct prediction, skip to next pterm\n",
    "                                    # don't double count this pterm anymore\n",
    "\n",
    "        some_matched[idx] = predicted_correct_idx"
   ]
  },
  {
   "cell_type": "code",
   "execution_count": 80,
   "id": "135d8292-ec4b-4629-8708-b3324073497a",
   "metadata": {},
   "outputs": [
    {
     "data": {
      "text/plain": [
       "0.9479940564635958"
      ]
     },
     "execution_count": 80,
     "metadata": {},
     "output_type": "execute_result"
    }
   ],
   "source": [
    "precision = predicted_correct / (predicted)\n",
    "precision"
   ]
  },
  {
   "cell_type": "code",
   "execution_count": 81,
   "id": "9f9021e2-45a9-4a7f-93be-9e54a5fa386a",
   "metadata": {},
   "outputs": [
    {
     "name": "stdout",
     "output_type": "stream",
     "text": [
      "adj_precision:0.9191685912240185,\n",
      "adj_recall:0.20515463917525772,\n",
      "adj_f1:0.3354403708386009\n"
     ]
    },
    {
     "data": {
      "text/plain": [
       "(638, 673, 3654)"
      ]
     },
     "execution_count": 81,
     "metadata": {},
     "output_type": "execute_result"
    }
   ],
   "source": [
    "adj_precision = (predicted_correct-240) / (predicted - 240)\n",
    "adj_recall = (predicted_correct-240) / (gold - 1714)\n",
    "adj_f1 = 2 / (1/adj_precision +  1/adj_recall)\n",
    "print('adj_precision:{},\\nadj_recall:{},\\nadj_f1:{}'.format(adj_precision, adj_recall, adj_f1))\n",
    "predicted_correct, predicted, gold"
   ]
  },
  {
   "cell_type": "code",
   "execution_count": 82,
   "id": "26f0e6a1-3957-4f48-a91f-09f93de9a8c5",
   "metadata": {},
   "outputs": [],
   "source": [
    "# Evaluate the precision and recall based on the total numbers of test questions\n",
    "count = 0\n",
    "predicted_correct = 0\n",
    "some_matched = {}\n",
    "for idx, pred_terms in enumerate(chatgpt_query_results_terms):\n",
    "    gold_terms = query_results_terms[idx]\n",
    "    \n",
    "    count += 1\n",
    "    \n",
    "    if (len(pred_terms) > 0) and (len(gold_terms) > 0):\n",
    "        predicted_correct_idx = False\n",
    "        for pterm in pred_terms:\n",
    "            if len(pterm) > 0: # skip an empty string\n",
    "                for gterm in gold_terms:\n",
    "                    if len(gterm) > 0:\n",
    "                        #if pterm ==  gterm:\n",
    "                        #pterm = pterm.replace(\"_\", \" \")\n",
    "                        #gterm = gterm.replace(\"_\", \" \")\n",
    "                        if not predicted_correct_idx:\n",
    "                            #if (pterm in gterm) or (gterm in pterm):\n",
    "                            if pterm == gterm:\n",
    "                                predicted_correct_idx = True\n",
    "                                predicted_correct += 1\n",
    "                        else:\n",
    "                            pass\n",
    "                \n",
    "        some_matched[idx] = predicted_correct_idx\n",
    "    elif (len(pred_terms) == 0) and (len(gold_terms) == 0):\n",
    "        predicted_correct += 1\n",
    "        some_matched[idx] = True"
   ]
  },
  {
   "cell_type": "code",
   "execution_count": 83,
   "id": "fd885cc9-d031-45c0-8541-a9e292d77b27",
   "metadata": {},
   "outputs": [
    {
     "data": {
      "text/plain": [
       "71"
      ]
     },
     "execution_count": 83,
     "metadata": {},
     "output_type": "execute_result"
    }
   ],
   "source": [
    "total = 0\n",
    "for k in some_matched:\n",
    "    if some_matched[k]:\n",
    "        total += 1\n",
    "total"
   ]
  },
  {
   "cell_type": "code",
   "execution_count": 84,
   "id": "25fa7e76-2756-4f10-851c-69bb35f96227",
   "metadata": {},
   "outputs": [
    {
     "data": {
      "text/plain": [
       "0.47333333333333333"
      ]
     },
     "execution_count": 84,
     "metadata": {},
     "output_type": "execute_result"
    }
   ],
   "source": [
    "precision = predicted_correct / count\n",
    "precision"
   ]
  },
  {
   "cell_type": "code",
   "execution_count": 85,
   "id": "b36cb2ce-9930-4dac-8c51-be3a76b29f0a",
   "metadata": {},
   "outputs": [
    {
     "data": {
      "text/plain": [
       "0.47333333333333333"
      ]
     },
     "execution_count": 85,
     "metadata": {},
     "output_type": "execute_result"
    }
   ],
   "source": [
    "recall = predicted_correct/count\n",
    "recall"
   ]
  },
  {
   "cell_type": "code",
   "execution_count": 86,
   "id": "98439763-e882-49ed-abe1-f3ed25da393e",
   "metadata": {},
   "outputs": [
    {
     "data": {
      "text/plain": [
       "0.4733333333333334"
      ]
     },
     "execution_count": 86,
     "metadata": {},
     "output_type": "execute_result"
    }
   ],
   "source": [
    "f1 = 2 / (1/precision + 1/recall)\n",
    "f1"
   ]
  },
  {
   "cell_type": "code",
   "execution_count": 87,
   "id": "56457645-d4c3-4194-8e28-589943c282ed",
   "metadata": {},
   "outputs": [],
   "source": [
    "# Evaluate the precision and recall based on the total numbers of test questions\n",
    "count = 0 # total num of questions\n",
    "\n",
    "predicted_question = {} # dictionary from question to whether it was correctly predicted\n",
    "some_matched = {} # dictionary from question to how much is was correctly predicted \n",
    "\n",
    "# iterate each question to retrieve the set of predicted terms for a question\n",
    "for idx, pred_terms in enumerate(chatgpt_query_results_terms):\n",
    "    \n",
    "    # the set of correct terms for this questions\n",
    "    gold_terms = query_results_terms[idx]\n",
    "    \n",
    "    # increment the number of questions\n",
    "    count += 1\n",
    "    \n",
    "    # flag: assuming this question has not predicted yet\n",
    "    predicted_correct_idx = False\n",
    "\n",
    "    if (len(pred_terms) > 0) and (len(gold_terms) > 0):\n",
    "        predicted_correct = 0\n",
    "        predicted_correct_idx = False\n",
    "        # iterate through the set of predicted terms for this question\n",
    "        for pterm in pred_terms:\n",
    "            if len(pterm) > 0: # skip an empty string\n",
    "                for gterm in gold_terms:\n",
    "                    if len(gterm) > 0:\n",
    "                        #if pterm ==  gterm:\n",
    "                        # normalize both predicted and correct terms for comparison\n",
    "                        pterm = pterm.replace(\"_\", \" \")\n",
    "                        gterm = gterm.replace(\"_\", \" \")\n",
    "                        # if the predicted term is correct, mark the question is predicted correctly\n",
    "                        # and count the number of correctly predicted terms\n",
    "                        if (pterm in gterm) or (gterm in pterm):\n",
    "                            #if pterm == gterm:\n",
    "                            predicted_correct_idx = True\n",
    "                            predicted_correct += 1\n",
    "\n",
    "        predicted_question[idx] = predicted_correct_idx\n",
    "        some_matched[idx] = predicted_correct / len(gold_terms)\n",
    "\n",
    "    # if both predicted and correct results are empty\n",
    "    elif (len(pred_terms) == 0) and (len(gold_terms) == 0):\n",
    "        predicted_question[idx] = True\n",
    "        some_matched[idx] = 1\n",
    "    # incorrectly predicted if one of them is empty\n",
    "    else:\n",
    "        predicted_question[idx] = False\n",
    "        some_matched[idx] = 0"
   ]
  },
  {
   "cell_type": "code",
   "execution_count": 88,
   "id": "0796f75d-88c9-4119-b58e-7a17d38bbe51",
   "metadata": {},
   "outputs": [
    {
     "data": {
      "text/plain": [
       "72"
      ]
     },
     "execution_count": 88,
     "metadata": {},
     "output_type": "execute_result"
    }
   ],
   "source": [
    "# total predicted questions if one of predicted result is correct\n",
    "total_predicted_questions = sum(list(predicted_question.values()))\n",
    "total_predicted_questions"
   ]
  },
  {
   "cell_type": "code",
   "execution_count": 89,
   "id": "200db443-c3f7-4105-b00d-1d8533d3d071",
   "metadata": {},
   "outputs": [
    {
     "data": {
      "text/plain": [
       "69.80677295318637"
      ]
     },
     "execution_count": 89,
     "metadata": {},
     "output_type": "execute_result"
    }
   ],
   "source": [
    "# total predicted questions by adding up all predicted percentage\n",
    "total_matched = 0\n",
    "for k in some_matched:\n",
    "    if some_matched[k]:\n",
    "        total_matched += some_matched[k]\n",
    "total_matched"
   ]
  },
  {
   "cell_type": "code",
   "execution_count": 90,
   "id": "1e8f046b-7015-4f55-8e54-c12f209a847f",
   "metadata": {},
   "outputs": [
    {
     "data": {
      "text/plain": [
       "66.0"
      ]
     },
     "execution_count": 90,
     "metadata": {},
     "output_type": "execute_result"
    }
   ],
   "source": [
    "# total predicted questions if the set of predicted answers equals to the set of correct answers\n",
    "total = 0\n",
    "for k in some_matched:\n",
    "    if some_matched[k] == 1:\n",
    "        total += some_matched[k]\n",
    "total"
   ]
  },
  {
   "cell_type": "code",
   "execution_count": 91,
   "id": "1e072c20-50b3-492b-9ad5-526bfcf33d08",
   "metadata": {},
   "outputs": [
    {
     "data": {
      "text/plain": [
       "(0.48, 0.46, 0.44)"
      ]
     },
     "execution_count": 91,
     "metadata": {},
     "output_type": "execute_result"
    }
   ],
   "source": [
    "# prediction, recall, and f1-score\n",
    "72/150, 69/150, 66/150"
   ]
  },
  {
   "cell_type": "markdown",
   "id": "75b2fe5f-c5e6-40fc-a2e7-c50259a44d64",
   "metadata": {},
   "source": [
    "### Evaluate the chatgpt_train_only_fewshot_query_results"
   ]
  },
  {
   "cell_type": "code",
   "execution_count": 92,
   "id": "8b11dcd3-33c9-43ef-9910-ae9c5d743616",
   "metadata": {},
   "outputs": [
    {
     "data": {
      "text/plain": [
       "Index(['id', 'answertype', 'aggregation', 'onlydbo', 'hybrid', 'question_text',\n",
       "       'question_keywords', 'sparql_query', 'answer_head', 'answer_results',\n",
       "       'question', 'query', 'answers', 'gpt_answers_text_DBpedia-2016-04',\n",
       "       'chatgpt_answers_text_DBpedia_2016_04',\n",
       "       'gold_query_results_DBpedia_2023_03',\n",
       "       'chatgpt_answers_text_DBpedia_2023_03', 'gpt_query_DBpedia_2023_03',\n",
       "       'gpt_query_results_DBpedia_2023_03', 'chatgpt_query_DBpedia_2023_03',\n",
       "       'chatgpt_query_results_DBpedia_2023_03', 'test_question_embedding',\n",
       "       'chatgpt_train_3fewshot_query', 'chatgpt_train_3fewshot_query_results',\n",
       "       'chatgpt_train_1fewshot_query', 'chatgpt_train_1fewshot_query_results',\n",
       "       'gpt_fewshot_query', 'gpt_fewshot_query_results', 'cot',\n",
       "       'chatgpt_cot_query', 'chatgpt_cot_query_results', 'masked_question',\n",
       "       'masked_query', 'masked_cot', 'chatgpt_train_cot_fewshot_query',\n",
       "       'chatgpt_train_cot_fewshot_query_results',\n",
       "       'chatgpt_nomasked_train_cot_fewshot_query',\n",
       "       'chatgpt_nomasked_train_cot_fewshot_query_results',\n",
       "       'chatgpt_nomasked_train_only_fewshot_query',\n",
       "       'chatgpt_nomasked_train_only_fewshot_query_results',\n",
       "       'chatgpt_nomasked_train_only_3fewshot_query',\n",
       "       'chatgpt_nomasked_train_only_3fewshot_query_results', 'cot_noWordLimit',\n",
       "       'chatgpt_cot_noWordLimit_query',\n",
       "       'chatgpt_cot_noWordLimit_query_results',\n",
       "       'chatgpt_cot_query_results_2nd'],\n",
       "      dtype='object')"
      ]
     },
     "execution_count": 92,
     "metadata": {},
     "output_type": "execute_result"
    }
   ],
   "source": [
    "test.columns"
   ]
  },
  {
   "cell_type": "code",
   "execution_count": 93,
   "id": "0618cc8e-95d5-4604-a71c-0b9b075d08be",
   "metadata": {},
   "outputs": [
    {
     "data": {
      "text/plain": [
       "(150, 46)"
      ]
     },
     "execution_count": 93,
     "metadata": {},
     "output_type": "execute_result"
    }
   ],
   "source": [
    "test.shape"
   ]
  },
  {
   "cell_type": "code",
   "execution_count": 94,
   "id": "f8647aaf-23e9-43ba-aafc-540ff41f2ed4",
   "metadata": {
    "tags": []
   },
   "outputs": [
    {
     "name": "stdout",
     "output_type": "stream",
     "text": [
      "{'head': {'link': []}, 'boolean': True}\n",
      "{'head': {'link': []}, 'boolean': True}\n",
      "{'head': {'link': []}, 'boolean': True}\n",
      "{'head': {'link': []}, 'boolean': True}\n"
     ]
    }
   ],
   "source": [
    "# retrieve query results\n",
    "import ast\n",
    "\n",
    "query_results_terms = []\n",
    "count = 0\n",
    "for idx, row in test.iterrows():\n",
    "    try:\n",
    "        bindings = ast.literal_eval(row['gold_query_results_DBpedia_2023_03'])['results']['bindings']\n",
    "\n",
    "        answer_list = []\n",
    "        for item in bindings:\n",
    "            for k in item:\n",
    "                answer_list.append(item[k]['value'])\n",
    "\n",
    "        terms = []\n",
    "        for ans in answer_list:\n",
    "            terms.append(ans.replace('http://dbpedia.org/resource/', '').replace('dbo:', '').strip().lower())\n",
    "        #if terms not in answer_terms:\n",
    "        query_results_terms.append(terms)\n",
    "              \n",
    "    except:\n",
    "        print(row['gold_query_results_DBpedia_2023_03'])\n",
    "        ex_ans = ast.literal_eval(row['gold_query_results_DBpedia_2023_03'])['boolean']\n",
    "        if ex_ans:\n",
    "            query_results_terms.append([str(ex_ans).lower()])\n",
    "        else:\n",
    "            query_results_terms.append([])\n",
    "        count += 1"
   ]
  },
  {
   "cell_type": "code",
   "execution_count": 95,
   "id": "a8cd6ee0-ad46-449a-9f87-2ddfda6df169",
   "metadata": {
    "tags": []
   },
   "outputs": [
    {
     "name": "stdout",
     "output_type": "stream",
     "text": [
      "{'head': {'link': []}, 'boolean': False}\n",
      "{'head': {'link': []}, 'boolean': False}\n",
      "{'head': {'link': []}, 'boolean': True}\n"
     ]
    }
   ],
   "source": [
    "# retrieve chatgpt train 3fewshot query results\n",
    "import ast\n",
    "\n",
    "chatgpt_query_results_terms = []\n",
    "count = 0\n",
    "for idx, row in test.iterrows():\n",
    "    try:\n",
    "        #bindings = row['chatgpt_nomasked_train_only_fewshot_query_results']['results']['bindings']\n",
    "        bindings = ast.literal_eval(row['chatgpt_nomasked_train_only_fewshot_query_results'])['results']['bindings']\n",
    "\n",
    "        answer_list = []\n",
    "        for item in bindings:\n",
    "            for k in item:\n",
    "                answer_list.append(item[k]['value'])\n",
    "\n",
    "        terms = []\n",
    "        for ans in answer_list:\n",
    "            terms.append(ans.replace('http://dbpedia.org/resource/', '').replace('dbo:', '').strip().lower())\n",
    "        #if terms not in answer_terms:\n",
    "        chatgpt_query_results_terms.append(terms)\n",
    "    except TypeError:\n",
    "        chatgpt_query_results_terms.append(['ERROR ERROR ERROR'])\n",
    "    except SyntaxError:\n",
    "        chatgpt_query_results_terms.append(['ERROR ERROR ERROR'])\n",
    "              \n",
    "    except:\n",
    "        print(row['chatgpt_nomasked_train_only_fewshot_query_results'])\n",
    "        #ex_ans = row['chatgpt_nomasked_train_only_fewshot_query_results']['boolean']\n",
    "        ex_ans = ast.literal_eval(row['chatgpt_nomasked_train_only_fewshot_query_results'])['boolean']\n",
    "        if ex_ans:\n",
    "            chatgpt_query_results_terms.append([str(ex_ans).lower()])\n",
    "        else:\n",
    "            chatgpt_query_results_terms.append([])\n",
    "        count += 1"
   ]
  },
  {
   "cell_type": "code",
   "execution_count": 96,
   "id": "d16c7e83-c2f1-46a9-b340-a6a5f552b478",
   "metadata": {},
   "outputs": [],
   "source": [
    "# Evaluate the precision and recall based on the total numbers of \n",
    "# gold answers and predicted answers\n",
    "predicted = 0\n",
    "gold = 0\n",
    "predicted_correct = 0\n",
    "some_matched = {}\n",
    "pre_gold_lengths = []\n",
    "for idx, pred_terms in enumerate(chatgpt_query_results_terms):\n",
    "    \n",
    "    gold_terms = query_results_terms[idx]\n",
    "    \n",
    "    predicted +=  len(pred_terms)\n",
    "    gold += len(gold_terms)\n",
    "    \n",
    "    pre_gold_lengths.append((idx, len(pred_terms), len(gold_terms)))\n",
    "    \n",
    "    if (len(pred_terms) > 0) and (len(gold_terms) > 0):\n",
    "        predicted_correct_idx = False\n",
    "        for pterm in pred_terms:\n",
    "            if len(pterm) > 0: # skip an empty string\n",
    "                for gterm in gold_terms:\n",
    "                    if len(gterm) > 0:\n",
    "                        #if pterm ==  gterm:\n",
    "                        pterm = pterm.replace(\"_\", \" \")\n",
    "                        gterm = gterm.replace(\"_\", \" \")\n",
    "                        if (pterm in gterm) or (gterm in pterm):\n",
    "                            predicted_correct_idx = True\n",
    "                            predicted_correct += 1\n",
    "                            #break # this pterm is a correct prediction, skip to next pterm\n",
    "                                    # don't double count this pterm anymore\n",
    "\n",
    "        some_matched[idx] = predicted_correct_idx"
   ]
  },
  {
   "cell_type": "code",
   "execution_count": 97,
   "id": "eef264e3-d741-4176-8f81-48d189375837",
   "metadata": {},
   "outputs": [
    {
     "data": {
      "text/plain": [
       "0.8875675675675676"
      ]
     },
     "execution_count": 97,
     "metadata": {},
     "output_type": "execute_result"
    }
   ],
   "source": [
    "precision = predicted_correct / (predicted)\n",
    "precision"
   ]
  },
  {
   "cell_type": "code",
   "execution_count": 98,
   "id": "c783fa45-e3ba-433a-bc10-f3654fb8de26",
   "metadata": {},
   "outputs": [
    {
     "data": {
      "text/plain": [
       "0.22468527640941435"
      ]
     },
     "execution_count": 98,
     "metadata": {},
     "output_type": "execute_result"
    }
   ],
   "source": [
    "recall = predicted_correct/gold\n",
    "recall"
   ]
  },
  {
   "cell_type": "code",
   "execution_count": 99,
   "id": "75ecedaf-c4b3-4d14-80b5-d962e71ae990",
   "metadata": {},
   "outputs": [
    {
     "data": {
      "text/plain": [
       "0.358593579384145"
      ]
     },
     "execution_count": 99,
     "metadata": {},
     "output_type": "execute_result"
    }
   ],
   "source": [
    "f1 = 2 / (1/precision + 1/recall)\n",
    "f1"
   ]
  },
  {
   "cell_type": "code",
   "execution_count": 100,
   "id": "e0e96902-9ed9-469b-88b9-9bc4359f0b37",
   "metadata": {},
   "outputs": [
    {
     "name": "stdout",
     "output_type": "stream",
     "text": [
      "adj_precision:0.8481751824817518,\n",
      "adj_recall:0.2994845360824742,\n",
      "adj_f1:0.44266666666666665\n"
     ]
    },
    {
     "data": {
      "text/plain": [
       "(821, 925, 3654)"
      ]
     },
     "execution_count": 100,
     "metadata": {},
     "output_type": "execute_result"
    }
   ],
   "source": [
    "adj_precision = (predicted_correct-240) / (predicted - 240)\n",
    "adj_recall = (predicted_correct-240) / (gold - 1714)\n",
    "adj_f1 = 2 / (1/adj_precision +  1/adj_recall)\n",
    "print('adj_precision:{},\\nadj_recall:{},\\nadj_f1:{}'.format(adj_precision, adj_recall, adj_f1))\n",
    "predicted_correct, predicted, gold"
   ]
  },
  {
   "cell_type": "code",
   "execution_count": 101,
   "id": "577150ca-0a68-445d-9b5f-37c69773f6e3",
   "metadata": {},
   "outputs": [],
   "source": [
    "# Evaluate the precision and recall based on the total numbers of test questions\n",
    "count = 0\n",
    "predicted_correct = 0\n",
    "some_matched = {}\n",
    "for idx, pred_terms in enumerate(chatgpt_query_results_terms):\n",
    "    gold_terms = query_results_terms[idx]\n",
    "    \n",
    "    count += 1\n",
    "    \n",
    "    if (len(pred_terms) > 0) and (len(gold_terms) > 0):\n",
    "        predicted_correct_idx = False\n",
    "        for pterm in pred_terms:\n",
    "            if len(pterm) > 0: # skip an empty string\n",
    "                for gterm in gold_terms:\n",
    "                    if len(gterm) > 0:\n",
    "                        #if pterm ==  gterm:\n",
    "                        #pterm = pterm.replace(\"_\", \" \")\n",
    "                        #gterm = gterm.replace(\"_\", \" \")\n",
    "                        if not predicted_correct_idx:\n",
    "                            #if (pterm in gterm) or (gterm in pterm):\n",
    "                            if pterm == gterm:\n",
    "                                predicted_correct_idx = True\n",
    "                                predicted_correct += 1\n",
    "                        else:\n",
    "                            pass\n",
    "                \n",
    "        some_matched[idx] = predicted_correct_idx\n",
    "    elif (len(pred_terms) == 0) and (len(gold_terms) == 0):\n",
    "        predicted_correct += 1\n",
    "        some_matched[idx] = True"
   ]
  },
  {
   "cell_type": "code",
   "execution_count": 102,
   "id": "e2b41310-644f-4e66-8389-22a9be7194cf",
   "metadata": {},
   "outputs": [
    {
     "data": {
      "text/plain": [
       "71"
      ]
     },
     "execution_count": 102,
     "metadata": {},
     "output_type": "execute_result"
    }
   ],
   "source": [
    "total = 0\n",
    "for k in some_matched:\n",
    "    if some_matched[k]:\n",
    "        total += 1\n",
    "total"
   ]
  },
  {
   "cell_type": "code",
   "execution_count": 103,
   "id": "6dcb86f6-7614-4a5a-894b-a8c4f3206582",
   "metadata": {},
   "outputs": [
    {
     "data": {
      "text/plain": [
       "0.47333333333333333"
      ]
     },
     "execution_count": 103,
     "metadata": {},
     "output_type": "execute_result"
    }
   ],
   "source": [
    "precision = predicted_correct / count\n",
    "precision"
   ]
  },
  {
   "cell_type": "code",
   "execution_count": 104,
   "id": "a600854f-cb2d-41b6-a4b2-1fca0c29d566",
   "metadata": {},
   "outputs": [
    {
     "data": {
      "text/plain": [
       "0.47333333333333333"
      ]
     },
     "execution_count": 104,
     "metadata": {},
     "output_type": "execute_result"
    }
   ],
   "source": [
    "recall = predicted_correct/count\n",
    "recall"
   ]
  },
  {
   "cell_type": "code",
   "execution_count": 105,
   "id": "40776056-2d6c-49b8-8f81-029af1af870c",
   "metadata": {},
   "outputs": [
    {
     "data": {
      "text/plain": [
       "0.4733333333333334"
      ]
     },
     "execution_count": 105,
     "metadata": {},
     "output_type": "execute_result"
    }
   ],
   "source": [
    "f1 = 2 / (1/precision + 1/recall)\n",
    "f1"
   ]
  },
  {
   "cell_type": "code",
   "execution_count": 106,
   "id": "ee42a7e9-f330-4741-9195-1cd084a806b7",
   "metadata": {},
   "outputs": [],
   "source": [
    "# Evaluate the precision and recall based on the total numbers of test questions\n",
    "count = 0 # total num of questions\n",
    "\n",
    "predicted_question = {} # dictionary from question to whether it was correctly predicted\n",
    "some_matched = {} # dictionary from question to how much is was correctly predicted \n",
    "\n",
    "# iterate each question to retrieve the set of predicted terms for a question\n",
    "for idx, pred_terms in enumerate(chatgpt_query_results_terms):\n",
    "    \n",
    "    # the set of correct terms for this questions\n",
    "    gold_terms = query_results_terms[idx]\n",
    "    \n",
    "    # increment the number of questions\n",
    "    count += 1\n",
    "    \n",
    "    # flag: assuming this question has not predicted yet\n",
    "    predicted_correct_idx = False\n",
    "\n",
    "    if (len(pred_terms) > 0) and (len(gold_terms) > 0):\n",
    "        predicted_correct = 0\n",
    "        predicted_correct_idx = False\n",
    "        # iterate through the set of predicted terms for this question\n",
    "        for pterm in pred_terms:\n",
    "            if len(pterm) > 0: # skip an empty string\n",
    "                for gterm in gold_terms:\n",
    "                    if len(gterm) > 0:\n",
    "                        #if pterm ==  gterm:\n",
    "                        # normalize both predicted and correct terms for comparison\n",
    "                        pterm = pterm.replace(\"_\", \" \")\n",
    "                        gterm = gterm.replace(\"_\", \" \")\n",
    "                        # if the predicted term is correct, mark the question is predicted correctly\n",
    "                        # and count the number of correctly predicted terms\n",
    "                        if (pterm in gterm) or (gterm in pterm):\n",
    "                            #if pterm == gterm:\n",
    "                            predicted_correct_idx = True\n",
    "                            predicted_correct += 1\n",
    "\n",
    "        predicted_question[idx] = predicted_correct_idx\n",
    "        some_matched[idx] = predicted_correct / len(gold_terms)\n",
    "\n",
    "    # if both predicted and correct results are empty\n",
    "    elif (len(pred_terms) == 0) and (len(gold_terms) == 0):\n",
    "        predicted_question[idx] = True\n",
    "        some_matched[idx] = 1\n",
    "    # incorrectly predicted if one of them is empty\n",
    "    else:\n",
    "        predicted_question[idx] = False\n",
    "        some_matched[idx] = 0"
   ]
  },
  {
   "cell_type": "code",
   "execution_count": 107,
   "id": "57e3f50f-f54b-468b-9bc4-89da27abe4ee",
   "metadata": {},
   "outputs": [
    {
     "data": {
      "text/plain": [
       "71"
      ]
     },
     "execution_count": 107,
     "metadata": {},
     "output_type": "execute_result"
    }
   ],
   "source": [
    "# total predicted questions if one of predicted result is correct\n",
    "total_predicted_questions = sum(list(predicted_question.values()))\n",
    "total_predicted_questions"
   ]
  },
  {
   "cell_type": "code",
   "execution_count": 108,
   "id": "bfe0a15a-2262-4901-b523-37425c7272ad",
   "metadata": {},
   "outputs": [
    {
     "data": {
      "text/plain": [
       "66.65113128302858"
      ]
     },
     "execution_count": 108,
     "metadata": {},
     "output_type": "execute_result"
    }
   ],
   "source": [
    "# total predicted questions by adding up all predicted percentage\n",
    "total_matched = 0\n",
    "for k in some_matched:\n",
    "    if some_matched[k]:\n",
    "        total_matched += some_matched[k]\n",
    "total_matched"
   ]
  },
  {
   "cell_type": "code",
   "execution_count": 109,
   "id": "2205a876-4645-41d7-a48b-5169ffc9cdf1",
   "metadata": {},
   "outputs": [
    {
     "data": {
      "text/plain": [
       "61.0"
      ]
     },
     "execution_count": 109,
     "metadata": {},
     "output_type": "execute_result"
    }
   ],
   "source": [
    "# total predicted questions if the set of predicted answers equals to the set of correct answers\n",
    "total = 0\n",
    "for k in some_matched:\n",
    "    if some_matched[k] == 1:\n",
    "        total += some_matched[k]\n",
    "total"
   ]
  },
  {
   "cell_type": "code",
   "execution_count": 110,
   "id": "aae45ae5-ad39-47d1-919e-c48be2f60839",
   "metadata": {},
   "outputs": [
    {
     "data": {
      "text/plain": [
       "(0.47333333333333333, 0.44, 0.4066666666666667)"
      ]
     },
     "execution_count": 110,
     "metadata": {},
     "output_type": "execute_result"
    }
   ],
   "source": [
    "# prediction, recall, and f1-score\n",
    "71/150, 66/150, 61/150"
   ]
  },
  {
   "cell_type": "markdown",
   "id": "c9f83b1e-56ff-4032-944a-4e2d0f806918",
   "metadata": {},
   "source": [
    "### Evaluate the chatgpt_train_only_3fewshot_query_results"
   ]
  },
  {
   "cell_type": "code",
   "execution_count": 111,
   "id": "631cf4f2-6fa6-4d6f-bb55-4c2b5cfb0594",
   "metadata": {
    "tags": []
   },
   "outputs": [
    {
     "name": "stdout",
     "output_type": "stream",
     "text": [
      "{'head': {'link': []}, 'boolean': True}\n",
      "{'head': {'link': []}, 'boolean': True}\n",
      "{'head': {'link': []}, 'boolean': True}\n",
      "{'head': {'link': []}, 'boolean': True}\n"
     ]
    }
   ],
   "source": [
    "# retrieve query results\n",
    "import ast\n",
    "\n",
    "query_results_terms = []\n",
    "count = 0\n",
    "for idx, row in test.iterrows():\n",
    "    try:\n",
    "        bindings = ast.literal_eval(row['gold_query_results_DBpedia_2023_03'])['results']['bindings']\n",
    "\n",
    "        answer_list = []\n",
    "        for item in bindings:\n",
    "            for k in item:\n",
    "                answer_list.append(item[k]['value'])\n",
    "\n",
    "        terms = []\n",
    "        for ans in answer_list:\n",
    "            terms.append(ans.replace('http://dbpedia.org/resource/', '').replace('dbo:', '').strip().lower())\n",
    "        #if terms not in answer_terms:\n",
    "        query_results_terms.append(terms)\n",
    "              \n",
    "    except:\n",
    "        print(row['gold_query_results_DBpedia_2023_03'])\n",
    "        ex_ans = ast.literal_eval(row['gold_query_results_DBpedia_2023_03'])['boolean']\n",
    "        if ex_ans:\n",
    "            query_results_terms.append([str(ex_ans).lower()])\n",
    "        else:\n",
    "            query_results_terms.append([])\n",
    "        count += 1"
   ]
  },
  {
   "cell_type": "code",
   "execution_count": 112,
   "id": "73e592f3-9779-4b6e-b63f-77f25aa762b8",
   "metadata": {
    "tags": []
   },
   "outputs": [
    {
     "name": "stdout",
     "output_type": "stream",
     "text": [
      "{'head': {'link': []}, 'boolean': False}\n"
     ]
    }
   ],
   "source": [
    "# retrieve chatgpt train 3fewshot query results\n",
    "import ast\n",
    "\n",
    "chatgpt_query_results_terms = []\n",
    "count = 0\n",
    "for idx, row in test.iterrows():\n",
    "    try:\n",
    "        #bindings = row['chatgpt_nomasked_train_only_3fewshot_query_results']['results']['bindings']\n",
    "        bindings = ast.literal_eval(row['chatgpt_nomasked_train_only_3fewshot_query_results'])['results']['bindings']\n",
    "\n",
    "        answer_list = []\n",
    "        for item in bindings:\n",
    "            for k in item:\n",
    "                answer_list.append(item[k]['value'])\n",
    "\n",
    "        terms = []\n",
    "        for ans in answer_list:\n",
    "            terms.append(ans.replace('http://dbpedia.org/resource/', '').replace('dbo:', '').strip().lower())\n",
    "        #if terms not in answer_terms:\n",
    "        chatgpt_query_results_terms.append(terms)\n",
    "    except TypeError:\n",
    "        chatgpt_query_results_terms.append(['ERROR ERROR ERROR'])\n",
    "    except SyntaxError:\n",
    "        chatgpt_query_results_terms.append(['ERROR ERROR ERROR'])\n",
    "              \n",
    "    except:\n",
    "        print(row['chatgpt_nomasked_train_only_3fewshot_query_results'])\n",
    "        #ex_ans = row['chatgpt_nomasked_train_only_3fewshot_query_results']['boolean']\n",
    "        ex_ans = ast.literal_eval(row['chatgpt_nomasked_train_only_3fewshot_query_results'])['boolean']\n",
    "        if ex_ans:\n",
    "            chatgpt_query_results_terms.append([str(ex_ans).lower()])\n",
    "        else:\n",
    "            chatgpt_query_results_terms.append([])\n",
    "        count += 1"
   ]
  },
  {
   "cell_type": "code",
   "execution_count": 113,
   "id": "f9e91bfd-dd91-437a-97b6-17ab145eaf79",
   "metadata": {},
   "outputs": [],
   "source": [
    "# Evaluate the precision and recall based on the total numbers of \n",
    "# gold answers and predicted answers\n",
    "predicted = 0\n",
    "gold = 0\n",
    "predicted_correct = 0\n",
    "some_matched = {}\n",
    "pre_gold_lengths = []\n",
    "for idx, pred_terms in enumerate(chatgpt_query_results_terms):\n",
    "    \n",
    "    gold_terms = query_results_terms[idx]\n",
    "    \n",
    "    predicted +=  len(pred_terms)\n",
    "    gold += len(gold_terms)\n",
    "    \n",
    "    pre_gold_lengths.append((idx, len(pred_terms), len(gold_terms)))\n",
    "    \n",
    "    if (len(pred_terms) > 0) and (len(gold_terms) > 0):\n",
    "        predicted_correct_idx = False\n",
    "        for pterm in pred_terms:\n",
    "            if len(pterm) > 0: # skip an empty string\n",
    "                for gterm in gold_terms:\n",
    "                    if len(gterm) > 0:\n",
    "                        #if pterm ==  gterm:\n",
    "                        pterm = pterm.replace(\"_\", \" \")\n",
    "                        gterm = gterm.replace(\"_\", \" \")\n",
    "                        if (pterm in gterm) or (gterm in pterm):\n",
    "                            predicted_correct_idx = True\n",
    "                            predicted_correct += 1\n",
    "                            #break # this pterm is a correct prediction, skip to next pterm\n",
    "                                    # don't double count this pterm anymore\n",
    "\n",
    "        some_matched[idx] = predicted_correct_idx"
   ]
  },
  {
   "cell_type": "code",
   "execution_count": 114,
   "id": "7e3b00f3-f2f6-428b-abe8-0fdbc8eb2444",
   "metadata": {},
   "outputs": [
    {
     "data": {
      "text/plain": [
       "0.8111455108359134"
      ]
     },
     "execution_count": 114,
     "metadata": {},
     "output_type": "execute_result"
    }
   ],
   "source": [
    "precision = predicted_correct / (predicted)\n",
    "precision"
   ]
  },
  {
   "cell_type": "code",
   "execution_count": 115,
   "id": "605c97b2-64b5-4bed-b8f7-0d349fa85345",
   "metadata": {},
   "outputs": [
    {
     "data": {
      "text/plain": [
       "0.21510673234811165"
      ]
     },
     "execution_count": 115,
     "metadata": {},
     "output_type": "execute_result"
    }
   ],
   "source": [
    "recall = predicted_correct/gold\n",
    "recall"
   ]
  },
  {
   "cell_type": "code",
   "execution_count": 116,
   "id": "c9bb6099-0331-46d8-9b78-306b6ad40e0a",
   "metadata": {},
   "outputs": [
    {
     "data": {
      "text/plain": [
       "0.34003893575600264"
      ]
     },
     "execution_count": 116,
     "metadata": {},
     "output_type": "execute_result"
    }
   ],
   "source": [
    "f1 = 2 / (1/precision + 1/recall)\n",
    "f1"
   ]
  },
  {
   "cell_type": "code",
   "execution_count": 117,
   "id": "d3ffef44-4cc4-4a4e-b37c-417efd9b1330",
   "metadata": {},
   "outputs": [
    {
     "name": "stdout",
     "output_type": "stream",
     "text": [
      "adj_precision:0.7489711934156379,\n",
      "adj_recall:0.28144329896907216,\n",
      "adj_f1:0.40914200074934437\n"
     ]
    },
    {
     "data": {
      "text/plain": [
       "(786, 969, 3654)"
      ]
     },
     "execution_count": 117,
     "metadata": {},
     "output_type": "execute_result"
    }
   ],
   "source": [
    "adj_precision = (predicted_correct-240) / (predicted - 240)\n",
    "adj_recall = (predicted_correct-240) / (gold - 1714)\n",
    "adj_f1 = 2 / (1/adj_precision +  1/adj_recall)\n",
    "print('adj_precision:{},\\nadj_recall:{},\\nadj_f1:{}'.format(adj_precision, adj_recall, adj_f1))\n",
    "predicted_correct, predicted, gold"
   ]
  },
  {
   "cell_type": "code",
   "execution_count": 118,
   "id": "2515f40b-8950-4504-afc5-ff628b3477f2",
   "metadata": {},
   "outputs": [],
   "source": [
    "# Evaluate the precision and recall based on the total numbers of test questions\n",
    "count = 0\n",
    "predicted_correct = 0\n",
    "some_matched = {}\n",
    "for idx, pred_terms in enumerate(chatgpt_query_results_terms):\n",
    "    gold_terms = query_results_terms[idx]\n",
    "    \n",
    "    count += 1\n",
    "    \n",
    "    if (len(pred_terms) > 0) and (len(gold_terms) > 0):\n",
    "        predicted_correct_idx = False\n",
    "        for pterm in pred_terms:\n",
    "            if len(pterm) > 0: # skip an empty string\n",
    "                for gterm in gold_terms:\n",
    "                    if len(gterm) > 0:\n",
    "                        #if pterm ==  gterm:\n",
    "                        #pterm = pterm.replace(\"_\", \" \")\n",
    "                        #gterm = gterm.replace(\"_\", \" \")\n",
    "                        if not predicted_correct_idx:\n",
    "                            #if (pterm in gterm) or (gterm in pterm):\n",
    "                            if pterm == gterm:\n",
    "                                predicted_correct_idx = True\n",
    "                                predicted_correct += 1\n",
    "                        else:\n",
    "                            pass\n",
    "                \n",
    "        some_matched[idx] = predicted_correct_idx\n",
    "    elif (len(pred_terms) == 0) and (len(gold_terms) == 0):\n",
    "        predicted_correct += 1\n",
    "        some_matched[idx] = True"
   ]
  },
  {
   "cell_type": "code",
   "execution_count": 119,
   "id": "6935a304-4637-4e45-9143-769ee1a8c887",
   "metadata": {},
   "outputs": [
    {
     "data": {
      "text/plain": [
       "75"
      ]
     },
     "execution_count": 119,
     "metadata": {},
     "output_type": "execute_result"
    }
   ],
   "source": [
    "total = 0\n",
    "for k in some_matched:\n",
    "    if some_matched[k]:\n",
    "        total += 1\n",
    "total"
   ]
  },
  {
   "cell_type": "code",
   "execution_count": 120,
   "id": "e686af20-4f49-4426-91ac-42a217f8a73c",
   "metadata": {},
   "outputs": [],
   "source": [
    "# Evaluate the precision and recall based on the total numbers of test questions\n",
    "count = 0 # total num of questions\n",
    "\n",
    "predicted_question = {} # dictionary from question to whether it was correctly predicted\n",
    "some_matched = {} # dictionary from question to how much is was correctly predicted \n",
    "\n",
    "# iterate each question to retrieve the set of predicted terms for a question\n",
    "for idx, pred_terms in enumerate(chatgpt_query_results_terms):\n",
    "    \n",
    "    # the set of correct terms for this questions\n",
    "    gold_terms = query_results_terms[idx]\n",
    "    \n",
    "    # increment the number of questions\n",
    "    count += 1\n",
    "    \n",
    "    # flag: assuming this question has not predicted yet\n",
    "    predicted_correct_idx = False\n",
    "\n",
    "    if (len(pred_terms) > 0) and (len(gold_terms) > 0):\n",
    "        predicted_correct = 0\n",
    "        predicted_correct_idx = False\n",
    "        # iterate through the set of predicted terms for this question\n",
    "        for pterm in pred_terms:\n",
    "            if len(pterm) > 0: # skip an empty string\n",
    "                for gterm in gold_terms:\n",
    "                    if len(gterm) > 0:\n",
    "                        #if pterm ==  gterm:\n",
    "                        # normalize both predicted and correct terms for comparison\n",
    "                        pterm = pterm.replace(\"_\", \" \")\n",
    "                        gterm = gterm.replace(\"_\", \" \")\n",
    "                        # if the predicted term is correct, mark the question is predicted correctly\n",
    "                        # and count the number of correctly predicted terms\n",
    "                        if (pterm in gterm) or (gterm in pterm):\n",
    "                            #if pterm == gterm:\n",
    "                            predicted_correct_idx = True\n",
    "                            predicted_correct += 1\n",
    "\n",
    "        predicted_question[idx] = predicted_correct_idx\n",
    "        some_matched[idx] = predicted_correct / len(gold_terms)\n",
    "\n",
    "    # if both predicted and correct results are empty\n",
    "    elif (len(pred_terms) == 0) and (len(gold_terms) == 0):\n",
    "        predicted_question[idx] = True\n",
    "        some_matched[idx] = 1\n",
    "    # incorrectly predicted if one of them is empty\n",
    "    else:\n",
    "        predicted_question[idx] = False\n",
    "        some_matched[idx] = 0"
   ]
  },
  {
   "cell_type": "code",
   "execution_count": 121,
   "id": "4a7ccc64-a8c4-4c74-9075-954f7496ef46",
   "metadata": {},
   "outputs": [
    {
     "data": {
      "text/plain": [
       "75"
      ]
     },
     "execution_count": 121,
     "metadata": {},
     "output_type": "execute_result"
    }
   ],
   "source": [
    "# total predicted questions if one of predicted result is correct\n",
    "total_predicted_questions = sum(list(predicted_question.values()))\n",
    "total_predicted_questions"
   ]
  },
  {
   "cell_type": "code",
   "execution_count": 122,
   "id": "342b206e-cd36-4302-bee0-c4d9dd958871",
   "metadata": {},
   "outputs": [
    {
     "data": {
      "text/plain": [
       "72.19051806985833"
      ]
     },
     "execution_count": 122,
     "metadata": {},
     "output_type": "execute_result"
    }
   ],
   "source": [
    "# total predicted questions by adding up all predicted percentage\n",
    "total_matched = 0\n",
    "for k in some_matched:\n",
    "    if some_matched[k]:\n",
    "        total_matched += some_matched[k]\n",
    "total_matched"
   ]
  },
  {
   "cell_type": "code",
   "execution_count": 123,
   "id": "8d0a88fc-691f-4bac-9b42-e3e192e4ac4e",
   "metadata": {},
   "outputs": [
    {
     "data": {
      "text/plain": [
       "66.0"
      ]
     },
     "execution_count": 123,
     "metadata": {},
     "output_type": "execute_result"
    }
   ],
   "source": [
    "# total predicted questions if the set of predicted answers equals to the set of correct answers\n",
    "total = 0\n",
    "for k in some_matched:\n",
    "    if some_matched[k] == 1:\n",
    "        total += some_matched[k]\n",
    "total"
   ]
  },
  {
   "cell_type": "code",
   "execution_count": 124,
   "id": "b5aad321-aa77-41b6-940c-534a6aa2aa27",
   "metadata": {},
   "outputs": [
    {
     "data": {
      "text/plain": [
       "(0.5, 0.48, 0.44)"
      ]
     },
     "execution_count": 124,
     "metadata": {},
     "output_type": "execute_result"
    }
   ],
   "source": [
    "# prediction, recall, and f1-score\n",
    "75/150, 72/150, 66/150"
   ]
  },
  {
   "cell_type": "markdown",
   "id": "44debe49-2f58-4857-9ef2-36098028bddc",
   "metadata": {
    "tags": []
   },
   "source": [
    "## Explain test query in chain of thought in less 100 words"
   ]
  },
  {
   "cell_type": "markdown",
   "id": "bcd99853-b241-4df0-ba73-a1b425790e33",
   "metadata": {},
   "source": [
    "### Evaluate the chatgtp_cot_query_results"
   ]
  },
  {
   "cell_type": "code",
   "execution_count": 125,
   "id": "4a610495-06ae-4be5-b2a1-49e4f5068b27",
   "metadata": {},
   "outputs": [
    {
     "data": {
      "text/plain": [
       "Index(['id', 'answertype', 'aggregation', 'onlydbo', 'hybrid', 'question_text',\n",
       "       'question_keywords', 'sparql_query', 'answer_head', 'answer_results',\n",
       "       'question', 'query', 'answers', 'gpt_answers_text_DBpedia-2016-04',\n",
       "       'chatgpt_answers_text_DBpedia_2016_04',\n",
       "       'gold_query_results_DBpedia_2023_03',\n",
       "       'chatgpt_answers_text_DBpedia_2023_03', 'gpt_query_DBpedia_2023_03',\n",
       "       'gpt_query_results_DBpedia_2023_03', 'chatgpt_query_DBpedia_2023_03',\n",
       "       'chatgpt_query_results_DBpedia_2023_03', 'test_question_embedding',\n",
       "       'chatgpt_train_3fewshot_query', 'chatgpt_train_3fewshot_query_results',\n",
       "       'chatgpt_train_1fewshot_query', 'chatgpt_train_1fewshot_query_results',\n",
       "       'gpt_fewshot_query', 'gpt_fewshot_query_results', 'cot',\n",
       "       'chatgpt_cot_query', 'chatgpt_cot_query_results', 'masked_question',\n",
       "       'masked_query', 'masked_cot', 'chatgpt_train_cot_fewshot_query',\n",
       "       'chatgpt_train_cot_fewshot_query_results',\n",
       "       'chatgpt_nomasked_train_cot_fewshot_query',\n",
       "       'chatgpt_nomasked_train_cot_fewshot_query_results',\n",
       "       'chatgpt_nomasked_train_only_fewshot_query',\n",
       "       'chatgpt_nomasked_train_only_fewshot_query_results',\n",
       "       'chatgpt_nomasked_train_only_3fewshot_query',\n",
       "       'chatgpt_nomasked_train_only_3fewshot_query_results', 'cot_noWordLimit',\n",
       "       'chatgpt_cot_noWordLimit_query',\n",
       "       'chatgpt_cot_noWordLimit_query_results',\n",
       "       'chatgpt_cot_query_results_2nd'],\n",
       "      dtype='object')"
      ]
     },
     "execution_count": 125,
     "metadata": {},
     "output_type": "execute_result"
    }
   ],
   "source": [
    "test.columns"
   ]
  },
  {
   "cell_type": "code",
   "execution_count": 126,
   "id": "d1aacbb1-1df2-41fe-8795-6bcbeeb53cd0",
   "metadata": {},
   "outputs": [
    {
     "data": {
      "text/plain": [
       "(150, 46)"
      ]
     },
     "execution_count": 126,
     "metadata": {},
     "output_type": "execute_result"
    }
   ],
   "source": [
    "test.shape"
   ]
  },
  {
   "cell_type": "code",
   "execution_count": 127,
   "id": "5364a77d-5a05-4171-9d00-9b8ffc788260",
   "metadata": {
    "tags": []
   },
   "outputs": [
    {
     "name": "stdout",
     "output_type": "stream",
     "text": [
      "{'head': {'link': []}, 'boolean': True}\n",
      "{'head': {'link': []}, 'boolean': True}\n",
      "{'head': {'link': []}, 'boolean': True}\n",
      "{'head': {'link': []}, 'boolean': True}\n"
     ]
    }
   ],
   "source": [
    "# retrieve query results\n",
    "import ast\n",
    "\n",
    "query_results_terms = []\n",
    "count = 0\n",
    "for idx, row in test.iterrows():\n",
    "    try:\n",
    "        bindings = ast.literal_eval(row['gold_query_results_DBpedia_2023_03'])['results']['bindings']\n",
    "\n",
    "        answer_list = []\n",
    "        for item in bindings:\n",
    "            for k in item:\n",
    "                answer_list.append(item[k]['value'])\n",
    "\n",
    "        terms = []\n",
    "        for ans in answer_list:\n",
    "            terms.append(ans.replace('http://dbpedia.org/resource/', '').replace('dbo:', '').strip().lower())\n",
    "        #if terms not in answer_terms:\n",
    "        query_results_terms.append(terms)\n",
    "              \n",
    "    except:\n",
    "        print(row['gold_query_results_DBpedia_2023_03'])\n",
    "        ex_ans = ast.literal_eval(row['gold_query_results_DBpedia_2023_03'])['boolean']\n",
    "        if ex_ans:\n",
    "            query_results_terms.append([str(ex_ans).lower()])\n",
    "        else:\n",
    "            query_results_terms.append([])\n",
    "        count += 1"
   ]
  },
  {
   "cell_type": "code",
   "execution_count": 128,
   "id": "11477ec8-f6b8-4a06-8c43-34bdf602aa7f",
   "metadata": {
    "tags": []
   },
   "outputs": [
    {
     "name": "stdout",
     "output_type": "stream",
     "text": [
      "{'head': {'link': []}, 'boolean': False}\n",
      "{'head': {'link': []}, 'boolean': True}\n",
      "{'head': {'link': []}, 'boolean': True}\n",
      "{'head': {'link': []}, 'boolean': False}\n"
     ]
    }
   ],
   "source": [
    "# retrieve gpt query results\n",
    "import ast\n",
    "\n",
    "chatgpt_cot_query_results_terms = []\n",
    "count = 0\n",
    "for idx, row in test.iterrows():\n",
    "    try:\n",
    "        bindings = ast.literal_eval(row['chatgpt_cot_query_results_2nd'])['results']['bindings']\n",
    "        #bindings = row['chatgpt_cot_query_results_2nd']['results']['bindings']\n",
    "\n",
    "        answer_list = []\n",
    "        for item in bindings:\n",
    "            for k in item:\n",
    "                answer_list.append(item[k]['value'])\n",
    "\n",
    "        terms = []\n",
    "        for ans in answer_list:\n",
    "            terms.append(ans.replace('http://dbpedia.org/resource/', '').replace('dbo:', '').strip().lower())\n",
    "        #if terms not in answer_terms:\n",
    "        chatgpt_cot_query_results_terms.append(terms)\n",
    "    except SyntaxError:\n",
    "        chatgpt_cot_query_results_terms.append(['ERROR ERROR ERROR'])\n",
    "        \n",
    "    except TypeError:\n",
    "        chatgpt_cot_query_results_terms.append(['ERROR ERROR ERROR'])\n",
    "              \n",
    "    except:\n",
    "        print(row['chatgpt_cot_query_results_2nd'])\n",
    "        ex_ans = ast.literal_eval(row['chatgpt_cot_query_results_2nd'])['boolean']\n",
    "        #ex_ans = row['chatgpt_cot_query_results_2nd']['boolean']\n",
    "        if ex_ans:\n",
    "            chatgpt_cot_query_results_terms.append([str(ex_ans).lower()])\n",
    "        else:\n",
    "            chatgpt_cot_query_results_terms.append([])\n",
    "        count += 1"
   ]
  },
  {
   "cell_type": "code",
   "execution_count": 129,
   "id": "599fb8b0-aaeb-43d8-8bc4-e88193aa684f",
   "metadata": {},
   "outputs": [],
   "source": [
    "# Evaluate the precision and recall based on the total numbers of \n",
    "# gold answers and predicted answers\n",
    "predicted = 0\n",
    "gold = 0\n",
    "predicted_correct = 0\n",
    "some_matched = {}\n",
    "\n",
    "pred_gold_lengths = []\n",
    "for idx, pred_terms in enumerate(chatgpt_cot_query_results_terms):\n",
    "    \n",
    "    gold_terms = query_results_terms[idx]\n",
    "    \n",
    "    predicted +=  len(pred_terms)\n",
    "    gold += len(gold_terms)\n",
    "    \n",
    "    pred_gold_lengths.append((idx, len(pred_terms), len(gold_terms)))\n",
    "    \n",
    "    if (len(pred_terms) > 0) and (len(gold_terms) > 0):\n",
    "\n",
    "        predicted_correct_idx = False\n",
    "        for pterm in pred_terms:\n",
    "            if len(pterm) > 0: # skip an empty string\n",
    "                for gterm in gold_terms:\n",
    "                    if len(gterm) > 0:\n",
    "                        if pterm ==  gterm:\n",
    "                        #pterm = pterm.replace(\"_\", \" \")\n",
    "                        #gterm = gterm.replace(\"_\", \" \")\n",
    "                        #if (pterm in gterm) or (gterm in pterm):\n",
    "                            predicted_correct_idx = True\n",
    "                            predicted_correct += 1\n",
    "                            break # this pterm is a correct prediction, skip to next pterm\n",
    "                                    # don't double count this pterm anymore\n",
    "\n",
    "        some_matched[idx] = predicted_correct_idx"
   ]
  },
  {
   "cell_type": "code",
   "execution_count": 130,
   "id": "baf59f32-f16d-46ce-a63d-ef0762eb2d62",
   "metadata": {
    "tags": []
   },
   "outputs": [
    {
     "data": {
      "text/plain": [
       "[(0, 0, 1),\n",
       " (1, 12, 12),\n",
       " (2, 0, 1),\n",
       " (3, 0, 2),\n",
       " (4, 0, 0),\n",
       " (5, 1, 1),\n",
       " (6, 1, 4),\n",
       " (7, 1, 1),\n",
       " (8, 0, 1),\n",
       " (9, 1, 1),\n",
       " (10, 1, 1),\n",
       " (11, 5, 5),\n",
       " (12, 1, 48),\n",
       " (13, 74, 85),\n",
       " (14, 1, 1),\n",
       " (15, 1, 1),\n",
       " (16, 0, 0),\n",
       " (17, 1, 61),\n",
       " (18, 1, 1),\n",
       " (19, 1, 0),\n",
       " (20, 1, 1),\n",
       " (21, 4709, 0),\n",
       " (22, 0, 0),\n",
       " (23, 1, 1714),\n",
       " (24, 0, 1),\n",
       " (25, 0, 1),\n",
       " (26, 1, 1),\n",
       " (27, 1, 1),\n",
       " (28, 0, 0),\n",
       " (29, 1, 1),\n",
       " (30, 1, 1),\n",
       " (31, 0, 0),\n",
       " (32, 0, 10),\n",
       " (33, 0, 0),\n",
       " (34, 0, 1),\n",
       " (35, 1, 26),\n",
       " (36, 2, 2),\n",
       " (37, 1, 1),\n",
       " (38, 0, 3),\n",
       " (39, 0, 0),\n",
       " (40, 0, 1),\n",
       " (41, 1, 1),\n",
       " (42, 1, 1),\n",
       " (43, 0, 0),\n",
       " (44, 26, 26),\n",
       " (45, 1, 1),\n",
       " (46, 1, 1),\n",
       " (47, 0, 0),\n",
       " (48, 0, 1),\n",
       " (49, 0, 0),\n",
       " (50, 0, 1),\n",
       " (51, 1, 1),\n",
       " (52, 197, 197),\n",
       " (53, 0, 1),\n",
       " (54, 1, 1),\n",
       " (55, 1, 1),\n",
       " (56, 1, 15),\n",
       " (57, 0, 2),\n",
       " (58, 0, 4),\n",
       " (59, 0, 0),\n",
       " (60, 0, 0),\n",
       " (61, 1, 1),\n",
       " (62, 0, 0),\n",
       " (63, 1, 1),\n",
       " (64, 0, 0),\n",
       " (65, 386, 164),\n",
       " (66, 0, 1),\n",
       " (67, 0, 1),\n",
       " (68, 1, 1),\n",
       " (69, 36, 36),\n",
       " (70, 10, 10),\n",
       " (71, 74, 74),\n",
       " (72, 1, 8),\n",
       " (73, 0, 20),\n",
       " (74, 82, 44),\n",
       " (75, 0, 1),\n",
       " (76, 0, 0),\n",
       " (77, 0, 1),\n",
       " (78, 0, 1),\n",
       " (79, 55, 55),\n",
       " (80, 42, 42),\n",
       " (81, 1, 1),\n",
       " (82, 0, 0),\n",
       " (83, 0, 0),\n",
       " (84, 2, 2),\n",
       " (85, 1, 1),\n",
       " (86, 11, 11),\n",
       " (87, 26, 26),\n",
       " (88, 0, 0),\n",
       " (89, 0, 0),\n",
       " (90, 121, 121),\n",
       " (91, 0, 0),\n",
       " (92, 0, 1),\n",
       " (93, 0, 0),\n",
       " (94, 0, 0),\n",
       " (95, 22, 22),\n",
       " (96, 1, 1),\n",
       " (97, 4, 4),\n",
       " (98, 1, 1),\n",
       " (99, 0, 0),\n",
       " (100, 6, 6),\n",
       " (101, 0, 32),\n",
       " (102, 1, 1),\n",
       " (103, 9, 9),\n",
       " (104, 1, 1),\n",
       " (105, 0, 0),\n",
       " (106, 1, 1),\n",
       " (107, 0, 0),\n",
       " (108, 0, 0),\n",
       " (109, 0, 1),\n",
       " (110, 0, 0),\n",
       " (111, 0, 1),\n",
       " (112, 0, 1),\n",
       " (113, 0, 0),\n",
       " (114, 0, 1),\n",
       " (115, 0, 280),\n",
       " (116, 1, 28),\n",
       " (117, 1, 1),\n",
       " (118, 0, 1),\n",
       " (119, 0, 0),\n",
       " (120, 1, 1),\n",
       " (121, 0, 8),\n",
       " (122, 2, 2),\n",
       " (123, 31, 31),\n",
       " (124, 0, 2),\n",
       " (125, 0, 0),\n",
       " (126, 1, 1),\n",
       " (127, 0, 10),\n",
       " (128, 0, 1),\n",
       " (129, 2, 2),\n",
       " (130, 1, 1),\n",
       " (131, 1, 0),\n",
       " (132, 0, 0),\n",
       " (133, 0, 1),\n",
       " (134, 1, 1),\n",
       " (135, 6, 6),\n",
       " (136, 1, 0),\n",
       " (137, 0, 0),\n",
       " (138, 1, 1),\n",
       " (139, 0, 0),\n",
       " (140, 1, 1),\n",
       " (141, 0, 0),\n",
       " (142, 65, 65),\n",
       " (143, 220, 220),\n",
       " (144, 1, 1),\n",
       " (145, 0, 2),\n",
       " (146, 1, 1),\n",
       " (147, 1, 1),\n",
       " (148, 30, 30),\n",
       " (149, 3, 3)]"
      ]
     },
     "execution_count": 130,
     "metadata": {},
     "output_type": "execute_result"
    }
   ],
   "source": [
    "pred_gold_lengths"
   ]
  },
  {
   "cell_type": "code",
   "execution_count": 131,
   "id": "fe3f4f33-17ba-4ff0-a268-27c148433e25",
   "metadata": {},
   "outputs": [],
   "source": [
    "test.at[23, 'cot'] = '1. Declare prefixes for the namespaces used in the query. \\\n",
    "2. Select distinct URIs.  3. First, check if the URI is of type `yago:ArgentineFilms`. \\\n",
    "4. Union the second set of URIs that are of type `dbo:Film`. \\\n",
    "5. For the second set of URIs, check the `country` property of the film is `res:Argentina`. \\\n",
    "6. And union the `country` property of the film is `\"Argentina\"@en` (in English). \\\n",
    "7. Return the matching URIs.'"
   ]
  },
  {
   "cell_type": "code",
   "execution_count": 132,
   "id": "ef9bf8d4-f090-4735-8ba0-777311341e78",
   "metadata": {},
   "outputs": [
    {
     "data": {
      "text/plain": [
       "'1. Declare prefixes for the namespaces used in the query. 2. Select distinct URIs.  3. First, check if the URI is of type `yago:ArgentineFilms`. 4. Union the second set of URIs that are of type `dbo:Film`. 5. For the second set of URIs, check the `country` property of the film is `res:Argentina`. 6. And union the `country` property of the film is `\"Argentina\"@en` (in English). 7. Return the matching URIs.'"
      ]
     },
     "execution_count": 132,
     "metadata": {},
     "output_type": "execute_result"
    }
   ],
   "source": [
    "test.iloc[23]['cot']"
   ]
  },
  {
   "cell_type": "code",
   "execution_count": 133,
   "id": "b1bc68f7-03ef-435c-a921-ab3468341bfe",
   "metadata": {},
   "outputs": [
    {
     "data": {
      "text/plain": [
       "(1294, 6321, 3654)"
      ]
     },
     "execution_count": 133,
     "metadata": {},
     "output_type": "execute_result"
    }
   ],
   "source": [
    "predicted_correct, predicted, gold"
   ]
  },
  {
   "cell_type": "code",
   "execution_count": 134,
   "id": "3058ff75-520c-4ac4-a467-34511579f2b8",
   "metadata": {},
   "outputs": [
    {
     "data": {
      "text/plain": [
       "(6321, 3654)"
      ]
     },
     "execution_count": 134,
     "metadata": {},
     "output_type": "execute_result"
    }
   ],
   "source": [
    "pres = 0\n",
    "gols = 0\n",
    "for _, pre, gol in pred_gold_lengths:\n",
    "    pres += pre\n",
    "    gols += gol\n",
    "pres, gols"
   ]
  },
  {
   "cell_type": "code",
   "execution_count": 135,
   "id": "fb978653-baa4-411f-85f9-c86756fe6748",
   "metadata": {},
   "outputs": [
    {
     "data": {
      "text/plain": [
       "0.20471444391710172"
      ]
     },
     "execution_count": 135,
     "metadata": {},
     "output_type": "execute_result"
    }
   ],
   "source": [
    "precision = (predicted_correct) / (predicted)\n",
    "precision"
   ]
  },
  {
   "cell_type": "code",
   "execution_count": 136,
   "id": "01a2a4dc-cbc1-40b3-94f9-52e3a1313dc6",
   "metadata": {},
   "outputs": [
    {
     "data": {
      "text/plain": [
       "0.3541324575807334"
      ]
     },
     "execution_count": 136,
     "metadata": {},
     "output_type": "execute_result"
    }
   ],
   "source": [
    "recall = predicted_correct/gold\n",
    "recall"
   ]
  },
  {
   "cell_type": "code",
   "execution_count": 137,
   "id": "734d9cd9-10a0-486f-b0ac-0b7250ed910f",
   "metadata": {},
   "outputs": [
    {
     "data": {
      "text/plain": [
       "0.2594486215538847"
      ]
     },
     "execution_count": 137,
     "metadata": {},
     "output_type": "execute_result"
    }
   ],
   "source": [
    "f1 = 2 / (1/precision + 1/recall)\n",
    "f1"
   ]
  },
  {
   "cell_type": "code",
   "execution_count": 138,
   "id": "cb032233-7b5c-436a-8f8f-dd18d9cffc9c",
   "metadata": {},
   "outputs": [
    {
     "name": "stdout",
     "output_type": "stream",
     "text": [
      "adj_precision:0.803227808814401,\n",
      "adj_recall:0.6670103092783505,\n",
      "adj_f1:0.7288087862573923\n"
     ]
    },
    {
     "data": {
      "text/plain": [
       "(1294, 6321, 3654)"
      ]
     },
     "execution_count": 138,
     "metadata": {},
     "output_type": "execute_result"
    }
   ],
   "source": [
    "adj_precision = predicted_correct / (predicted - 4709 -1)\n",
    "adj_recall = predicted_correct/ (gold - 0 - 1714)\n",
    "adj_f1 = 2 / (1/adj_precision +  1/adj_recall)\n",
    "print('adj_precision:{},\\nadj_recall:{},\\nadj_f1:{}'.format(adj_precision, adj_recall, adj_f1))\n",
    "predicted_correct, predicted, gold"
   ]
  },
  {
   "cell_type": "code",
   "execution_count": 139,
   "id": "35bfa4f3-1e1d-4741-8823-532a6fe3b670",
   "metadata": {},
   "outputs": [
    {
     "name": "stdout",
     "output_type": "stream",
     "text": [
      "adj_precision:0.9043896572459411,\n",
      "adj_recall:0.8232074438970991,\n",
      "adj_f1:0.8618911174785101\n"
     ]
    },
    {
     "data": {
      "text/plain": [
       "(1294, 6321, 3654)"
      ]
     },
     "execution_count": 139,
     "metadata": {},
     "output_type": "execute_result"
    }
   ],
   "source": [
    "adj_precision = (predicted_correct + 1714) / (predicted - 4709 + 1714)\n",
    "adj_recall = (predicted_correct + 1714)/ (gold - 0)\n",
    "adj_f1 = 2 / (1/adj_precision +  1/adj_recall)\n",
    "print('adj_precision:{},\\nadj_recall:{},\\nadj_f1:{}'.format(adj_precision, adj_recall, adj_f1))\n",
    "predicted_correct, predicted, gold"
   ]
  },
  {
   "cell_type": "code",
   "execution_count": 140,
   "id": "205e1139-5270-472a-9e57-b01df804b669",
   "metadata": {},
   "outputs": [
    {
     "data": {
      "text/plain": [
       "0.8033995519044063"
      ]
     },
     "execution_count": 140,
     "metadata": {},
     "output_type": "execute_result"
    }
   ],
   "source": [
    "#Stage No Noise: \n",
    "2/(1/0.8028 + 1/0.8040)"
   ]
  },
  {
   "cell_type": "code",
   "execution_count": 141,
   "id": "35fdefc4-aad8-46d6-9aa7-57ace7b1205e",
   "metadata": {},
   "outputs": [],
   "source": [
    "# Evaluate the precision and recall based on the total numbers of test questions\n",
    "count = 0\n",
    "predicted_correct = 0\n",
    "some_matched = {}\n",
    "for idx, pred_terms in enumerate(chatgpt_cot_query_results_terms):\n",
    "    gold_terms = query_results_terms[idx]\n",
    "    \n",
    "    count += 1\n",
    "    \n",
    "    if (len(pred_terms) > 0) and (len(gold_terms) > 0):\n",
    "        predicted_correct_idx = False\n",
    "        for pterm in pred_terms:\n",
    "            if len(pterm) > 0: # skip an empty string\n",
    "                for gterm in gold_terms:\n",
    "                    if len(gterm) > 0:\n",
    "                        pterm = pterm.replace(\"_\", \" \")\n",
    "                        gterm = gterm.replace(\"_\", \" \")\n",
    "                        if not predicted_correct_idx:\n",
    "                            if (pterm in gterm) or (gterm in pterm):\n",
    "                                predicted_correct_idx = True\n",
    "                                predicted_correct += 1\n",
    "                        else:\n",
    "                            pass\n",
    "                \n",
    "        some_matched[idx] = predicted_correct_idx\n",
    "    elif (len(pred_terms) == 0) and (len(gold_terms) == 0):\n",
    "        predicted_correct += 1\n",
    "        some_matched[idx] = True"
   ]
  },
  {
   "cell_type": "code",
   "execution_count": 142,
   "id": "6c8b3894-7fa4-4656-a35d-7d0153e8845f",
   "metadata": {},
   "outputs": [
    {
     "data": {
      "text/plain": [
       "93"
      ]
     },
     "execution_count": 142,
     "metadata": {},
     "output_type": "execute_result"
    }
   ],
   "source": [
    "total = 0\n",
    "for k in some_matched:\n",
    "    if some_matched[k]:\n",
    "        total += 1\n",
    "total"
   ]
  },
  {
   "cell_type": "code",
   "execution_count": 143,
   "id": "d1313bfd-af11-4b3f-bb49-50134f01967d",
   "metadata": {},
   "outputs": [],
   "source": [
    "# Evaluate the precision and recall based on the total numbers of test questions\n",
    "count = 0 # total num of questions\n",
    "\n",
    "predicted_question = {} # dictionary from question to whether it was correctly predicted\n",
    "some_matched = {} # dictionary from question to how much is was correctly predicted \n",
    "\n",
    "# iterate each question to retrieve the set of predicted terms for a question\n",
    "for idx, pred_terms in enumerate(chatgpt_cot_query_results_terms):\n",
    "    \n",
    "    # the set of correct terms for this questions\n",
    "    gold_terms = query_results_terms[idx]\n",
    "    \n",
    "    # increment the number of questions\n",
    "    count += 1\n",
    "    \n",
    "    # flag: assuming this question has not predicted yet\n",
    "    predicted_correct_idx = False\n",
    "\n",
    "    if (len(pred_terms) > 0) and (len(gold_terms) > 0):\n",
    "        predicted_correct = 0\n",
    "        predicted_correct_idx = False\n",
    "        # iterate through the set of predicted terms for this question\n",
    "        for pterm in pred_terms:\n",
    "            if len(pterm) > 0: # skip an empty string\n",
    "                for gterm in gold_terms:\n",
    "                    if len(gterm) > 0:\n",
    "                        #if pterm ==  gterm:\n",
    "                        # normalize both predicted and correct terms for comparison\n",
    "                        pterm = pterm.replace(\"_\", \" \")\n",
    "                        gterm = gterm.replace(\"_\", \" \")\n",
    "                        # if the predicted term is correct, mark the question is predicted correctly\n",
    "                        # and count the number of correctly predicted terms\n",
    "                        if (pterm in gterm) or (gterm in pterm):\n",
    "                            #if pterm == gterm:\n",
    "                            predicted_correct_idx = True\n",
    "                            predicted_correct += 1\n",
    "\n",
    "        predicted_question[idx] = predicted_correct_idx\n",
    "        some_matched[idx] = predicted_correct / len(gold_terms)\n",
    "\n",
    "    # if both predicted and correct results are empty\n",
    "    elif (len(pred_terms) == 0) and (len(gold_terms) == 0):\n",
    "        predicted_question[idx] = True\n",
    "        some_matched[idx] = 1\n",
    "    # incorrectly predicted if one of them is empty\n",
    "    else:\n",
    "        predicted_question[idx] = False\n",
    "        some_matched[idx] = 0"
   ]
  },
  {
   "cell_type": "code",
   "execution_count": 144,
   "id": "fde66fb3-682e-4265-b2a3-7eb131d5f716",
   "metadata": {},
   "outputs": [
    {
     "data": {
      "text/plain": [
       "93"
      ]
     },
     "execution_count": 144,
     "metadata": {},
     "output_type": "execute_result"
    }
   ],
   "source": [
    "# total predicted questions if one of predicted result is correct\n",
    "total_predicted_questions = sum(list(predicted_question.values()))\n",
    "total_predicted_questions"
   ]
  },
  {
   "cell_type": "code",
   "execution_count": 145,
   "id": "a054f410-e17e-48dc-ae77-c7d3538c5610",
   "metadata": {},
   "outputs": [
    {
     "data": {
      "text/plain": [
       "93.72550280550087"
      ]
     },
     "execution_count": 145,
     "metadata": {},
     "output_type": "execute_result"
    }
   ],
   "source": [
    "# total predicted questions by adding up all predicted percentage\n",
    "total_matched = 0\n",
    "for k in some_matched:\n",
    "    if some_matched[k]:\n",
    "        total_matched += some_matched[k]\n",
    "total_matched"
   ]
  },
  {
   "cell_type": "code",
   "execution_count": 146,
   "id": "52310634-9799-473b-991b-5aaed57be74d",
   "metadata": {},
   "outputs": [
    {
     "data": {
      "text/plain": [
       "85.0"
      ]
     },
     "execution_count": 146,
     "metadata": {},
     "output_type": "execute_result"
    }
   ],
   "source": [
    "# total predicted questions if the set of predicted answers equals to the set of correct answers\n",
    "total = 0\n",
    "for k in some_matched:\n",
    "    if some_matched[k] == 1:\n",
    "        total += some_matched[k]\n",
    "total"
   ]
  },
  {
   "cell_type": "code",
   "execution_count": 147,
   "id": "1d570cc7-6b54-412b-8752-b23e76029cac",
   "metadata": {},
   "outputs": [
    {
     "data": {
      "text/plain": [
       "(0.62, 0.625, 0.5666666666666667)"
      ]
     },
     "execution_count": 147,
     "metadata": {},
     "output_type": "execute_result"
    }
   ],
   "source": [
    "# prediction, recall, and f1-score\n",
    "93/150, 93.75/150, 85/150"
   ]
  },
  {
   "cell_type": "markdown",
   "id": "86015c34-a67a-4dc6-94ce-ca969ec0356a",
   "metadata": {},
   "source": [
    "## Explain test query in chain of thought without word limit"
   ]
  },
  {
   "cell_type": "code",
   "execution_count": 148,
   "id": "05973ff8-05c6-4c24-8e5c-7dac14d28b70",
   "metadata": {},
   "outputs": [
    {
     "data": {
      "text/plain": [
       "Index(['id', 'answertype', 'aggregation', 'onlydbo', 'hybrid', 'question_text',\n",
       "       'question_keywords', 'sparql_query', 'answer_head', 'answer_results',\n",
       "       'question', 'query', 'answers', 'gpt_answers_text_DBpedia-2016-04',\n",
       "       'chatgpt_answers_text_DBpedia_2016_04',\n",
       "       'gold_query_results_DBpedia_2023_03',\n",
       "       'chatgpt_answers_text_DBpedia_2023_03', 'gpt_query_DBpedia_2023_03',\n",
       "       'gpt_query_results_DBpedia_2023_03', 'chatgpt_query_DBpedia_2023_03',\n",
       "       'chatgpt_query_results_DBpedia_2023_03', 'test_question_embedding',\n",
       "       'chatgpt_train_3fewshot_query', 'chatgpt_train_3fewshot_query_results',\n",
       "       'chatgpt_train_1fewshot_query', 'chatgpt_train_1fewshot_query_results',\n",
       "       'gpt_fewshot_query', 'gpt_fewshot_query_results', 'cot',\n",
       "       'chatgpt_cot_query', 'chatgpt_cot_query_results', 'masked_question',\n",
       "       'masked_query', 'masked_cot', 'chatgpt_train_cot_fewshot_query',\n",
       "       'chatgpt_train_cot_fewshot_query_results',\n",
       "       'chatgpt_nomasked_train_cot_fewshot_query',\n",
       "       'chatgpt_nomasked_train_cot_fewshot_query_results',\n",
       "       'chatgpt_nomasked_train_only_fewshot_query',\n",
       "       'chatgpt_nomasked_train_only_fewshot_query_results',\n",
       "       'chatgpt_nomasked_train_only_3fewshot_query',\n",
       "       'chatgpt_nomasked_train_only_3fewshot_query_results', 'cot_noWordLimit',\n",
       "       'chatgpt_cot_noWordLimit_query',\n",
       "       'chatgpt_cot_noWordLimit_query_results',\n",
       "       'chatgpt_cot_query_results_2nd'],\n",
       "      dtype='object')"
      ]
     },
     "execution_count": 148,
     "metadata": {},
     "output_type": "execute_result"
    }
   ],
   "source": [
    "test.columns"
   ]
  },
  {
   "cell_type": "markdown",
   "id": "eae502bd-f402-43f6-b468-3dfbac7fa142",
   "metadata": {},
   "source": [
    "### Evaluate the chatgpt_cot_noWordLimit_query_results"
   ]
  },
  {
   "cell_type": "code",
   "execution_count": 149,
   "id": "6645d978-6f36-4c73-960a-06db90d8393a",
   "metadata": {
    "tags": []
   },
   "outputs": [
    {
     "name": "stdout",
     "output_type": "stream",
     "text": [
      "{'head': {'link': []}, 'boolean': True}\n",
      "{'head': {'link': []}, 'boolean': True}\n",
      "{'head': {'link': []}, 'boolean': True}\n",
      "{'head': {'link': []}, 'boolean': True}\n"
     ]
    }
   ],
   "source": [
    "# retrieve query results\n",
    "import ast\n",
    "\n",
    "query_results_terms = []\n",
    "count = 0\n",
    "for idx, row in test.iterrows():\n",
    "    try:\n",
    "        bindings = ast.literal_eval(row['gold_query_results_DBpedia_2023_03'])['results']['bindings']\n",
    "\n",
    "        answer_list = []\n",
    "        for item in bindings:\n",
    "            for k in item:\n",
    "                answer_list.append(item[k]['value'])\n",
    "\n",
    "        terms = []\n",
    "        for ans in answer_list:\n",
    "            terms.append(ans.replace('http://dbpedia.org/resource/', '').replace('dbo:', '').strip().lower())\n",
    "        #if terms not in answer_terms:\n",
    "        query_results_terms.append(terms)\n",
    "              \n",
    "    except:\n",
    "        print(row['gold_query_results_DBpedia_2023_03'])\n",
    "        ex_ans = ast.literal_eval(row['gold_query_results_DBpedia_2023_03'])['boolean']\n",
    "        if ex_ans:\n",
    "            query_results_terms.append([str(ex_ans).lower()])\n",
    "        else:\n",
    "            query_results_terms.append([])\n",
    "        count += 1"
   ]
  },
  {
   "cell_type": "code",
   "execution_count": 150,
   "id": "46131f08-f14b-48f0-a725-b2ef4542d949",
   "metadata": {},
   "outputs": [
    {
     "data": {
      "text/plain": [
       "\"{'head': {'link': [], 'vars': ['uri']}, 'results': {'distinct': False, 'ordered': True, 'bindings': [{'uri': {'type': 'uri', 'value': 'http://dbpedia.org/resource/Zugspitze'}}]}}\""
      ]
     },
     "execution_count": 150,
     "metadata": {},
     "output_type": "execute_result"
    }
   ],
   "source": [
    "test.iloc[2].chatgpt_cot_noWordLimit_query_results"
   ]
  },
  {
   "cell_type": "code",
   "execution_count": 151,
   "id": "282b491c-25d1-41e8-abb6-f0f55a098e14",
   "metadata": {
    "tags": []
   },
   "outputs": [
    {
     "name": "stdout",
     "output_type": "stream",
     "text": [
      "{'head': {'link': []}, 'boolean': True}\n",
      "{'head': {'link': []}, 'boolean': True}\n",
      "{'head': {'link': []}, 'boolean': True}\n",
      "{'head': {'link': []}, 'boolean': True}\n"
     ]
    }
   ],
   "source": [
    "# retrieve gpt query results\n",
    "import ast\n",
    "\n",
    "chatgpt_cot_query_results_terms = []\n",
    "count = 0\n",
    "for idx, row in test.iterrows():\n",
    "    try:\n",
    "        bindings = ast.literal_eval(row['chatgpt_cot_noWordLimit_query_results'])['results']['bindings']\n",
    "        #bindings = row['chatgpt_cot_noWordLimit_query_results']['results']['bindings']\n",
    "\n",
    "        answer_list = []\n",
    "        for item in bindings:\n",
    "            for k in item:\n",
    "                answer_list.append(item[k]['value'])\n",
    "\n",
    "        terms = []\n",
    "        for ans in answer_list:\n",
    "            terms.append(ans.replace('http://dbpedia.org/resource/', '').replace('dbo:', '').strip().lower())\n",
    "        #if terms not in answer_terms:\n",
    "        chatgpt_cot_query_results_terms.append(terms)\n",
    "    except SyntaxError:\n",
    "        chatgpt_cot_query_results_terms.append(['ERROR ERROR ERROR'])\n",
    "        \n",
    "    except TypeError:\n",
    "        chatgpt_cot_query_results_terms.append(['ERROR ERROR ERROR'])\n",
    "              \n",
    "    except:\n",
    "        print(row['chatgpt_cot_noWordLimit_query_results'])\n",
    "        ex_ans = ast.literal_eval(row['chatgpt_cot_noWordLimit_query_results'])['boolean']\n",
    "        #ex_ans = row['chatgpt_cot_noWordLimit_query_results']['boolean']\n",
    "        if ex_ans:\n",
    "            chatgpt_cot_query_results_terms.append([str(ex_ans).lower()])\n",
    "        else:\n",
    "            chatgpt_cot_query_results_terms.append([])\n",
    "        count += 1"
   ]
  },
  {
   "cell_type": "code",
   "execution_count": 152,
   "id": "9e2e6f38-0521-4abd-b94e-737cf5a3eef4",
   "metadata": {},
   "outputs": [],
   "source": [
    "# Evaluate the precision and recall based on the total numbers of \n",
    "# gold answers and predicted answers\n",
    "predicted = 0\n",
    "gold = 0\n",
    "predicted_correct = 0\n",
    "some_matched = {}\n",
    "\n",
    "pred_gold_lengths = []\n",
    "for idx, pred_terms in enumerate(chatgpt_cot_query_results_terms):\n",
    "    \n",
    "    gold_terms = query_results_terms[idx]\n",
    "    \n",
    "    predicted +=  len(pred_terms)\n",
    "    gold += len(gold_terms)\n",
    "    \n",
    "    pred_gold_lengths.append((idx, len(pred_terms), len(gold_terms)))\n",
    "    \n",
    "    if (len(pred_terms) > 0) and (len(gold_terms) > 0):\n",
    "\n",
    "        predicted_correct_idx = False\n",
    "        for pterm in pred_terms:\n",
    "            if len(pterm) > 0: # skip an empty string\n",
    "                for gterm in gold_terms:\n",
    "                    if len(gterm) > 0:\n",
    "                        if pterm ==  gterm:\n",
    "                        #pterm = pterm.replace(\"_\", \" \")\n",
    "                        #gterm = gterm.replace(\"_\", \" \")\n",
    "                        #if (pterm in gterm) or (gterm in pterm):\n",
    "                            predicted_correct_idx = True\n",
    "                            predicted_correct += 1\n",
    "                            break # this pterm is a correct prediction, skip to next pterm\n",
    "                                    # don't double count this pterm anymore\n",
    "\n",
    "        some_matched[idx] = predicted_correct_idx"
   ]
  },
  {
   "cell_type": "code",
   "execution_count": 153,
   "id": "dd9145d0-7462-4177-9716-1d5fffdd5149",
   "metadata": {},
   "outputs": [
    {
     "data": {
      "text/plain": [
       "'Which countries have places with more than two caves?'"
      ]
     },
     "execution_count": 153,
     "metadata": {},
     "output_type": "execute_result"
    }
   ],
   "source": [
    "test.iloc[12].question_text"
   ]
  },
  {
   "cell_type": "code",
   "execution_count": 154,
   "id": "6319fde7-cd0d-41d0-99c6-2a3373a6f338",
   "metadata": {},
   "outputs": [
    {
     "data": {
      "text/plain": [
       "'PREFIX dbo: <http://dbpedia.org/ontology/> PREFIX rdf: <http://www.w3.org/1999/02/22-rdf-syntax-ns#> SELECT DISTINCT ?uri WHERE { ?cave rdf:type dbo:Cave ; dbo:location ?uri . ?uri rdf:type dbo:Country } GROUP BY ?uri HAVING ( COUNT(?cave) > 2 )'"
      ]
     },
     "execution_count": 154,
     "metadata": {},
     "output_type": "execute_result"
    }
   ],
   "source": [
    "test.iloc[12].sparql_query"
   ]
  },
  {
   "cell_type": "code",
   "execution_count": 155,
   "id": "ab1a7bbd-427a-4bd6-a608-b93f3f895fbb",
   "metadata": {},
   "outputs": [
    {
     "data": {
      "text/plain": [
       "'PREFIX dbo: <http://dbpedia.org/ontology/> PREFIX dbr: <http://dbpedia.org/resource/>  SELECT DISTINCT ?countryURI WHERE {    ?cave dbo:type dbo:Cave .    ?cave dbo:location ?place .    ?place dbo:country ?countryURI .    ?countryURI dbo:type dbo:Country . }  GROUP BY ?countryURI  HAVING (COUNT(?cave) > 2)'"
      ]
     },
     "execution_count": 155,
     "metadata": {},
     "output_type": "execute_result"
    }
   ],
   "source": [
    "test.iloc[12].chatgpt_cot_noWordLimit_query"
   ]
  },
  {
   "cell_type": "code",
   "execution_count": 156,
   "id": "b6a47cb5-d65d-4546-92ae-099c6eee0867",
   "metadata": {},
   "outputs": [
    {
     "data": {
      "text/plain": [
       "'Which countries have places with more than two [MASK1]?'"
      ]
     },
     "execution_count": 156,
     "metadata": {},
     "output_type": "execute_result"
    }
   ],
   "source": [
    "test.iloc[12].masked_question"
   ]
  },
  {
   "cell_type": "code",
   "execution_count": 157,
   "id": "edffa705-88a2-44e0-93c1-ae3e18d7ab2e",
   "metadata": {},
   "outputs": [
    {
     "data": {
      "text/plain": [
       "'PREFIX dbo: <http://dbpedia.org/ontology/> PREFIX rdf: <http://www.w3.org/1999/02/22-rdf-syntax-ns#> SELECT DISTINCT ?uri WHERE { ?cave rdf:type dbo:Cave ; dbo:location ?uri . ?uri rdf:type dbo:Country } GROUP BY ?uri HAVING ( COUNT(?cave) > 2 )'"
      ]
     },
     "execution_count": 157,
     "metadata": {},
     "output_type": "execute_result"
    }
   ],
   "source": [
    "test.iloc[12].chatgpt_train_cot_fewshot_query"
   ]
  },
  {
   "cell_type": "code",
   "execution_count": 158,
   "id": "d5515466-aaa0-4985-bf52-f001be93db2c",
   "metadata": {},
   "outputs": [
    {
     "data": {
      "text/plain": [
       "Index(['id', 'answertype', 'aggregation', 'onlydbo', 'hybrid', 'question_text',\n",
       "       'question_keywords', 'sparql_query', 'answer_head', 'answer_results',\n",
       "       'question', 'query', 'answers', 'gpt_answers_text_DBpedia-2016-04',\n",
       "       'chatgpt_answers_text_DBpedia_2016_04',\n",
       "       'gold_query_results_DBpedia_2023_03',\n",
       "       'chatgpt_answers_text_DBpedia_2023_03', 'gpt_query_DBpedia_2023_03',\n",
       "       'gpt_query_results_DBpedia_2023_03', 'chatgpt_query_DBpedia_2023_03',\n",
       "       'chatgpt_query_results_DBpedia_2023_03', 'test_question_embedding',\n",
       "       'chatgpt_train_3fewshot_query', 'chatgpt_train_3fewshot_query_results',\n",
       "       'chatgpt_train_1fewshot_query', 'chatgpt_train_1fewshot_query_results',\n",
       "       'gpt_fewshot_query', 'gpt_fewshot_query_results', 'cot',\n",
       "       'chatgpt_cot_query', 'chatgpt_cot_query_results', 'masked_question',\n",
       "       'masked_query', 'masked_cot', 'chatgpt_train_cot_fewshot_query',\n",
       "       'chatgpt_train_cot_fewshot_query_results',\n",
       "       'chatgpt_nomasked_train_cot_fewshot_query',\n",
       "       'chatgpt_nomasked_train_cot_fewshot_query_results',\n",
       "       'chatgpt_nomasked_train_only_fewshot_query',\n",
       "       'chatgpt_nomasked_train_only_fewshot_query_results',\n",
       "       'chatgpt_nomasked_train_only_3fewshot_query',\n",
       "       'chatgpt_nomasked_train_only_3fewshot_query_results', 'cot_noWordLimit',\n",
       "       'chatgpt_cot_noWordLimit_query',\n",
       "       'chatgpt_cot_noWordLimit_query_results',\n",
       "       'chatgpt_cot_query_results_2nd'],\n",
       "      dtype='object')"
      ]
     },
     "execution_count": 158,
     "metadata": {},
     "output_type": "execute_result"
    }
   ],
   "source": [
    "test.columns"
   ]
  },
  {
   "cell_type": "code",
   "execution_count": 159,
   "id": "74e47247-4e0c-433d-86a6-46d3003a8ea2",
   "metadata": {
    "tags": []
   },
   "outputs": [
    {
     "data": {
      "text/plain": [
       "[(0, 1, 1),\n",
       " (1, 0, 12),\n",
       " (2, 1, 1),\n",
       " (3, 2, 2),\n",
       " (4, 0, 0),\n",
       " (5, 1, 1),\n",
       " (6, 0, 4),\n",
       " (7, 1, 1),\n",
       " (8, 1, 1),\n",
       " (9, 1, 1),\n",
       " (10, 1, 1),\n",
       " (11, 5, 5),\n",
       " (12, 0, 48),\n",
       " (13, 82, 85),\n",
       " (14, 1, 1),\n",
       " (15, 1, 1),\n",
       " (16, 0, 0),\n",
       " (17, 19, 61),\n",
       " (18, 0, 1),\n",
       " (19, 0, 0),\n",
       " (20, 1, 1),\n",
       " (21, 0, 0),\n",
       " (22, 0, 0),\n",
       " (23, 240, 1714),\n",
       " (24, 0, 1),\n",
       " (25, 0, 1),\n",
       " (26, 0, 1),\n",
       " (27, 1, 1),\n",
       " (28, 0, 0),\n",
       " (29, 1, 1),\n",
       " (30, 1, 1),\n",
       " (31, 0, 0),\n",
       " (32, 10, 10),\n",
       " (33, 0, 0),\n",
       " (34, 1, 1),\n",
       " (35, 26, 26),\n",
       " (36, 0, 2),\n",
       " (37, 1, 1),\n",
       " (38, 0, 3),\n",
       " (39, 0, 0),\n",
       " (40, 1, 1),\n",
       " (41, 1, 1),\n",
       " (42, 1, 1),\n",
       " (43, 1, 0),\n",
       " (44, 2, 26),\n",
       " (45, 1, 1),\n",
       " (46, 1, 1),\n",
       " (47, 0, 0),\n",
       " (48, 1, 1),\n",
       " (49, 0, 0),\n",
       " (50, 0, 1),\n",
       " (51, 0, 1),\n",
       " (52, 197, 197),\n",
       " (53, 2, 1),\n",
       " (54, 1, 1),\n",
       " (55, 1, 1),\n",
       " (56, 15, 15),\n",
       " (57, 0, 2),\n",
       " (58, 4, 4),\n",
       " (59, 0, 0),\n",
       " (60, 0, 0),\n",
       " (61, 1, 1),\n",
       " (62, 0, 0),\n",
       " (63, 1, 1),\n",
       " (64, 0, 0),\n",
       " (65, 4, 164),\n",
       " (66, 1, 1),\n",
       " (67, 0, 1),\n",
       " (68, 0, 1),\n",
       " (69, 0, 36),\n",
       " (70, 37, 10),\n",
       " (71, 74, 74),\n",
       " (72, 1, 8),\n",
       " (73, 0, 20),\n",
       " (74, 10000, 44),\n",
       " (75, 0, 1),\n",
       " (76, 0, 0),\n",
       " (77, 0, 1),\n",
       " (78, 1, 1),\n",
       " (79, 55, 55),\n",
       " (80, 42, 42),\n",
       " (81, 1, 1),\n",
       " (82, 0, 0),\n",
       " (83, 0, 0),\n",
       " (84, 2, 2),\n",
       " (85, 1, 1),\n",
       " (86, 11, 11),\n",
       " (87, 0, 26),\n",
       " (88, 0, 0),\n",
       " (89, 0, 0),\n",
       " (90, 121, 121),\n",
       " (91, 0, 0),\n",
       " (92, 1, 1),\n",
       " (93, 0, 0),\n",
       " (94, 0, 0),\n",
       " (95, 22, 22),\n",
       " (96, 0, 1),\n",
       " (97, 3, 4),\n",
       " (98, 1, 1),\n",
       " (99, 0, 0),\n",
       " (100, 1, 6),\n",
       " (101, 0, 32),\n",
       " (102, 1, 1),\n",
       " (103, 0, 9),\n",
       " (104, 1, 1),\n",
       " (105, 0, 0),\n",
       " (106, 1, 1),\n",
       " (107, 0, 0),\n",
       " (108, 0, 0),\n",
       " (109, 1, 1),\n",
       " (110, 0, 0),\n",
       " (111, 1, 1),\n",
       " (112, 1, 1),\n",
       " (113, 0, 0),\n",
       " (114, 0, 1),\n",
       " (115, 280, 280),\n",
       " (116, 40, 28),\n",
       " (117, 1, 1),\n",
       " (118, 1, 1),\n",
       " (119, 0, 0),\n",
       " (120, 1, 1),\n",
       " (121, 0, 8),\n",
       " (122, 2, 2),\n",
       " (123, 1, 31),\n",
       " (124, 2, 2),\n",
       " (125, 0, 0),\n",
       " (126, 0, 1),\n",
       " (127, 1, 10),\n",
       " (128, 1, 1),\n",
       " (129, 2, 2),\n",
       " (130, 1, 1),\n",
       " (131, 0, 0),\n",
       " (132, 0, 0),\n",
       " (133, 0, 1),\n",
       " (134, 1, 1),\n",
       " (135, 0, 6),\n",
       " (136, 0, 0),\n",
       " (137, 0, 0),\n",
       " (138, 0, 1),\n",
       " (139, 0, 0),\n",
       " (140, 1, 1),\n",
       " (141, 0, 0),\n",
       " (142, 65, 65),\n",
       " (143, 0, 220),\n",
       " (144, 1, 1),\n",
       " (145, 1, 2),\n",
       " (146, 1, 1),\n",
       " (147, 1, 1),\n",
       " (148, 30, 30),\n",
       " (149, 3, 3)]"
      ]
     },
     "execution_count": 159,
     "metadata": {},
     "output_type": "execute_result"
    }
   ],
   "source": [
    "pred_gold_lengths"
   ]
  },
  {
   "cell_type": "code",
   "execution_count": 160,
   "id": "473e5b3e-97eb-4e6d-bed2-08097c82e2d9",
   "metadata": {},
   "outputs": [
    {
     "data": {
      "text/plain": [
       "(11452, 3654)"
      ]
     },
     "execution_count": 160,
     "metadata": {},
     "output_type": "execute_result"
    }
   ],
   "source": [
    "pres = 0\n",
    "gols = 0\n",
    "for _, pre, gol in pred_gold_lengths:\n",
    "    pres += pre\n",
    "    gols += gol\n",
    "pres, gols"
   ]
  },
  {
   "cell_type": "code",
   "execution_count": 161,
   "id": "7887a389-c4bb-4287-b11c-872209005853",
   "metadata": {},
   "outputs": [
    {
     "data": {
      "text/plain": [
       "0.12198742577715684"
      ]
     },
     "execution_count": 161,
     "metadata": {},
     "output_type": "execute_result"
    }
   ],
   "source": [
    "precision = (predicted_correct) / (predicted)\n",
    "precision"
   ]
  },
  {
   "cell_type": "code",
   "execution_count": 162,
   "id": "43a6d890-b27e-4025-9484-cf6640f352ed",
   "metadata": {},
   "outputs": [
    {
     "data": {
      "text/plain": [
       "0.3823207443897099"
      ]
     },
     "execution_count": 162,
     "metadata": {},
     "output_type": "execute_result"
    }
   ],
   "source": [
    "recall = predicted_correct/gold\n",
    "recall"
   ]
  },
  {
   "cell_type": "code",
   "execution_count": 163,
   "id": "1980184b-f92d-4580-9a75-0d7e35648902",
   "metadata": {},
   "outputs": [
    {
     "data": {
      "text/plain": [
       "0.18495961869455843"
      ]
     },
     "execution_count": 163,
     "metadata": {},
     "output_type": "execute_result"
    }
   ],
   "source": [
    "f1 = 2 / (1/precision + 1/recall)\n",
    "f1"
   ]
  },
  {
   "cell_type": "code",
   "execution_count": 164,
   "id": "f38098ad-945a-466f-b79e-f619f927edcf",
   "metadata": {},
   "outputs": [
    {
     "name": "stdout",
     "output_type": "stream",
     "text": [
      "adj_precision:0.7973811164713991,\n",
      "adj_recall:0.6102320675105485,\n",
      "adj_f1:0.6913654018524051\n"
     ]
    },
    {
     "data": {
      "text/plain": [
       "(1397, 11452, 3654)"
      ]
     },
     "execution_count": 164,
     "metadata": {},
     "output_type": "execute_result"
    }
   ],
   "source": [
    "adj_precision = (predicted_correct - 240) / (predicted - 10000 -1)\n",
    "adj_recall = (predicted_correct - 240) / (gold - 44 - 1714)\n",
    "adj_f1 = 2 / (1/adj_precision +  1/adj_recall)\n",
    "print('adj_precision:{},\\nadj_recall:{},\\nadj_f1:{}'.format(adj_precision, adj_recall, adj_f1))\n",
    "predicted_correct, predicted, gold"
   ]
  },
  {
   "cell_type": "code",
   "execution_count": 165,
   "id": "0a282e5e-ccc6-4744-b5ba-7427d511cd23",
   "metadata": {},
   "outputs": [],
   "source": [
    "# Evaluate the precision and recall based on the total numbers of test questions\n",
    "count = 0\n",
    "predicted_question = {}\n",
    "some_matched = {}\n",
    "for idx, pred_terms in enumerate(chatgpt_cot_query_results_terms):\n",
    "    gold_terms = query_results_terms[idx]\n",
    "    \n",
    "    count += 1\n",
    "    \n",
    "    if (len(pred_terms) > 0) and (len(gold_terms) > 0):\n",
    "        predicted_correct_idx = False\n",
    "        predicted_correct = 0\n",
    "        for pterm in pred_terms:\n",
    "            if len(pterm) > 0: # skip an empty string\n",
    "                for gterm in gold_terms:\n",
    "                    if len(gterm) > 0:\n",
    "                        pterm = pterm.replace(\"_\", \" \")\n",
    "                        gterm = gterm.replace(\"_\", \" \")\n",
    "                        #if not predicted_correct_idx:\n",
    "                        if (pterm in gterm) or (gterm in pterm):\n",
    "                            predicted_correct_idx = True\n",
    "                            predicted_correct += 1\n",
    "\n",
    "                \n",
    "        predicted_question[idx] = predicted_correct_idx\n",
    "        some_matched[idx] = predicted_correct / len(gold_terms)\n",
    "        \n",
    "    elif (len(pred_terms) == 0) and (len(gold_terms) == 0):\n",
    "        predicted_question[idx] = True\n",
    "        some_matched[idx] = 1"
   ]
  },
  {
   "cell_type": "code",
   "execution_count": 166,
   "id": "5d27adde-ae72-4be2-9764-3798668ef4ce",
   "metadata": {},
   "outputs": [
    {
     "name": "stdout",
     "output_type": "stream",
     "text": [
      "45\n",
      "61\n",
      "66\n",
      "72\n",
      "92\n",
      "100\n",
      "104\n",
      "112\n",
      "123\n",
      "127\n",
      "145\n"
     ]
    }
   ],
   "source": [
    "for k in some_matched:\n",
    "    if some_matched[k] == 0:\n",
    "        print(k)"
   ]
  },
  {
   "cell_type": "code",
   "execution_count": 167,
   "id": "7db7c0b6-c78b-425f-8f65-b8831c400c1e",
   "metadata": {},
   "outputs": [
    {
     "data": {
      "text/plain": [
       "109"
      ]
     },
     "execution_count": 167,
     "metadata": {},
     "output_type": "execute_result"
    }
   ],
   "source": [
    "sum(predicted_question.values())"
   ]
  },
  {
   "cell_type": "code",
   "execution_count": 168,
   "id": "c8387caf-361a-4db0-a4d7-c64fb9372f3e",
   "metadata": {},
   "outputs": [
    {
     "data": {
      "text/plain": [
       "109"
      ]
     },
     "execution_count": 168,
     "metadata": {},
     "output_type": "execute_result"
    }
   ],
   "source": [
    "total = 0\n",
    "for k in some_matched:\n",
    "    if some_matched[k]:\n",
    "        total += 1\n",
    "total"
   ]
  },
  {
   "cell_type": "code",
   "execution_count": 169,
   "id": "a400739c-00c7-411e-b86d-d76e88fecb45",
   "metadata": {},
   "outputs": [
    {
     "data": {
      "text/plain": [
       "99"
      ]
     },
     "execution_count": 169,
     "metadata": {},
     "output_type": "execute_result"
    }
   ],
   "source": [
    "total = 0\n",
    "for k in some_matched:\n",
    "    if some_matched[k] == 1:\n",
    "        total += 1\n",
    "total"
   ]
  },
  {
   "cell_type": "code",
   "execution_count": 170,
   "id": "14e6ea6d-2344-4613-bec1-c59af7b4a56f",
   "metadata": {},
   "outputs": [
    {
     "data": {
      "text/plain": [
       "(0.7266666666666667, 0.66)"
      ]
     },
     "execution_count": 170,
     "metadata": {},
     "output_type": "execute_result"
    }
   ],
   "source": [
    "109 / 150, 99/150 "
   ]
  },
  {
   "cell_type": "code",
   "execution_count": 171,
   "id": "a77ff047-bdb6-425b-9dbd-6a9fc13a0289",
   "metadata": {},
   "outputs": [],
   "source": [
    "# Evaluate the precision and recall based on the total numbers of test questions\n",
    "count = 0 # total num of questions\n",
    "\n",
    "predicted_question = {} # dictionary from question to whether it was correctly predicted\n",
    "some_matched = {} # dictionary from question to how much is was correctly predicted \n",
    "\n",
    "# iterate each question to retrieve the set of predicted terms for a question\n",
    "for idx, pred_terms in enumerate(chatgpt_cot_query_results_terms):\n",
    "    \n",
    "    # the set of correct terms for this questions\n",
    "    gold_terms = query_results_terms[idx]\n",
    "    \n",
    "    # increment the number of questions\n",
    "    count += 1\n",
    "    \n",
    "    # flag: assuming this question has not predicted yet\n",
    "    predicted_correct_idx = False\n",
    "\n",
    "    if (len(pred_terms) > 0) and (len(gold_terms) > 0):\n",
    "        predicted_correct = 0\n",
    "        predicted_correct_idx = False\n",
    "        # iterate through the set of predicted terms for this question\n",
    "        for pterm in pred_terms:\n",
    "            if len(pterm) > 0: # skip an empty string\n",
    "                for gterm in gold_terms:\n",
    "                    if len(gterm) > 0:\n",
    "                        #if pterm ==  gterm:\n",
    "                        # normalize both predicted and correct terms for comparison\n",
    "                        pterm = pterm.replace(\"_\", \" \")\n",
    "                        gterm = gterm.replace(\"_\", \" \")\n",
    "                        # if the predicted term is correct, mark the question is predicted correctly\n",
    "                        # and count the number of correctly predicted terms\n",
    "                        if (pterm in gterm) or (gterm in pterm):\n",
    "                            #if pterm == gterm:\n",
    "                            predicted_correct_idx = True\n",
    "                            predicted_correct += 1\n",
    "\n",
    "        predicted_question[idx] = predicted_correct_idx\n",
    "        some_matched[idx] = predicted_correct / len(gold_terms)\n",
    "\n",
    "    # if both predicted and correct results are empty\n",
    "    elif (len(pred_terms) == 0) and (len(gold_terms) == 0):\n",
    "        predicted_question[idx] = True\n",
    "        some_matched[idx] = 1\n",
    "    # incorrectly predicted if one of them is empty\n",
    "    else:\n",
    "        predicted_question[idx] = False\n",
    "        some_matched[idx] = 0"
   ]
  },
  {
   "cell_type": "code",
   "execution_count": 172,
   "id": "2a7bd5d5-3d7a-462d-bc05-06caaa246638",
   "metadata": {},
   "outputs": [
    {
     "data": {
      "text/plain": [
       "109"
      ]
     },
     "execution_count": 172,
     "metadata": {},
     "output_type": "execute_result"
    }
   ],
   "source": [
    "# total predicted questions if one of predicted result is correct\n",
    "total_predicted_questions = sum(list(predicted_question.values()))\n",
    "total_predicted_questions"
   ]
  },
  {
   "cell_type": "code",
   "execution_count": 173,
   "id": "c2ff726d-8706-4968-9a6a-cbcbfaf6d5d7",
   "metadata": {},
   "outputs": [
    {
     "data": {
      "text/plain": [
       "103.66968152023185"
      ]
     },
     "execution_count": 173,
     "metadata": {},
     "output_type": "execute_result"
    }
   ],
   "source": [
    "# total predicted questions by adding up all predicted percentage\n",
    "total_matched = 0\n",
    "for k in some_matched:\n",
    "    if some_matched[k]:\n",
    "        total_matched += some_matched[k]\n",
    "total_matched"
   ]
  },
  {
   "cell_type": "code",
   "execution_count": 174,
   "id": "ad39ae2b-7375-44af-bf0d-1666f8f9670f",
   "metadata": {},
   "outputs": [
    {
     "data": {
      "text/plain": [
       "99.0"
      ]
     },
     "execution_count": 174,
     "metadata": {},
     "output_type": "execute_result"
    }
   ],
   "source": [
    "# total predicted questions if the set of predicted answers equals to the set of correct answers\n",
    "total = 0\n",
    "for k in some_matched:\n",
    "    if some_matched[k] == 1:\n",
    "        total += some_matched[k]\n",
    "total"
   ]
  },
  {
   "cell_type": "code",
   "execution_count": 175,
   "id": "072fae27-9108-4c53-8520-47f2d47207a5",
   "metadata": {},
   "outputs": [
    {
     "data": {
      "text/plain": [
       "(0.7266666666666667, 0.6911333333333334, 0.66)"
      ]
     },
     "execution_count": 175,
     "metadata": {},
     "output_type": "execute_result"
    }
   ],
   "source": [
    "# prediction, recall, and f1-score\n",
    "109/150, 103.67/150, 99/150"
   ]
  },
  {
   "cell_type": "markdown",
   "id": "ec5ddcec-bee1-4308-9054-f18fbfa2a7f8",
   "metadata": {},
   "source": [
    "## Explain train query in chain of thought and few-shot learning"
   ]
  },
  {
   "cell_type": "markdown",
   "id": "7e189b94-0454-49ce-b7d7-fced6722aef5",
   "metadata": {},
   "source": [
    "### Evaluate the chatgpt_train_cot_query_results: undone yet"
   ]
  },
  {
   "cell_type": "code",
   "execution_count": 176,
   "id": "30cca6a7-fc06-40be-95ec-9d75856ecd74",
   "metadata": {},
   "outputs": [
    {
     "data": {
      "text/plain": [
       "Index(['id', 'answertype', 'aggregation', 'onlydbo', 'hybrid', 'question_text',\n",
       "       'question_keywords', 'sparql_query', 'answer_head', 'answer_results',\n",
       "       'question', 'query', 'answers', 'gpt_answers_text_DBpedia-2016-04',\n",
       "       'chatgpt_answers_text_DBpedia_2016_04',\n",
       "       'gold_query_results_DBpedia_2023_03',\n",
       "       'chatgpt_answers_text_DBpedia_2023_03', 'gpt_query_DBpedia_2023_03',\n",
       "       'gpt_query_results_DBpedia_2023_03', 'chatgpt_query_DBpedia_2023_03',\n",
       "       'chatgpt_query_results_DBpedia_2023_03', 'test_question_embedding',\n",
       "       'chatgpt_train_3fewshot_query', 'chatgpt_train_3fewshot_query_results',\n",
       "       'chatgpt_train_1fewshot_query', 'chatgpt_train_1fewshot_query_results',\n",
       "       'gpt_fewshot_query', 'gpt_fewshot_query_results', 'cot',\n",
       "       'chatgpt_cot_query', 'chatgpt_cot_query_results', 'masked_question',\n",
       "       'masked_query', 'masked_cot', 'chatgpt_train_cot_fewshot_query',\n",
       "       'chatgpt_train_cot_fewshot_query_results',\n",
       "       'chatgpt_nomasked_train_cot_fewshot_query',\n",
       "       'chatgpt_nomasked_train_cot_fewshot_query_results',\n",
       "       'chatgpt_nomasked_train_only_fewshot_query',\n",
       "       'chatgpt_nomasked_train_only_fewshot_query_results',\n",
       "       'chatgpt_nomasked_train_only_3fewshot_query',\n",
       "       'chatgpt_nomasked_train_only_3fewshot_query_results', 'cot_noWordLimit',\n",
       "       'chatgpt_cot_noWordLimit_query',\n",
       "       'chatgpt_cot_noWordLimit_query_results',\n",
       "       'chatgpt_cot_query_results_2nd'],\n",
       "      dtype='object')"
      ]
     },
     "execution_count": 176,
     "metadata": {},
     "output_type": "execute_result"
    }
   ],
   "source": [
    "test.columns"
   ]
  },
  {
   "cell_type": "code",
   "execution_count": 177,
   "id": "750a6dc1-0751-47f8-8c38-c2a18dd4289f",
   "metadata": {},
   "outputs": [
    {
     "data": {
      "text/plain": [
       "(150, 46)"
      ]
     },
     "execution_count": 177,
     "metadata": {},
     "output_type": "execute_result"
    }
   ],
   "source": [
    "test.shape"
   ]
  },
  {
   "cell_type": "code",
   "execution_count": 178,
   "id": "a41227b1-b5f3-47e6-bd79-2383ca4b9738",
   "metadata": {
    "tags": []
   },
   "outputs": [
    {
     "name": "stdout",
     "output_type": "stream",
     "text": [
      "{'head': {'link': []}, 'boolean': True}\n",
      "{'head': {'link': []}, 'boolean': True}\n",
      "{'head': {'link': []}, 'boolean': True}\n",
      "{'head': {'link': []}, 'boolean': True}\n"
     ]
    }
   ],
   "source": [
    "# retrieve query results\n",
    "import ast\n",
    "\n",
    "query_results_terms = []\n",
    "count = 0\n",
    "for idx, row in test.iterrows():\n",
    "    try:\n",
    "        bindings = ast.literal_eval(row['gold_query_results_DBpedia_2023_03'])['results']['bindings']\n",
    "\n",
    "        answer_list = []\n",
    "        for item in bindings:\n",
    "            for k in item:\n",
    "                answer_list.append(item[k]['value'])\n",
    "\n",
    "        terms = []\n",
    "        for ans in answer_list:\n",
    "            terms.append(ans.replace('http://dbpedia.org/resource/', '').replace('dbo:', '').strip().lower())\n",
    "        #if terms not in answer_terms:\n",
    "        query_results_terms.append(terms)\n",
    "              \n",
    "    except:\n",
    "        print(row['gold_query_results_DBpedia_2023_03'])\n",
    "        ex_ans = ast.literal_eval(row['gold_query_results_DBpedia_2023_03'])['boolean']\n",
    "        if ex_ans:\n",
    "            query_results_terms.append([str(ex_ans).lower()])\n",
    "        else:\n",
    "            query_results_terms.append([])\n",
    "        count += 1"
   ]
  },
  {
   "cell_type": "code",
   "execution_count": 179,
   "id": "819c3aa1-bd8e-4f17-a824-b1e5a9bde0ce",
   "metadata": {
    "tags": []
   },
   "outputs": [
    {
     "name": "stdout",
     "output_type": "stream",
     "text": [
      "{'head': {'link': []}, 'boolean': False}\n",
      "{'head': {'link': []}, 'boolean': True}\n",
      "{'head': {'link': []}, 'boolean': True}\n"
     ]
    }
   ],
   "source": [
    "# retrieve gpt query results\n",
    "import ast\n",
    "\n",
    "chatgpt_cot_query_results_terms = []\n",
    "count = 0\n",
    "for idx, row in test.iterrows():\n",
    "    try:\n",
    "        bindings = ast.literal_eval(row['chatgpt_cot_query_results'])['results']['bindings']\n",
    "        #bindings = row['chatgpt_cot_query_results']['results']['bindings']\n",
    "\n",
    "        answer_list = []\n",
    "        for item in bindings:\n",
    "            for k in item:\n",
    "                answer_list.append(item[k]['value'])\n",
    "\n",
    "        terms = []\n",
    "        for ans in answer_list:\n",
    "            terms.append(ans.replace('http://dbpedia.org/resource/', '').replace('dbo:', '').strip().lower())\n",
    "        #if terms not in answer_terms:\n",
    "        chatgpt_cot_query_results_terms.append(terms)\n",
    "    except SyntaxError:\n",
    "        chatgpt_cot_query_results_terms.append(['ERROR ERROR ERROR'])\n",
    "        \n",
    "    except TypeError:\n",
    "        chatgpt_cot_query_results_terms.append(['ERROR ERROR ERROR'])\n",
    "              \n",
    "    except:\n",
    "        print(row['chatgpt_cot_query_results'])\n",
    "        ex_ans = ast.literal_eval(row['chatgpt_cot_query_results'])['boolean']\n",
    "        #ex_ans = row['chatgpt_cot_query_results']['boolean']\n",
    "        if ex_ans:\n",
    "            chatgpt_cot_query_results_terms.append([str(ex_ans).lower()])\n",
    "        else:\n",
    "            chatgpt_cot_query_results_terms.append([])\n",
    "        count += 1"
   ]
  },
  {
   "cell_type": "code",
   "execution_count": 180,
   "id": "58eca9a6-1e61-49ad-8df4-51142e44a48f",
   "metadata": {
    "collapsed": true,
    "jupyter": {
     "outputs_hidden": true
    },
    "tags": []
   },
   "outputs": [
    {
     "data": {
      "text/plain": [
       "[['mountain_time_zone'],\n",
       " ['decimus_junius_brutus_albinus',\n",
       "  'gaius_cassius_longinus',\n",
       "  'marcus_junius_brutus',\n",
       "  'pontius_aquila',\n",
       "  'pacuvius_labeo',\n",
       "  'quintus_ligarius',\n",
       "  'publius_servilius_casca',\n",
       "  'gaius_cassius_parmensis',\n",
       "  'gaius_trebonius',\n",
       "  'lucius_minucius_basilus',\n",
       "  'marcus_porcius_cato_(son_of_cato_the_younger)',\n",
       "  'tillius_cimber'],\n",
       " [],\n",
       " [],\n",
       " [],\n",
       " ['0'],\n",
       " ['vesna_pisarović', 'gizem_saka', 'kelly_kelekidou', 'cameron_cartio'],\n",
       " [],\n",
       " [],\n",
       " ['50035'],\n",
       " ['miles_&_more'],\n",
       " ['andorra', 'denmark', 'belgium', 'united_kingdom', 'sweden'],\n",
       " ['abkhazia',\n",
       "  'australia',\n",
       "  'austria',\n",
       "  'bosnia_and_herzegovina',\n",
       "  'brazil',\n",
       "  'british_columbia',\n",
       "  'canada',\n",
       "  'china',\n",
       "  'cumbria',\n",
       "  'derbyshire',\n",
       "  'devon',\n",
       "  'england',\n",
       "  'france',\n",
       "  'georgia_(country)',\n",
       "  'germany',\n",
       "  'gibraltar',\n",
       "  'gozo',\n",
       "  'greece',\n",
       "  'india',\n",
       "  'israel',\n",
       "  'italy',\n",
       "  'jamaica',\n",
       "  'japan',\n",
       "  'lancashire',\n",
       "  'malta',\n",
       "  'mexico',\n",
       "  'nepal',\n",
       "  'north_yorkshire',\n",
       "  'northern_territory',\n",
       "  'philippines',\n",
       "  'portugal',\n",
       "  'republic_of_ireland',\n",
       "  'romania',\n",
       "  'russia',\n",
       "  'serbia',\n",
       "  'slovakia',\n",
       "  'slovenia',\n",
       "  'somerset',\n",
       "  'south_africa',\n",
       "  'spain',\n",
       "  'taiwan',\n",
       "  'turkey',\n",
       "  'united_kingdom',\n",
       "  'united_states',\n",
       "  'venezuela',\n",
       "  'vietnam',\n",
       "  'wales',\n",
       "  'western_australia'],\n",
       " ['amboy_airfield',\n",
       "  'concord_naval_weapons_station',\n",
       "  'wasco_airport',\n",
       "  'dinsmore_airport_(california)',\n",
       "  'frazier_lake_airpark',\n",
       "  'garberville_airport',\n",
       "  'georgetown_airport_(california)',\n",
       "  'haigh_field_airport',\n",
       "  'hayfork_airport',\n",
       "  'sacramento_executive_airport',\n",
       "  'santa_ana_army_air_base',\n",
       "  'taft_airport',\n",
       "  'watsonville_municipal_airport',\n",
       "  'weaverville_airport',\n",
       "  'weed_airport',\n",
       "  'apple_valley_airport_(california)',\n",
       "  'marine_corps_air_station_miramar',\n",
       "  'ukiah_municipal_airport',\n",
       "  'brackett_field',\n",
       "  'kern_valley_airport',\n",
       "  'meadowlark_airport',\n",
       "  'reedley_municipal_airport',\n",
       "  \"o'sullivan_army_heliport\",\n",
       "  'oakdale_airport',\n",
       "  'oceano_county_airport',\n",
       "  'oceanside_municipal_airport',\n",
       "  'santa_cruz_island_airport',\n",
       "  'scott_valley_airport',\n",
       "  'modesto_city–county_airport',\n",
       "  'moffett_federal_airfield',\n",
       "  'monterey_regional_airport',\n",
       "  'montgomery-gibbs_executive_airport',\n",
       "  'trinidad_state_beach',\n",
       "  'trinity_center_airport',\n",
       "  'tulelake_municipal_airport',\n",
       "  'turlock_municipal_airport',\n",
       "  'california_pines_airport',\n",
       "  'camp_dunlap',\n",
       "  'cedarville_airport',\n",
       "  'sutter_county_airport',\n",
       "  'hoopa_airport',\n",
       "  'lampson_field',\n",
       "  'siskiyou_county_airport',\n",
       "  'healdsburg_municipal_airport',\n",
       "  'rio_linda_airport',\n",
       "  'rio_vista_airport',\n",
       "  'rio_vista_municipal_airport',\n",
       "  'riverside_municipal_airport',\n",
       "  'fall_river_mills_airport',\n",
       "  'firebaugh_airport',\n",
       "  'naval_air_station_alameda',\n",
       "  'naval_air_station_north_island',\n",
       "  'naval_auxiliary_landing_field_san_clemente_island',\n",
       "  'naval_outlying_landing_field_san_nicolas_island',\n",
       "  'nervino_airport',\n",
       "  'perris_valley_airport',\n",
       "  'tijuana_international_airport',\n",
       "  'willits_municipal_airport',\n",
       "  'woodlake_airport',\n",
       "  'elk_hills-buttonwillow_airport',\n",
       "  'lompoc_airport',\n",
       "  'lone_pine_airport',\n",
       "  'lost_hills_airport',\n",
       "  'oroville_municipal_airport',\n",
       "  'shelter_cove_airport',\n",
       "  'shoshone_airport',\n",
       "  'rogers_field__rogers_field__1',\n",
       "  'blue_canyon–nyack_airport',\n",
       "  'independence_airport',\n",
       "  'palm_springs_international_airport',\n",
       "  'palo_alto_airport',\n",
       "  'round_valley_airport',\n",
       "  'ruth_airport',\n",
       "  'university_airport__university_airport__1'],\n",
       " ['see list of nicknames for san francisco'],\n",
       " ['angela dorothea kasner'],\n",
       " [],\n",
       " ['andorra',\n",
       "  'vatican_city',\n",
       "  'austria',\n",
       "  'belgium',\n",
       "  'benelux',\n",
       "  'france',\n",
       "  'french_fifth_republic',\n",
       "  'frugal_four',\n",
       "  'san_marino',\n",
       "  'list_of_cypriot_billionaires_by_net_worth',\n",
       "  'estonia',\n",
       "  'european_union',\n",
       "  'european_single_market',\n",
       "  'germany',\n",
       "  'portugal',\n",
       "  'kingdom_of_wallachia',\n",
       "  'kerguelen_islands',\n",
       "  'republic_of_ireland',\n",
       "  'serbia_and_montenegro',\n",
       "  'basque_country_(greater_region)',\n",
       "  'italy',\n",
       "  'monaco',\n",
       "  'monastic_community_of_mount_athos',\n",
       "  'montenegro',\n",
       "  'tromelin_island',\n",
       "  'tyrol',\n",
       "  'adélie_land',\n",
       "  'central_european_free_trade_agreement',\n",
       "  'history_of_germany_(1990–present)',\n",
       "  'latvia',\n",
       "  'single_euro_payments_area',\n",
       "  'slovakia',\n",
       "  'slovenia',\n",
       "  'cyprus',\n",
       "  'greece',\n",
       "  'malta',\n",
       "  'finland',\n",
       "  'netherlands',\n",
       "  'principality_of_seborga',\n",
       "  'third_hellenic_republic',\n",
       "  'third_portuguese_republic',\n",
       "  'luxembourg',\n",
       "  'organisation_of_eastern_caribbean_states',\n",
       "  'overseas_france',\n",
       "  'spain',\n",
       "  'special_member_state_territories_and_the_european_union',\n",
       "  'kingdom_of_tavolara',\n",
       "  'kingdom_of_the_netherlands',\n",
       "  'kosovo',\n",
       "  'list_of_greeks_by_net_worth',\n",
       "  'lithuania',\n",
       "  'metropolitan_france',\n",
       "  'passports_in_europe',\n",
       "  'gay_and_lesbian_kingdom_of_the_coral_sea_islands',\n",
       "  'îles_des_saintes',\n",
       "  'twente',\n",
       "  'republic_of_saugeais'],\n",
       " [],\n",
       " [],\n",
       " ['4'],\n",
       " ['nils_persson_(industrialist)',\n",
       "  'gunnar_hellström',\n",
       "  'karin_ödlund',\n",
       "  'bo_börjesson',\n",
       "  'bo_almqvist',\n",
       "  'ulrika_flodin',\n",
       "  'malin_petersen',\n",
       "  'jonas_björkman',\n",
       "  'admir_bajrovic',\n",
       "  'robert_rosén',\n",
       "  'johan_lindbom',\n",
       "  'petter_wastå',\n",
       "  'elin_gustafsson',\n",
       "  'zion_nybeck',\n",
       "  'john_w._nordstrom',\n",
       "  'bror_mellberg',\n",
       "  'jonatan_nielsen',\n",
       "  'johan_stigefelt',\n",
       "  'oliver_berntzon',\n",
       "  'patrik_redo',\n",
       "  'åsa_westlund',\n",
       "  'jack_cooper_love',\n",
       "  'thobias_fredriksson',\n",
       "  'kjell_johansson_(tennis)',\n",
       "  'andreas_carlsson',\n",
       "  'andreas_jämtin',\n",
       "  'daniel_bergman',\n",
       "  'benjamin_ingrosso',\n",
       "  'fredric_anderberg',\n",
       "  'george_horvath',\n",
       "  'hampus_hellekant',\n",
       "  'hanna_stjärne',\n",
       "  'ted_brithén',\n",
       "  'erika_sunnegårdh',\n",
       "  'jacob_hård',\n",
       "  'claes-göran_hederström',\n",
       "  'jonas_gustavsson',\n",
       "  'irina_björklund',\n",
       "  'isabelle_jordansson',\n",
       "  'murder_of_marie_lilienberg_and_maria_wahlen',\n",
       "  'tony_reno',\n",
       "  'christian_lindberg',\n",
       "  'carl_schlyter',\n",
       "  'hugo_alnefelt',\n",
       "  'herman_ahlsell',\n",
       "  'malin_gramer',\n",
       "  'robin_tihi',\n",
       "  'filip_berg',\n",
       "  'linda_ulvaeus',\n",
       "  'nicklas_dahlberg',\n",
       "  'pye_engström',\n",
       "  'tom_strannegård',\n",
       "  'jörgen_windahl',\n",
       "  'oscar_linnér',\n",
       "  'sharon_dyall',\n",
       "  'staffan_scheja',\n",
       "  'stellan_bojerud',\n",
       "  'birger_bergling',\n",
       "  'michael_lindqvist',\n",
       "  'mikael_strandman',\n",
       "  'victor_lindman',\n",
       "  'nina_koppang',\n",
       "  'stina_blackstenius',\n",
       "  'gösta_von_hennigs',\n",
       "  'joakim_lundell',\n",
       "  'örjan_martinsson',\n",
       "  'dan_forsberg',\n",
       "  'lars_gabriel_andersson',\n",
       "  'mattias_hugosson',\n",
       "  'barbro_martinsson',\n",
       "  'christian_lundeberg',\n",
       "  'carl-göran_öberg',\n",
       "  'roger_hedlund_(politician)',\n",
       "  'joa_elfsberg',\n",
       "  'nicklas_bäckström',\n",
       "  'theodor_svedberg',\n",
       "  'sigge_parling',\n",
       "  'jan-åke_jonsson',\n",
       "  'rasmus_djerf',\n",
       "  'nils_liedholm',\n",
       "  'jonathan_andersson',\n",
       "  'ingvar_skogsberg',\n",
       "  'gustaf_franzen',\n",
       "  'gustav_kasselstrand',\n",
       "  'petra_granlund',\n",
       "  'carl_david_af_wirsén',\n",
       "  'helena_klange',\n",
       "  'rickard_nordstrand',\n",
       "  'rickard_rydell',\n",
       "  'kodjo_akolor',\n",
       "  'michelle_coleman',\n",
       "  'ruth_milles',\n",
       "  'anna_sjödin',\n",
       "  'herman_tuvesson',\n",
       "  'nelly_thüring',\n",
       "  'lars_wanhammar',\n",
       "  'ferry_svan',\n",
       "  'per_brandt',\n",
       "  'björn_skifs',\n",
       "  'åke_hedberg',\n",
       "  'per-owe_trollsås',\n",
       "  'anders_larsson_(wrestler)',\n",
       "  'dick_lövgren',\n",
       "  'albin_lagergren',\n",
       "  'axel_cadier',\n",
       "  'eric_engstrand',\n",
       "  'erika_holst',\n",
       "  'marcus_weinstock',\n",
       "  'margareta_svensson',\n",
       "  'pontus_netterberg',\n",
       "  'kate_jobson',\n",
       "  'mikel_cee_karlsson',\n",
       "  'poul_helgesen',\n",
       "  'torgny_söderberg',\n",
       "  'christian_maråker',\n",
       "  'sven_nylander',\n",
       "  'carl-oscar_andersson',\n",
       "  'lars_lagerborg',\n",
       "  'lasse_diding',\n",
       "  'dafina_zeqiri',\n",
       "  'manne_johnson',\n",
       "  'niclas_eliasson',\n",
       "  'pia_mårtensson',\n",
       "  'pär-olof_ohlsson',\n",
       "  'jörgen_warborn',\n",
       "  'stefan_selaković',\n",
       "  'daniel_berg_(evangelist)',\n",
       "  'lewi_pethrus',\n",
       "  'anders_dahl',\n",
       "  'ernst_antevs',\n",
       "  'axel_eriksson_(rower)',\n",
       "  'marcus_grate',\n",
       "  'maria_gripe',\n",
       "  'tore_johansson_(rower)',\n",
       "  'christer_strömholm',\n",
       "  'göran_gillinger',\n",
       "  'gösta_eriksson_(rowing)',\n",
       "  'per_olof_sundman',\n",
       "  'sven_tisell',\n",
       "  'eva_zeikfalvy',\n",
       "  'jesper_rönndahl',\n",
       "  'ingemund_bengtsson',\n",
       "  'karin_andersson_(politician)',\n",
       "  'lisa_aschan',\n",
       "  'pär_hansson',\n",
       "  'suzanne_sjögren',\n",
       "  'malin_levenstad',\n",
       "  'oscar_jonsson_(footballer)',\n",
       "  'tor_andræ',\n",
       "  'herbert_adolfsson',\n",
       "  'august_bondeson',\n",
       "  'alexander_ytterell',\n",
       "  'anton_karlsson',\n",
       "  'mattias_tedenby',\n",
       "  'conny_ivarsson',\n",
       "  'gun_jönsson',\n",
       "  'helena_bouveng',\n",
       "  'lena_philipsson',\n",
       "  'thomas_h._jonasson',\n",
       "  'bo_wirebrand',\n",
       "  'kwamena_turkson',\n",
       "  'johan_franzén',\n",
       "  'tomas_nord',\n",
       "  'martin_wiberg',\n",
       "  'rasmus_jönsson',\n",
       "  'maria_aronsson',\n",
       "  'ragnar_ericzon',\n",
       "  'anders_mannelqvist',\n",
       "  'axel_gavelin',\n",
       "  'bengt-erik_grahn',\n",
       "  'maria_magdalena_mathsdotter',\n",
       "  'jan_sandström_(composer)',\n",
       "  'mattias_wennerberg',\n",
       "  'linda_lindorff',\n",
       "  'kristina_hugosson',\n",
       "  'andreas_ravelli',\n",
       "  'astrid_lindgren',\n",
       "  'fritz_carlson',\n",
       "  'eric_krönmark',\n",
       "  'schamyl_bauman',\n",
       "  'christoffer_törngren',\n",
       "  'gösta_holmér',\n",
       "  'jesper_svensson_(bowler)',\n",
       "  'linus_hultström',\n",
       "  'thomas_rundqvist',\n",
       "  'erik_baumann',\n",
       "  'simon_petersson__simon_petersson__1',\n",
       "  'magnus_svensson_(footballer)',\n",
       "  'karl-uno_olofsson',\n",
       "  'karolina_karlsson',\n",
       "  'göran_greider',\n",
       "  'göran_persson',\n",
       "  'rune_åhlund',\n",
       "  'åke_green',\n",
       "  'gunnar_helén',\n",
       "  'kilian_stobæus',\n",
       "  'sven_hugo_borg',\n",
       "  'stina_segerström',\n",
       "  'gustaf_larson',\n",
       "  'alf_segersäll',\n",
       "  'kerstin_af_jochnick',\n",
       "  'victor_kullberg',\n",
       "  'dennis_löfqvist',\n",
       "  'alexander_gerndt',\n",
       "  'betty_pettersson',\n",
       "  'fredrika_stenhammar',\n",
       "  'anna_gardell-ericson',\n",
       "  'anna_jansson',\n",
       "  'eva_petersén',\n",
       "  'jacob_madsen',\n",
       "  'jane_gylling',\n",
       "  'mattias_nilsson_(ice_hockey)',\n",
       "  'clara_klingenström',\n",
       "  'torbjörn_harrysson',\n",
       "  'torsten_sylvan',\n",
       "  'adolph_cederström',\n",
       "  'christer_löfqvist',\n",
       "  'susanne_alfvengren',\n",
       "  'hjördis_petterson',\n",
       "  'lars_gullin',\n",
       "  'jacob_niclas_ahlström',\n",
       "  'dagmar_edqvist',\n",
       "  'gunnar_smoliansky',\n",
       "  'gustaf_lindström',\n",
       "  'robert_dahlqvist',\n",
       "  'jesper_mattsson_(footballer)',\n",
       "  'jesper_skalberg_karlsson',\n",
       "  'peter_loob',\n",
       "  'peter_westberg',\n",
       "  'thomas_löfkvist',\n",
       "  'tony_olsson__tony_olsson__1',\n",
       "  'axel_ohlin',\n",
       "  'carl_erengisle_hyltén-cavallius',\n",
       "  'gunnar_olof_hyltén-cavallius',\n",
       "  'bengt_frännfors',\n",
       "  'lars_isovaara',\n",
       "  'eilert_määttä',\n",
       "  'freddie_ljungberg',\n",
       "  'gustav_fridolin',\n",
       "  'waloddi_weibull',\n",
       "  'carl-adam_stjernswärd',\n",
       "  'mats_lilienberg',\n",
       "  'thed_björk',\n",
       "  'lars_ivarsson_(sport_shooter)',\n",
       "  'lars-göran_nilsson',\n",
       "  'jakob_hellman__jakob_hellman__1',\n",
       "  'angelica_bengtsson',\n",
       "  'david_sundin',\n",
       "  'carl_personne',\n",
       "  'andreas_johansson_(footballer,_born_1978)',\n",
       "  'daniel_poohl',\n",
       "  'david_andersson_(speed_skater)',\n",
       "  'bengt_lindblad',\n",
       "  'saraha',\n",
       "  'william_segerdahl',\n",
       "  'greta_magnusson',\n",
       "  'bror_bügler',\n",
       "  'bror_fock',\n",
       "  'nina_larsson',\n",
       "  'adam_strohm',\n",
       "  'agnes_(singer)',\n",
       "  'christa_bäckman',\n",
       "  'magnus_knutsson',\n",
       "  'linus_öberg',\n",
       "  'lisbeth_åkerman',\n",
       "  'nicklas_utgren',\n",
       "  'kalle_hult',\n",
       "  'lulu_carter',\n",
       "  'birger_sjöberg',\n",
       "  'björn_johansson_(cyclist)',\n",
       "  'liva_järnefelt',\n",
       "  'anna_bågenholm',\n",
       "  'arvid_högbom',\n",
       "  'peter_olofsson_(footballer)',\n",
       "  'stefan_jacobsson_(weightlifter)',\n",
       "  'hans_peterson__hans_peterson__1',\n",
       "  'jan_huokko',\n",
       "  'märta_ekström',\n",
       "  'felix_sandman',\n",
       "  'niklas_lundström',\n",
       "  'anders_knape',\n",
       "  'victor_sjöström',\n",
       "  'astrid_assefa',\n",
       "  'nils_hasselmo',\n",
       "  'selma_lagerlöf',\n",
       "  'charlotte_karlinder',\n",
       "  'carl_winberg',\n",
       "  'lars-eric_kjellgren',\n",
       "  'göran_wahlenberg',\n",
       "  'magdalena_andersson_(moderate)',\n",
       "  'peter_fjellstedt',\n",
       "  'karin_johannesson',\n",
       "  'viktor_claesson',\n",
       "  'alexander_johansson',\n",
       "  'alexander_lundh',\n",
       "  'freddy_söderberg',\n",
       "  'anna_tenje',\n",
       "  'annie_lööf',\n",
       "  'annika_nessvold',\n",
       "  'eva-britt_svensson',\n",
       "  'glenn_ståhl',\n",
       "  'mats_odell',\n",
       "  'mats_werner',\n",
       "  'josef_elvby',\n",
       "  'stig_sjölin',\n",
       "  'sven_johansson_(sport_shooter)',\n",
       "  'carl-axel_heiknert',\n",
       "  'lars_gustafsson_(wrestler)',\n",
       "  'simon_thern',\n",
       "  'niklas_hult',\n",
       "  'theresa_traore_dahlberg',\n",
       "  'elbasan_rashani',\n",
       "  'elize_ryd',\n",
       "  'ellen_allgurin',\n",
       "  'björn_lekman',\n",
       "  'patrik_näslund',\n",
       "  'michael_svensson',\n",
       "  'morgan_hultman',\n",
       "  'karl_skoog',\n",
       "  'helge_johansson',\n",
       "  'assar_rönnlund',\n",
       "  'teodor_peterson',\n",
       "  'janet_jonsson',\n",
       "  'niklas_sivelöv',\n",
       "  'iréne_grahn',\n",
       "  'lapp-lisa',\n",
       "  'göran_malkar',\n",
       "  'nikanor_teratologen',\n",
       "  'stefan_attefall',\n",
       "  'barbro_holmberg',\n",
       "  'torgny_lindgren',\n",
       "  'stig_strand',\n",
       "  'katarina_barruk',\n",
       "  'elisabeth_svantesson',\n",
       "  'love_larson',\n",
       "  'knut_billing',\n",
       "  'åke_hedvall',\n",
       "  'alf_svensson',\n",
       "  'bengt_anders_euphrasén',\n",
       "  'evelyn_mok',\n",
       "  'brinolfo_algotsson',\n",
       "  'katarina_wigander',\n",
       "  'mauro_scocco',\n",
       "  'emma_octavia_lundberg',\n",
       "  'bero_(bishop_of_finland)',\n",
       "  'jonas_von_essen',\n",
       "  'j._hugo_aronson',\n",
       "  'adam_afzelius',\n",
       "  'charles_h._olin',\n",
       "  'johan_andersson_(artist)',\n",
       "  'leonard_gyllenhaal',\n",
       "  'per_abraham_roman',\n",
       "  'per_axel_rydberg',\n",
       "  'thomas_g:son',\n",
       "  'thure_kumlien',\n",
       "  'kapten_röd',\n",
       "  'helena_of_skövde',\n",
       "  'dead_(musician)',\n",
       "  'nils_engdahl',\n",
       "  'nicklas_heinerö',\n",
       "  'ragnar_stare',\n",
       "  'asta_ekenvall',\n",
       "  'hans_hedberg',\n",
       "  'ika_peyron',\n",
       "  'marianne_gyllenhammar',\n",
       "  'johnny_skalin',\n",
       "  'monica_sjöö',\n",
       "  'myanna_buring',\n",
       "  'christer_wallin',\n",
       "  'style_of_eye',\n",
       "  'sven-olof_sällström',\n",
       "  'carina_jaarnek',\n",
       "  'lars_bern',\n",
       "  'helga_thomas',\n",
       "  'roland_nilsson_(shot_putter)',\n",
       "  'roland_ströhm',\n",
       "  'johan_nordenfalk',\n",
       "  'eric_laurent_(actor)',\n",
       "  'björn_forslund_(speed_skater)',\n",
       "  'kjell_isaksson',\n",
       "  'alice_babs',\n",
       "  'weyler_hildebrand',\n",
       "  'emil_andrae',\n",
       "  'emil_forselius',\n",
       "  'erik_bladström',\n",
       "  'marcus_eriksson_(ice_hockey)',\n",
       "  'marianne_bengtsson',\n",
       "  'ulf_grenander',\n",
       "  'bahrudin_atajić',\n",
       "  'sven-eric_johanson',\n",
       "  'sven_johansson_(canoeist)',\n",
       "  'frans_wilhelm_odelmark',\n",
       "  'carl_von_gerber',\n",
       "  'gösta_bernhard',\n",
       "  'magnus_broo',\n",
       "  'magnus_härenstam',\n",
       "  'farah_abadi',\n",
       "  'floyd_lagercrantz',\n",
       "  'jens_nilsson',\n",
       "  'lena_olovsson',\n",
       "  'lennart_green',\n",
       "  'lennart_jonsson',\n",
       "  'niklas_eriksson',\n",
       "  'thomas_ravelli',\n",
       "  'lotta_tejle',\n",
       "  'ola_källenius',\n",
       "  'stefan_edberg',\n",
       "  'yngve_brilioth',\n",
       "  'kata_dalström',\n",
       "  'gustaf_de_frumerie',\n",
       "  'ellen_key',\n",
       "  'sophie_adlersparre__sophie_adlersparre__1',\n",
       "  'alva_olsson',\n",
       "  'aly_keita',\n",
       "  'amanda_agestav',\n",
       "  'anders_edholm',\n",
       "  'daniel_rydmark',\n",
       "  'david_engström',\n",
       "  'victor_lindelöf',\n",
       "  'viktor_kjäll',\n",
       "  'dennis_collander',\n",
       "  'dennis_everberg',\n",
       "  'dennis_rasmussen_(ice_hockey)',\n",
       "  'bengt_morberg',\n",
       "  'frans_otto_eriksson',\n",
       "  'frida_hansdotter',\n",
       "  'fronda',\n",
       "  'hampus_finndell',\n",
       "  'hanna_daglund',\n",
       "  'hans_klinga',\n",
       "  'hans_peter_anvin',\n",
       "  'olaus_rudbeck',\n",
       "  'ann_petrén',\n",
       "  'annette_jörnlind',\n",
       "  'ant_wan',\n",
       "  'anton_hagman',\n",
       "  'emma_wiesner',\n",
       "  'ester_textorius',\n",
       "  'marcus_degerlund',\n",
       "  'maria_bonnevie',\n",
       "  'maria_montazami',\n",
       "  'marie_lundqvist-björk',\n",
       "  'markus_ljungh',\n",
       "  'martina_thörn',\n",
       "  'pontus_holmberg',\n",
       "  'pontus_kåmark',\n",
       "  'ulf_andersson',\n",
       "  'janne_niskala',\n",
       "  'kenth_karlsson',\n",
       "  'nils_bolander',\n",
       "  'john_pettersson_(boxer)',\n",
       "  'jonas_heed',\n",
       "  'jonna_adlerteg',\n",
       "  'jonny_rödlund',\n",
       "  'jonte_grundelius',\n",
       "  'sebastian_aldén',\n",
       "  'inga-britt_lorentzon',\n",
       "  'nanna_svartz',\n",
       "  'torbjörn_nilsson',\n",
       "  'ana_diaz_(swedish_singer)__ana_diaz__1',\n",
       "  'diego_montiel_(footballer,_born_1995)__diego_montiel__1',\n",
       "  'agneta_eriksson',\n",
       "  'christofer_fjellner',\n",
       "  'sven-göran_johansson',\n",
       "  'carl_harstrom',\n",
       "  'carl_hårleman_(gymnast)',\n",
       "  'cassandra_korhonen',\n",
       "  'lars-magnus_lindgren',\n",
       "  'lars_gustafsson',\n",
       "  'lars_pettersson_(ice_hockey)',\n",
       "  'sofia_ahlbom',\n",
       "  'dagmar_lange',\n",
       "  'greger_artursson',\n",
       "  'gunnar_sköld',\n",
       "  'gustav_lindh',\n",
       "  'göran_karlsson',\n",
       "  'görel_thurdin',\n",
       "  'henrik_barruk',\n",
       "  'magnus_lindgren',\n",
       "  'magnus_öström',\n",
       "  'mai_zetterling',\n",
       "  'malin_reuterwall',\n",
       "  'roger_norman_(athlete)',\n",
       "  'roger_olsson',\n",
       "  'claus_zaar',\n",
       "  'filip_backlund',\n",
       "  'filip_johansson_(ice_hockey)',\n",
       "  'filip_tronêt',\n",
       "  'jens_björklund',\n",
       "  'jens_eriksson',\n",
       "  'jesper_wallstedt',\n",
       "  'johan_jonsson',\n",
       "  'johannes_browallius',\n",
       "  'lena_adomat',\n",
       "  'lennart_eriksson_(wrestler)',\n",
       "  'lennart_nelson',\n",
       "  'linda_thelenius',\n",
       "  'lisa_gullberg',\n",
       "  'niclas_lundgren',\n",
       "  'niklas_backman',\n",
       "  'per-arne_andersson',\n",
       "  'peter_andersson_(basketball)',\n",
       "  'peter_carlström',\n",
       "  'peter_karlsson_(ice_hockey)',\n",
       "  'peter_markstedt',\n",
       "  'promoe',\n",
       "  'pugh_rogefeldt',\n",
       "  'puppet_(artist)',\n",
       "  'thomas_lejdström',\n",
       "  'ebbot_lundberg',\n",
       "  'elisabeth_westman',\n",
       "  'karl_strandman',\n",
       "  'olof_thunberg',\n",
       "  'sigfrid_roos',\n",
       "  'stefan_eriksson_(diplomat)',\n",
       "  'stefan_pettersson_(footballer)',\n",
       "  'bobo_stenson',\n",
       "  'mikael_backlund',\n",
       "  'patrik_berglund',\n",
       "  'patrik_isaksson_(swimmer)',\n",
       "  'paula_bieler',\n",
       "  'åke_ohberg',\n",
       "  'åsa_linderborg',\n",
       "  'sune_waldimir',\n",
       "  'helge_andersson_(footballer,_born_1907)__helge_andersson__1',\n",
       "  'johan_anderson__johan_anderson__1',\n",
       "  'åsa_windahl',\n",
       "  'anitra_steen',\n",
       "  'johannes_gezelius_the_elder',\n",
       "  'lennart_hellsing',\n",
       "  'lennart_von_post',\n",
       "  'fred_warngård',\n",
       "  'birgit_nilsson__birgit_nilsson__1',\n",
       "  'lisa_larsson',\n",
       "  'eric_wickman',\n",
       "  'erik_pettersson_(cyclist)',\n",
       "  'marianne_andersson',\n",
       "  'jonathan_stenbäcken',\n",
       "  'monica_rundqvist',\n",
       "  'sture_pettersson',\n",
       "  'johan_petter_johansson',\n",
       "  'tomas_pettersson',\n",
       "  'åke_thelning',\n",
       "  'eric_erickson_(baseball)',\n",
       "  'fredrik_andersson_(footballer,_born_1988)',\n",
       "  'jan_björklund',\n",
       "  'daniel_solander',\n",
       "  'bengt_pohjanen',\n",
       "  'rebecca_stenberg',\n",
       "  'irma_johansson',\n",
       "  'charlotte_kalla',\n",
       "  'linda_olofsson_(swimmer)',\n",
       "  'erik_edlund',\n",
       "  'barbro_hjalmarsson',\n",
       "  'johan_gunnar_andersson',\n",
       "  'karin_bergöö_larsson',\n",
       "  'rutger_sernander',\n",
       "  'karolina_olsson',\n",
       "  'anders_gärderud',\n",
       "  'emil_berger',\n",
       "  'mario_simunovic',\n",
       "  'markus_karlsson_(footballer,_born_1979)',\n",
       "  'ulf_ottosson',\n",
       "  'ralf_edström',\n",
       "  'nils_landgren_(musician)',\n",
       "  'sebastian_henriksson',\n",
       "  'lars_heineman',\n",
       "  'göran_hägglund',\n",
       "  'per_stridfeldt',\n",
       "  'peter_samuelsson',\n",
       "  'tommy_samuelsson',\n",
       "  'ola_toivonen',\n",
       "  'olle_åhlund',\n",
       "  'oscar_holter',\n",
       "  'ulf_sterner',\n",
       "  'david_johansson_(skier)',\n",
       "  'lars_paul_esbjörn',\n",
       "  'lisa_hurtig',\n",
       "  'ebba_andersson_(cross-country_skier)',\n",
       "  'jörgen_brink',\n",
       "  'olle_barkander',\n",
       "  'karin_park',\n",
       "  'bengt_lagercrantz',\n",
       "  'meta_velander',\n",
       "  'lars-olof_höök',\n",
       "  'gunnar_heckscher',\n",
       "  'johan_eliasch',\n",
       "  'per_gustafsson_banér',\n",
       "  'viktor_frisk',\n",
       "  'carl-einar_häckner',\n",
       "  'martin_hellgren',\n",
       "  'magnus_celsius',\n",
       "  'ove_berg',\n",
       "  'ramon_pascal_lundqvist',\n",
       "  'erik_hjelm',\n",
       "  'nathan_görling',\n",
       "  'moa_lignell',\n",
       "  'christian_bäckman',\n",
       "  'gustaf_tenggren',\n",
       "  'carl_gabriel_adelsköld',\n",
       "  'folke_sandström',\n",
       "  'johan_elmander',\n",
       "  'lennart_bergelin',\n",
       "  'peter_elmander',\n",
       "  'oliver_zandén',\n",
       "  'mimmi_löfwenius',\n",
       "  'patrik_elmander',\n",
       "  'annika_fredén',\n",
       "  'marianne_samuelsson',\n",
       "  'jan_andersson_(speedway_rider)',\n",
       "  'claes_adelsköld',\n",
       "  'murder_of_marie_lilienberg_and_maria_wahlen__maria_wahlen__1',\n",
       "  'gösta_pettersson',\n",
       "  'axel_holmström_(ice_hockey)',\n",
       "  'fredrik_lindgren_(ice_hockey)',\n",
       "  'ted_johansson',\n",
       "  'verner_lundström',\n",
       "  'linus_andersson',\n",
       "  'patrik_enberg',\n",
       "  'dan_labraaten',\n",
       "  'benny_kohlberg',\n",
       "  'erik_de_la_rose',\n",
       "  'erland_brand',\n",
       "  'martin_larsson_(skier)',\n",
       "  'jacob_de_la_rose',\n",
       "  'kenny_bräck',\n",
       "  'gunnar_johansson_(composer)',\n",
       "  'agnes_hedengård',\n",
       "  'dotter_(singer)',\n",
       "  'solveig_egman-andersson',\n",
       "  'gunnar_andersson_(footballer)',\n",
       "  'johan_olofsson_(ice_hockey)',\n",
       "  'björn_j:son_lindh',\n",
       "  'linnea_liljegärd',\n",
       "  'oskar_lang',\n",
       "  'mikael_johansson_(ice_hockey,_born_1985)',\n",
       "  'johan_kristoffersson__johan_kristoffersson__1',\n",
       "  'august_warberg',\n",
       "  'bror_rexed',\n",
       "  'bertil_boo',\n",
       "  'ebbe_gustaf_bring',\n",
       "  'elis_fischer',\n",
       "  'ove_könig',\n",
       "  'bo_könig',\n",
       "  'olle_anderberg',\n",
       "  'hanna_sköld',\n",
       "  'erik_schultz-eklund',\n",
       "  'kenneth_johansson',\n",
       "  'nils_åman',\n",
       "  'gustav_kinn',\n",
       "  'maja_åström',\n",
       "  'linus_sundström',\n",
       "  'åke_kastlund',\n",
       "  'viktor_thorn_(cross-country_skier)',\n",
       "  'knut_fredriksson',\n",
       "  'uno_fransson',\n",
       "  'ingvar_rydell',\n",
       "  'john_ongman',\n",
       "  'liselotte_johansson',\n",
       "  'jarl_borssén',\n",
       "  'andré_myhrer',\n",
       "  'olle_wiklund',\n",
       "  'antonia_ramel',\n",
       "  'nils_dardel',\n",
       "  'stina_lovisa_estberg',\n",
       "  'tommy_westlund',\n",
       "  'per-olov_ahrén',\n",
       "  'bo_josefsson',\n",
       "  'anders_berglind',\n",
       "  'nils_nilsson_(ice_hockey)',\n",
       "  'tina_flognman',\n",
       "  'olle_boström_(archer)',\n",
       "  'stefan_holm',\n",
       "  'sten_tolgfors',\n",
       "  'pehr_g._holmes',\n",
       "  'john_ljunggren',\n",
       "  'sven_windahl',\n",
       "  'magnus_carlsson',\n",
       "  'gustaf_klarén',\n",
       "  'lena_andersson_(singer)',\n",
       "  'åke_söderblom',\n",
       "  'kerstin_granlund',\n",
       "  'anette_fanqvist',\n",
       "  'lars_nelson',\n",
       "  'nike_bent',\n",
       "  'marie_svan',\n",
       "  'bengt_lindskog',\n",
       "  'gerhard_gerhardsson',\n",
       "  'fredrik_sjöström',\n",
       "  'lennart_back',\n",
       "  'ebbe_siönäs',\n",
       "  'rasmus_sjöstedt',\n",
       "  'jonas_almén',\n",
       "  'tobias_carlsson',\n",
       "  'johan_nilsson_i_skottlandshus',\n",
       "  'elizabeth_hesselblad',\n",
       "  'mollie_lindén',\n",
       "  'bedroom_eyes_(musician)',\n",
       "  'carl-erik_asplund',\n",
       "  'göthe_grefbo',\n",
       "  'roland_grip',\n",
       "  'göte_hagström',\n",
       "  'malin_levanon',\n",
       "  'lotta_lotass',\n",
       "  'daniel_hallingström',\n",
       "  'magda_holm',\n",
       "  'evert_nilsson',\n",
       "  'adolf_appellöf',\n",
       "  'paul_palén',\n",
       "  'gustav_larsson',\n",
       "  'mimi_nelson',\n",
       "  'emil_magnusson',\n",
       "  'klas_särner',\n",
       "  'anders_olsson_(swimmer)',\n",
       "  'sebastian_eriksson_(racing_driver)',\n",
       "  'monica_zetterlund',\n",
       "  'christer_sjögren',\n",
       "  'johan_erkgärds',\n",
       "  'linus_persson_(ice_hockey)',\n",
       "  'stefan_borsch',\n",
       "  'stefan_erkgärds',\n",
       "  'bo_svanberg',\n",
       "  'sofie_skoog',\n",
       "  'mikael_martinsson_(ski_jumper)',\n",
       "  'emma_bengtsson',\n",
       "  'sara-lena_bjälkö',\n",
       "  'gärda_svensson',\n",
       "  'jennie_nilsson',\n",
       "  'leif_erland_andersson',\n",
       "  'bengt_johansson_(wrestler)',\n",
       "  'elsa_wallenberg',\n",
       "  'matilda_ernkrans',\n",
       "  'åke_dahlqvist',\n",
       "  'björn_nordqvist',\n",
       "  'dan_beutler',\n",
       "  'tor-arne_fredheim',\n",
       "  'sune_wretling',\n",
       "  'carl_hallsthammar',\n",
       "  'sofi_flink',\n",
       "  'thore_skogman',\n",
       "  'andreas_messing',\n",
       "  'roine_carlsson',\n",
       "  'andreas_johansson_(footballer,_born_1982)',\n",
       "  'vidar_johansson',\n",
       "  'viktoria_bengtsson',\n",
       "  'bengt_i._samuelsson',\n",
       "  'benkt-åke_benktsson',\n",
       "  'fredrik_andersson_(footballer,_born_1971)',\n",
       "  'samuel_johannesson',\n",
       "  'sylve_bengtsson',\n",
       "  'annelie_nordström',\n",
       "  'eric_smith_(swedish_footballer)',\n",
       "  'ernst_wigforss',\n",
       "  'eva_eriksson_(illustrator)',\n",
       "  'martin_bengtsson_(musician)',\n",
       "  'pontus_ek',\n",
       "  'ulf_wakenius',\n",
       "  'jan_olsson_(footballer,_born_1942)',\n",
       "  'janne_andersson',\n",
       "  'mats_jingblad',\n",
       "  'rasmus_wiedesheim-paul',\n",
       "  'john_pettersson_(football_manager)',\n",
       "  'jonas_holmkvist',\n",
       "  'bashkim_ajdini',\n",
       "  'basshunter',\n",
       "  'ingrid_wallberg',\n",
       "  'isak_pettersson',\n",
       "  'mona_gustafsson',\n",
       "  'christopher_amott',\n",
       "  'susanne_ljungskog',\n",
       "  'sven_erlander',\n",
       "  'carl_bildt',\n",
       "  'dusan_djuric',\n",
       "  'sofia_arvidsson',\n",
       "  'gustav_nyquist',\n",
       "  'magnus_haglund',\n",
       "  'roland_johansson_(boxer)',\n",
       "  'rolf_peterson',\n",
       "  'joe_sise',\n",
       "  'joel_anell',\n",
       "  'johan_settergren',\n",
       "  'johan_staël_von_holstein',\n",
       "  'johannes_rydberg',\n",
       "  'niclas_alexandersson',\n",
       "  'niklas_kvarforth',\n",
       "  'per-anders_sääf',\n",
       "  'per_gessle',\n",
       "  'peter_larsson_(footballer,_born_1984)',\n",
       "  'pär_bengtsson',\n",
       "  'tibor_joza',\n",
       "  'edvin_kurtulus',\n",
       "  'jörgen_persson',\n",
       "  'karl_paul_kristian_gylche',\n",
       "  'ola_lindgren',\n",
       "  'olle_hagnell',\n",
       "  'stefan_lindqvist',\n",
       "  'håkan_svensson',\n",
       "  'ika_nord',\n",
       "  'michael_amott',\n",
       "  'åsa_svensson_(table_tennis)',\n",
       "  'mikael_mogren',\n",
       "  'charlie_weimers',\n",
       "  'dan-ola_eriksson',\n",
       "  'gina_jacobi',\n",
       "  'helge_palmcrantz',\n",
       "  'andrea_myrander',\n",
       "  'daniel_bramme',\n",
       "  'fredrik_reinfeldt',\n",
       "  'william_eklund',\n",
       "  'emma_molin',\n",
       "  'maria_larsson_(ice_hockey)',\n",
       "  'adam_pålsson',\n",
       "  'cain_dotson',\n",
       "  'christian_eklund',\n",
       "  'karin_sökare',\n",
       "  'stefan_karlsson_(footballer)',\n",
       "  'stefan_nystrand',\n",
       "  'kristian_huselius',\n",
       "  'hans_stiglund',\n",
       "  'tomas_johansson_(wrestler)',\n",
       "  'sigrid_fridman',\n",
       "  'ida_karkiainen',\n",
       "  'anna_alm',\n",
       "  'mariette_hansson',\n",
       "  'eric_norelius',\n",
       "  'karin_svingstedt',\n",
       "  'eric_ny',\n",
       "  'erik_ersberg',\n",
       "  'martin_wave',\n",
       "  'claes_bengtsson',\n",
       "  'cecilia_ragnarsson',\n",
       "  'carl_barcklind',\n",
       "  'lars_engqvist',\n",
       "  'åke_w._sjöberg',\n",
       "  'lena_hjelm-wallén',\n",
       "  'erik_hassle',\n",
       "  'sarah_sjöström',\n",
       "  'fredrik_fortkord',\n",
       "  'katharina_stenbeck',\n",
       "  'hugo_söderström',\n",
       "  'simon_aspelin',\n",
       "  'bengt_k._å._johansson',\n",
       "  'gunnar_sjölin',\n",
       "  'carolina_klüft',\n",
       "  'anders_bergström_(weightlifter)',\n",
       "  'valter_nyström',\n",
       "  'frida_nordstrand',\n",
       "  'anna_wijk',\n",
       "  'mark_shail',\n",
       "  'kim_källström',\n",
       "  'sara_hector',\n",
       "  'ingrid_goude',\n",
       "  'totta_näslund',\n",
       "  'stig_jäder',\n",
       "  'lars_arnesson',\n",
       "  'nell_sjöström',\n",
       "  'karin_larsson_(archer)',\n",
       "  'louise_erixon',\n",
       "  'samuel_asklöf',\n",
       "  'johan_alcén',\n",
       "  'birgit_nordin',\n",
       "  'helena_olsson_smeby',\n",
       "  'bengt_asplund',\n",
       "  'arne_nyberg',\n",
       "  'ragnar_bergstedt',\n",
       "  'torsten_lindqvist',\n",
       "  'johan_edman',\n",
       "  'ingrid_bruce',\n",
       "  'karin_falck',\n",
       "  'michael_stevenson_(cyclist)',\n",
       "  'wilhelm_arwe',\n",
       "  'amwin',\n",
       "  'bernt_ström',\n",
       "  'arbër_zeneli',\n",
       "  'carl_erik_mannerheim',\n",
       "  'jens_jakobs',\n",
       "  'john_filip_nordlund',\n",
       "  'niklas_almqvist',\n",
       "  'patrik_norén',\n",
       "  'ulla_skoog',\n",
       "  'jonas_larholm',\n",
       "  'isabelle_gulldén',\n",
       "  'johan_eurén',\n",
       "  'ann-marie_karlsson',\n",
       "  'calle_halfvarsson',\n",
       "  'fredrik_mossberg',\n",
       "  'olle_häger',\n",
       "  'jacob_tersmeden',\n",
       "  'gustav-adolf_sjöberg',\n",
       "  'anders_södergren',\n",
       "  'viktoria_karlsson',\n",
       "  'hans_strand',\n",
       "  'anita_hellström',\n",
       "  'anna_asp',\n",
       "  'aron_modig',\n",
       "  'marcus_olofsson',\n",
       "  'ulf_åkerblom',\n",
       "  'ulla_bjerne',\n",
       "  'jan-erik_danielsson',\n",
       "  'jan_ekholm',\n",
       "  'jan_johansson_(jazz_musician)',\n",
       "  'mathias_florén',\n",
       "  'jukka_ikäläinen',\n",
       "  'abraham_bäck',\n",
       "  'gunnar_johansson_(water_polo)',\n",
       "  'johan_oremo',\n",
       "  'olle_brudsten',\n",
       "  'stellan_claësson',\n",
       "  'åke_lindström',\n",
       "  'petter_hansson__petter_hansson__1',\n",
       "  'viktor_åkerblom_nilsson',\n",
       "  'jan_hellström',\n",
       "  'jan_svensson_(footballer,_born_1956)',\n",
       "  'laurentius_petri_gothus',\n",
       "  'laurentius_paulinus_gothus',\n",
       "  'gustaf_skarsgård',\n",
       "  'mari_jungstedt',\n",
       "  'daniel_despotovic',\n",
       "  'viktor_lööv',\n",
       "  'dennis_bozic',\n",
       "  'alexander_lagerström',\n",
       "  'alexander_michel_melki',\n",
       "  'bert_robertsson',\n",
       "  'fredrik_holmlund',\n",
       "  'frida_eldebrink',\n",
       "  'hasse_aro',\n",
       "  'erik_abrahamsson',\n",
       "  'erik_johansson_(ice_hockey)',\n",
       "  'erik_ring_(footballer)',\n",
       "  'marcus_sörensen',\n",
       "  'bror_lagercrantz',\n",
       "  'jan_guillou',\n",
       "  'kennedy_bakircioglu',\n",
       "  'kenneth_kennholt',\n",
       "  'kevin_bisse',\n",
       "  'mats_christéen',\n",
       "  'mattias_bylund',\n",
       "  'rebecka_hemse',\n",
       "  'bertil_duroj',\n",
       "  'lars_andersson_(politician)',\n",
       "  'isa_demir',\n",
       "  'nahir_besara',\n",
       "  'nahir_oyal',\n",
       "  'nanna_hoffman',\n",
       "  'suleyman_sleyman',\n",
       "  'sune_andersson_(footballer,_born_1921)',\n",
       "  'sven_thunman',\n",
       "  'carl_abrahamsson',\n",
       "  'carl_cederström',\n",
       "  'douglas_lögdal',\n",
       "  'gustav_possler',\n",
       "  'göran_carmback',\n",
       "  'göte_blomqvist',\n",
       "  'henry_johansson',\n",
       "  'rickard_fagerlund',\n",
       "  'rickard_sjöberg',\n",
       "  'robert_carlsson_(ice_hockey,_born_1977)',\n",
       "  'felix_michel_melki',\n",
       "  'joakim_eriksson',\n",
       "  'johan_engström',\n",
       "  'leif_johansson_(tennis)',\n",
       "  'leif_wahlstedt',\n",
       "  'niclas_bergfors',\n",
       "  'peter_asplund',\n",
       "  'raby_george',\n",
       "  'thord_flodqvist',\n",
       "  'tobias_borg',\n",
       "  'tom_liden',\n",
       "  'tom_wandell',\n",
       "  'eddie_moussa',\n",
       "  'jörgen_bemström',\n",
       "  'karin_rådström',\n",
       "  'louay_chanko',\n",
       "  'lukas_kilström',\n",
       "  'oskar_ekberg',\n",
       "  'stefan_batan',\n",
       "  'stefan_bemström',\n",
       "  'stefan_gråhns',\n",
       "  'birger_lensander',\n",
       "  'bobbie_hagelin',\n",
       "  'kjell_svensson',\n",
       "  'mika_välilä',\n",
       "  'mikael_ishak',\n",
       "  'patrik_nordin',\n",
       "  'ronnia_fornstedt',\n",
       "  'rune_larsson_(footballer)',\n",
       "  'torsten_sjögren__torsten_sjögren__1',\n",
       "  'fredrik_bremberg',\n",
       "  'per_hallin',\n",
       "  'anders_mårtensson',\n",
       "  'per_berlin',\n",
       "  'therese_sjögran',\n",
       "  'amanda_ilestedt',\n",
       "  'andreas_blomqvist_(footballer)',\n",
       "  'daniel_nilsson',\n",
       "  'erik_charpentier',\n",
       "  'mattias_asper',\n",
       "  'iwar_donnér',\n",
       "  'adi_nalić',\n",
       "  'gunnar_gabrielsson',\n",
       "  ...],\n",
       " [],\n",
       " ['ERROR ERROR ERROR'],\n",
       " ['michael_jackson'],\n",
       " [],\n",
       " ['diplopoda'],\n",
       " ['https://www.forbes.com/%7cforbes.com'],\n",
       " [],\n",
       " ['rembrandt'],\n",
       " ['k2'],\n",
       " [],\n",
       " [],\n",
       " [],\n",
       " [],\n",
       " ['aleksandr_solzhenitsyn',\n",
       "  'alice_munro',\n",
       "  'harold_pinter',\n",
       "  'william_faulkner',\n",
       "  \"eugene_o'neill\",\n",
       "  'gerhart_hauptmann',\n",
       "  'octavio_paz',\n",
       "  'john_steinbeck',\n",
       "  'josé_saramago',\n",
       "  'juan_ramón_jiménez',\n",
       "  'ivo_andrić',\n",
       "  'j._m._coetzee',\n",
       "  'naguib_mahfouz',\n",
       "  'toni_morrison',\n",
       "  'abdulrazak_gurnah',\n",
       "  'svetlana_alexievich',\n",
       "  'sorley_maclean',\n",
       "  'czesław_miłosz',\n",
       "  'hermann_hesse',\n",
       "  'thomas_mann',\n",
       "  'wisława_szymborska',\n",
       "  'louise_glück',\n",
       "  'olga_tokarczuk',\n",
       "  'patrick_modiano',\n",
       "  'patrick_white',\n",
       "  'william_golding__william_golding__1'],\n",
       " ['dudley_moore', 'alec_guinness'],\n",
       " ['city of peace (مدينة السلام)'],\n",
       " [],\n",
       " [],\n",
       " ['jin_river_(sichuan)'],\n",
       " ['030'],\n",
       " ['0'],\n",
       " [],\n",
       " ['democratic_political_turning_point',\n",
       "  'article_50_(political_party)',\n",
       "  'frisian_national_party',\n",
       "  'anti-revolutionary_party',\n",
       "  'reformed_political_party',\n",
       "  'the_greens_(netherlands)',\n",
       "  '50plus',\n",
       "  \"communist_workers'_party_of_the_netherlands\",\n",
       "  'tu_delft_faculty_of_aerospace_engineering',\n",
       "  'league_of_communists_in_the_netherlands',\n",
       "  'islam_democrats',\n",
       "  'communist_workers_organisation_(marxist–leninist)',\n",
       "  'trots_op_nederland',\n",
       "  'alliance_for_national_reconstruction__alliance_for_national_reconstruction__1',\n",
       "  'christian_democratic_appeal',\n",
       "  'labour_party_(netherlands)',\n",
       "  'groenlinks',\n",
       "  'jesus_lives',\n",
       "  'liberal_state_party',\n",
       "  'free_union_(anarchist_organisation)',\n",
       "  'onafhankelijke_burger_partij',\n",
       "  'party_for_zeeland',\n",
       "  'party_for_the_north',\n",
       "  'economic_league_(netherlands)',\n",
       "  'forza!_nederland',\n",
       "  'workers_party_of_the_netherlands_(build-up_organisation)'],\n",
       " ['0'],\n",
       " ['ERROR ERROR ERROR'],\n",
       " [],\n",
       " ['julian_assange'],\n",
       " [],\n",
       " [],\n",
       " ['2001-07-20'],\n",
       " ['advena_campbelli',\n",
       "  'afrocyclops_pauliani',\n",
       "  \"aplocheilichthys_sp._nov._'naivasha'\",\n",
       "  'confused_moth',\n",
       "  'deloneura_immaculata',\n",
       "  'geomitra_delphinuloides',\n",
       "  'megalobulimus_cardosoi',\n",
       "  'hybomorphus',\n",
       "  'hygrotus_artus',\n",
       "  'minute_noctuid_moth',\n",
       "  'zonites_siphnicus',\n",
       "  'littoridina_gaudichaudii',\n",
       "  'oleacina_guadeloupensis',\n",
       "  'pleurodonte_desidens',\n",
       "  'zonites_santoriniensis',\n",
       "  'leucocharis_loyaltyensis',\n",
       "  'libera_subcavernula',\n",
       "  'scotorythra_nesiotes',\n",
       "  'partula_approximata',\n",
       "  'plectostoma_sciaphilum',\n",
       "  'biotocus_turbinatus',\n",
       "  'genophantis_leahi',\n",
       "  'excised_slitshell',\n",
       "  'harmogenanina_linophora',\n",
       "  'partula_protea',\n",
       "  'perdicella_fulgurans',\n",
       "  'mautodontha_acuticosta',\n",
       "  'shoal_sprite',\n",
       "  'ungava_brown_bear',\n",
       "  'drosophila_lanaiensis',\n",
       "  'dryophthorus_distinguendus',\n",
       "  'maiden_rocksnail',\n",
       "  'mautodontha_parvidens',\n",
       "  'hilo_noctuid_moth',\n",
       "  'taipidon_anceyana',\n",
       "  'gulella_mayottensis',\n",
       "  'striped_rocksnail',\n",
       "  'trigonoscuta_rossi',\n",
       "  'mautodontha_saintjohni',\n",
       "  'liocypris',\n",
       "  'quintalia_stoddartii',\n",
       "  'phyllococcus',\n",
       "  'keraea_garachicoensis',\n",
       "  'campolaemus_perexilis',\n",
       "  'carelia_anceophila',\n",
       "  'carelia_bicolor',\n",
       "  'carelia_cochlea',\n",
       "  'carelia_cumingiana',\n",
       "  'carelia_dolei',\n",
       "  'carelia_evelynae',\n",
       "  'carelia_glossema',\n",
       "  'carelia_hyattiana',\n",
       "  'carelia_kalalauensis',\n",
       "  'carelia_knudseni',\n",
       "  'carelia_lirata',\n",
       "  'carelia_lymani',\n",
       "  'carelia_mirabilis',\n",
       "  'carelia_necra',\n",
       "  'carelia_olivacea',\n",
       "  'carelia_paradoxa',\n",
       "  'carelia_periscelis',\n",
       "  'carelia_pilsbryi',\n",
       "  'carelia_sinclairi',\n",
       "  'carelia_tenebrosa',\n",
       "  'digerus_gibberulus',\n",
       "  'discus_engonatus',\n",
       "  'discus_retextus',\n",
       "  'discus_textilis',\n",
       "  'oodemas_laysanensis',\n",
       "  'ribbed_slitshell',\n",
       "  'ouachita_pebblesnail',\n",
       "  'perdicella_zebrina',\n",
       "  'tornelasmias_capricorni',\n",
       "  'malagasy_hippopotamus',\n",
       "  'partula_robusta',\n",
       "  'perdicella_maniensis',\n",
       "  'partulina_montagui',\n",
       "  'spirobolellus_praslinus',\n",
       "  'rhinodrilus_fafner',\n",
       "  'amphicyclotulus_guadeloupensis',\n",
       "  'gibbus_lyonetianus',\n",
       "  'round_slitshell',\n",
       "  'vitrinula_chaunax',\n",
       "  'kona_giant_looper_moth',\n",
       "  'partula_citrina',\n",
       "  'taipidon_octolamellata',\n",
       "  'partulina_crassa',\n",
       "  'mautodontha_punctiperforata',\n",
       "  'partula_radiata',\n",
       "  'colparion_madgei',\n",
       "  'ctenoglypta_newtoni',\n",
       "  'cyclophorus_horridulum',\n",
       "  'cyclosurus_mariei',\n",
       "  'rachis_comorensis',\n",
       "  'rachis_sanguineus',\n",
       "  'partula_raiatensis',\n",
       "  'lamellidea_monodonta',\n",
       "  'partula_fusca',\n",
       "  'gyralina_hausdorfi',\n",
       "  'carelia_turricula',\n",
       "  'battus_polydamas_antiquus',\n",
       "  'fish_lake_physa',\n",
       "  'gastrocopta_chichijimana',\n",
       "  'gastrocopta_ogasawarana',\n",
       "  'newcombia_philippiana',\n",
       "  'striate_slitshell',\n",
       "  'kaholuamano_noctuid_moth',\n",
       "  'neoplanorbis_umbilicatus',\n",
       "  'panulena_perrugosa',\n",
       "  'reverse_pebblesnail',\n",
       "  'procambarus_angustatus',\n",
       "  'partula_compacta',\n",
       "  'helenodiscus_bilamellata',\n",
       "  'mount_matafao_different_snail',\n",
       "  'nesopupa_turtoni',\n",
       "  'mautodontha_unilamellata',\n",
       "  'vitrinula_chichijimana',\n",
       "  'cahaba_pebblesnail',\n",
       "  'caldwellia_philyrina',\n",
       "  'centrobunus_braueri',\n",
       "  'clavicoccus_erinaceus',\n",
       "  'dicrogonatus_gardineri',\n",
       "  'fluvidona_dulvertonensis',\n",
       "  'fluvidona_simsoniana',\n",
       "  'omphalotropis_plicosa',\n",
       "  'sitalcicus_gardineri',\n",
       "  'partula_vittata',\n",
       "  'quintalia_flosculus',\n",
       "  'mautodontha_consimilis',\n",
       "  'pyramid_slitshell',\n",
       "  'laysan_dropseed_noctuid_moth',\n",
       "  'perdicella_zebra',\n",
       "  'lovegrass_noctuid_moth',\n",
       "  'janulus_pompylius',\n",
       "  'pied_raven',\n",
       "  'erepta_nevilli',\n",
       "  'harmogenanina_subdetecta',\n",
       "  'leucocharis_porphyrocheila',\n",
       "  'lymnaea_tomentosa_hamiltoni',\n",
       "  'parmacella_gervaisii',\n",
       "  'libera_tumuloides',\n",
       "  'taipidon_marquesana',\n",
       "  'vitrinula_hahajimana',\n",
       "  'incerticyclus_cinereus',\n",
       "  'incerticyclus_martinicensis',\n",
       "  'nancibella_quintalia',\n",
       "  'pentarthrum_blackburni',\n",
       "  'rhyncogonus_bryani',\n",
       "  'partula_microstoma',\n",
       "  'pagoda_slitshell',\n",
       "  'stygobromus_lucifugus',\n",
       "  'syncaris_pasadenae',\n",
       "  'littoraria_flammea',\n",
       "  'mautodontha_subtilis',\n",
       "  'neoplanorbis_carinatus',\n",
       "  'clappia_umbilicata',\n",
       "  'coosa_rocksnail',\n",
       "  'corded_purg',\n",
       "  'leptoxis_torrefacta',\n",
       "  'partula_variabilis',\n",
       "  'mautodontha_consobrina',\n",
       "  'thick-lipped_pebblesnail',\n",
       "  'lyrate_rocksnail',\n",
       "  'marstonia_olivacea',\n",
       "  'bigmouth_rocksnail',\n",
       "  'dupontia_proletaria',\n",
       "  'gonidomus_newtoni',\n",
       "  'helenoconcha_leptalea',\n",
       "  'helenoconcha_minutissima',\n",
       "  'helenoconcha_polyodon',\n",
       "  'helenoconcha_pseustes',\n",
       "  'helenoconcha_sexdentata',\n",
       "  'helenodiscus_vernoni',\n",
       "  'mautodontha_zebrina',\n",
       "  'partula_callifera',\n",
       "  'partula_candida',\n",
       "  'neoplanorbis_smithi',\n",
       "  'stonemyia_volutina',\n",
       "  'partula_salifera',\n",
       "  'partula_castanea',\n",
       "  'channeled_pebblesnail',\n",
       "  'perritos_de_sandia',\n",
       "  'partula_exigua',\n",
       "  'namibcypris',\n",
       "  'partula_imperforata',\n",
       "  'posticobia_norfolkensis',\n",
       "  'lamellidea_nakadai',\n",
       "  'mautodontha_maupiensis',\n",
       "  'tritocleis',\n",
       "  'trigonoscuta_yorbalindae',\n",
       "  'lyropupa_perlonga',\n",
       "  'partula_cedista',\n",
       "  'partula_levilineata',\n",
       "  'lottia_edmitchelli',\n",
       "  'rotund_rocksnail',\n",
       "  'sympetrum_dilatatum',\n",
       "  'neoplanorbis_tantillus'],\n",
       " [],\n",
       " ['0'],\n",
       " ['true'],\n",
       " ['ERROR ERROR ERROR'],\n",
       " [],\n",
       " [],\n",
       " [],\n",
       " [],\n",
       " ['29'],\n",
       " [],\n",
       " ['rita_wilson'],\n",
       " [],\n",
       " ['volvo_fe',\n",
       "  'hansa_400',\n",
       "  'sachsenring_p240',\n",
       "  'goliath_1100',\n",
       "  'goliath_gp700',\n",
       "  'goliath_pionier',\n",
       "  'borgward_bx5',\n",
       "  'borgward_bx7',\n",
       "  'borgward_b_611',\n",
       "  'borgward_hansa_1500',\n",
       "  'borgward_hansa_2400',\n",
       "  'borgward_isabella',\n",
       "  'borgward_p100',\n",
       "  'trabant',\n",
       "  'horch_853_voll_&_ruhrbeck_sport_cabriolet',\n",
       "  'ifa_horch_h3',\n",
       "  'ifa_horch_h3a',\n",
       "  'lloyd_400',\n",
       "  'lloyd_600',\n",
       "  'lloyd_arabella',\n",
       "  'lloyd_lt_500',\n",
       "  'lloyd_300',\n",
       "  'man_18.2x0',\n",
       "  'man_ng272',\n",
       "  'man_tg-range',\n",
       "  'ruf_dakara',\n",
       "  \"man_lion's_coach\",\n",
       "  'ruf_rgt',\n",
       "  'ruf_turbo_florio',\n",
       "  'ruf_rturbo',\n",
       "  'man_24.3x0',\n",
       "  \"man_lion's_chassis\",\n",
       "  \"man_lion's_city\",\n",
       "  'man_nl202',\n",
       "  'man_nl262',\n",
       "  'man_nlxx3f',\n",
       "  'man_sl202',\n",
       "  'neoplan_megaliner',\n",
       "  'neoplan_n4009',\n",
       "  'neoplan_n4016',\n",
       "  'eruf_model_a',\n",
       "  'ruf_btr',\n",
       "  'ruf_ctr',\n",
       "  'ruf_ctr2',\n",
       "  'ruf_ctr3',\n",
       "  'ruf_ctr_anniversary',\n",
       "  'ruf_r_kompressor',\n",
       "  'ruf_rt_12',\n",
       "  'ruf_scr',\n",
       "  'ruf_scr_2018',\n",
       "  'ruf_turbo_r',\n",
       "  'man_sl200',\n",
       "  'neoplan_n407',\n",
       "  'neoplan_jumbocruiser',\n",
       "  'ruf_btr2',\n",
       "  'ruf_rtr'],\n",
       " [],\n",
       " [],\n",
       " [],\n",
       " [\"dean_o'banion\",\n",
       "  'vincent_drucci',\n",
       "  'vito_bonventre',\n",
       "  'al_capone',\n",
       "  'frank_capone',\n",
       "  'frank_costello',\n",
       "  'frank_tieri_(mobster)',\n",
       "  'frankie_yale',\n",
       "  'fred_burke',\n",
       "  \"salvatore_d'aquila\",\n",
       "  'william_egan_(gangster)',\n",
       "  'angelo_meli',\n",
       "  'umberto_valenti',\n",
       "  'ralph_capone',\n",
       "  'ciro_terranova',\n",
       "  'moe_dalitz',\n",
       "  'abner_zwillman',\n",
       "  'bugs_moran',\n",
       "  'gus_winkler',\n",
       "  'mad_dog_coll',\n",
       "  'manfredi_mineo',\n",
       "  'robert_vanella',\n",
       "  'roger_touhy',\n",
       "  'joe_adonis',\n",
       "  'joe_masseria',\n",
       "  'john_%22pudgy%22_dunn',\n",
       "  'leo_vincent_brothers',\n",
       "  'lepke_buchalter',\n",
       "  'nicolo_schiro',\n",
       "  'thomas_licavoli',\n",
       "  'tom_dragna',\n",
       "  'louis_campagna',\n",
       "  'lucky_luciano',\n",
       "  'owney_madden',\n",
       "  'ignazio_lupo',\n",
       "  'mike_genna'],\n",
       " [],\n",
       " ['boredom_in_brno',\n",
       "  'václav_(film)',\n",
       "  'vášnivý_bozk',\n",
       "  'divided_we_fall_(film)',\n",
       "  'shoes_(2012_film)',\n",
       "  'witnesses_(2018_film)',\n",
       "  'fritzi_–_a_revolutionary_tale',\n",
       "  'gate_to_heaven',\n",
       "  'czechmate:_in_search_of_jiří_menzel',\n",
       "  'golet_in_the_valley',\n",
       "  'po_strništi_bos',\n",
       "  'the_adventurers_(2017_film)',\n",
       "  'the_affair_(2019_film)',\n",
       "  'the_brothers_grimm_(film)',\n",
       "  'under_the_sun_(2015_film)',\n",
       "  'underground_(1995_film)',\n",
       "  'underworld:_blood_wars',\n",
       "  \"bach's_fight_for_freedom\",\n",
       "  'janosik:_a_true_story',\n",
       "  'medieval_(film)',\n",
       "  'rebelové',\n",
       "  'the_fortress_(1994_film)',\n",
       "  'the_garden_(1995_film)',\n",
       "  'the_humorist',\n",
       "  'the_illusionist_(2006_film)',\n",
       "  'the_last_train_(2006_film)',\n",
       "  'the_magical_duvet',\n",
       "  'the_nagano_tapes',\n",
       "  'the_ninth_day',\n",
       "  'the_reef_(1999_film)',\n",
       "  'the_sign_painter',\n",
       "  'the_snake_brothers',\n",
       "  'the_trial:_the_state_of_russia_vs_oleg_sentsov',\n",
       "  'the_visitors:_bastille_day',\n",
       "  \"the_zookeeper's_wife_(film)\",\n",
       "  'the_zookeeper_(2001_film)',\n",
       "  'normal_(2009_film)',\n",
       "  'not_angels_but_angels',\n",
       "  'pérák:_the_shadow_over_prague',\n",
       "  'all_my_loved_ones',\n",
       "  'jojo_rabbit',\n",
       "  'the_power_of_good:_nicholas_winton',\n",
       "  'babicka_(2003_film)',\n",
       "  'bad_company_(2002_film)',\n",
       "  'bad_luck_banging_or_loony_porn',\n",
       "  'it_will_stay_between_us',\n",
       "  'toys_in_the_attic_(2009_film)',\n",
       "  'a_pin_for_the_butterfly',\n",
       "  'child_44_(film)',\n",
       "  'stolen_kosovo',\n",
       "  'hostel_(2005_film)',\n",
       "  'hrubeš_a_mareš_jsou_kamarádi_do_deště',\n",
       "  'lea_(film)',\n",
       "  'the_cycle_(2009_film)',\n",
       "  'dolls_(2007_film)',\n",
       "  'skřítek',\n",
       "  'something_like_happiness',\n",
       "  'cosy_dens',\n",
       "  'roming',\n",
       "  'tobruk_(2008_film)',\n",
       "  'loners_(2000_film)',\n",
       "  'lotrando_a_zubejda',\n",
       "  'oliver_twist_(2005_film)',\n",
       "  'body_without_soul',\n",
       "  'kooky',\n",
       "  'kruté_radosti',\n",
       "  'little_otik',\n",
       "  'goat_story_2',\n",
       "  'you_kiss_like_a_god',\n",
       "  'ro(c)k_podvraťáků',\n",
       "  'the_pagan_queen',\n",
       "  'year_of_the_devil',\n",
       "  'one_night_in_one_city__one_night_in_one_city__1',\n",
       "  'hard_to_be_a_god_(2013_film)__hard_to_be_a_god__1'],\n",
       " ['ERROR ERROR ERROR'],\n",
       " [],\n",
       " ['all_the_right_moves_(film)',\n",
       "  'american_made_(film)',\n",
       "  'days_of_thunder',\n",
       "  'valkyrie_(film)',\n",
       "  'vanilla_sky',\n",
       "  'taps_(film)',\n",
       "  'born_on_the_fourth_of_july_(film)',\n",
       "  'jack_reacher:_never_go_back',\n",
       "  'jack_reacher_(film)',\n",
       "  'red_dawn_(2012_film)',\n",
       "  'the_color_of_money',\n",
       "  'the_firm_(1993_film)',\n",
       "  'the_last_samurai',\n",
       "  'the_mummy_(2017_film)',\n",
       "  'the_outsiders_(film)',\n",
       "  'oblivion_(2013_film)',\n",
       "  'cocktail_(1988_film)',\n",
       "  'collateral_(film)',\n",
       "  'interview_with_the_vampire_(film)',\n",
       "  'mission:_impossible_(film)',\n",
       "  'mission:_impossible_2',\n",
       "  'mission:_impossible_iii',\n",
       "  'mission:_impossible_–_dead_reckoning_part_one',\n",
       "  'mission:_impossible_–_dead_reckoning_part_two',\n",
       "  'mission:_impossible_–_fallout',\n",
       "  'mission:_impossible_–_ghost_protocol',\n",
       "  'mission:_impossible_–_rogue_nation',\n",
       "  'top_gun',\n",
       "  'top_gun:_maverick',\n",
       "  'far_and_away__far_and_away__1',\n",
       "  'a_few_good_men',\n",
       "  'risky_business',\n",
       "  'rock_of_ages_(2012_film)',\n",
       "  'eyes_wide_shut',\n",
       "  'legend_(1985_film)',\n",
       "  'lions_for_lambs',\n",
       "  'rain_man',\n",
       "  'edge_of_tomorrow',\n",
       "  \"losin'_it\",\n",
       "  'minority_report_(film)',\n",
       "  'jerry_maguire__jerry_maguire__1',\n",
       "  'knight_and_day__knight_and_day__1',\n",
       "  'magnolia_(film)__magnolia__1'],\n",
       " ['1912-04-20'],\n",
       " [],\n",
       " [],\n",
       " ['athy_gaa',\n",
       "  'azienda_trasporti_milanesi',\n",
       "  'hamburg_süd',\n",
       "  'west_bengal_power_development_corporation',\n",
       "  'rete_ferroviaria_italiana',\n",
       "  'atac_spa',\n",
       "  'hamburg_america_line',\n",
       "  \"children's_healthcare_of_atlanta\",\n",
       "  'swiss_federal_railways',\n",
       "  'government_of_maharashtra',\n",
       "  'grady_memorial_hospital',\n",
       "  'ratp_group',\n",
       "  'indian_railways',\n",
       "  'ministry_of_defence_(united_kingdom)',\n",
       "  'ministry_of_railways_(india)',\n",
       "  'ministry_of_railways_(pakistan)'],\n",
       " ['amazing_grace_(novel)',\n",
       "  'against_all_odds_(novel)',\n",
       "  'fine_things',\n",
       "  'second_chance_(steel_novel)',\n",
       "  'sisters_(steel_novel)',\n",
       "  'southern_lights_(novel)',\n",
       "  'special_delivery_(novel)',\n",
       "  'toxic_bachelors',\n",
       "  \"passion's_promise\",\n",
       "  'miracle_(novel)',\n",
       "  'mirror_image_(novel)',\n",
       "  'mixed_blessings_(novel)',\n",
       "  'zoya_(novel)',\n",
       "  'daddy_(novel)',\n",
       "  'rogue_(novel)',\n",
       "  'matters_of_the_heart_(novel)',\n",
       "  'wanderlust_(steel_novel)',\n",
       "  'honor_thyself',\n",
       "  'a_good_woman_(novel)',\n",
       "  'a_perfect_stranger_(novel)',\n",
       "  'betrayal_(steel_novel)',\n",
       "  'now_and_forever_(novel)',\n",
       "  'going_home_(steel_novel)',\n",
       "  'hotel_vendome_(novel)',\n",
       "  'impossible_(novel)',\n",
       "  'ransom_(steel_novel)',\n",
       "  'coming_out_(novel)',\n",
       "  'jewels_(novel)',\n",
       "  'kaleidoscope_(novel)',\n",
       "  'h.r.h._(novel)',\n",
       "  'accident_(novel)',\n",
       "  'five_days_in_paris',\n",
       "  'the_gift_(steel_novel)',\n",
       "  'the_house_(novel)',\n",
       "  'the_long_road_home_(novel)',\n",
       "  'the_wedding_(steel_novel)',\n",
       "  'undercover_(novel)',\n",
       "  'sunset_in_st._tropez',\n",
       "  'crossings_(steel_novel)',\n",
       "  'no_greater_love_(novel)',\n",
       "  'one_day_at_a_time_(novel)',\n",
       "  'thurston_house_(novel)',\n",
       "  'dangerous_games_(steel_novel)',\n",
       "  'season_of_passion',\n",
       "  'safe_harbour_(novel)',\n",
       "  'big_girl_(novel)',\n",
       "  'bungalow_2',\n",
       "  'echoes_(steel_novel)',\n",
       "  'family_album_(novel)',\n",
       "  'family_ties_(novel)',\n",
       "  'friends_forever_(novel)',\n",
       "  'full_circle_(novel)',\n",
       "  'the_klone_and_i',\n",
       "  'message_from_nam',\n",
       "  'silent_honor'],\n",
       " ['arcesilaus',\n",
       "  'diogenes',\n",
       "  'averroes',\n",
       "  'søren_kierkegaard',\n",
       "  'antisthenes',\n",
       "  'aristippus',\n",
       "  'aristotle',\n",
       "  'giovanni_reale',\n",
       "  'plato',\n",
       "  'jacques_maritain',\n",
       "  'jan_patočka',\n",
       "  'jean-jacques_rousseau',\n",
       "  'rené_guénon',\n",
       "  'ammonius_saccas',\n",
       "  'joseph_de_maistre',\n",
       "  'seneca_the_younger',\n",
       "  'traian_brăileanu',\n",
       "  'algernon_sidney__algernon_sidney__1',\n",
       "  'allan_bloom__allan_bloom__1',\n",
       "  'butler_d._shaffer',\n",
       "  'charles_maurras',\n",
       "  'cicero',\n",
       "  'simone_weil',\n",
       "  'sophie_oluwole',\n",
       "  'graham_harman',\n",
       "  'carlo_michelstaedter',\n",
       "  'leo_strauss',\n",
       "  'peter_kreeft',\n",
       "  'pierre_gassendi',\n",
       "  'tibor_machan',\n",
       "  'yaşar_nuri_öztürk',\n",
       "  'julie_favre',\n",
       "  'karl_popper',\n",
       "  'louis_de_bonald',\n",
       "  'lucretius',\n",
       "  'michel_weber',\n",
       "  'michel_de_montaigne',\n",
       "  'rufus_jones_(writer)',\n",
       "  'sean_d._kirkland',\n",
       "  'euclid_of_megara__euclid_of_megara__1',\n",
       "  'peter_boghossian__peter_boghossian__1',\n",
       "  'zeno_of_citium__zeno_of_citium__1'],\n",
       " ['72.7'],\n",
       " [],\n",
       " [],\n",
       " ['prince_edward,_duke_of_kent_and_strathearn',\n",
       "  'princess_victoria_of_saxe-coburg-saalfeld'],\n",
       " ['true'],\n",
       " ['võro_language',\n",
       "  'estonian_language',\n",
       "  'middle_low_german',\n",
       "  'laiuse_romani_language',\n",
       "  'estonian_swedish',\n",
       "  'swedish_language',\n",
       "  'lake_peipus_dialect',\n",
       "  'modern_swedish',\n",
       "  'estonian_sign_language',\n",
       "  'baltic_romani__baltic_romani__1',\n",
       "  'seto_dialect__seto__1'],\n",
       " [],\n",
       " [],\n",
       " [],\n",
       " ['aluminium',\n",
       "  'darmstadtium',\n",
       "  'argon',\n",
       "  'silicon',\n",
       "  'tantalum',\n",
       "  'thulium',\n",
       "  'tungsten',\n",
       "  'vanadium',\n",
       "  'yttrium',\n",
       "  'neon',\n",
       "  'neptunium',\n",
       "  'nitrogen',\n",
       "  'ytterbium',\n",
       "  'arsenic',\n",
       "  'astatine',\n",
       "  'beryllium',\n",
       "  'gadolinium',\n",
       "  'gallium',\n",
       "  'hassium',\n",
       "  'samarium',\n",
       "  'technetium',\n",
       "  'tellurium',\n",
       "  'einsteinium',\n",
       "  'erbium',\n",
       "  'gold',\n",
       "  'hafnium',\n",
       "  'holmium',\n",
       "  'livermorium',\n",
       "  'mendelevium',\n",
       "  'molybdenum',\n",
       "  'nobelium',\n",
       "  'osmium',\n",
       "  'platinum',\n",
       "  'polonium',\n",
       "  'promethium',\n",
       "  'protactinium',\n",
       "  'radon',\n",
       "  'rhenium',\n",
       "  'ruthenium',\n",
       "  'scandium',\n",
       "  'europium',\n",
       "  'plutonium',\n",
       "  'potassium',\n",
       "  'praseodymium',\n",
       "  'tennessine',\n",
       "  'terbium',\n",
       "  'thallium',\n",
       "  'boron',\n",
       "  'bromine',\n",
       "  'meitnerium',\n",
       "  'mercury_(element)',\n",
       "  'carbon',\n",
       "  'niobium',\n",
       "  'helium',\n",
       "  'lutetium',\n",
       "  'radium',\n",
       "  'rutherfordium',\n",
       "  'cobalt',\n",
       "  'copernicium',\n",
       "  'americium',\n",
       "  'seaborgium',\n",
       "  'selenium',\n",
       "  'barium',\n",
       "  'iodine',\n",
       "  'iridium',\n",
       "  'iron',\n",
       "  'moscovium',\n",
       "  'chemical_element',\n",
       "  'chemical_symbol',\n",
       "  'chromium',\n",
       "  'krypton',\n",
       "  'lawrencium',\n",
       "  'cadmium',\n",
       "  'caesium',\n",
       "  'calcium',\n",
       "  'californium',\n",
       "  'cerium',\n",
       "  'chlorine',\n",
       "  'antimony',\n",
       "  'strontium',\n",
       "  'sulfur',\n",
       "  'titanium',\n",
       "  'actinium',\n",
       "  'berkelium',\n",
       "  'lanthanum',\n",
       "  'lead',\n",
       "  'uranium',\n",
       "  'dubnium',\n",
       "  'dysprosium',\n",
       "  'sodium',\n",
       "  'curium',\n",
       "  'magnesium',\n",
       "  'manganese',\n",
       "  'rhodium',\n",
       "  'roentgenium',\n",
       "  'fermium',\n",
       "  'flerovium',\n",
       "  'fluorine',\n",
       "  'bismuth',\n",
       "  'neodymium',\n",
       "  'nickel',\n",
       "  'nihonium',\n",
       "  'periodic_table',\n",
       "  'phosphorus',\n",
       "  'thorium',\n",
       "  'tin',\n",
       "  'xenon',\n",
       "  'oganesson',\n",
       "  'silver',\n",
       "  'copper',\n",
       "  'hydrogen',\n",
       "  'indium',\n",
       "  'lithium',\n",
       "  'oxygen',\n",
       "  'palladium',\n",
       "  'rubidium',\n",
       "  'francium',\n",
       "  'germanium',\n",
       "  'bohrium',\n",
       "  'zinc',\n",
       "  'zirconium'],\n",
       " [],\n",
       " [],\n",
       " [],\n",
       " [],\n",
       " [],\n",
       " ['marc_mezvinsky'],\n",
       " ['buzz_aldrin', 'neil_armstrong', 'michael_collins_(astronaut)', ''],\n",
       " ['4.2e-07'],\n",
       " [],\n",
       " ['scarface_(ios_game)',\n",
       "  'scarface_(novel)',\n",
       "  '%22scarface%22_john_williams',\n",
       "  'captain_scarface',\n",
       "  'scarface:_the_world_is_yours',\n",
       "  'scarface_(1932_film)',\n",
       "  'scarface_(1983_film)',\n",
       "  'scarface_(push_it_to_the_limit)',\n",
       "  'scarface_(rapper)',\n",
       "  'scarface_charley',\n",
       "  'scarface_mountain_(montana)',\n",
       "  'scarface_mountain_(new_york)',\n",
       "  'mister_scarface',\n",
       "  'lady_scarface',\n",
       "  'son_of_scarface',\n",
       "  'mr._scarface_(song)',\n",
       "  'the_scarface_mob'],\n",
       " [],\n",
       " ['kentucky'],\n",
       " ['megan_lloyd_george',\n",
       "  'eleanor_de_clare',\n",
       "  'agnes_keith,_countess_of_moray',\n",
       "  'ela_of_salisbury,_3rd_countess_of_salisbury',\n",
       "  'diana_russell,_duchess_of_bedford',\n",
       "  'lady_elizabeth_basset',\n",
       "  'lady_henry_somerset',\n",
       "  'mabell_ogilvy,_countess_of_airlie',\n",
       "  'lady_arbella_stuart'],\n",
       " ['0'],\n",
       " [],\n",
       " ['dover_street'],\n",
       " [],\n",
       " [],\n",
       " [],\n",
       " [],\n",
       " ['1981-01-01'],\n",
       " ['beijing'],\n",
       " ['ERROR ERROR ERROR'],\n",
       " [],\n",
       " [],\n",
       " ['alison_saunders',\n",
       "  'alison_seabeck',\n",
       "  'alissa_keny-guyer',\n",
       "  'alistair_burt',\n",
       "  'alistair_carmichael',\n",
       "  'alistair_coe',\n",
       "  'alistair_darling',\n",
       "  'alistair_fraser',\n",
       "  'alistair_harrison',\n",
       "  'alistair_macdonald',\n",
       "  'alister_jack',\n",
       "  'alister_mcmullin',\n",
       "  'aliu_mahama',\n",
       "  'aliyu_aziz',\n",
       "  'aliza_begin',\n",
       "  'aliza_olmert',\n",
       "  'aljoša_čampara',\n",
       "  'alka_nath',\n",
       "  'alla_ayodhya_rami_reddy',\n",
       "  'alladi_krishnaswamy_iyer',\n",
       "  'allah_bux_soomro',\n",
       "  'allan_bense',\n",
       "  'allan_blakeney',\n",
       "  'allan_dibblee',\n",
       "  'allan_egolf',\n",
       "  'allan_fels',\n",
       "  'allan_fraser_(australian_politician)',\n",
       "  'allan_fung',\n",
       "  'allan_gotlieb',\n",
       "  'allan_grossman',\n",
       "  'allan_h._kittleman',\n",
       "  'allan_hawke',\n",
       "  'allan_highet',\n",
       "  'allan_holman',\n",
       "  'allan_james_mcdonell',\n",
       "  'allan_kerpan',\n",
       "  'allan_m.a._mclean',\n",
       "  'allan_macdonald_(western_australian_politician)',\n",
       "  'allan_macartney',\n",
       "  'allan_mansoor',\n",
       "  'allan_mcavity',\n",
       "  'allan_mcdonald_(australian_politician)',\n",
       "  'allan_mclean_(australian_politician)',\n",
       "  'allan_morrison_(trader)',\n",
       "  'allan_o._hunter',\n",
       "  'allan_pilkey',\n",
       "  'allan_r._mckinnon',\n",
       "  'allan_rock',\n",
       "  'allan_ross_welsh',\n",
       "  'allan_rowe',\n",
       "  'allan_shepard',\n",
       "  'allan_shivers',\n",
       "  'allan_spear',\n",
       "  'allan_ssewanyana',\n",
       "  'allan_studholme',\n",
       "  'allan_taylor_(diplomat)',\n",
       "  'allan_viney',\n",
       "  'allan_wagner_tizón',\n",
       "  'allan_warrack',\n",
       "  'allan_wright_(farmer)',\n",
       "  'allan_zeman',\n",
       "  'allard_h._gasque',\n",
       "  'allard_k._lowenstein',\n",
       "  'allegra_stratton',\n",
       "  'allen_adams',\n",
       "  'allen_alley',\n",
       "  'allen_andrews_(politician)',\n",
       "  'allen_apsley_(royalist)',\n",
       "  'allen_boyd',\n",
       "  'allen_broussard',\n",
       "  'allen_brown_(public_servant)',\n",
       "  'allen_c._thompson',\n",
       "  'allen_d._candler',\n",
       "  'allen_dines',\n",
       "  'allen_dulles',\n",
       "  'allen_e._ertel',\n",
       "  'allen_fairhall',\n",
       "  'allen_g._campbell',\n",
       "  'allen_g._schwartz',\n",
       "  'allen_g._thurman',\n",
       "  'allen_h._bagg',\n",
       "  'allen_h._degroff',\n",
       "  'allen_i._olson',\n",
       "  'allen_j._ellender',\n",
       "  'allen_kerr_(politician)',\n",
       "  'allen_lee',\n",
       "  'allen_linden',\n",
       "  'allen_m._fletcher',\n",
       "  'allen_mccarthy',\n",
       "  'allen_paul_(politician)',\n",
       "  'allen_r._bushnell',\n",
       "  'allen_r._sturtevant',\n",
       "  'allen_russell_patrick',\n",
       "  'allen_skillicorn',\n",
       "  'allen_t._treadway',\n",
       "  'allen_taylor',\n",
       "  'allen_treadaway',\n",
       "  'allen_v._evans',\n",
       "  'allen_wardner',\n",
       "  'allen_weh',\n",
       "  'allen_weinstein',\n",
       "  'allen_wellons',\n",
       "  'allen_west_(politician)',\n",
       "  'allen_zollars',\n",
       "  'allie_beth_martin',\n",
       "  'allie_craycraft',\n",
       "  'allie_edward_stakes_stephens',\n",
       "  'allie_ray_hull',\n",
       "  'allison_ball',\n",
       "  'allison_dahle',\n",
       "  'allison_dysart',\n",
       "  'allison_green',\n",
       "  'allison_h._eid',\n",
       "  'allison_jones_rushing',\n",
       "  'allison_nelson',\n",
       "  'allison_russo',\n",
       "  'allison_tant',\n",
       "  'allister_adel',\n",
       "  'allister_bentley',\n",
       "  'allola_indrakaran_reddy',\n",
       "  'allyson_maynard_gibson',\n",
       "  'allyson_schwartz',\n",
       "  'alma_adamkienė',\n",
       "  'alma_allen_(politician)',\n",
       "  'alma_bridwell_white',\n",
       "  'alma_mclaughlin',\n",
       "  'alma_moreno',\n",
       "  'alma_powell',\n",
       "  'alma_uy-lampasa',\n",
       "  'alma_w._byrd',\n",
       "  'alma_wilson',\n",
       "  'almario_vizcayno',\n",
       "  'almazbek_atambayev',\n",
       "  'almeric_paget,_1st_baron_queenborough',\n",
       "  'almir_gredić',\n",
       "  'almon_cornwell',\n",
       "  'almon_rennie',\n",
       "  'alney_mclean',\n",
       "  'alois_rašín',\n",
       "  'alok_kumar_(politician)',\n",
       "  'alok_kumar_mehta',\n",
       "  'alok_ranjan',\n",
       "  'alok_sanjar',\n",
       "  'alon_wieland',\n",
       "  'alonso_gonzalez_calderón',\n",
       "  'alonso_muñoz_de_gadea',\n",
       "  'alonso_de_estrada',\n",
       "  'alonso_de_ribera',\n",
       "  'alonzo_a._skinner',\n",
       "  'alonzo_ames_miner',\n",
       "  'alonzo_b._cornell',\n",
       "  'alonzo_baldonado',\n",
       "  'alonzo_cooper_rand',\n",
       "  'alonzo_gesner',\n",
       "  'alonzo_hyndman',\n",
       "  'aloor_shanavas',\n",
       "  'aloysio_nunes',\n",
       "  'aloysius_amwano',\n",
       "  'alparslan_türkeş',\n",
       "  'alpha_condé',\n",
       "  'alpha_oumar_konaré',\n",
       "  'alpha_timbo',\n",
       "  'alpheus_felch',\n",
       "  'alpheus_field_wood',\n",
       "  'alphons_kannanthanam',\n",
       "  'alphonse_jackson',\n",
       "  'alphonse_juin',\n",
       "  'alphonse_sormany',\n",
       "  'alphonse_de_lamartine',\n",
       "  'alphonso_barto',\n",
       "  'alphonso_c._smith',\n",
       "  'alphonso_g._kellam',\n",
       "  'alphonso_hart',\n",
       "  'alphonso_jackson',\n",
       "  'alphonso_taft',\n",
       "  'alphonzo_e._bell_jr.',\n",
       "  'alphée_poirier_(mp)',\n",
       "  'alpár_gyopáros',\n",
       "  'alson_sherman',\n",
       "  'alson_streeter',\n",
       "  'althea_coetzee',\n",
       "  'altiero_spinelli',\n",
       "  'alto_l._adams',\n",
       "  'alton_a._lessard',\n",
       "  'alton_b._parker',\n",
       "  'alton_d._taylor',\n",
       "  'alton_lennon',\n",
       "  'alun_cairns',\n",
       "  'alun_michael',\n",
       "  'alva_hugh_maddox',\n",
       "  'alvah_sabin',\n",
       "  'alvan_cullom',\n",
       "  'alvan_flanders',\n",
       "  'alvan_t._fuller',\n",
       "  'alvan_v._burch',\n",
       "  'alvaren_allen',\n",
       "  'alvaro_dias',\n",
       "  'alvary_gascoigne',\n",
       "  'alveda_king',\n",
       "  'alvin_c._weingand',\n",
       "  'alvin_duke_chandler',\n",
       "  'alvin_hawkins',\n",
       "  'alvin_j._degrow',\n",
       "  'alvin_j._wirtz',\n",
       "  'alvin_m._owsley',\n",
       "  \"alvin_o'konski\",\n",
       "  'alvin_ott',\n",
       "  'alvin_paul_kitchin',\n",
       "  'alvin_robert_cornelius',\n",
       "  'alvin_t._smith',\n",
       "  'alvin_yeo',\n",
       "  'alvin_yeung',\n",
       "  'alwi_shihab',\n",
       "  'alwyn_schlebusch',\n",
       "  'alwyn_williams_(geologist)',\n",
       "  'alyona_shkrum',\n",
       "  'alyson_huber',\n",
       "  'alyson_sullivan',\n",
       "  'alyssa_farah_griffin',\n",
       "  'alyssa_hayden',\n",
       "  'alyssa_mastromonaco',\n",
       "  'amable_aristy',\n",
       "  'amado_boudou',\n",
       "  'amado_espino_jr.',\n",
       "  'amado_yuzon',\n",
       "  'amador_báez_de_alpoim,_general',\n",
       "  'amador_vaz_de_alpoim',\n",
       "  'amadou_toumani_touré',\n",
       "  'amal_fathy',\n",
       "  'amalia_granata',\n",
       "  'amalia_solórzano',\n",
       "  'amalia_de_llano',\n",
       "  'amalie_wilhelmine_henriette_ernestine_bianca_von_forcade_de_biaix',\n",
       "  'aman_kumar_nagra',\n",
       "  'amanatullah_khan',\n",
       "  'amanda_adkins_(politician)',\n",
       "  'amanda_batten',\n",
       "  'amanda_cappelletti',\n",
       "  'amanda_chase',\n",
       "  'amanda_curtis',\n",
       "  'amanda_fritz',\n",
       "  'amanda_grosserode',\n",
       "  'amanda_lind',\n",
       "  'amanda_merrill',\n",
       "  'amanda_murphy_(politician)',\n",
       "  'amanda_price',\n",
       "  'amanda_rishworth',\n",
       "  'amanda_stoker',\n",
       "  'amanda_stuck',\n",
       "  'amanda_williams_(judge)',\n",
       "  'amando_tetangco_jr.',\n",
       "  'amangeldi_taspihov',\n",
       "  'amani_abeid_karume',\n",
       "  'amanullah_jahanbani',\n",
       "  'amany_lubis',\n",
       "  'amar_agrawal',\n",
       "  'amar_roy_pradhan',\n",
       "  'amar_singh_(politician)',\n",
       "  'amar_singh_damar',\n",
       "  'amar_singh_khatik',\n",
       "  'amar_singh_thapa_(born_1759)',\n",
       "  'amarinder_singh',\n",
       "  'amarjeet_kushwaha',\n",
       "  'amarjit_singh_sahi',\n",
       "  'amarnath_vidyalankar',\n",
       "  'amarpal_sharma',\n",
       "  'amarsinh_chaudhary',\n",
       "  'amarsinh_rathawa',\n",
       "  'amarsinh_vasantrao_patil',\n",
       "  'amasa_cobb',\n",
       "  'amasa_learned',\n",
       "  'amata_coleman_radewagen',\n",
       "  'amata_kabua',\n",
       "  'ambareesh',\n",
       "  'ambat_sivarama_menon',\n",
       "  'ambati_brahmanaiah',\n",
       "  'amber_rudd',\n",
       "  'ambica_banerjee',\n",
       "  'ambiga_sreenevasan',\n",
       "  'ambika_prasad_pandey',\n",
       "  'ambika_soni',\n",
       "  'ambrose_burnside',\n",
       "  'ambrose_flux_dundas',\n",
       "  'ambrose_greenway,_4th_baron_greenway',\n",
       "  'ambrose_hundley_sevier',\n",
       "  'ambrose_kingsland',\n",
       "  'ambrose_kyte',\n",
       "  'ambrose_l._jordan',\n",
       "  'ambrose_mandvulo_dlamini',\n",
       "  'ambrose_s._murray',\n",
       "  'ambrose_spencer',\n",
       "  'ambrosio_padilla',\n",
       "  'ameen_faheem',\n",
       "  'ameen_faisal',\n",
       "  'ameenah_gurib-fakim',\n",
       "  'ameer_ali_shihabdeen',\n",
       "  'ameeta_singh',\n",
       "  'amelia_gordon',\n",
       "  'amelia_warren_tyagi',\n",
       "  'amelita_ramos',\n",
       "  'americus_v._rice',\n",
       "  'ami_bera',\n",
       "  'amien_rais',\n",
       "  'amilkar_acosta_medina',\n",
       "  'amin_gazi',\n",
       "  'amin_osman',\n",
       "  'amin_suhrawardy',\n",
       "  'amin_al-hafiz',\n",
       "  'amina_bint_al-majlisi',\n",
       "  'amina_cachalia',\n",
       "  'amina_mohamed',\n",
       "  'amina_titi_atiku-abubakar',\n",
       "  'amine_gemayel',\n",
       "  'amintore_fanfani',\n",
       "  'aminu_tambuwal',\n",
       "  'aminuddin_ihsan',\n",
       "  'aminul_islam_(indian_politician,_born_1975)',\n",
       "  'amir-abbas_hoveyda',\n",
       "  'amir_h._jamal',\n",
       "  'amir_hossain',\n",
       "  'amir_kabir',\n",
       "  'amir_khadir',\n",
       "  'amir_mohebbian',\n",
       "  'amir_murtono',\n",
       "  'amir_sjarifuddin',\n",
       "  'amir_zukić',\n",
       "  'amira_yoma',\n",
       "  'amirteymour_kalali',\n",
       "  'amirudin_shari',\n",
       "  'amit_deshmukh',\n",
       "  'amit_gaurav',\n",
       "  'amit_jogi',\n",
       "  'amit_mitra',\n",
       "  'amit_shah',\n",
       "  'amitabh_kant',\n",
       "  'amiya_kumar_kisku',\n",
       "  'amiya_nath_bose',\n",
       "  'amjad_ali_(assam_politician)',\n",
       "  'amjad_hossain_(lawyer)',\n",
       "  'ammi_r._butler',\n",
       "  'ammu_swaminathan',\n",
       "  'amnon_lipkin-shahak',\n",
       "  'amo_houghton',\n",
       "  'amod_prasad_upadhyay',\n",
       "  'amol_kolhe',\n",
       "  'amol_mitkari',\n",
       "  'amon_nikoi',\n",
       "  'amory_houghton',\n",
       "  'amos_amerson',\n",
       "  'amos_c._barstow',\n",
       "  'amos_hochstein',\n",
       "  'amos_kendall',\n",
       "  'amos_p._granger',\n",
       "  'amos_singletary',\n",
       "  'amos_t._akerman',\n",
       "  'amos_w._barber',\n",
       "  'amos_w._jackson',\n",
       "  'amos_wako',\n",
       "  'ampareen_lyngdoh',\n",
       "  'amparo_illana',\n",
       "  'amr_fahmy',\n",
       "  'amr_moussa',\n",
       "  'amr_ibn_al-as',\n",
       "  'amran_sulaiman',\n",
       "  'amresh_kumar_singh',\n",
       "  'amrik_singh',\n",
       "  'amrik_singh_aliwal',\n",
       "  'amrik_virk',\n",
       "  'amrin_amin',\n",
       "  'amrinder_singh_raja_warring',\n",
       "  'amrit_lal_bharti',\n",
       "  'amrit_mangat',\n",
       "  'amrita_agrahari',\n",
       "  'amrita_rawat',\n",
       "  'amrita_thapa',\n",
       "  'amrut_ganpat_sonar',\n",
       "  'amruta_fadnavis',\n",
       "  'amul_thapar',\n",
       "  'amy_adams_(politician)',\n",
       "  'amy_berman_jackson',\n",
       "  'amy_coney_barrett',\n",
       "  'amy_edmonds',\n",
       "  'amy_elik',\n",
       "  'amy_grady',\n",
       "  'amy_gutmann',\n",
       "  'amy_handlin',\n",
       "  'amy_howorth',\n",
       "  'amy_jeffress',\n",
       "  'amy_kennedy',\n",
       "  'amy_klobuchar',\n",
       "  'amy_koch',\n",
       "  'amy_l._bondurant',\n",
       "  'amy_loudenbeck',\n",
       "  'amy_mcgrath',\n",
       "  'amy_paulin',\n",
       "  'amy_rice',\n",
       "  'amy_sheldon',\n",
       "  'amy_shuler_goodwin',\n",
       "  'amy_vilela',\n",
       "  'amy_volk',\n",
       "  'amy_walen',\n",
       "  'amédée_e._forget',\n",
       "  'amédée_geoffrion',\n",
       "  'amédée_melanson',\n",
       "  'amélie_de_montchalin',\n",
       "  'américa_arias',\n",
       "  'américo_acuña',\n",
       "  'américo_villarreal_anaya',\n",
       "  'amílcar_romero',\n",
       "  'amīr_aṣlān_afshār',\n",
       "  'ana-maria_ramos',\n",
       "  'ana_abrunhosa',\n",
       "  'ana_amélia_lemos',\n",
       "  'ana_arbizú_y_flores',\n",
       "  'ana_botella',\n",
       "  'ana_catarina_mendes',\n",
       "  'ana_corradi',\n",
       "  'ana_dias_lourenço',\n",
       "  'ana_echazarreta',\n",
       "  'ana_elisa_villanueva',\n",
       "  'ana_gabriela_de_campos_sales',\n",
       "  'ana_garcía_carías',\n",
       "  'ana_gomes',\n",
       "  'ana_ligia_mixco_sol_de_saca',\n",
       "  'ana_mae_díaz',\n",
       "  'ana_mari_cauce',\n",
       "  'ana_maslać_plenković',\n",
       "  'ana_matilde_gómez',\n",
       "  'ana_mesquita',\n",
       "  'ana_milena_muñoz_gómez',\n",
       "  'ana_nisi_goyco',\n",
       "  'ana_paredes_arosemena',\n",
       "  'ana_pastor_(politician)',\n",
       "  'ana_paula_dos_santos',\n",
       "  'ana_pessoa_pinto',\n",
       "  'ana_vilma_de_escobar',\n",
       "  'anabella_azín',\n",
       "  'anahita_ratebzad',\n",
       "  'anahí',\n",
       "  'anak_agung_gede_ngurah_puspayoga',\n",
       "  'anam_vivekananda_reddy',\n",
       "  'anand_chandra_joshi',\n",
       "  'anand_dev_bhatt',\n",
       "  'anand_panyarachun',\n",
       "  'anand_paranjpe',\n",
       "  'anand_satyanand',\n",
       "  'anand_sen_yadav',\n",
       "  'anand_sharma',\n",
       "  'anand_singh_dangi',\n",
       "  'ananda_pathak',\n",
       "  'ananda_prasad_dhungana',\n",
       "  'anandiben_patel',\n",
       "  'anandrao_vithoba_adsul',\n",
       "  'anang_hermansyah',\n",
       "  'ananias_laico',\n",
       "  'anant_dave',\n",
       "  'anant_geete',\n",
       "  'anant_gudhe',\n",
       "  'anant_kumar_singh',\n",
       "  'ananta_nayak',\n",
       "  'ananth_kumar',\n",
       "  'anantha_venkatarami_reddy',\n",
       "  'anantram_jaiswal',\n",
       "  'anas_khalid_al_saleh',\n",
       "  'anas_sarwar',\n",
       "  'anas_urbaningrum',\n",
       "  'anastas_mikoyan',\n",
       "  'anastase_murekezi',\n",
       "  'anastasia_filatova',\n",
       "  'anastasia_udaltsova',\n",
       "  'anastasio_somoza_debayle',\n",
       "  'anastasio_somoza_garcía',\n",
       "  'anastasy_vonsiatsky',\n",
       "  'anathalavattom_anandan',\n",
       "  'anatol_țăranu',\n",
       "  'anatoliy_hrytsenko',\n",
       "  'anatoliy_kinakh',\n",
       "  'anatoly_artamonov',\n",
       "  'anatoly_chubais',\n",
       "  'anatoly_dernovoi',\n",
       "  'anatoly_dobrynin',\n",
       "  'anatoly_lisitsyn',\n",
       "  'anatoly_serdyukov',\n",
       "  'anatoly_sobchak',\n",
       "  'anayeli_muñoz_moreno',\n",
       "  'anbil_mahesh_poyyamozhi',\n",
       "  'anbumani_ramadoss',\n",
       "  'ancher_nelsen',\n",
       "  'ancízar_lópez_lópez',\n",
       "  'anda_uldum',\n",
       "  'andal_ampatuan_sr.',\n",
       "  'andaleeve_rahman',\n",
       "  'ander_crenshaw',\n",
       "  'anders_aalborg',\n",
       "  'anders_anundsen',\n",
       "  'anders_borg',\n",
       "  'anders_fogh_rasmussen',\n",
       "  'anders_frihagen',\n",
       "  'anders_john_aune',\n",
       "  'anders_lange',\n",
       "  'anders_tegnell',\n",
       "  'anders_thunborg',\n",
       "  'anders_venger',\n",
       "  'anders_ygeman',\n",
       "  'anderson_dawson',\n",
       "  'anderson_e._shumate',\n",
       "  'anderson_mazoka',\n",
       "  'andi_muhammad_suryady_bandy',\n",
       "  'andika_hazrumy',\n",
       "  'andika_perkasa',\n",
       "  'andimba_toivo_ya_toivo',\n",
       "  'andor_nagy',\n",
       "  'andra_levite',\n",
       "  'andre_b._roman',\n",
       "  'andre_cushing_iii',\n",
       "  'andre_martel',\n",
       "  'andre_sayegh',\n",
       "  'andrea_bekić',\n",
       "  'andrea_catsimatidis',\n",
       "  'andrea_clausen_(politician)',\n",
       "  'andrea_conte',\n",
       "  'andrea_doll',\n",
       "  'andrea_f._nuciforo_jr.',\n",
       "  'andrea_jenkyns',\n",
       "  'andrea_kieffer',\n",
       "  'andrea_lea',\n",
       "  'andrea_leadsom',\n",
       "  'andrea_mager',\n",
       "  'andrea_molina',\n",
       "  'andrea_nahles',\n",
       "  'andrea_palm',\n",
       "  'andrea_salinas',\n",
       "  'andrea_schroeder',\n",
       "  'andrea_seastrand',\n",
       "  'andrea_stewart-cousins',\n",
       "  'andrea_west',\n",
       "  'andreas_borgeas',\n",
       "  'andreas_carlgren',\n",
       "  'andreas_christou',\n",
       "  'andreas_khol',\n",
       "  'andreas_loverdos',\n",
       "  'andreas_papandreou',\n",
       "  'andreas_scheuer',\n",
       "  'andreas_shipanga',\n",
       "  'andreas_tostrup_urbye',\n",
       "  'andreas_voßkuhle',\n",
       "  'andreas_zaimis',\n",
       "  'andreas_zeier_cappelen',\n",
       "  'andree_layton_roaf',\n",
       "  'andrei_cherny',\n",
       "  'andrei_gromyko',\n",
       "  'andrei_iordan',\n",
       "  'andrei_karlov',\n",
       "  'andrei_kozyrev',\n",
       "  'andrei_mocioni',\n",
       "  'andrei_neguța',\n",
       "  'andrei_năstase',\n",
       "  'andrei_pleșu',\n",
       "  'andrei_ravkov',\n",
       "  'andrei_skoch',\n",
       "  'andrei_strâmbeanu',\n",
       "  'andrei_vladimirovich_bogdanov',\n",
       "  'andrej_babiš',\n",
       "  'andrej_hrnčiar',\n",
       "  'andrej_kiska',\n",
       "  'andrej_plenković',\n",
       "  'andrejs_mamikins',\n",
       "  'andres_g._pico',\n",
       "  'andres_lacson',\n",
       "  'andres_narvasa',\n",
       "  'andrew_a._caffrey',\n",
       "  'andrew_a._serafini',\n",
       "  'andrew_adonis,_baron_adonis',\n",
       "  'andrew_agar',\n",
       "  'andrew_allen_(new_zealand_politician)',\n",
       "  'andrew_allen_(pennsylvania_politician)',\n",
       "  'andrew_archibald_macdonald',\n",
       "  'andrew_armacost',\n",
       "  'andrew_asiamah_amoako',\n",
       "  'andrew_bailey_(banker)',\n",
       "  'andrew_barclay_(merchant)',\n",
       "  'andrew_barkis',\n",
       "  'andrew_barr',\n",
       "  'andrew_bennett_(politician)',\n",
       "  'andrew_billingsley',\n",
       "  'andrew_bowie_(politician)',\n",
       "  'andrew_brenner',\n",
       "  'andrew_brewin',\n",
       "  'andrew_bridgen',\n",
       "  'andrew_brimmer',\n",
       "  'andrew_broad',\n",
       "  'andrew_broder',\n",
       "  'andrew_butler',\n",
       "  'andrew_byrd',\n",
       "  'andrew_c._brock',\n",
       "  'andrew_caldecott',\n",
       "  'andrew_canova',\n",
       "  'andrew_card',\n",
       "  'andrew_carlson_(politician)',\n",
       "  'andrew_carn',\n",
       "  'andrew_cash',\n",
       "  'andrew_cassilly',\n",
       "  'andrew_cavendish,_11th_duke_of_devonshire',\n",
       "  'andrew_charlton',\n",
       "  'andrew_cheng',\n",
       "  'andrew_chesney',\n",
       "  'andrew_clarke_(british_army_officer,_born_1824)',\n",
       "  'andrew_clyde',\n",
       "  'andrew_cohen_(politician)',\n",
       "  'andrew_collins_(politician)',\n",
       "  'andrew_constantinides_zenos',\n",
       "  'andrew_cornwell',\n",
       "  'andrew_coulouris',\n",
       "  'andrew_cuomo',\n",
       "  'andrew_d._hamilton',\n",
       "  'andrew_d._martin',\n",
       "  'andrew_davidson,_2nd_viscount_davidson',\n",
       "  'andrew_davidson_(knight)',\n",
       "  'andrew_davis_bruce',\n",
       "  'andrew_davison',\n",
       "  'andrew_dewitt_bruyn',\n",
       "  'andrew_dewar_gibb',\n",
       "  'andrew_dickson_white',\n",
       "  'andrew_doyle_(politician)',\n",
       "  'andrew_dunlop,_baron_dunlop',\n",
       "  'andrew_dunn_(businessman)',\n",
       "  'andrew_dutney',\n",
       "  'andrew_e._johnson',\n",
       "  'andrew_e._lee',\n",
       "  'andrew_ege',\n",
       "  'andrew_england_kerr',\n",
       "  'andrew_ewing',\n",
       "  'andrew_fabian',\n",
       "  'andrew_fahie',\n",
       "  'andrew_falk',\n",
       "  'andrew_faulds',\n",
       "  'andrew_feinstein',\n",
       "  'andrew_feldman,_baron_feldman_of_elstree',\n",
       "  'andrew_fisher',\n",
       "  'andrew_frank_schoeppel',\n",
       "  'andrew_fraser_(new_south_wales_politician)',\n",
       "  'andrew_fraser_(queensland_politician)',\n",
       "  'andrew_g._miller',\n",
       "  'andrew_gee_(politician)',\n",
       "  'andrew_george_(diplomat)',\n",
       "  'andrew_george_(politician)',\n",
       "  'andrew_george_blair',\n",
       "  'andrew_giles',\n",
       "  'andrew_gillum',\n",
       "  'andrew_ginther',\n",
       "  'andrew_goodpaster',\n",
       "  'andrew_gregg_curtin',\n",
       "  'andrew_griffith',\n",
       "  'andrew_griffiths_(politician)',\n",
       "  'andrew_gwynne',\n",
       "  'andrew_h._burke',\n",
       "  'andrew_h._longino',\n",
       "  'andrew_h._mickle',\n",
       "  'andrew_h._schapiro',\n",
       "  'andrew_h._ward',\n",
       "  'andrew_haben',\n",
       "  'andrew_hastie',\n",
       "  'andrew_hay,_8th_earl_of_erroll',\n",
       "  'andrew_haydon_(senator)',\n",
       "  'andrew_henry_barlow',\n",
       "  'andrew_hevesi',\n",
       "  'andrew_hickenlooper',\n",
       "  'andrew_holness',\n",
       "  'andrew_horatio_reeder',\n",
       "  'andrew_hughes_(politician)',\n",
       "  'andrew_hunter_(british_politician)',\n",
       "  'andrew_hunter_boyd',\n",
       "  'andrew_inglis_clark',\n",
       "  'andrew_j._guilford',\n",
       "  'andrew_j._mcdonald',\n",
       "  'andrew_j._santaniello_jr.',\n",
       "  'andrew_j._thayer',\n",
       "  'andrew_j._waterman',\n",
       "  'andrew_jackson',\n",
       "  'andrew_jackson_caldwell',\n",
       "  'andrew_jackson_clements',\n",
       "  'andrew_jackson_donelson',\n",
       "  'andrew_jackson_hamilton',\n",
       "  'andrew_jackson_higgins_(judge)',\n",
       "  'andrew_jackson_houston',\n",
       "  'andrew_jackson_turner',\n",
       "  'andrew_jacobs_jr.',\n",
       "  'andrew_james_peters',\n",
       "  'andrew_jensen_(wisconsin_politician)',\n",
       "  'andrew_johnson',\n",
       "  'andrew_johnson_(minnesota_politician)',\n",
       "  'andrew_joseph_thynne',\n",
       "  'andrew_judde',\n",
       "  'andrew_k.c._nyirenda',\n",
       "  'andrew_k._benton',\n",
       "  'andrew_kania',\n",
       "  'andrew_katos',\n",
       "  'andrew_ketterer',\n",
       "  'andrew_kirkpatrick_(lawyer)',\n",
       "  'andrew_kleinfeld',\n",
       "  'andrew_koenig_(politician)',\n",
       "  'andrew_l._harris',\n",
       "  'andrew_lacey',\n",
       "  'andrew_laming',\n",
       "  'andrew_lang_(minnesota_politician)',\n",
       "  'andrew_lang_petrie',\n",
       "  'andrew_lanza',\n",
       "  'andrew_learned',\n",
       "  'andrew_leigh',\n",
       "  'andrew_lelling',\n",
       "  'andrew_leung',\n",
       "  'andrew_little_(new_zealand_politician)',\n",
       "  'andrew_lohrey',\n",
       "  'andrew_louw_(politician)',\n",
       "  'andrew_lysaght_jr.',\n",
       "  'andrew_m._blair',\n",
       "  'andrew_m._peery',\n",
       "  'andrew_mackay',\n",
       "  'andrew_mackinlay',\n",
       "  'andrew_malcolm_(politician)',\n",
       "  'andrew_martin_(nevada_politician)',\n",
       "  'andrew_mccabe',\n",
       "  'andrew_mccreight_creery',\n",
       "  'andrew_mcfadyen',\n",
       "  'andrew_mckissock',\n",
       "  'andrew_mellon',\n",
       "  'andrew_metcalfe',\n",
       "  'andrew_miller_(politician)',\n",
       "  'andrew_miscampbell',\n",
       "  'andrew_mitchell',\n",
       "  'andrew_mlangeni',\n",
       "  'andrew_monteith',\n",
       "  'andrew_motion',\n",
       "  'andrew_mukooza',\n",
       "  'andrew_murr',\n",
       "  'andrew_murray,_1st_viscount_dunedin',\n",
       "  'andrew_murray_(trade_unionist)',\n",
       "  'andrew_murrison',\n",
       "  'andrew_natsios',\n",
       "  'andrew_nicol_(judge)',\n",
       "  'andrew_nikolic',\n",
       "  'andrew_noble_(diplomat)',\n",
       "  'andrew_oliver',\n",
       "  'andrew_p._martin',\n",
       "  'andrew_p._miller',\n",
       "  \"andrew_p._o'rourke\",\n",
       "  'andrew_parmley',\n",
       "  'andrew_patterson_(wisconsin_politician)',\n",
       "  'andrew_pattulo',\n",
       "  'andrew_peacock',\n",
       "  'andrew_pearce_(diplomat)',\n",
       "  'andrew_perchlik',\n",
       "  'andrew_phang',\n",
       "  'andrew_phillips,_baron_phillips_of_sudbury',\n",
       "  'andrew_pickens_(congressman)',\n",
       "  'andrew_pickens_(governor)',\n",
       "  'andrew_popplewell',\n",
       "  'andrew_rainsford_wetmore',\n",
       "  'andrew_rice',\n",
       "  'andrew_richner',\n",
       "  'andrew_robathan',\n",
       "  'andrew_robb',\n",
       "  'andrew_robert_young',\n",
       "  'andrew_rohan',\n",
       "  'andrew_ruotolo',\n",
       "  'andrew_russel',\n",
       "  'andrew_rutherford_(politician)',\n",
       "  'andrew_ryan_mcgill',\n",
       "  'andrew_s._effron',\n",
       "  'andrew_scheer',\n",
       "  'andrew_selous',\n",
       "  'andrew_shandro_(politician)',\n",
       "  'andrew_sherwood',\n",
       "  'andrew_shuman',\n",
       "  'andrew_sinclair_(botanist)',\n",
       "  'andrew_smith_(british_politician)',\n",
       "  'andrew_snowden',\n",
       "  'andrew_sorensen',\n",
       "  'andrew_sorrell',\n",
       "  'andrew_southcott',\n",
       "  'andrew_spano',\n",
       "  'andrew_stark_(diplomat)',\n",
       "  'andrew_stein',\n",
       "  'andrew_stevenson',\n",
       "  'andrew_telegdi',\n",
       "  'andrew_theophanous',\n",
       "  'andrew_thomas_(australian_politician)',\n",
       "  'andrew_thompson_(politician)',\n",
       "  'andrew_tink',\n",
       "  'andrew_tipping',\n",
       "  'andrew_to',\n",
       "  'andrew_turnbull_(colonist)',\n",
       "  'andrew_w._hockenhull',\n",
       "  'andrew_wall',\n",
       "  'andrew_welch_(politician)',\n",
       "  'andrew_westerberg',\n",
       "  'andrew_wilkie',\n",
       "  'andrew_williams_(new_zealand_politician)',\n",
       "  'andrew_wilson_(australian_politician)',\n",
       "  'andrew_wodrow',\n",
       "  'andrew_wong_(politician)',\n",
       "  'andrew_wylie_(judge)',\n",
       "  'andrew_yang',\n",
       "  'andrew_young',\n",
       "  'andrew_ziolkowski',\n",
       "  'andrew_zwicker',\n",
       "  'andrew_von_eschenbach',\n",
       "  'andrey_kelin',\n",
       "  'andrey_klychkov',\n",
       "  'andrey_lyapchev',\n",
       "  'andrian_candu',\n",
       "  'andries_bicker',\n",
       "  'andries_cornelis_dirk_de_graeff',\n",
       "  'andries_pretorius',\n",
       "  'andries_treurnicht',\n",
       "  'andrieus_a._jones',\n",
       "  'andrija_artuković',\n",
       "  'andrija_hebrang_(politician,_born_1899)',\n",
       "  'andrija_hebrang_(politician,_born_1946)',\n",
       "  'andris_ameriks',\n",
       "  'andris_vilks',\n",
       "  'andrius_kubilius',\n",
       "  'andrius_mazuronis',\n",
       "  'andriy_bandera',\n",
       "  'andriy_biletsky',\n",
       "  'andriy_kozhemiakin',\n",
       "  'andriy_livytskyi',\n",
       "  'andriy_nikolayenko',\n",
       "  'andriy_sadovyi',\n",
       "  'andriy_shevchenko_(politician)',\n",
       "  'andriy_shkil',\n",
       "  'andro_krstulović_opara',\n",
       "  'andromache_karakatsanis',\n",
       "  'androulla_vassiliou',\n",
       "  'andru_volinsky',\n",
       "  'andrus_ansip',\n",
       "  'andry_rajoelina',\n",
       "  'andrzej_błasik',\n",
       "  'andrzej_kosztowniak',\n",
       "  'andrzej_olechowski',\n",
       "  'andrzej_papierz',\n",
       "  'andrzej_przyłębski',\n",
       "  'andrzej_rzepliński',\n",
       "  'andrás_aradszki',\n",
       "  'andrás_batiz',\n",
       "  'andré_adam_(diplomat)',\n",
       "  'andré_bauer',\n",
       "  'andré_bettencourt',\n",
       "  'andré_caron',\n",
       "  'andré_carson',\n",
       "  'andré_cox',\n",
       "  'andré_drolet',\n",
       "  'andré_f._richard',\n",
       "  'andré_franco_montoro',\n",
       "  'andré_gauthier',\n",
       "  'andré_gillet',\n",
       "  'andré_haspels',\n",
       "  'andré_jacque',\n",
       "  'andré_liautaud',\n",
       "  'andré_muhirwa',\n",
       "  'andré_nzapayeké',\n",
       "  'andré_renard',\n",
       "  'andré_riedl',\n",
       "  'andré_robichaud',\n",
       "  'andré_rouvoet',\n",
       "  'andré_simard',\n",
       "  'andré_villeneuve',\n",
       "  'andré_van_der_louw',\n",
       "  'andrée_boucher',\n",
       "  'andrés_allamand',\n",
       "  'andrés_avelino_cáceres',\n",
       "  'andrés_bonifacio',\n",
       "  'andrés_botero_phillipsbourne',\n",
       "  'andrés_chadwick',\n",
       "  'andrés_eloy_blanco',\n",
       "  'andrés_felipe_arias_leiva',\n",
       "  'andrés_gonzález_díaz',\n",
       "  'andrés_grillasca_salas',\n",
       "  'andrés_hernández_ros',\n",
       "  'andrés_manuel_lópez_obrador',\n",
       "  'andrés_palma_irarrázaval',\n",
       "  'andrés_pastrana_arango',\n",
       "  'andrés_quintana_roo',\n",
       "  'andrés_reguera',\n",
       "  'andrés_rodríguez_(politician)',\n",
       "  'andrés_de_santa_cruz',\n",
       "  'andy_allen_(politician)',\n",
       "  'andy_anderson_(united_states_army_officer)',\n",
       "  'andy_barr_(american_politician)',\n",
       "  'andy_berke',\n",
       "  'andy_beshear',\n",
       "  'andy_biggs',\n",
       "  'andy_brown_(politician)',\n",
       "  'andy_burnham',\n",
       "  'andy_byford',\n",
       "  'andy_coulson',\n",
       "  'andy_dawkins',\n",
       "  'andy_dinniman',\n",
       "  'andy_douglas_(judge)',\n",
       "  'andy_egwunyenga',\n",
       "  'andy_fleischmann',\n",
       "  'andy_foster_(politician)',\n",
       "  'andy_gardiner',\n",
       "  'andy_gipson',\n",
       "  'andy_goodell',\n",
       "  'andy_guest',\n",
       "  'andy_harris_(politician)',\n",
       "  'andy_hill_(politician)',\n",
       "  'andy_holt_(politician)',\n",
       "  'andy_jorgensen',\n",
       "  'andy_josephson',\n",
       "  'andy_kerr_(american_politician)',\n",
       "  'andy_kim_(politician)',\n",
       "  'andy_king_(american_politician)',\n",
       "  'andy_levin',\n",
       "  'andy_love',\n",
       "  'andy_manar',\n",
       "  'andy_mcguire',\n",
       "  'andy_mckean',\n",
       "  'andy_nuñez',\n",
       "  'andy_ogles_(politician)',\n",
       "  'andy_orchard',\n",
       "  'andy_schor',\n",
       "  'andy_schwartz',\n",
       "  'andy_scott_(politician)',\n",
       "  'andy_skoog',\n",
       "  'andy_slavitt',\n",
       "  'andy_steensma',\n",
       "  'andy_stern',\n",
       "  'andy_thompson_(canadian_politician)',\n",
       "  'andy_tompkins',\n",
       "  'andy_whitt',\n",
       "  'aneesh_chopra',\n",
       "  'aneesurrehman',\n",
       "  'anek_laothamatas',\n",
       "  'adriaan_van_kervel',\n",
       "  'adrian_davis_(civil_servant)',\n",
       "  'adrian_douglas_berry',\n",
       "  'adrian_foster_(politician)',\n",
       "  'adrian_knox',\n",
       "  'adrian_polansky',\n",
       "  'aerion_abney',\n",
       "  'affan_ibn_abi_al-as',\n",
       "  'affie_ellis',\n",
       "  'afrasiab_mehdi_hashmi',\n",
       "  'afsar_ahmad_siddiqui',\n",
       "  'alec_thomson',\n",
       "  'alejandro_cruz_(politician)',\n",
       "  'aleksander_stanisław_potocki',\n",
       "  'aleksandra_piątkowska',\n",
       "  'aleksei_ignatiev',\n",
       "  'aleric_abeygunawardena',\n",
       "  'alex_riley_(politician)',\n",
       "  'alexander_comyn,_earl_of_buchan',\n",
       "  'alexander_cosby_jackson',\n",
       "  'alexander_duncan_mcrae',\n",
       "  'alexander_glebov_(1722)',\n",
       "  'alexander_h._holley',\n",
       "  'alexander_hamilton_mcdonald',\n",
       "  'alexander_henderson,_1st_baron_faringdon',\n",
       "  'alexander_livingston,_2nd_earl_of_linlithgow',\n",
       "  'alexander_livingston,_3rd_earl_of_callendar',\n",
       "  'alexander_livingstone,_1st_earl_of_linlithgow',\n",
       "  'alexander_montgomery_(1667–1722)',\n",
       "  'alexander_poskrebyshev',\n",
       "  'alexander_scott_bullitt',\n",
       "  'alexander_skirving',\n",
       "  'alexander_starne',\n",
       "  'alexandrina_cantacuzino',\n",
       "  'alexandros_svolos',\n",
       "  'alexey_dolgorukov',\n",
       "  'alexey_razumovsky_(1748)',\n",
       "  'alexis_tameron_kinsey',\n",
       "  'alfred_b._littell',\n",
       "  'alfred_hubbard_(mayor)',\n",
       "  'alfred_ludlam',\n",
       "  'daljit_singh_cheema',\n",
       "  'dallas_brooks',\n",
       "  'dallas_heard',\n",
       "  'dallas_townsend_sr.',\n",
       "  'dallyana_passailaigue',\n",
       "  'dalma_mádl',\n",
       "  'dalpat_singh_paraste',\n",
       "  'dalton_bales',\n",
       "  'dalton_mcguinty',\n",
       "  'dalton_mcguinty_sr.',\n",
       "  'dalya_attar',\n",
       "  'daman_nath_dhungana',\n",
       "  'damase_racine',\n",
       "  'damat_ferid_pasha',\n",
       "  'damat_gürcü_halil_rifat_pasha',\n",
       "  'damcho_dorji',\n",
       "  'damdin_sükhbaatar',\n",
       "  'dame_mary_cook',\n",
       "  'damian_bugg',\n",
       "  'damian_collins',\n",
       "  'damian_green',\n",
       "  'damien_english',\n",
       "  'damir_mišković',\n",
       "  'damodar_raja_narasimha',\n",
       "  ...],\n",
       " ['1.2742e+07'],\n",
       " ['ERROR ERROR ERROR'],\n",
       " [],\n",
       " ['0632-06-08'],\n",
       " ['argon', 'neon', 'radon', 'potassium', 'helium', 'sodium', 'hydrogen', ''],\n",
       " ['greg_abbott', ''],\n",
       " ['dersu_uzala_(1975_film)',\n",
       "  'sanjuro',\n",
       "  'sanshiro_sugata',\n",
       "  'sanshiro_sugata_part_ii',\n",
       "  'one_wonderful_sunday',\n",
       "  'the_bad_sleep_well',\n",
       "  'ran_(film)',\n",
       "  'rashomon',\n",
       "  'red_beard',\n",
       "  'rhapsody_in_august',\n",
       "  'the_hidden_fortress',\n",
       "  'the_idiot_(1951_film)',\n",
       "  'the_lower_depths_(1957_film)',\n",
       "  \"the_men_who_tread_on_the_tiger's_tail\",\n",
       "  'the_most_beautiful',\n",
       "  'no_regrets_for_our_youth',\n",
       "  'scandal_(1950_film)',\n",
       "  'stray_dog_(film)',\n",
       "  \"dodes'ka-den\",\n",
       "  'dreams_(1990_film)',\n",
       "  'drunken_angel',\n",
       "  'the_quiet_duel',\n",
       "  'those_who_make_tomorrow',\n",
       "  'high_and_low_(1963_film)',\n",
       "  'madadayo',\n",
       "  'throne_of_blood',\n",
       "  'kagemusha',\n",
       "  'seven_samurai',\n",
       "  'i_live_in_fear',\n",
       "  'ikiru',\n",
       "  'yojimbo'],\n",
       " [],\n",
       " [],\n",
       " ['263'],\n",
       " [],\n",
       " [],\n",
       " ['national_gallery_(norway)', 'munch_museum'],\n",
       " [],\n",
       " [],\n",
       " [],\n",
       " [],\n",
       " [],\n",
       " ['veltins_brewery',\n",
       "  'warsteiner',\n",
       "  'diebels',\n",
       "  'ernst_barre_private_brewery',\n",
       "  'pinkus_müller',\n",
       "  'krombacher_brauerei'],\n",
       " ['ERROR ERROR ERROR'],\n",
       " [],\n",
       " ['ERROR ERROR ERROR'],\n",
       " [],\n",
       " ['14'],\n",
       " [],\n",
       " ['buea',\n",
       "  'kinshasa',\n",
       "  'djibouti_(city)',\n",
       "  'algiers',\n",
       "  'porto-novo',\n",
       "  'libreville',\n",
       "  'laayoune',\n",
       "  'tifariti',\n",
       "  'são_tomé',\n",
       "  'dodoma',\n",
       "  'luanda',\n",
       "  'ciudad_de_la_paz',\n",
       "  'malabo',\n",
       "  'asmara',\n",
       "  'mbabane',\n",
       "  'lobamba',\n",
       "  'addis_ababa',\n",
       "  'accra',\n",
       "  'kampala',\n",
       "  'gaborone',\n",
       "  'nairobi',\n",
       "  'nouakchott',\n",
       "  'port_louis',\n",
       "  'brazzaville',\n",
       "  'banjul',\n",
       "  'moroni,_comoros',\n",
       "  'dakar',\n",
       "  'abidjan',\n",
       "  'yamoussoukro',\n",
       "  'rabat',\n",
       "  'maputo',\n",
       "  'windhoek',\n",
       "  'tunis',\n",
       "  'ouagadougou',\n",
       "  'gitega',\n",
       "  'bujumbura',\n",
       "  'yaoundé',\n",
       "  'bangui',\n",
       "  \"n'djamena\",\n",
       "  'khartoum',\n",
       "  'praia',\n",
       "  'mogadishu',\n",
       "  'hargeisa',\n",
       "  'pretoria',\n",
       "  'cape_town',\n",
       "  'bloemfontein',\n",
       "  'juba',\n",
       "  'conakry',\n",
       "  'bissau',\n",
       "  'antananarivo',\n",
       "  'lilongwe',\n",
       "  'bamako',\n",
       "  'maseru',\n",
       "  'monrovia',\n",
       "  'tripoli',\n",
       "  'niamey',\n",
       "  'abuja',\n",
       "  'lomé',\n",
       "  'cairo',\n",
       "  'victoria,_seychelles',\n",
       "  'freetown',\n",
       "  'madrid',\n",
       "  'kigali',\n",
       "  'lusaka',\n",
       "  'harare'],\n",
       " ['ambassador_bridge',\n",
       "  'amu_darya_pipeline_bridge',\n",
       "  'andy_warhol_bridge',\n",
       "  'dalsfjord_bridge',\n",
       "  \"daly's_bridge\",\n",
       "  'dazi_bridge',\n",
       "  'varodd_bridge',\n",
       "  \"viaduc_d'austerlitz\",\n",
       "  'vincent_thomas_bridge',\n",
       "  'waco_suspension_bridge',\n",
       "  'waldo–hancock_bridge',\n",
       "  'walter_taylor_bridge',\n",
       "  'pont_du_robinet',\n",
       "  'deir_ez-zor_suspension_bridge',\n",
       "  'denham_suspension_bridge',\n",
       "  'dijiu_suspension_bridge',\n",
       "  'aizhai_bridge',\n",
       "  'akashi_kaikyo_bridge',\n",
       "  'akinada_bridge',\n",
       "  'albert_bridge,_london',\n",
       "  'askøy_bridge',\n",
       "  'azhihe_river_bridge',\n",
       "  'bear_mountain_bridge',\n",
       "  'beaver_bridge_(arkansas)',\n",
       "  'beipan_river_guanxing_highway_bridge',\n",
       "  'beipan_river_hukun_expressway_bridge',\n",
       "  'bertrand_road_suspension_bridge',\n",
       "  'beğendik_bridge',\n",
       "  'fort_edmonton_footbridge',\n",
       "  'fort_steuben_bridge',\n",
       "  'forth_road_bridge',\n",
       "  'fumei_suspension_bridge',\n",
       "  'fuxing_suspension_bridge',\n",
       "  'fyksesund_bridge',\n",
       "  'gangkou_suspension_bridge',\n",
       "  'gateway_bridge_(illinois–iowa)',\n",
       "  'hagwilget_canyon_bridge',\n",
       "  'haicang_bridge',\n",
       "  'hakata–ōshima_bridge',\n",
       "  'hakuchō_bridge',\n",
       "  'hal_w._adams_bridge',\n",
       "  'hammersmith_bridge',\n",
       "  'hampden_bridge,_kangaroo_valley',\n",
       "  'hardanger_bridge',\n",
       "  'samora_machel_bridge',\n",
       "  'san_francisco–oakland_bay_bridge',\n",
       "  'são_vicente_suspension_bridge',\n",
       "  'tacoma_narrows_bridge_(1940)',\n",
       "  'tacoma_narrows_bridge_(1950)',\n",
       "  'taiping_sky_bridge',\n",
       "  'tamar_bridge',\n",
       "  'tancarville_bridge',\n",
       "  'wilford_suspension_bridge',\n",
       "  'elisabeth_bridge_(budapest)',\n",
       "  'angers_bridge',\n",
       "  'angus_l._macdonald_bridge',\n",
       "  'anthony_wayne_bridge',\n",
       "  'arapuni_suspension_bridge',\n",
       "  'arouca_516',\n",
       "  'emmerich_rhine_bridge',\n",
       "  'erfjord_bridge',\n",
       "  'gjemnessund_bridge',\n",
       "  'golden_gate_bridge',\n",
       "  'market_street_bridge_(ohio_river)',\n",
       "  'pingsheng_bridge',\n",
       "  \"pont_d'aquitaine\",\n",
       "  'porthill_bridge',\n",
       "  'u.s._grant_bridge',\n",
       "  'tajik–afghan_friendship_bridge',\n",
       "  '1915_çanakkale_bridge',\n",
       "  'bosphorus_bridge',\n",
       "  'bronx–whitestone_bridge',\n",
       "  'brooklyn_bridge',\n",
       "  'brăila_bridge',\n",
       "  'kattel_bridge',\n",
       "  'matadi_bridge',\n",
       "  'mellah_slimane_bridge',\n",
       "  'menai_suspension_bridge',\n",
       "  'meshginshahr_suspension_bridge',\n",
       "  'randøy_bridge',\n",
       "  'bridge_for_kids__bridge_for_kids__1',\n",
       "  '25_de_abril_bridge',\n",
       "  'a._murray_mackay_bridge',\n",
       "  'nutty_narrows_bridge',\n",
       "  'nærøysund_bridge',\n",
       "  'claiborne_pell_newport_bridge',\n",
       "  'clifton_suspension_bridge',\n",
       "  'seaway_international_bridge',\n",
       "  'second_wanzhou_yangtze_river_bridge',\n",
       "  'semey_bridge',\n",
       "  'innoshima_bridge',\n",
       "  'mishima_skywalk',\n",
       "  'mount_hope_bridge',\n",
       "  'namhae_bridge',\n",
       "  'nanjing_qixiashan_yangtze_river_bridge',\n",
       "  'nansha_bridge',\n",
       "  'nanxi_bridge',\n",
       "  'tower_bridge',\n",
       "  'tromøy_bridge',\n",
       "  'tsing_lung_bridge',\n",
       "  'two_cent_bridge',\n",
       "  'bømla_bridge',\n",
       "  'chain_bridge_(massachusetts)',\n",
       "  'chain_bridge_(nuremberg)',\n",
       "  'chesapeake_bay_bridge',\n",
       "  'chirundu_bridge',\n",
       "  'choluteca_bridge',\n",
       "  'chushul_chakzam',\n",
       "  'stord_bridge',\n",
       "  'strait_of_messina_bridge',\n",
       "  'sunda_strait_bridge',\n",
       "  'carquinez_bridge',\n",
       "  'houtanjing_sky_bridge',\n",
       "  'howrah_bridge',\n",
       "  'huangpu_bridge',\n",
       "  'lal_mandi_footbridge',\n",
       "  'lawas_bridge',\n",
       "  'dublin_link',\n",
       "  'duonagao_suspension_bridge',\n",
       "  'simon_kenton_memorial_bridge',\n",
       "  'singshore_bridge,_pelling',\n",
       "  'sky_bridge_721',\n",
       "  'sotra_bridge',\n",
       "  'south_tenth_street_bridge',\n",
       "  'grand_tower_pipeline_bridge',\n",
       "  'great_belt_bridge',\n",
       "  'greystead_bridge',\n",
       "  'grunwald_bridge',\n",
       "  'guy_west_bridge',\n",
       "  'gwangan_bridge',\n",
       "  'hennepin_avenue_bridge',\n",
       "  'hercilio_luz_bridge',\n",
       "  'highline179',\n",
       "  'hirado_bridge',\n",
       "  'mackinac_bridge',\n",
       "  'magapit_suspension_bridge',\n",
       "  'malacca_strait_bridge',\n",
       "  'manhattan_bridge',\n",
       "  'riegelsville_bridge',\n",
       "  'robert_f._kennedy_bridge',\n",
       "  'roberto_clemente_bridge',\n",
       "  \"roebling's_delaware_aqueduct\",\n",
       "  'tajik–afghan_bridge_at_tem-demogan',\n",
       "  'ram_jhula',\n",
       "  'fatih_sultan_mehmet_bridge',\n",
       "  'fengdu_yangtze_river_bridge',\n",
       "  'jiangyin_yangtze_river_bridge',\n",
       "  'jim_stynes_bridge',\n",
       "  'liede_bridge',\n",
       "  'lillooet_suspension_bridge',\n",
       "  'lions_gate_bridge',\n",
       "  'niagara_clifton_bridge',\n",
       "  'niagara_falls_suspension_bridge',\n",
       "  'nicholas_chain_bridge',\n",
       "  'peak_walk',\n",
       "  'pierre_laporte_bridge',\n",
       "  'puente_colgante_(manila)',\n",
       "  'puente_de_occidente',\n",
       "  'thousand_islands_bridge',\n",
       "  'throgs_neck_bridge',\n",
       "  'thuận_phước_bridge',\n",
       "  'tjeldsund_bridge',\n",
       "  'williamsburg_bridge',\n",
       "  'xihoumen_bridge',\n",
       "  'xikou_suspension_bridge',\n",
       "  'xiling_yangtze_river_bridge',\n",
       "  'xixi_bridge',\n",
       "  'yangluo_yangtze_river_bridge',\n",
       "  'yangmingtan_bridge',\n",
       "  'yavuz_sultan_selim_bridge',\n",
       "  'little_belt_bridge_(1970)',\n",
       "  'eg_lng_pipeline_suspension_bridge',\n",
       "  'egongyan_bridge',\n",
       "  'lokkaren_bridge',\n",
       "  'longjiang_bridge',\n",
       "  'luding_bridge',\n",
       "  'lumberville–raven_rock_bridge',\n",
       "  'luojiao_river_bridge',\n",
       "  'lysefjord_bridge',\n",
       "  'ogdensburg–prescott_international_bridge',\n",
       "  'old_donghe_bridge',\n",
       "  'osman_gazi_bridge',\n",
       "  'osterøy_bridge',\n",
       "  'ostrovul_mare_bridge',\n",
       "  'otowi_suspension_bridge',\n",
       "  'oujiang_beikou_bridge',\n",
       "  'severn_bridge',\n",
       "  'sewells_road_bridge',\n",
       "  'shantou_bay_bridge',\n",
       "  'sidu_river_bridge',\n",
       "  'silver_bridge',\n",
       "  'st._johns_bridge',\n",
       "  'bidwell_bar_bridge',\n",
       "  'black_suspension_bridge',\n",
       "  'humber_bridge',\n",
       "  'humen_pearl_river_bridge',\n",
       "  'hålogaland_bridge',\n",
       "  'höga_kusten_bridge',\n",
       "  'kingston–port_ewen_suspension_bridge',\n",
       "  'kjellingstraumen_bridge',\n",
       "  'kuala_krai_bridge',\n",
       "  'kurushima_kaikyō_bridge',\n",
       "  'kutai_kartanegara_bridge',\n",
       "  'kvalsund_bridge',\n",
       "  'mid-hudson_bridge',\n",
       "  'millennium_bridge,_london',\n",
       "  'ozimek_suspension_bridge',\n",
       "  'rombak_bridge',\n",
       "  'royal_gorge_bridge',\n",
       "  'runyang_yangtze_river_bridge',\n",
       "  'ōnaruto_bridge',\n",
       "  'satok_bridge',\n",
       "  'yi_sun-sin_bridge',\n",
       "  'yichang_yangtze_river_highway_bridge',\n",
       "  'yingwuzhou_yangtze_river_bridge',\n",
       "  'yuzui_yangtze_river_bridge',\n",
       "  'zhongxian_yangtze_river_bridge',\n",
       "  'zunyi_bridge',\n",
       "  'älvsborg_bridge',\n",
       "  \"île_d'orléans_bridge\"],\n",
       " ['0'],\n",
       " [],\n",
       " ['the_tolkien_reader'],\n",
       " ['alaska'],\n",
       " ['https://www.aus.com/',\n",
       "  'https://www.walmart.com/%7cwalmart.com',\n",
       "  'https://cso.moi.gov.eg/',\n",
       "  'http://www.bundespost.de/',\n",
       "  'https://www.dpdhl.com/',\n",
       "  'https://www.honhai.com/en-us/',\n",
       "  'http://www.sahara.in/',\n",
       "  'https://www.tcs.com/',\n",
       "  'https://www.tata.com/%7ctata.com',\n",
       "  'http://www.marykay.com/',\n",
       "  'https://usps.com',\n",
       "  'http://www.randstad.com/',\n",
       "  'http://inspirebrands.com',\n",
       "  'https://www.mhi.com/%7cmhi.com',\n",
       "  'http://www.onoff.se',\n",
       "  'https://www.accenture.com',\n",
       "  'https://www.12306.cn/en/index.html%7ccustomer',\n",
       "  'http://www2.datasus.gov.br/datasus/index.php',\n",
       "  'https://www.ritek.com/',\n",
       "  'http://www.petrochina.com.cn/ptr/',\n",
       "  'http://www.sgcc.com.cn',\n",
       "  'https://mod.gov.in',\n",
       "  'http://mod.gov.pk',\n",
       "  'http://medu.ir',\n",
       "  'http://www.moe.gov.my/',\n",
       "  'http://en.mvd.ru',\n",
       "  'https://www.mps.gov.cn/',\n",
       "  'http://www.indianrailways.gov.in',\n",
       "  'http://www.sinopecgroup.com/group/en/',\n",
       "  'https://eng.rzd.ru/'],\n",
       " ['pinta_(ship)', 'niña', 'santa_maría_(ship)']]"
      ]
     },
     "execution_count": 180,
     "metadata": {},
     "output_type": "execute_result"
    }
   ],
   "source": [
    "chatgpt_cot_query_results_terms"
   ]
  },
  {
   "cell_type": "code",
   "execution_count": 181,
   "id": "cd9b1ae9-2918-40b6-b2a6-b2b0e1aab11f",
   "metadata": {},
   "outputs": [],
   "source": [
    "# Evaluate the precision and recall based on the total numbers of \n",
    "# gold answers and predicted answers\n",
    "predicted = 0\n",
    "gold = 0\n",
    "predicted_correct = 0\n",
    "some_matched = {}\n",
    "\n",
    "pred_gold_lengths = []\n",
    "for idx, pred_terms in enumerate(chatgpt_cot_query_results_terms):\n",
    "    \n",
    "    gold_terms = query_results_terms[idx]\n",
    "    \n",
    "    predicted +=  len(pred_terms)\n",
    "    gold += len(gold_terms)\n",
    "    \n",
    "    pred_gold_lengths.append((idx, len(pred_terms), len(gold_terms)))\n",
    "    \n",
    "    if (len(pred_terms) > 0) and (len(gold_terms) > 0):\n",
    "\n",
    "        predicted_correct_idx = False\n",
    "        for pterm in pred_terms:\n",
    "            if len(pterm) > 0: # skip an empty string\n",
    "                for gterm in gold_terms:\n",
    "                    if len(gterm) > 0:\n",
    "                        if pterm ==  gterm:\n",
    "                        #pterm = pterm.replace(\"_\", \" \")\n",
    "                        #gterm = gterm.replace(\"_\", \" \")\n",
    "                        #if (pterm in gterm) or (gterm in pterm):\n",
    "                            predicted_correct_idx = True\n",
    "                            predicted_correct += 1\n",
    "                            break # this pterm is a correct prediction, skip to next pterm\n",
    "                                    # don't double count this pterm anymore\n",
    "\n",
    "        some_matched[idx] = predicted_correct_idx"
   ]
  },
  {
   "cell_type": "code",
   "execution_count": 182,
   "id": "820217ba-c14a-4625-800f-8cae9acaa23b",
   "metadata": {},
   "outputs": [
    {
     "data": {
      "text/plain": [
       "(1307, 21352, 3654)"
      ]
     },
     "execution_count": 182,
     "metadata": {},
     "output_type": "execute_result"
    }
   ],
   "source": [
    "predicted_correct, predicted, gold"
   ]
  },
  {
   "cell_type": "code",
   "execution_count": 183,
   "id": "867498bd-4799-47b4-9f3b-70eb4981ea96",
   "metadata": {},
   "outputs": [
    {
     "data": {
      "text/plain": [
       "(21352, 3654)"
      ]
     },
     "execution_count": 183,
     "metadata": {},
     "output_type": "execute_result"
    }
   ],
   "source": [
    "pres = 0\n",
    "gols = 0\n",
    "for _, pre, gol in pred_gold_lengths:\n",
    "    pres += pre\n",
    "    gols += gol\n",
    "pres, gols"
   ]
  },
  {
   "cell_type": "code",
   "execution_count": 184,
   "id": "b904d510-fe46-4f5a-af7c-fabb9cc0bf4a",
   "metadata": {},
   "outputs": [
    {
     "data": {
      "text/plain": [
       "0.06121206444361184"
      ]
     },
     "execution_count": 184,
     "metadata": {},
     "output_type": "execute_result"
    }
   ],
   "source": [
    "precision = (predicted_correct) / (predicted)\n",
    "precision"
   ]
  },
  {
   "cell_type": "code",
   "execution_count": 185,
   "id": "f3094075-38b5-4f9d-8b34-7420617e479f",
   "metadata": {},
   "outputs": [
    {
     "data": {
      "text/plain": [
       "0.3576902025177887"
      ]
     },
     "execution_count": 185,
     "metadata": {},
     "output_type": "execute_result"
    }
   ],
   "source": [
    "recall = predicted_correct/gold\n",
    "recall"
   ]
  },
  {
   "cell_type": "code",
   "execution_count": 186,
   "id": "d23dbcc0-4560-4ca4-b02e-9b08e7a2a775",
   "metadata": {},
   "outputs": [
    {
     "data": {
      "text/plain": [
       "0.1045349116212109"
      ]
     },
     "execution_count": 186,
     "metadata": {},
     "output_type": "execute_result"
    }
   ],
   "source": [
    "f1 = 2 / (1/precision + 1/recall)\n",
    "f1"
   ]
  },
  {
   "cell_type": "code",
   "execution_count": 187,
   "id": "127d8006-f38a-469c-9402-40842ddc34a9",
   "metadata": {},
   "outputs": [
    {
     "name": "stdout",
     "output_type": "stream",
     "text": [
      "adj_precision:0.9674315321983715,\n",
      "adj_recall:0.6835774058577406,\n",
      "adj_f1:0.8011032791909286\n"
     ]
    }
   ],
   "source": [
    "adj_precision = predicted_correct / (predicted - 10000 -1 - 10000)\n",
    "adj_recall = predicted_correct/ (gold - 0 - 1714 - 28)\n",
    "adj_f1 = 2 / (1/adj_precision +  1/adj_recall)\n",
    "print('adj_precision:{},\\nadj_recall:{},\\nadj_f1:{}'.format(adj_precision, adj_recall, adj_f1))"
   ]
  },
  {
   "cell_type": "code",
   "execution_count": 188,
   "id": "42069ee2-9e4c-4bcb-b654-4493cfa44270",
   "metadata": {},
   "outputs": [
    {
     "data": {
      "text/plain": [
       "0.8033995519044063"
      ]
     },
     "execution_count": 188,
     "metadata": {},
     "output_type": "execute_result"
    }
   ],
   "source": [
    "#Stage No Noise: \n",
    "2/(1/0.8028 + 1/0.8040)"
   ]
  },
  {
   "cell_type": "code",
   "execution_count": 189,
   "id": "09442203-9fe8-43f0-9799-7594802e9b46",
   "metadata": {},
   "outputs": [],
   "source": [
    "# Evaluate the precision and recall based on the total numbers of test questions\n",
    "count = 0\n",
    "predicted_correct = 0\n",
    "some_matched = {}\n",
    "for idx, pred_terms in enumerate(chatgpt_cot_query_results_terms):\n",
    "    gold_terms = query_results_terms[idx]\n",
    "    \n",
    "    count += 1\n",
    "    \n",
    "    if (len(pred_terms) > 0) and (len(gold_terms) > 0):\n",
    "        predicted_correct_idx = False\n",
    "        for pterm in pred_terms:\n",
    "            if len(pterm) > 0: # skip an empty string\n",
    "                for gterm in gold_terms:\n",
    "                    if len(gterm) > 0:\n",
    "                        pterm = pterm.replace(\"_\", \" \")\n",
    "                        gterm = gterm.replace(\"_\", \" \")\n",
    "                        if not predicted_correct_idx:\n",
    "                            if (pterm in gterm) or (gterm in pterm):\n",
    "                                predicted_correct_idx = True\n",
    "                                predicted_correct += 1\n",
    "                        else:\n",
    "                            pass\n",
    "                \n",
    "        some_matched[idx] = predicted_correct_idx\n",
    "    elif (len(pred_terms) == 0) and (len(gold_terms) == 0):\n",
    "        predicted_correct += 1\n",
    "        some_matched[idx] = True"
   ]
  },
  {
   "cell_type": "code",
   "execution_count": 190,
   "id": "adf3cbd9-1b7c-42e4-b437-e98d8d4f51f9",
   "metadata": {},
   "outputs": [
    {
     "data": {
      "text/plain": [
       "102"
      ]
     },
     "execution_count": 190,
     "metadata": {},
     "output_type": "execute_result"
    }
   ],
   "source": [
    "total = 0\n",
    "for k in some_matched:\n",
    "    if some_matched[k]:\n",
    "        total += 1\n",
    "total"
   ]
  },
  {
   "cell_type": "code",
   "execution_count": 191,
   "id": "fddb13fa-68a2-4fad-b6a8-e0525383dfa1",
   "metadata": {},
   "outputs": [
    {
     "data": {
      "text/plain": [
       "0.68"
      ]
     },
     "execution_count": 191,
     "metadata": {},
     "output_type": "execute_result"
    }
   ],
   "source": [
    "precision = predicted_correct / count\n",
    "precision"
   ]
  },
  {
   "cell_type": "code",
   "execution_count": 192,
   "id": "51fc86e4-a46e-413a-9ed4-abad3b62eae8",
   "metadata": {},
   "outputs": [
    {
     "data": {
      "text/plain": [
       "0.68"
      ]
     },
     "execution_count": 192,
     "metadata": {},
     "output_type": "execute_result"
    }
   ],
   "source": [
    "recall = predicted_correct/count\n",
    "recall"
   ]
  },
  {
   "cell_type": "code",
   "execution_count": 193,
   "id": "5409db53-f342-46d1-8f7d-3efdd986553f",
   "metadata": {},
   "outputs": [
    {
     "data": {
      "text/plain": [
       "0.68"
      ]
     },
     "execution_count": 193,
     "metadata": {},
     "output_type": "execute_result"
    }
   ],
   "source": [
    "f1 = 2 / (1/precision + 1/recall)\n",
    "f1"
   ]
  },
  {
   "cell_type": "code",
   "execution_count": 194,
   "id": "f1b57115-9aee-477c-8016-1416166b9d86",
   "metadata": {},
   "outputs": [],
   "source": [
    "# Evaluate the precision and recall based on the total numbers of test questions\n",
    "count = 0 # total num of questions\n",
    "\n",
    "predicted_question = {} # dictionary from question to whether it was correctly predicted\n",
    "some_matched = {} # dictionary from question to how much is was correctly predicted \n",
    "\n",
    "# iterate each question to retrieve the set of predicted terms for a question\n",
    "for idx, pred_terms in enumerate(chatgpt_cot_query_results_terms):\n",
    "    \n",
    "    # the set of correct terms for this questions\n",
    "    gold_terms = query_results_terms[idx]\n",
    "    \n",
    "    # increment the number of questions\n",
    "    count += 1\n",
    "    \n",
    "    # flag: assuming this question has not predicted yet\n",
    "    predicted_correct_idx = False\n",
    "\n",
    "    if (len(pred_terms) > 0) and (len(gold_terms) > 0):\n",
    "        predicted_correct = 0\n",
    "        predicted_correct_idx = False\n",
    "        # iterate through the set of predicted terms for this question\n",
    "        for pterm in pred_terms:\n",
    "            if len(pterm) > 0: # skip an empty string\n",
    "                for gterm in gold_terms:\n",
    "                    if len(gterm) > 0:\n",
    "                        #if pterm ==  gterm:\n",
    "                        # normalize both predicted and correct terms for comparison\n",
    "                        pterm = pterm.replace(\"_\", \" \")\n",
    "                        gterm = gterm.replace(\"_\", \" \")\n",
    "                        # if the predicted term is correct, mark the question is predicted correctly\n",
    "                        # and count the number of correctly predicted terms\n",
    "                        if (pterm in gterm) or (gterm in pterm):\n",
    "                            #if pterm == gterm:\n",
    "                            predicted_correct_idx = True\n",
    "                            predicted_correct += 1\n",
    "\n",
    "        predicted_question[idx] = predicted_correct_idx\n",
    "        some_matched[idx] = predicted_correct / len(gold_terms)\n",
    "\n",
    "    # if both predicted and correct results are empty\n",
    "    elif (len(pred_terms) == 0) and (len(gold_terms) == 0):\n",
    "        predicted_question[idx] = True\n",
    "        some_matched[idx] = 1\n",
    "    # incorrectly predicted if one of them is empty\n",
    "    else:\n",
    "        predicted_question[idx] = False\n",
    "        some_matched[idx] = 0"
   ]
  },
  {
   "cell_type": "code",
   "execution_count": 195,
   "id": "122ddaec-f8fd-4a7a-b1d1-060cde212ee0",
   "metadata": {},
   "outputs": [
    {
     "data": {
      "text/plain": [
       "102"
      ]
     },
     "execution_count": 195,
     "metadata": {},
     "output_type": "execute_result"
    }
   ],
   "source": [
    "# total predicted questions if one of predicted result is correct\n",
    "total_predicted_questions = sum(list(predicted_question.values()))\n",
    "total_predicted_questions"
   ]
  },
  {
   "cell_type": "code",
   "execution_count": 196,
   "id": "1ee75e8b-a02d-4976-a893-72689979d6bb",
   "metadata": {},
   "outputs": [
    {
     "data": {
      "text/plain": [
       "99.3144953470124"
      ]
     },
     "execution_count": 196,
     "metadata": {},
     "output_type": "execute_result"
    }
   ],
   "source": [
    "# total predicted questions by adding up all predicted percentage\n",
    "total_matched = 0\n",
    "for k in some_matched:\n",
    "    if some_matched[k]:\n",
    "        total_matched += some_matched[k]\n",
    "total_matched"
   ]
  },
  {
   "cell_type": "code",
   "execution_count": 197,
   "id": "cb8ed8f1-56fc-4b4c-97fe-09ec4cc1eb8f",
   "metadata": {},
   "outputs": [
    {
     "data": {
      "text/plain": [
       "90.0"
      ]
     },
     "execution_count": 197,
     "metadata": {},
     "output_type": "execute_result"
    }
   ],
   "source": [
    "# total predicted questions if the set of predicted answers equals to the set of correct answers\n",
    "total = 0\n",
    "for k in some_matched:\n",
    "    if some_matched[k] == 1:\n",
    "        total += some_matched[k]\n",
    "total"
   ]
  },
  {
   "cell_type": "code",
   "execution_count": 198,
   "id": "c3c1ce08-b33a-4829-bc9a-339b5a3ba277",
   "metadata": {},
   "outputs": [
    {
     "data": {
      "text/plain": [
       "(0.68, 0.66, 0.6)"
      ]
     },
     "execution_count": 198,
     "metadata": {},
     "output_type": "execute_result"
    }
   ],
   "source": [
    "# prediction, recall, and f1-score\n",
    "102/150, 99/150, 90/150"
   ]
  },
  {
   "cell_type": "code",
   "execution_count": null,
   "id": "0c3fdc67-243e-4fbe-bcf8-c48079adc8c3",
   "metadata": {},
   "outputs": [],
   "source": []
  }
 ],
 "metadata": {
  "kernelspec": {
   "display_name": "mof_kg",
   "language": "python",
   "name": "mof_kg"
  },
  "language_info": {
   "codemirror_mode": {
    "name": "ipython",
    "version": 3
   },
   "file_extension": ".py",
   "mimetype": "text/x-python",
   "name": "python",
   "nbconvert_exporter": "python",
   "pygments_lexer": "ipython3",
   "version": "3.9.15"
  }
 },
 "nbformat": 4,
 "nbformat_minor": 5
}
