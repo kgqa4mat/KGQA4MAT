{
 "cells": [
  {
   "cell_type": "markdown",
   "id": "e250228f-8b3a-436e-b121-8b5a4a82b25e",
   "metadata": {},
   "source": [
    "# KGQA4MAT Questions and Queries Translation\n",
    "- Method 1: Zero-shot learning from MOF-KG ontology only. Prompt ChatGPT with the MOF-KG ontology definitions. Instruct ChatGPT to translate a user question to a Cypher query based on the ontology.\n",
    "- Method 2: 1-shot learning from a pair of train question and query. Using the embeddings of the test and train questions to find the most similar train question to the test question. Prompt ChatGPT with the pair of matched train question and query. Instruct ChatGPT to translate a test question to a Cypher query.\n",
    "- Method 3: 1-shot learning from the MOF-KG ontology and a pair of train question and query. As in Method 2, include MOF-KG ontology in the prompt, in addition to a pair of matched question and query.\n",
    "- Method 4: 1-shot learning from a pair of train question 0.876 and query, and the chain-of-thought of the train query. As in Method 2, include the chain-of-thought of the train query in the prompt, in addition to the pair of matched question and query\n",
    "- Method 5: 1-shot learning from the MOF-KG ontology and a pair of train question and query, and the chain-of-thought of the train query. As in Method 3, include the chain-of-thought of the train query in the prompt, in addition to MOF-KG ontology and the pair of matched question and query."
   ]
  },
  {
   "cell_type": "code",
   "execution_count": null,
   "id": "226e5b92-9d46-489d-b0d8-96d6c9fd031e",
   "metadata": {},
   "outputs": [],
   "source": [
    "import pandas as pd\n",
    "import numpy as np\n",
    "import json\n",
    "import pickle, os, random"
   ]
  },
  {
   "cell_type": "markdown",
   "id": "48b81cae-119d-4e76-9e8f-0b1dc21251a7",
   "metadata": {},
   "source": [
    "## Load the train-80 and test-20 datasets"
   ]
  },
  {
   "cell_type": "code",
   "execution_count": null,
   "id": "45072dba-d6e4-4f76-8f02-660c8899d8da",
   "metadata": {
    "tags": []
   },
   "outputs": [],
   "source": [
    "test = pd.read_csv('../data/KGQA4MAT-test-Method1.csv')\n",
    "test.shape"
   ]
  },
  {
   "cell_type": "code",
   "execution_count": null,
   "id": "4e6c0edf-545c-43c5-8594-e4096f002841",
   "metadata": {},
   "outputs": [],
   "source": [
    "test.columns"
   ]
  },
  {
   "cell_type": "code",
   "execution_count": null,
   "id": "89204698-b3ef-4dfe-9d43-23f2d0c39070",
   "metadata": {},
   "outputs": [],
   "source": [
    "test.head()"
   ]
  },
  {
   "cell_type": "code",
   "execution_count": null,
   "id": "e248ff16-f5eb-4551-a650-c8fd57e8cf68",
   "metadata": {},
   "outputs": [],
   "source": [
    "train = pd.read_csv('../data/KGQA4MAT-train.csv')\n",
    "train.shape"
   ]
  },
  {
   "cell_type": "code",
   "execution_count": null,
   "id": "e280d7c4-ef2f-41ae-8998-237218e71371",
   "metadata": {},
   "outputs": [],
   "source": [
    "train.head()"
   ]
  },
  {
   "cell_type": "markdown",
   "id": "31497610-7044-4f91-9d25-7fba233133f1",
   "metadata": {},
   "source": [
    "## Query Neo4j Database"
   ]
  },
  {
   "cell_type": "code",
   "execution_count": null,
   "id": "0c569f5b-f4a4-42e2-a130-08553c326f5a",
   "metadata": {},
   "outputs": [],
   "source": [
    "from neo4j import GraphDatabase\n",
    "\n",
    "class Neo4jConnection:\n",
    "    \n",
    "    def __init__(self, uri, user, pwd):\n",
    "        self.__uri = uri\n",
    "        self.__user = user\n",
    "        self.__pwd = pwd\n",
    "        self.__driver = None\n",
    "        try:\n",
    "            self.__driver = GraphDatabase.driver(self.__uri, auth=(self.__user, self.__pwd))\n",
    "        except Exception as e:\n",
    "            print(\"Failed to create the driver:\", e)\n",
    "        \n",
    "    def close(self):\n",
    "        if self.__driver is not None:\n",
    "            self.__driver.close()\n",
    "        \n",
    "    def query(self, query, parameters=None, db=None):\n",
    "        assert self.__driver is not None, \"Driver not initialized!\"\n",
    "        session = None\n",
    "        response = None\n",
    "        try: \n",
    "            session = self.__driver.session(database=db) if db is not None else self.__driver.session() \n",
    "            response = list(session.run(query, parameters))\n",
    "            #response = session.run(query, parameters)\n",
    "        except Exception as e:\n",
    "            print(\"Query failed:\", e)\n",
    "        finally: \n",
    "            if session is not None:\n",
    "                session.close()\n",
    "        return response"
   ]
  },
  {
   "cell_type": "code",
   "execution_count": null,
   "id": "515a0daf-e81c-4ba8-905f-da3f8f19f621",
   "metadata": {},
   "outputs": [],
   "source": [
    "conn = Neo4jConnection(uri=\"bolt://localhost:7687\", \n",
    "                       user=\"neo4j\",              \n",
    "                       pwd=\"neo4j4mofs\")"
   ]
  },
  {
   "cell_type": "markdown",
   "id": "de72e821-4ec9-4ad2-9ba4-810fe6820499",
   "metadata": {},
   "source": [
    "## Retrieve the Answers for Train and Test and Save Them as JSON Strings"
   ]
  },
  {
   "cell_type": "code",
   "execution_count": null,
   "id": "d29d8442-dd5e-4353-a615-a62f1cac7b52",
   "metadata": {},
   "outputs": [],
   "source": [
    "answer = []\n",
    "for idx, row in train.iterrows():\n",
    "    query = row['query']\n",
    "    results = conn.query(query)\n",
    "    answer.append(json.dumps([dict(_) for _ in results]))"
   ]
  },
  {
   "cell_type": "code",
   "execution_count": null,
   "id": "e57734c7-c536-4164-a12a-d5ee28a92a12",
   "metadata": {},
   "outputs": [],
   "source": [
    "len(answer)"
   ]
  },
  {
   "cell_type": "code",
   "execution_count": null,
   "id": "68b0ddb2-a6ae-4c10-9f94-6bff1214899a",
   "metadata": {},
   "outputs": [],
   "source": [
    "count = 0\n",
    "for item in answer:\n",
    "    if not item:\n",
    "        print(item)"
   ]
  },
  {
   "cell_type": "code",
   "execution_count": null,
   "id": "3c140f53-517b-4b70-b894-b68a1a8dbaf4",
   "metadata": {},
   "outputs": [],
   "source": [
    "train['answer'] = answer"
   ]
  },
  {
   "cell_type": "code",
   "execution_count": null,
   "id": "def1d0be-c4a7-48e3-8e5f-dec792bd7157",
   "metadata": {},
   "outputs": [],
   "source": [
    "answer_test = []\n",
    "for idx, row in test.iterrows():\n",
    "    query = row['query']\n",
    "    results = conn.query(query)\n",
    "    answer_test.append(json.dumps([dict(_) for _ in results]))"
   ]
  },
  {
   "cell_type": "code",
   "execution_count": null,
   "id": "61917f62-53d2-4611-b7f4-774662d08b7f",
   "metadata": {},
   "outputs": [],
   "source": [
    "len(answer_test)"
   ]
  },
  {
   "cell_type": "code",
   "execution_count": null,
   "id": "9c0f88f6-26ed-4866-836c-e514d2cb5ccc",
   "metadata": {},
   "outputs": [],
   "source": [
    "test['answer'] = answer_test"
   ]
  },
  {
   "cell_type": "markdown",
   "id": "6f8d58cd-ef46-4ac3-8873-610050e716a5",
   "metadata": {},
   "source": [
    "## Generate explanations to each question"
   ]
  },
  {
   "cell_type": "code",
   "execution_count": null,
   "id": "65571c11-773a-4f8a-bc36-a34ae10feb2e",
   "metadata": {},
   "outputs": [],
   "source": [
    "import openai"
   ]
  },
  {
   "cell_type": "code",
   "execution_count": null,
   "id": "200c8549-ed39-4146-802c-7c79b08041cd",
   "metadata": {},
   "outputs": [],
   "source": [
    "openai_key_path = \"OPENAI_KEY_PATH\"\n",
    "\n",
    "with open(openai_key_path, 'r') as f:\n",
    "    openai_key = f.readline()\n",
    "\n",
    "openai.api_key = openai_key"
   ]
  },
  {
   "cell_type": "code",
   "execution_count": null,
   "id": "a66fefe0-f1dd-4562-8268-3cb6c4ff6c42",
   "metadata": {},
   "outputs": [],
   "source": [
    "from tqdm import tqdm\n",
    "\n",
    "thoughts_train = []\n",
    "for idx, row in tqdm(train.iterrows(), total=train.shape[0]):\n",
    "    query = row['query']\n",
    "    \n",
    "    msg = \"Explain the reasoning in the Cypher query in logical steps. \\\n",
    "       Use normal words in the explanation. No comments. \\\n",
    "       Output the explanation only. Query:\"\n",
    "    msg += query\n",
    "\n",
    "    response = openai.ChatCompletion.create(\n",
    "        model=\"gpt-3.5-turbo\",\n",
    "        messages=[\n",
    "            {\"role\": \"system\", \"content\": \"You are a helpful assistant focusing on \\\n",
    "                a Neo4j database called MOF-KG. The database is \\\n",
    "                about Metal-Organic Frameworks.\"},\n",
    "            {\"role\": \"user\", \"content\": msg}\n",
    "        ]\n",
    "    )\n",
    "\n",
    "    thoughts_train.append(response['choices'][0]['message']['content'])"
   ]
  },
  {
   "cell_type": "code",
   "execution_count": null,
   "id": "2cdd8bb5-fbd5-4e45-8f72-beab786b82e8",
   "metadata": {},
   "outputs": [],
   "source": [
    "train['chainOfThought'] = [item.strip() for item in thoughts_train]"
   ]
  },
  {
   "cell_type": "code",
   "execution_count": null,
   "id": "67643e13-e48a-4ce4-a331-e68e72df4aab",
   "metadata": {},
   "outputs": [],
   "source": [
    "#train.to_csv('../data/KGQA4MAT-train-with-embeddings-cot.csv', index=None)"
   ]
  },
  {
   "cell_type": "code",
   "execution_count": null,
   "id": "54945cd7-bc53-40b1-8481-e65ebe4da99c",
   "metadata": {},
   "outputs": [],
   "source": [
    "train = pd.read_csv(\"../data/KGQA4MAT-train-with-embeddings-cot.csv\")\n",
    "train.shape"
   ]
  },
  {
   "cell_type": "code",
   "execution_count": null,
   "id": "92159000-a0c4-46a6-b40b-e1dc2cd5d54e",
   "metadata": {},
   "outputs": [],
   "source": [
    "train.columns"
   ]
  },
  {
   "cell_type": "markdown",
   "id": "be359fd1-7416-4e25-8e8c-a7b6d4e42e71",
   "metadata": {},
   "source": [
    "## Use ChatGPT to evaluate the test questions\n",
    "- Method 1: Given the ontology, ask ChatGPT to directly translate the questions to queries\n",
    "- Method 2: Given the training data, ask ChatGPT to use few shots to translate the questions to queries\n",
    "- Method 3: Given ontology and the training data, ask ChatGPT to use few shots to translate the questions to queries\n",
    "- Method 4: Given the training data, and chain-of-thought of the training data, ask ChatGPT to use few shots to translate the questions to queries with chain of thought.\n",
    "- Method 5: Given ontology, the training data, and chain-of-thought of the training data, ask ChatGPT to use few shots to translate the questions to queries with chain of thought."
   ]
  },
  {
   "cell_type": "markdown",
   "id": "2690db25-cf09-4bf0-b760-cfb90fd7c50d",
   "metadata": {},
   "source": [
    "### Method 1: Given the ontology, ask ChatGPT to directly translate the questions to queries"
   ]
  },
  {
   "cell_type": "code",
   "execution_count": null,
   "id": "ff4c65d7-9d86-4b97-96ae-b2e568c13cb4",
   "metadata": {},
   "outputs": [],
   "source": [
    "sys_content1 = \"\"\"\n",
    "Assuming you have a neo4j database called MOF-KG. The database has the following node definitions: \n",
    "\"MOF\"[\"refcode\":ID, \"disorder_details\", \"remarks\", \"r_factor\", \"radiation_source\", \"z_prime\", \"has_3d_structure\", \"has_disorder\", \"cell_volume\", \"z_value\", \"database_name\", \"cell_lengths\", \"cell_angles\", \"deposition_date\", \"source\", \"color\", \"mofid\", \"datasource\", \"deposition_number\", \"mofkey\", \"charged_framework\", \"hydrogen_added\", \"unreliable_chemistry\", \"name\", \"filename\", \"percentage_void_space\", \"melting_point\", \"density\", \"sohncke_space_group\", \"solvent\", \"pressure\", \"temperature\", \"chemical_name\", \"chemical_formula\"];\n",
    "\"Atom\"[\"name\":ID];\n",
    "\"Publication\"[\"doi\":ID, \"year\", \"first_page\", \"volume\"];\n",
    "\"Journal\"[\"name\":ID];\n",
    "\"Author\"[\"name\":ID, \"order\"];\n",
    "\"Bond\"[\"name\":ID];\n",
    "\"Crystal_System\"[\"name\":ID];\n",
    "\"Family\"[\"name\":ID];\n",
    "\"Metal\"[\"name\":ID];\n",
    "\"Organic_Linker\"[\"name\":ID];\n",
    "\"Topology\"[\"rcsr_code\":ID];\n",
    "\"Space_Group\"[\"name\":ID];\n",
    "\"Synthesis_Procedure\"[\"name\", \"syn_id\":ID, \"symbol\", \"method\", \"MOratio\"];\n",
    "\"Title\"[\"title\":ID];\n",
    "\"Synthesis_Operation\"[\"DataSource\", \"order\", \"op_id\":ID, \"name\"];\n",
    "\"Synthesis_Operation_Condition\"[\"Property\", \"Value\", \"Unit\", \"order\", \"cond_id\":ID];\n",
    "\"Synthesis_Time\"[\"time_id\":ID, \"Value\", \"Unit\"];\n",
    "\"Synthesis_Temperature\"[\"Unit\", \"temp_id\":ID, \"Value\"];\n",
    "\"Synthesis_Property\"[\"value\", \"unit\", \"prop_id\":ID, \"order\", \"prop\"];\n",
    "\"Synthesis_Metal_Precursor\"[\"name\", \"mprec_id\":ID, \"formula\"];\n",
    "\"Metal_Composition\"[\"comp_id\":ID, \"unit\", \"order\", \"value\"];\n",
    "\"Synthesis_Organic_Precursor\"[\"name\", \"oprec_id\":ID, \"smiles\"];\n",
    "\"Organic_Composition\"[\"comp_id\":ID, \"unit\", \"order\", \"value\"];\n",
    "\"Synthesis_Solvent_Precursor\"[\"sprec_id\":ID, \"name\"];\n",
    "\"Solvent_Composition\"[\"comp_id\":ID, \"unit\", \"order\", \"value\"];\n",
    "\"Solvent_Precursor_Solvent\"[\"solv_id\":ID, \"solvent\", \"order\"].\n",
    "\"\"\""
   ]
  },
  {
   "cell_type": "code",
   "execution_count": null,
   "id": "3a3625f3-5e8d-456f-9a81-1481792c7ea3",
   "metadata": {},
   "outputs": [],
   "source": [
    "sys_content1"
   ]
  },
  {
   "cell_type": "code",
   "execution_count": null,
   "id": "55ef80e9-62a6-4403-ac78-5e57b95b813d",
   "metadata": {},
   "outputs": [],
   "source": [
    "sys_content2 = \"\"\"\n",
    "MOF-KG has the following relationships:\n",
    "\"(:MOF)->[:has_topology]->(:Topology)\";\n",
    "\"(:MOF)->[:has_organicLinker]->(:Organic_Linker)\";\n",
    "\"(:MOF)->[:has_metal]->(:Metal)\";\n",
    "\"(:MOF)->[:has_spaceGroup]->(:Space_Group)\";\n",
    "\"(:MOF)->[:has_crystalSystem]->(:Crystal_System)\";\n",
    "\"(:MOF)->[:has_family]->(:Family)\";\n",
    "\"(:MOF)->[:has_bond]->(:Bond)\";\n",
    "\"(:MOF)->[:has_Atom]->(:Space_Atom)\";\n",
    "\"(:MOF)->[:has_publication]->(:Publication)\";\n",
    "\"(:Publication)->[:has_title]->(:Title)\";\n",
    "\"(:Publication)->[:in_journal]->(:Journal)\";\n",
    "\"(:Publication)->[:has_author]->(:Author)\";\n",
    "\"(:Synthesis_Procedure)->[:has_publication]->(:Publication)\";\n",
    "\"(:Synthesis_Procedure)->[:has_temperature]->(:Synthesis_Temperature)\";\n",
    "\"(:Synthesis_Procedure)->[:has_time]->(:Synthesis_Time)\";\n",
    "\"(:Synthesis_Procedure)->[:has_property]->(:Synthesis_Property)\";\n",
    "\"(:Synthesis_Procedure)->[:has_metal_precursor]->(:Synthesis_Metal_Precursor)\";\n",
    "\"(:Synthesis_Procedure)->[:has_organic_precursor]->(:Synthesis_Organic_Precursor)\";\n",
    "\"(:Synthesis_Procedure)->[:has_solvent_precursor]->(:Synthesis_Solvent_Precursor)\";\n",
    "\"(:Synthesis_Procedure)->[:has_operation]->(:Synthesis_Operation)\";\n",
    "\"(:Synthesis_Operation)->[:has_condition]->(:Synthesis_Operation_Condition)\";\n",
    "\"(:Synthesis_Operation)->[:has_next]->(:Synthesis_Operation)\";\n",
    "\"(:Synthesis_Metal_Precursor)->[:has_composition]->(:Metal_Composition)\";\n",
    "\"(:Synthesis_Organic_Precursor)->[:has_composition]->(:Organic_Composition)\";\n",
    "\"(:Synthesis_Solvent_Precursor)->[:has_solvent]->(:Solvent_Precursor_Solvent)\";\n",
    "\"(:Synthesis_Solvent_Precursor)->[:has_composition]->(:Solvent_Composition)\".\n",
    "\"\"\""
   ]
  },
  {
   "cell_type": "code",
   "execution_count": null,
   "id": "7788697a-b592-4c3c-b0c7-36c8fc74810e",
   "metadata": {},
   "outputs": [],
   "source": [
    "sys_content2"
   ]
  },
  {
   "cell_type": "code",
   "execution_count": null,
   "id": "5d22ed8a-b303-4063-ae53-9ccef45cc95c",
   "metadata": {},
   "outputs": [],
   "source": [
    "from tqdm import tqdm\n",
    "\n",
    "schema_query = []\n",
    "\n",
    "for idx, row in tqdm(test.iterrows(), total=test.shape[0]):\n",
    "    \n",
    "    user_question = row['question']\n",
    "    \n",
    "    msg = \"Translate the question to Cypher query using the MOF-KG database. \\\n",
    "        No comments. Output syntactically correct query only. End query with ';'. \\\n",
    "        Question:{}. Query:\"\n",
    "    msg = msg.format(user_question)\n",
    "    \n",
    "    response = openai.ChatCompletion.create(\n",
    "        model=\"gpt-3.5-turbo\",\n",
    "        messages=[\n",
    "            {\"role\": \"system\", \"content\": sys_content1},\n",
    "            {\"role\": \"system\", \"content\": sys_content2},\n",
    "            {\"role\": \"user\", \"content\": msg}\n",
    "        ]\n",
    "    )\n",
    "    \n",
    "    schema_query.append(response['choices'][0]['message']['content'].strip().replace('\\n', ' ' ))"
   ]
  },
  {
   "cell_type": "code",
   "execution_count": null,
   "id": "bb0f8125-12a1-42fc-bd41-47f5cd7dea15",
   "metadata": {
    "tags": []
   },
   "outputs": [],
   "source": [
    "schema_query"
   ]
  },
  {
   "cell_type": "code",
   "execution_count": null,
   "id": "fe8cc69b-7d7c-41aa-a6de-c5f468106180",
   "metadata": {
    "tags": []
   },
   "outputs": [],
   "source": [
    "schema_query_cln = [item.replace('Query:', '').strip() for item in schema_query]\n",
    "schema_query_cln"
   ]
  },
  {
   "cell_type": "code",
   "execution_count": null,
   "id": "9463a3fb-d740-4f3d-88c2-c0329f036f32",
   "metadata": {},
   "outputs": [],
   "source": [
    "#test['ontology_direct_query'] = schema_query_cln"
   ]
  },
  {
   "cell_type": "code",
   "execution_count": null,
   "id": "4e53eb2a-b45f-4b7b-91bd-ccf790f24291",
   "metadata": {
    "tags": []
   },
   "outputs": [],
   "source": [
    "schema_query_answer = []\n",
    "for idx, row in tqdm(test.iterrows(), total=test.shape[0]):\n",
    "    query = row['schema_query']\n",
    "    try:\n",
    "        results = conn.query(query)\n",
    "        schema_query_answer.append(json.dumps([dict(_) for _ in results]))\n",
    "    except:\n",
    "        schema_query_answer.append('ERROR')"
   ]
  },
  {
   "cell_type": "code",
   "execution_count": null,
   "id": "0233d62e-07a7-4b68-b5e0-22ceb9201793",
   "metadata": {
    "tags": []
   },
   "outputs": [],
   "source": [
    "schema_query_answer"
   ]
  },
  {
   "cell_type": "code",
   "execution_count": null,
   "id": "58e58072-ae2b-45d2-b119-55593bebc1ad",
   "metadata": {},
   "outputs": [],
   "source": [
    "#test['ontology_direct_query_answer'] = schema_query_answer"
   ]
  },
  {
   "cell_type": "code",
   "execution_count": null,
   "id": "086d803b-30d8-466c-a12d-99c8dda8210f",
   "metadata": {},
   "outputs": [],
   "source": [
    "#test[['question', 'query', 'answer', 'ontology_direct_query', 'ontology_direct_query_answer']].\\\n",
    "# to_csv('../data/KGQA4MAT-test-Method1-zero-shot-ontology-direct.csv', index=None)"
   ]
  },
  {
   "cell_type": "markdown",
   "id": "0d5ab838-c4ce-4ea3-809f-8117f34a8d3e",
   "metadata": {},
   "source": [
    "### Recover the test data with qsq_idx, question_idx, etc"
   ]
  },
  {
   "cell_type": "code",
   "execution_count": null,
   "id": "e996eb11-8e7d-4292-ae04-8871343fa494",
   "metadata": {},
   "outputs": [],
   "source": [
    "test_idxes = pd.read_csv('../data/KGQA4MAT-test-20-with-idxes.csv')\n",
    "test_idxes.shape"
   ]
  },
  {
   "cell_type": "code",
   "execution_count": null,
   "id": "3147452b-5263-4b4e-97a7-402e37a0637f",
   "metadata": {},
   "outputs": [],
   "source": [
    "test['qsq_list_idx'] = test_idxes.qsq_list_idx"
   ]
  },
  {
   "cell_type": "code",
   "execution_count": null,
   "id": "b36f360a-ddda-4395-b3ed-b0293ba75e39",
   "metadata": {},
   "outputs": [],
   "source": [
    "test['question_idx'] = test_idxes.question_idx"
   ]
  },
  {
   "cell_type": "code",
   "execution_count": null,
   "id": "97627995-ab0c-46de-880c-85878065a795",
   "metadata": {},
   "outputs": [],
   "source": [
    "#test[['question', 'qsq_list_idx', 'question_idx', 'query', 'answer', 'ontology_direct_query', \\\n",
    "# 'ontology_direct_query_answer']].\\\n",
    "# to_csv('../data/KGQA4MAT-test-Method1-zero-shot-ontology-direct.csv', index=None)"
   ]
  },
  {
   "cell_type": "code",
   "execution_count": null,
   "id": "97dd519f-67cd-437d-a552-48e558942af7",
   "metadata": {},
   "outputs": [],
   "source": [
    "test_method1 = pd.read_csv(\"../data/KGQA4MAT-test-Method1-zero-shot-ontology-direct.csv\")\n",
    "test_method1.shape"
   ]
  },
  {
   "cell_type": "code",
   "execution_count": null,
   "id": "a574d464-854c-4ce7-b4ff-4ee62059cd69",
   "metadata": {},
   "outputs": [],
   "source": [
    "test_method1.columns"
   ]
  },
  {
   "cell_type": "markdown",
   "id": "fd5f0844-7527-43cc-a3c2-df1a7ee03692",
   "metadata": {},
   "source": [
    "### Embed the train quesetions for similar question search"
   ]
  },
  {
   "cell_type": "code",
   "execution_count": null,
   "id": "50d9493b-1a19-4f53-b9c0-9afbad9f957c",
   "metadata": {},
   "outputs": [],
   "source": [
    "# imports\n",
    "import pandas as pd\n",
    "import tiktoken\n",
    "\n",
    "from openai.embeddings_utils import get_embedding"
   ]
  },
  {
   "cell_type": "code",
   "execution_count": null,
   "id": "ff98983d-4fb3-4ec8-a949-1bef4c6226c2",
   "metadata": {},
   "outputs": [],
   "source": [
    "# embedding model parameters\n",
    "embedding_model = \"text-embedding-ada-002\"\n",
    "embedding_encoding = \"cl100k_base\"  # this the encoding for text-embedding-ada-002\n",
    "max_tokens = 8000  # the maximum for text-embedding-ada-002 is 8191"
   ]
  },
  {
   "cell_type": "code",
   "execution_count": null,
   "id": "dbb8746b-44ba-451c-b4f2-d8833a74c356",
   "metadata": {},
   "outputs": [],
   "source": [
    "# Ensure you have your API key set in your environment per the README: https://github.com/openai/openai-python#usage\n",
    "\n",
    "# This may take a few minutes\n",
    "#train[\"question_embedding\"] = train.question.apply(lambda x: get_embedding(x, engine=embedding_model))"
   ]
  },
  {
   "cell_type": "code",
   "execution_count": null,
   "id": "c87e005d-c814-4ed7-a752-189e516d5ee6",
   "metadata": {
    "tags": []
   },
   "outputs": [],
   "source": [
    "#train.to_csv('../data/KGQA4MAT-train-with-embeddings-cot.csv', index=None)"
   ]
  },
  {
   "cell_type": "markdown",
   "id": "14a9866d-5c64-48fc-9c64-8a504bb13243",
   "metadata": {},
   "source": [
    "### Embed test question and search similar train questions"
   ]
  },
  {
   "cell_type": "code",
   "execution_count": null,
   "id": "9912ee1d-8b4d-4a48-82c7-d5e42857746a",
   "metadata": {},
   "outputs": [],
   "source": [
    "from openai.embeddings_utils import get_embedding, cosine_similarity"
   ]
  },
  {
   "cell_type": "code",
   "execution_count": null,
   "id": "172b334b-8ff5-4016-a3e8-72344594f844",
   "metadata": {},
   "outputs": [],
   "source": [
    "test.columns"
   ]
  },
  {
   "cell_type": "code",
   "execution_count": null,
   "id": "1ff03f47-a9b9-40bb-8416-1a5d3913ddf4",
   "metadata": {},
   "outputs": [],
   "source": [
    "test_UiO66 = test[['question', 'query']]\n",
    "test_UiO66.shape"
   ]
  },
  {
   "cell_type": "code",
   "execution_count": null,
   "id": "494c15f1-55a4-4069-8802-aea5a32d6be4",
   "metadata": {},
   "outputs": [],
   "source": [
    "MOF_names = {'HKUST-1':'UiO66', 'MOF-3':'MIL-53', 'MOF-5':'URMOF-2', 'IRMOF':'PCN'}"
   ]
  },
  {
   "cell_type": "code",
   "execution_count": null,
   "id": "beb3aec7-2890-43fb-a45e-7f8aa3a13a57",
   "metadata": {},
   "outputs": [],
   "source": [
    "def multipleReplace(text, wordDict):\n",
    "    for key in wordDict:\n",
    "        text = text.replace(key, wordDict[key])\n",
    "    return text"
   ]
  },
  {
   "cell_type": "code",
   "execution_count": null,
   "id": "b6b1592b-1464-4b43-82ac-2e753fa55a52",
   "metadata": {},
   "outputs": [],
   "source": [
    "test_UiO66['query'] = test_UiO66['query'].apply(lambda x: multipleReplace(x, MOF_names))"
   ]
  },
  {
   "cell_type": "code",
   "execution_count": null,
   "id": "07771462-1442-4734-9b49-cebb13ca5e8b",
   "metadata": {},
   "outputs": [],
   "source": [
    "test_UiO66['question'] = test_UiO66.question.apply(lambda x: multipleReplace(x, MOF_names))"
   ]
  },
  {
   "cell_type": "code",
   "execution_count": null,
   "id": "61bee8b9-6aab-42f2-a422-376ade5d1d7d",
   "metadata": {
    "tags": []
   },
   "outputs": [],
   "source": [
    "test_UiO66.head()"
   ]
  },
  {
   "cell_type": "code",
   "execution_count": null,
   "id": "8d617b3f-d761-44f0-89f2-2515dee3aa82",
   "metadata": {},
   "outputs": [],
   "source": [
    "query_answer = []\n",
    "#chatgpt_query_answer = []\n",
    "\n",
    "for idx, row in tqdm(test_UiO66.iterrows(), total=test_UiO66.shape[0]):\n",
    "    \n",
    "    query = row['query']\n",
    "    #chatgpt_query = row['chatgpt_test_query']\n",
    "    \n",
    "    try:\n",
    "        results = conn.query(query)\n",
    "        query_answer.append(json.dumps([dict(_) for _ in results]))\n",
    "    except:\n",
    "        query_answer.append('ERROR')"
   ]
  },
  {
   "cell_type": "code",
   "execution_count": null,
   "id": "4d0988f9-bbc8-441f-a921-e7830c3c0c29",
   "metadata": {},
   "outputs": [],
   "source": [
    "test_UiO66['answer'] = query_anwer"
   ]
  },
  {
   "cell_type": "code",
   "execution_count": null,
   "id": "54d0dae3-664c-4070-a76c-5bbd6affb193",
   "metadata": {},
   "outputs": [],
   "source": [
    "# test_UiO66.to_csv(\"../data/KGQA4MAT-test.csv\", index=None)"
   ]
  },
  {
   "cell_type": "code",
   "execution_count": null,
   "id": "a584e94c-95f8-4bd7-a0c7-15b011320310",
   "metadata": {},
   "outputs": [],
   "source": [
    "def search_question_query(df, input_question, n=3, pprint=True):\n",
    "    input_question_embedding = get_embedding(\n",
    "        input_question,\n",
    "        engine=\"text-embedding-ada-002\"\n",
    "    )\n",
    "    df[\"similarity\"] = df.question_embedding.apply(lambda x: cosine_similarity(x, input_question_embedding))\n",
    "\n",
    "    results = \\\n",
    "        df.sort_values(\"similarity\", ascending=False) \\\n",
    "        .head(n)[['question', 'query']]\n",
    "    \n",
    "    return input_question_embedding, results['question'].values[0], results['query'].values[0]"
   ]
  },
  {
   "cell_type": "code",
   "execution_count": null,
   "id": "9787c591-95ed-413c-b0a2-76024f52267e",
   "metadata": {},
   "outputs": [],
   "source": [
    "test_question_embeddings = []\n",
    "for idx, row in tqdm(test_UiO66.iterrows(), total=test_UiO66.shape[0]):\n",
    "    test_question = row['question']\n",
    "    question_embedding = get_embedding(\n",
    "        test_question,\n",
    "        engine=\"text-embedding-ada-002\"\n",
    "    )\n",
    "    test_question_embeddings.append(question_embedding)"
   ]
  },
  {
   "cell_type": "code",
   "execution_count": null,
   "id": "06973d66-f914-4438-9f02-a7315639a91e",
   "metadata": {},
   "outputs": [],
   "source": [
    "test_UiO66['test_question_embedding'] = test_question_embeddings"
   ]
  },
  {
   "cell_type": "code",
   "execution_count": null,
   "id": "f56ba763-88e9-4386-91c1-5e5f929012f3",
   "metadata": {},
   "outputs": [],
   "source": [
    "train.columns"
   ]
  },
  {
   "cell_type": "code",
   "execution_count": null,
   "id": "0174b3d0-bc2e-4d63-9d3e-fdf33072bdd0",
   "metadata": {},
   "outputs": [],
   "source": [
    "from openai.embeddings_utils import get_embedding, cosine_similarity\n",
    "\n",
    "train_matched_questions = []\n",
    "train_matched_queries = []\n",
    "rain_matched_chainOfThoughts = []\n",
    "for idx, row in tqdm(test_UiO66.iterrows(), total=test_UiO66.shape[0]):\n",
    "    test_question_embedding = row['test_question_embedding']\n",
    "    \n",
    "    train_embeddings_similarities = train.question_embedding.apply(lambda x: cosine_similarity(x,test_question_embedding))\n",
    "    \n",
    "    max_idx = train_embeddings_similarities.idxmax()\n",
    "    \n",
    "    results = \\\n",
    "        train.iloc[max_idx][['question', 'query']]\n",
    "    \n",
    "    matched_question = results['question']\n",
    "    matched_query = results['query']\n",
    "    matched_cot = results['chainOfThought']\n",
    "\n",
    "    train_matched_questions.append(matched_question)\n",
    "    train_matched_queries.append(matched_query)\n",
    "    train_matched_chainOfThoughts.append(matched_cot)"
   ]
  },
  {
   "cell_type": "code",
   "execution_count": null,
   "id": "9dd2b94a-e26e-4d4b-9b0c-03934d799248",
   "metadata": {},
   "outputs": [],
   "source": [
    "test_UiO66['train_matched_question'] = train_matched_questions\n",
    "test_UiO66['train_matched_query'] = train_matched_queries\n",
    "test_UiO66['train_matched_chainOfThought'] = train_matched_chainOfThoughts"
   ]
  },
  {
   "cell_type": "code",
   "execution_count": null,
   "id": "c5adc2f5-bfcc-45d3-9791-546777a42074",
   "metadata": {},
   "outputs": [],
   "source": [
    "#test_UiO66.to_csv('../data/KGQA4MAT-test-with-embeddings-matched-question.csv', index=None)"
   ]
  },
  {
   "cell_type": "markdown",
   "id": "78b32023-4737-4c4c-9f80-63fc4597e94b",
   "metadata": {},
   "source": [
    "### Method 2: 1-shot learning from a pair of train question and query."
   ]
  },
  {
   "cell_type": "code",
   "execution_count": null,
   "id": "df04aa09-47e1-436c-bce2-086ac98b224c",
   "metadata": {},
   "outputs": [],
   "source": [
    "from tqdm import tqdm\n",
    "\n",
    "m2_query = []\n",
    "\n",
    "for idx, row in tqdm(test_UiO66.iterrows(), total=test_UiO66_cot.shape[0]):\n",
    "    \n",
    "    test_question = row['question']\n",
    "    \n",
    "    train_question = row['train_matched_question']\n",
    "    train_query = row['train_matched_query']\n",
    "\n",
    "    sys_question_query = \"\"\"\n",
    "        Learn the following example question and corresponding query. \\\n",
    "        Learn the connections in the example query on the MOF-KG database. \\\n",
    "        The query uses the terms defined in the MOF-KG database. \\\n",
    "        You can only use these given terms defined in the MOF-KG in future queries. \\ \n",
    "        Question:{}\n",
    "        Query:{}\n",
    "    \"\"\"\n",
    "    sys_question_query = sys_question_query.format(train_question, train_query)\n",
    "    \n",
    "    msg = \"\"\"\n",
    "        Use the learned connections and terms in the example query. \\\n",
    "        Translate the following question into a Cypher query.  \\\n",
    "        Use the similar structure as the given example query. \\\n",
    "        Output query only. No comments. End the query with ';'. \\\n",
    "        Question:{}\n",
    "        Query: \n",
    "    \"\"\"\n",
    "    msg = msg.format(test_question)\n",
    "    \n",
    "    response = openai.ChatCompletion.create(\n",
    "        model=\"gpt-3.5-turbo\",\n",
    "        messages=[\n",
    "            {\"role\": \"system\", \"content\": \"Assuming  you have a Neo4J database called MOF-KG. \\\n",
    "             The database is about Metal-Organic Framework. \\\n",
    "             You are a helpful assistant to translate questions to Cypher \\\n",
    "             queries on the database. \"},\n",
    "            {\"role\": \"system\", \"content\": sys_question_query},\n",
    "            {\"role\": \"user\", \"content\": msg}\n",
    "        ]\n",
    "    )\n",
    "    \n",
    "    m2_query.append(response['choices'][0]['message']['content'].strip().replace('\\n', ' ' ))"
   ]
  },
  {
   "cell_type": "code",
   "execution_count": null,
   "id": "154df1f9-25c4-45a3-a3bb-1792d03df653",
   "metadata": {},
   "outputs": [],
   "source": [
    "test_UiO66['method2_query'] = m2_query"
   ]
  },
  {
   "cell_type": "code",
   "execution_count": null,
   "id": "fdad8d1c-1b14-4dd4-94ef-8bc6077dca8b",
   "metadata": {},
   "outputs": [],
   "source": [
    "m2_query_answer = []\n",
    "\n",
    "for idx, row in tqdm(test_UiO66.iterrows(), total=test_UiO66_cot.shape[0]):\n",
    "    \n",
    "    m2_query = row['method2_query']\n",
    "    \n",
    "    try:\n",
    "        results = conn.query(m2_query)\n",
    "        m2_query_answer.append(json.dumps([dict(_) for _ in results]))\n",
    "    except:\n",
    "        m2_query_answer.append('ERROR')"
   ]
  },
  {
   "cell_type": "code",
   "execution_count": null,
   "id": "a8b23666-cf0b-4c72-bfda-6421ac25242c",
   "metadata": {},
   "outputs": [],
   "source": [
    "test_UiO66['method2_query_answer'] = m2_query_answer"
   ]
  },
  {
   "cell_type": "code",
   "execution_count": null,
   "id": "1321b05f-b4dc-4519-a9c5-7ceea177c75c",
   "metadata": {},
   "outputs": [],
   "source": [
    "#test_UiO66[['question', 'query', 'answer', 'method2_query', 'method2_query_answer', \n",
    "#                'train_matched_question', 'train_matched_query']].\\\n",
    "# to_csv('../data/KGQA4MAT-test-Method2-one-shot-train-only.csv', index=None)"
   ]
  },
  {
   "cell_type": "markdown",
   "id": "ab9058c7-dffa-4f5f-bea9-394b879bc91f",
   "metadata": {},
   "source": [
    "### Method 3: 1-shot learning from the MOF-KG ontology and a pair of train question and query. "
   ]
  },
  {
   "cell_type": "code",
   "execution_count": null,
   "id": "bca4a25d-daa7-4958-bc69-28ae557e6788",
   "metadata": {},
   "outputs": [],
   "source": [
    "from tqdm import tqdm\n",
    "\n",
    "m3_query = []\n",
    "\n",
    "for idx, row in tqdm(test_UiO66.iterrows(), total=test_UiO66_cot.shape[0]):\n",
    "    \n",
    "    test_question = row['question']\n",
    "    \n",
    "    train_question = row['train_matched_question']\n",
    "    train_query = row['train_matched_query']\n",
    "\n",
    "    sys_question_query = \"\"\"\n",
    "        Learn the following example question and corresponding query. \\\n",
    "        Learn the connections in the example query on the MOF-KG database. \\\n",
    "        The query uses the terms defined in the MOF-KG database. \\\n",
    "        You can only use these given terms defined in the MOF-KG in future queries. \\ \n",
    "        Question:{}\n",
    "        Query:{}\n",
    "    \"\"\"\n",
    "    sys_question_query = sys_question_query.format(train_question, train_query)\n",
    "    \n",
    "    msg = \"\"\"\n",
    "        Use the learned connections and terms in the example query and MOF-KG database. \\\n",
    "        Translate the following question into a Cypher query.  \\\n",
    "        Use the similar structure as the given example query. \\\n",
    "        Output query only. No comments. End the query with ';'. \\\n",
    "        Question:{}\n",
    "        Query: \n",
    "    \"\"\"\n",
    "    msg = msg.format(test_question)\n",
    "    \n",
    "    response = openai.ChatCompletion.create(\n",
    "        model=\"gpt-3.5-turbo\",\n",
    "        messages=[\n",
    "            {\"role\": \"system\", \"content\": \"Assuming  you have a Neo4J database called MOF-KG. \\\n",
    "             The database is about Metal-Organic Framework. \\\n",
    "             You are a helpful assistant to translate questions to Cypher \\\n",
    "             queries on the database. \"},\n",
    "            {\"role\": \"system\", \"content\": sys_content1},\n",
    "            {\"role\": \"system\", \"content\": sys_content2},\n",
    "            {\"role\": \"system\", \"content\": sys_question_query},\n",
    "            {\"role\": \"user\", \"content\": msg}\n",
    "        ]\n",
    "    )\n",
    "    \n",
    "    m3_query.append(response['choices'][0]['message']['content'].strip().replace('\\n', ' ' ))"
   ]
  },
  {
   "cell_type": "code",
   "execution_count": null,
   "id": "949ec68b-935a-4cce-8597-ec8b81250381",
   "metadata": {},
   "outputs": [],
   "source": [
    "test_UiO66['method3_query'] = m3_query"
   ]
  },
  {
   "cell_type": "code",
   "execution_count": null,
   "id": "c81dc5ff-aa72-4f59-bdda-3f44dcdf0148",
   "metadata": {},
   "outputs": [],
   "source": [
    "m3_query_answer = []\n",
    "\n",
    "for idx, row in tqdm(test_UiO66.iterrows(), total=test_UiO66_cot.shape[0]):\n",
    "    \n",
    "    m3_query = row['method3_query']\n",
    "    \n",
    "    try:\n",
    "        results = conn.query(cot_query)\n",
    "        m3_query_answer.append(json.dumps([dict(_) for _ in results]))\n",
    "    except:\n",
    "        m3_query_answer.append('ERROR')"
   ]
  },
  {
   "cell_type": "code",
   "execution_count": null,
   "id": "027aac91-87e8-4146-a667-a364207ca699",
   "metadata": {},
   "outputs": [],
   "source": [
    "test_UiO66['method3_query_answer'] = m3_query_answer"
   ]
  },
  {
   "cell_type": "code",
   "execution_count": null,
   "id": "a33ca8c3-1af5-4605-b288-b51f70239cec",
   "metadata": {},
   "outputs": [],
   "source": [
    "#test_UiO66[['question', 'query', 'answer', 'method3_query', 'method3_query_answer', \n",
    "#                'train_matched_question', 'train_matched_query']].\\\n",
    "# to_csv('../data/KGQA4MAT-test-Method3-one-shot-ontology-train-only.csv', index=None)"
   ]
  },
  {
   "cell_type": "markdown",
   "id": "9a7c35aa-489d-41b9-b9f1-c9660c6de2c8",
   "metadata": {},
   "source": [
    "### Method 4: 1-shot learning from a pair of train question and query, and the chain-of-thought of the train query."
   ]
  },
  {
   "cell_type": "code",
   "execution_count": null,
   "id": "25762a2a-8b08-425b-aae0-0395bc97c8b5",
   "metadata": {},
   "outputs": [],
   "source": [
    "from tqdm import tqdm\n",
    "\n",
    "m4_query = []\n",
    "\n",
    "for idx, row in tqdm(test_UiO66.iterrows(), total=test_UiO66_cot.shape[0]):\n",
    "    \n",
    "    test_question = row['question']\n",
    "    \n",
    "    train_question = row['train_matched_question']\n",
    "    train_query = row['train_matched_query']\n",
    "    train_matched_cot = row['train_matched_chainOfThought']\n",
    "    \n",
    "    sys_question_query = \"\"\"\n",
    "        Learn the following example question and corresponding query. \\\n",
    "        Learn the query steps in the explanation of the query. \\\n",
    "        You can only use the \n",
    "        terms defined in the MOF-KG database and in the example query. \n",
    "        Question: {} \n",
    "        Query: {}\n",
    "        Explanation: {}\n",
    "    \"\"\"\n",
    "    sys_question_query = sys_question_query.format(train_question, train_query, \n",
    "                                                  train_matched_cot)\n",
    "    \n",
    "    msg = \"Only use the terms in the given example query and the MOF-KG database. \\\n",
    "           Follow the similar structure of the example query. \\\n",
    "           Follow the steps in the explanation of the example query.\\\n",
    "           Translate the following question to Cypher query. \\\n",
    "           Output query only. No comments. \\\n",
    "           Output syntactically correct query only. End query with ';'. \\\n",
    "           Question:{}. Query:\"\n",
    "    msg = msg.format(test_question)\n",
    "    \n",
    "    response = openai.ChatCompletion.create(\n",
    "        model=\"gpt-3.5-turbo\",\n",
    "        messages=[\n",
    "            {\"role\": \"system\", \"content\": \"Assuming  you have a Neo4J database called MOF-KG. \\\n",
    "             The database is about Metal-Organic Framework. \\\n",
    "             You are a helpful assistant to translate questions to Cypher \\\n",
    "             queries on the database. \"},\n",
    "            {\"role\": \"system\", \"content\": sys_question_query},\n",
    "            {\"role\": \"user\", \"content\": msg}\n",
    "        ]\n",
    "    )\n",
    "    \n",
    "    m4_query.append(response['choices'][0]['message']['content'].strip().replace('\\n', ' ' ))"
   ]
  },
  {
   "cell_type": "code",
   "execution_count": null,
   "id": "080d006d-9eed-4fdf-94cf-df27a4fef16c",
   "metadata": {},
   "outputs": [],
   "source": [
    "test_UiO66['method4_query'] = m4_query"
   ]
  },
  {
   "cell_type": "code",
   "execution_count": null,
   "id": "295122fc-701a-4366-9080-d8cc0c8190f9",
   "metadata": {},
   "outputs": [],
   "source": [
    "m4_query_answer = []\n",
    "\n",
    "for idx, row in tqdm(test_UiO66.iterrows(), total=test_UiO66_cot.shape[0]):\n",
    "    \n",
    "    #query = row['query']\n",
    "    m4_query = row['method4_query']\n",
    "    \n",
    "    try:\n",
    "        results = conn.query(cot_query)\n",
    "        m4_query_answer.append(json.dumps([dict(_) for _ in results]))\n",
    "    except:\n",
    "        m4_query_answer.append('ERROR')"
   ]
  },
  {
   "cell_type": "code",
   "execution_count": null,
   "id": "311d898e-9c17-4a79-99c3-6a993d283555",
   "metadata": {},
   "outputs": [],
   "source": [
    "test_UiO66['method4_query_answer'] = m4_query_answer"
   ]
  },
  {
   "cell_type": "code",
   "execution_count": null,
   "id": "54c89b57-f1da-4796-ad43-a3d36465fed7",
   "metadata": {},
   "outputs": [],
   "source": [
    "#test_UiO66[['question', 'query', 'answer', 'method4_query', 'method4_query_answer', \n",
    "#                'train_matched_question', 'train_matched_query', 'train_matched_chainOfThought']].\\\n",
    "# to_csv('../data/KGQA4MAT-test-Method4-one-shot-train-cot.csv', index=None)"
   ]
  },
  {
   "cell_type": "markdown",
   "id": "0227d94c-67e7-4133-a86b-bdcfcd89998b",
   "metadata": {},
   "source": [
    "### Method 5: 1-shot learning from the MOF-KG ontology and a pair of train question and query, and the chain-of-thought of the train query."
   ]
  },
  {
   "cell_type": "code",
   "execution_count": null,
   "id": "4c5cc362-ee6e-4b03-8dcb-2b66953a9c57",
   "metadata": {},
   "outputs": [],
   "source": [
    "sys_content1 = \"\"\"\n",
    "Assuming you have a neo4j database called MOF-KG. The database has the following node definitions: \n",
    "\"MOF\"[\"refcode\":ID, \"disorder_details\", \"remarks\", \"r_factor\", \"radiation_source\", \"z_prime\", \"has_3d_structure\", \"has_disorder\", \"cell_volume\", \"z_value\", \"database_name\", \"cell_lengths\", \"cell_angles\", \"deposition_date\", \"source\", \"color\", \"mofid\", \"datasource\", \"deposition_number\", \"mofkey\", \"charged_framework\", \"hydrogen_added\", \"unreliable_chemistry\", \"name\", \"filename\", \"percentage_void_space\", \"melting_point\", \"density\", \"sohncke_space_group\", \"solvent\", \"pressure\", \"temperature\", \"chemical_name\", \"chemical_formula\"];\n",
    "\"Atom\"[\"name\":ID];\n",
    "\"Publication\"[\"doi\":ID, \"year\", \"first_page\", \"volume\"];\n",
    "\"Journal\"[\"name\":ID];\n",
    "\"Author\"[\"name\":ID, \"order\"];\n",
    "\"Bond\"[\"name\":ID];\n",
    "\"Crystal_System\"[\"name\":ID];\n",
    "\"Family\"[\"name\":ID];\n",
    "\"Metal\"[\"name\":ID];\n",
    "\"Organic_Linker\"[\"name\":ID];\n",
    "\"Topology\"[\"rcsr_code\":ID];\n",
    "\"Space_Group\"[\"name\":ID];\n",
    "\"Synthesis_Procedure\"[\"name\", \"syn_id\":ID, \"symbol\", \"method\", \"MOratio\"];\n",
    "\"Title\"[\"title\":ID];\n",
    "\"Synthesis_Operation\"[\"DataSource\", \"order\", \"op_id\":ID, \"name\"];\n",
    "\"Synthesis_Operation_Condition\"[\"Property\", \"Value\", \"Unit\", \"order\", \"cond_id\":ID];\n",
    "\"Synthesis_Time\"[\"time_id\":ID, \"Value\", \"Unit\"];\n",
    "\"Synthesis_Temperature\"[\"Unit\", \"temp_id\":ID, \"Value\"];\n",
    "\"Synthesis_Property\"[\"value\", \"unit\", \"prop_id\":ID, \"order\", \"prop\"];\n",
    "\"Synthesis_Metal_Precursor\"[\"name\", \"mprec_id\":ID, \"formula\"];\n",
    "\"Metal_Composition\"[\"comp_id\":ID, \"unit\", \"order\", \"value\"];\n",
    "\"Synthesis_Organic_Precursor\"[\"name\", \"oprec_id\":ID, \"smiles\"];\n",
    "\"Organic_Composition\"[\"comp_id\":ID, \"unit\", \"order\", \"value\"];\n",
    "\"Synthesis_Solvent_Precursor\"[\"sprec_id\":ID, \"name\"];\n",
    "\"Solvent_Composition\"[\"comp_id\":ID, \"unit\", \"order\", \"value\"];\n",
    "\"Solvent_Precursor_Solvent\"[\"solv_id\":ID, \"solvent\", \"order\"].\n",
    "\"\"\""
   ]
  },
  {
   "cell_type": "code",
   "execution_count": null,
   "id": "26ba15fc-c3f3-4ffc-b890-cbe926235b12",
   "metadata": {},
   "outputs": [],
   "source": [
    "sys_content2 = \"\"\"\n",
    "MOF-KG has the following relationships:\n",
    "\"(:MOF)->[:has_topology]->(:Topology)\";\n",
    "\"(:MOF)->[:has_organicLinker]->(:Organic_Linker)\";\n",
    "\"(:MOF)->[:has_metal]->(:Metal)\";\n",
    "\"(:MOF)->[:has_spaceGroup]->(:Space_Group)\";\n",
    "\"(:MOF)->[:has_crystalSystem]->(:Crystal_System)\";\n",
    "\"(:MOF)->[:has_family]->(:Family)\";\n",
    "\"(:MOF)->[:has_bond]->(:Bond)\";\n",
    "\"(:MOF)->[:has_Atom]->(:Space_Atom)\";\n",
    "\"(:MOF)->[:has_publication]->(:Publication)\";\n",
    "\"(:Publication)->[:has_title]->(:Title)\";\n",
    "\"(:Publication)->[:in_journal]->(:Journal)\";\n",
    "\"(:Publication)->[:has_author]->(:Author)\";\n",
    "\"(:Synthesis_Procedure)->[:has_publication]->(:Publication)\";\n",
    "\"(:Synthesis_Procedure)->[:has_temperature]->(:Synthesis_Temperature)\";\n",
    "\"(:Synthesis_Procedure)->[:has_time]->(:Synthesis_Time)\";\n",
    "\"(:Synthesis_Procedure)->[:has_property]->(:Synthesis_Property)\";\n",
    "\"(:Synthesis_Procedure)->[:has_metal_precursor]->(:Synthesis_Metal_Precursor)\";\n",
    "\"(:Synthesis_Procedure)->[:has_organic_precursor]->(:Synthesis_Organic_Precursor)\";\n",
    "\"(:Synthesis_Procedure)->[:has_solvent_precursor]->(:Synthesis_Solvent_Precursor)\";\n",
    "\"(:Synthesis_Procedure)->[:has_operation]->(:Synthesis_Operation)\";\n",
    "\"(:Synthesis_Operation)->[:has_condition]->(:Synthesis_Operation_Condition)\";\n",
    "\"(:Synthesis_Operation)->[:has_next]->(:Synthesis_Operation)\";\n",
    "\"(:Synthesis_Metal_Precursor)->[:has_composition]->(:Metal_Composition)\";\n",
    "\"(:Synthesis_Organic_Precursor)->[:has_composition]->(:Organic_Composition)\";\n",
    "\"(:Synthesis_Solvent_Precursor)->[:has_solvent]->(:Solvent_Precursor_Solvent)\";\n",
    "\"(:Synthesis_Solvent_Precursor)->[:has_composition]->(:Solvent_Composition)\".\n",
    "\"\"\""
   ]
  },
  {
   "cell_type": "code",
   "execution_count": null,
   "id": "ff2242cc-0a32-4e5f-9687-f6512f2c65e3",
   "metadata": {},
   "outputs": [],
   "source": [
    "from tqdm import tqdm\n",
    "\n",
    "m5_query = []\n",
    "\n",
    "for idx, row in tqdm(test_UiO66_cot.iterrows(), total=test_UiO66_cot.shape[0]):\n",
    "    \n",
    "    test_question = row['question']\n",
    "    \n",
    "    train_question = row['train_matched_question']\n",
    "    train_query = row['train_matched_query']\n",
    "    train_matched_cot = row['train_matched_chainOfThought']\n",
    "    \n",
    "    sys_question_query = \"\"\"\n",
    "        Learn the following example question and corresponding query. \\\n",
    "        Learn the query steps in the explanation of the query. \\\n",
    "        You can only use the \n",
    "        terms defined in the MOF-KG database and in the example query. \n",
    "        Question: {} \n",
    "        Query: {}\n",
    "        Explanation: {}\n",
    "    \"\"\"\n",
    "    sys_question_query = sys_question_query.format(train_question, train_query, \n",
    "                                                  train_matched_cot)\n",
    "    \n",
    "    msg = \"Only use the terms in the given example query and the MOF-KG database. \\\n",
    "           Follow the similar structure of the example query. \\\n",
    "           Follow the steps in the explanation of the example query.\\\n",
    "           Translate the following question to Cypher query. \\\n",
    "           Output query only. No comments. \\\n",
    "           Output syntactically correct query only. End query with ';'. \\\n",
    "           Question:{}. Query:\"\n",
    "    msg = msg.format(test_question)\n",
    "    \n",
    "    response = openai.ChatCompletion.create(\n",
    "        model=\"gpt-3.5-turbo\",\n",
    "        messages=[\n",
    "            {\"role\": \"system\", \"content\": \"Assuming  you have a Neo4J database called MOF-KG. \\\n",
    "             The database is about Metal-Organic Framework. \\\n",
    "             You are a helpful assistant to translate questions to Cypher \\\n",
    "             queries on the database. \"},\n",
    "            {\"role\": \"system\", \"content\": sys_content1},\n",
    "            {\"role\": \"system\", \"content\": sys_content2},\n",
    "            {\"role\": \"system\", \"content\": sys_question_query},\n",
    "            {\"role\": \"user\", \"content\": msg}\n",
    "        ]\n",
    "    )\n",
    "    \n",
    "    m5_query.append(response['choices'][0]['message']['content'].strip().replace('\\n', ' ' ))"
   ]
  },
  {
   "cell_type": "code",
   "execution_count": null,
   "id": "91af0a8c-a0f6-41fa-9c48-ae6dfecd69d7",
   "metadata": {},
   "outputs": [],
   "source": [
    "test_UiO66['method5_query'] = m5_query"
   ]
  },
  {
   "cell_type": "code",
   "execution_count": null,
   "id": "14d462d8-5901-41f4-a831-f001b3078eae",
   "metadata": {
    "tags": []
   },
   "outputs": [],
   "source": [
    "m5_query_answer = []\n",
    "\n",
    "for idx, row in tqdm(test_UiO66_cot.iterrows(), total=test_UiO66_cot.shape[0]):\n",
    "    \n",
    "    m5_query = row['method5_query']\n",
    "    \n",
    "    try:\n",
    "        results = conn.query(cot_query)\n",
    "        cot_query_answer.append(json.dumps([dict(_) for _ in results]))\n",
    "    except:\n",
    "        m5_query_answer.append('ERROR')"
   ]
  },
  {
   "cell_type": "code",
   "execution_count": null,
   "id": "0c712626-7824-4eaf-9172-7f4c35119be5",
   "metadata": {},
   "outputs": [],
   "source": [
    "test_UiO66['method5_query_answer'] = m5_query_answer"
   ]
  },
  {
   "cell_type": "code",
   "execution_count": null,
   "id": "3fc0a211-02e2-43ec-bc99-06616f07530e",
   "metadata": {},
   "outputs": [],
   "source": [
    "#test_UiO66[['question', 'query', 'answer', 'method5_query', 'method5_query_answer', \n",
    "#                'train_matched_question', 'train_matched_query', 'train_matched_chainOfThought']].\\\n",
    "# to_csv('../data/KGQA4MAT-test-Method5-one-shot-ontology-train-cot.csv', index=None)"
   ]
  }
 ],
 "metadata": {
  "kernelspec": {
   "display_name": "mof_kg",
   "language": "python",
   "name": "mof_kg"
  },
  "language_info": {
   "codemirror_mode": {
    "name": "ipython",
    "version": 3
   },
   "file_extension": ".py",
   "mimetype": "text/x-python",
   "name": "python",
   "nbconvert_exporter": "python",
   "pygments_lexer": "ipython3",
   "version": "3.9.15"
  }
 },
 "nbformat": 4,
 "nbformat_minor": 5
}
